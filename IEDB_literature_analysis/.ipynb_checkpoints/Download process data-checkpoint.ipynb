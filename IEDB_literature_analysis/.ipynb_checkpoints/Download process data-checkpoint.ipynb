{
 "cells": [
  {
   "cell_type": "markdown",
   "metadata": {},
   "source": [
    "# Origins of the IEDB data\n",
    "\n",
    "As part of the human/data bias analysis we look into who (institutions/countries) runs the experimental analysis on the pHLA binding that is acquired and currated by IEDB."
   ]
  },
  {
   "cell_type": "markdown",
   "metadata": {},
   "source": [
    "## 1) Query the IEDB API for MHCs (HLAs) to get the PMIDs of related publications"
   ]
  },
  {
   "cell_type": "code",
   "execution_count": 1,
   "metadata": {},
   "outputs": [],
   "source": [
    "import requests\n",
    "import json\n",
    "import time\n",
    "import pandas as pd\n",
    "from io import StringIO\n",
    "import os"
   ]
  },
  {
   "cell_type": "markdown",
   "metadata": {},
   "source": [
    "#### 1.1 Download IEDB data into local csv files\n",
    "\n",
    "Data is too huge to download at once - download in chunks"
   ]
  },
  {
   "cell_type": "code",
   "execution_count": null,
   "metadata": {},
   "outputs": [],
   "source": [
    "base_uri='https://query-api.iedb.org'\n",
    "\n",
    "# funciton to print the CURL command given a request\n",
    "def print_curl_cmd(req):\n",
    "    url = req.url\n",
    "    print(\"curl -X 'GET' '\" + url + \"'\")\n",
    "\n",
    "table_name='mhc_search'\n",
    "df = None\n",
    "# change i if you have already downloaded some of the data\n",
    "i = 0\n",
    "\n",
    "while True:\n",
    "    \n",
    "    search_params={ 'mhc_class': 'eq.I',\n",
    "                'host_organism_iri':'eq.NCBITaxon:9606',\n",
    "                'order':'elution_id',\n",
    "                'reference_type': 'eq.Literature',\n",
    "                'offset':i*10000,\n",
    "                'limit':10000}\n",
    "    full_url=base_uri + '/' + table_name\n",
    "    result = requests.get(full_url, params=search_params)\n",
    "    #print_curl_cmd(result)\n",
    "    print(result.status_code)\n",
    "    if result.status_code != 200:\n",
    "        print(\"FAILED code\")\n",
    "        continue\n",
    "    res_df = pd.json_normalize(result.json())\n",
    "    print(res_df.shape)\n",
    "    if not os.path.exists(\"tmp_IEDB_lit_chunk_{}.csv\".format(i)):\n",
    "        res_df.to_csv(\"tmp_IEDB_lit_chunk_{}.csv\".format(i))\n",
    "    if df is None:\n",
    "        df = res_df\n",
    "    else:\n",
    "        df = pd.concat([df, res_df])\n",
    "    print(i)  \n",
    "    i+=1\n",
    "    if i > 500:\n",
    "        break"
   ]
  },
  {
   "cell_type": "markdown",
   "metadata": {},
   "source": [
    "#### 1.2 Load the downloaded data into a single pandas dataframe"
   ]
  },
  {
   "cell_type": "code",
   "execution_count": 2,
   "metadata": {},
   "outputs": [
    {
     "name": "stderr",
     "output_type": "stream",
     "text": [
      "<ipython-input-2-d1cecaf699f7>:4: DtypeWarning: Columns (67,68,69) have mixed types. Specify dtype option on import or set low_memory=False.\n",
      "  df = pd.read_csv(\"tmp_IEDB_lit_chunk_{}.csv\".format(i))\n"
     ]
    },
    {
     "name": "stdout",
     "output_type": "stream",
     "text": [
      "1\n"
     ]
    },
    {
     "name": "stderr",
     "output_type": "stream",
     "text": [
      "<ipython-input-2-d1cecaf699f7>:9: DtypeWarning: Columns (18,22,29,31,67,68,69,77,78,79,80,81,82,83) have mixed types. Specify dtype option on import or set low_memory=False.\n",
      "  tmp_df = pd.read_csv(\"tmp_IEDB_lit_chunk_{}.csv\".format(i))\n"
     ]
    },
    {
     "name": "stdout",
     "output_type": "stream",
     "text": [
      "2\n",
      "3\n"
     ]
    },
    {
     "name": "stderr",
     "output_type": "stream",
     "text": [
      "<ipython-input-2-d1cecaf699f7>:9: DtypeWarning: Columns (30,67,68,69,74,75,76) have mixed types. Specify dtype option on import or set low_memory=False.\n",
      "  tmp_df = pd.read_csv(\"tmp_IEDB_lit_chunk_{}.csv\".format(i))\n"
     ]
    },
    {
     "name": "stdout",
     "output_type": "stream",
     "text": [
      "4\n"
     ]
    },
    {
     "name": "stderr",
     "output_type": "stream",
     "text": [
      "<ipython-input-2-d1cecaf699f7>:9: DtypeWarning: Columns (22,67,68,69) have mixed types. Specify dtype option on import or set low_memory=False.\n",
      "  tmp_df = pd.read_csv(\"tmp_IEDB_lit_chunk_{}.csv\".format(i))\n"
     ]
    },
    {
     "name": "stdout",
     "output_type": "stream",
     "text": [
      "5\n"
     ]
    },
    {
     "name": "stderr",
     "output_type": "stream",
     "text": [
      "<ipython-input-2-d1cecaf699f7>:9: DtypeWarning: Columns (20,22,29,30,67,68,69,74,75,76,77,78,79,80,81,82,83) have mixed types. Specify dtype option on import or set low_memory=False.\n",
      "  tmp_df = pd.read_csv(\"tmp_IEDB_lit_chunk_{}.csv\".format(i))\n"
     ]
    },
    {
     "name": "stdout",
     "output_type": "stream",
     "text": [
      "6\n"
     ]
    },
    {
     "name": "stderr",
     "output_type": "stream",
     "text": [
      "<ipython-input-2-d1cecaf699f7>:9: DtypeWarning: Columns (22) have mixed types. Specify dtype option on import or set low_memory=False.\n",
      "  tmp_df = pd.read_csv(\"tmp_IEDB_lit_chunk_{}.csv\".format(i))\n"
     ]
    },
    {
     "name": "stdout",
     "output_type": "stream",
     "text": [
      "7\n",
      "8\n",
      "9\n"
     ]
    },
    {
     "name": "stderr",
     "output_type": "stream",
     "text": [
      "<ipython-input-2-d1cecaf699f7>:9: DtypeWarning: Columns (20,67,68,69) have mixed types. Specify dtype option on import or set low_memory=False.\n",
      "  tmp_df = pd.read_csv(\"tmp_IEDB_lit_chunk_{}.csv\".format(i))\n"
     ]
    },
    {
     "name": "stdout",
     "output_type": "stream",
     "text": [
      "10\n"
     ]
    },
    {
     "name": "stderr",
     "output_type": "stream",
     "text": [
      "<ipython-input-2-d1cecaf699f7>:9: DtypeWarning: Columns (20,29,67,68,69) have mixed types. Specify dtype option on import or set low_memory=False.\n",
      "  tmp_df = pd.read_csv(\"tmp_IEDB_lit_chunk_{}.csv\".format(i))\n"
     ]
    },
    {
     "name": "stdout",
     "output_type": "stream",
     "text": [
      "11\n",
      "12\n",
      "13\n"
     ]
    },
    {
     "name": "stderr",
     "output_type": "stream",
     "text": [
      "<ipython-input-2-d1cecaf699f7>:9: DtypeWarning: Columns (20,29,77,78,79,80,81,82,83) have mixed types. Specify dtype option on import or set low_memory=False.\n",
      "  tmp_df = pd.read_csv(\"tmp_IEDB_lit_chunk_{}.csv\".format(i))\n"
     ]
    },
    {
     "name": "stdout",
     "output_type": "stream",
     "text": [
      "14\n"
     ]
    },
    {
     "name": "stderr",
     "output_type": "stream",
     "text": [
      "<ipython-input-2-d1cecaf699f7>:9: DtypeWarning: Columns (22) have mixed types. Specify dtype option on import or set low_memory=False.\n",
      "  tmp_df = pd.read_csv(\"tmp_IEDB_lit_chunk_{}.csv\".format(i))\n"
     ]
    },
    {
     "name": "stdout",
     "output_type": "stream",
     "text": [
      "15\n"
     ]
    },
    {
     "name": "stderr",
     "output_type": "stream",
     "text": [
      "<ipython-input-2-d1cecaf699f7>:9: DtypeWarning: Columns (20,22,29,77,78,79,80,81,82,83) have mixed types. Specify dtype option on import or set low_memory=False.\n",
      "  tmp_df = pd.read_csv(\"tmp_IEDB_lit_chunk_{}.csv\".format(i))\n"
     ]
    },
    {
     "name": "stdout",
     "output_type": "stream",
     "text": [
      "16\n"
     ]
    },
    {
     "name": "stderr",
     "output_type": "stream",
     "text": [
      "<ipython-input-2-d1cecaf699f7>:9: DtypeWarning: Columns (67,68,69) have mixed types. Specify dtype option on import or set low_memory=False.\n",
      "  tmp_df = pd.read_csv(\"tmp_IEDB_lit_chunk_{}.csv\".format(i))\n"
     ]
    },
    {
     "name": "stdout",
     "output_type": "stream",
     "text": [
      "17\n"
     ]
    },
    {
     "name": "stderr",
     "output_type": "stream",
     "text": [
      "<ipython-input-2-d1cecaf699f7>:9: DtypeWarning: Columns (22) have mixed types. Specify dtype option on import or set low_memory=False.\n",
      "  tmp_df = pd.read_csv(\"tmp_IEDB_lit_chunk_{}.csv\".format(i))\n"
     ]
    },
    {
     "name": "stdout",
     "output_type": "stream",
     "text": [
      "18\n"
     ]
    },
    {
     "name": "stderr",
     "output_type": "stream",
     "text": [
      "<ipython-input-2-d1cecaf699f7>:9: DtypeWarning: Columns (20,22,29,77,78,79,80,81,82,83) have mixed types. Specify dtype option on import or set low_memory=False.\n",
      "  tmp_df = pd.read_csv(\"tmp_IEDB_lit_chunk_{}.csv\".format(i))\n"
     ]
    },
    {
     "name": "stdout",
     "output_type": "stream",
     "text": [
      "19\n"
     ]
    },
    {
     "name": "stderr",
     "output_type": "stream",
     "text": [
      "<ipython-input-2-d1cecaf699f7>:9: DtypeWarning: Columns (20,22,29,67,68,69,77,78,79,80,81,82,83) have mixed types. Specify dtype option on import or set low_memory=False.\n",
      "  tmp_df = pd.read_csv(\"tmp_IEDB_lit_chunk_{}.csv\".format(i))\n"
     ]
    },
    {
     "name": "stdout",
     "output_type": "stream",
     "text": [
      "20\n",
      "21\n"
     ]
    },
    {
     "name": "stderr",
     "output_type": "stream",
     "text": [
      "<ipython-input-2-d1cecaf699f7>:9: DtypeWarning: Columns (20) have mixed types. Specify dtype option on import or set low_memory=False.\n",
      "  tmp_df = pd.read_csv(\"tmp_IEDB_lit_chunk_{}.csv\".format(i))\n"
     ]
    },
    {
     "name": "stdout",
     "output_type": "stream",
     "text": [
      "22\n"
     ]
    },
    {
     "name": "stderr",
     "output_type": "stream",
     "text": [
      "<ipython-input-2-d1cecaf699f7>:9: DtypeWarning: Columns (20,29,77,78,79,80,81,82,83) have mixed types. Specify dtype option on import or set low_memory=False.\n",
      "  tmp_df = pd.read_csv(\"tmp_IEDB_lit_chunk_{}.csv\".format(i))\n"
     ]
    },
    {
     "name": "stdout",
     "output_type": "stream",
     "text": [
      "23\n",
      "24\n",
      "25\n"
     ]
    },
    {
     "name": "stderr",
     "output_type": "stream",
     "text": [
      "<ipython-input-2-d1cecaf699f7>:9: DtypeWarning: Columns (29,67,68,69) have mixed types. Specify dtype option on import or set low_memory=False.\n",
      "  tmp_df = pd.read_csv(\"tmp_IEDB_lit_chunk_{}.csv\".format(i))\n"
     ]
    },
    {
     "name": "stdout",
     "output_type": "stream",
     "text": [
      "26\n",
      "27\n"
     ]
    },
    {
     "name": "stderr",
     "output_type": "stream",
     "text": [
      "<ipython-input-2-d1cecaf699f7>:9: DtypeWarning: Columns (20,22,29) have mixed types. Specify dtype option on import or set low_memory=False.\n",
      "  tmp_df = pd.read_csv(\"tmp_IEDB_lit_chunk_{}.csv\".format(i))\n"
     ]
    },
    {
     "name": "stdout",
     "output_type": "stream",
     "text": [
      "28\n",
      "29\n",
      "30\n"
     ]
    },
    {
     "name": "stderr",
     "output_type": "stream",
     "text": [
      "<ipython-input-2-d1cecaf699f7>:9: DtypeWarning: Columns (20,22,29,30,74,75,76,77,78,79,80,81,82,83) have mixed types. Specify dtype option on import or set low_memory=False.\n",
      "  tmp_df = pd.read_csv(\"tmp_IEDB_lit_chunk_{}.csv\".format(i))\n"
     ]
    },
    {
     "name": "stdout",
     "output_type": "stream",
     "text": [
      "31\n"
     ]
    },
    {
     "name": "stderr",
     "output_type": "stream",
     "text": [
      "<ipython-input-2-d1cecaf699f7>:9: DtypeWarning: Columns (20,22,29,67,68,69) have mixed types. Specify dtype option on import or set low_memory=False.\n",
      "  tmp_df = pd.read_csv(\"tmp_IEDB_lit_chunk_{}.csv\".format(i))\n"
     ]
    },
    {
     "name": "stdout",
     "output_type": "stream",
     "text": [
      "32\n"
     ]
    },
    {
     "name": "stderr",
     "output_type": "stream",
     "text": [
      "<ipython-input-2-d1cecaf699f7>:9: DtypeWarning: Columns (20,22,29,77,78,79,80,81,82,83) have mixed types. Specify dtype option on import or set low_memory=False.\n",
      "  tmp_df = pd.read_csv(\"tmp_IEDB_lit_chunk_{}.csv\".format(i))\n"
     ]
    },
    {
     "name": "stdout",
     "output_type": "stream",
     "text": [
      "33\n",
      "34\n",
      "35\n",
      "36\n",
      "37\n",
      "38\n",
      "39\n",
      "40\n",
      "41\n"
     ]
    },
    {
     "name": "stderr",
     "output_type": "stream",
     "text": [
      "<ipython-input-2-d1cecaf699f7>:9: DtypeWarning: Columns (20,29,67,68,69,77,78,79,80,81,82,83) have mixed types. Specify dtype option on import or set low_memory=False.\n",
      "  tmp_df = pd.read_csv(\"tmp_IEDB_lit_chunk_{}.csv\".format(i))\n"
     ]
    },
    {
     "name": "stdout",
     "output_type": "stream",
     "text": [
      "42\n"
     ]
    },
    {
     "name": "stderr",
     "output_type": "stream",
     "text": [
      "<ipython-input-2-d1cecaf699f7>:9: DtypeWarning: Columns (29,77,78,79,80,81,82,83) have mixed types. Specify dtype option on import or set low_memory=False.\n",
      "  tmp_df = pd.read_csv(\"tmp_IEDB_lit_chunk_{}.csv\".format(i))\n"
     ]
    },
    {
     "name": "stdout",
     "output_type": "stream",
     "text": [
      "43\n"
     ]
    },
    {
     "name": "stderr",
     "output_type": "stream",
     "text": [
      "<ipython-input-2-d1cecaf699f7>:9: DtypeWarning: Columns (20,29,77,78,79,80,81,82,83) have mixed types. Specify dtype option on import or set low_memory=False.\n",
      "  tmp_df = pd.read_csv(\"tmp_IEDB_lit_chunk_{}.csv\".format(i))\n"
     ]
    },
    {
     "name": "stdout",
     "output_type": "stream",
     "text": [
      "44\n",
      "45\n"
     ]
    },
    {
     "name": "stderr",
     "output_type": "stream",
     "text": [
      "<ipython-input-2-d1cecaf699f7>:9: DtypeWarning: Columns (22,67,68,69) have mixed types. Specify dtype option on import or set low_memory=False.\n",
      "  tmp_df = pd.read_csv(\"tmp_IEDB_lit_chunk_{}.csv\".format(i))\n"
     ]
    },
    {
     "name": "stdout",
     "output_type": "stream",
     "text": [
      "46\n"
     ]
    },
    {
     "name": "stderr",
     "output_type": "stream",
     "text": [
      "<ipython-input-2-d1cecaf699f7>:9: DtypeWarning: Columns (20,22,29,67,68,69,77,78,79,80,81,82,83) have mixed types. Specify dtype option on import or set low_memory=False.\n",
      "  tmp_df = pd.read_csv(\"tmp_IEDB_lit_chunk_{}.csv\".format(i))\n"
     ]
    },
    {
     "name": "stdout",
     "output_type": "stream",
     "text": [
      "47\n",
      "48\n",
      "49\n",
      "50\n"
     ]
    },
    {
     "name": "stderr",
     "output_type": "stream",
     "text": [
      "<ipython-input-2-d1cecaf699f7>:9: DtypeWarning: Columns (20,22,29,67,68,69) have mixed types. Specify dtype option on import or set low_memory=False.\n",
      "  tmp_df = pd.read_csv(\"tmp_IEDB_lit_chunk_{}.csv\".format(i))\n"
     ]
    },
    {
     "name": "stdout",
     "output_type": "stream",
     "text": [
      "51\n"
     ]
    },
    {
     "name": "stderr",
     "output_type": "stream",
     "text": [
      "<ipython-input-2-d1cecaf699f7>:9: DtypeWarning: Columns (20,29,67,68,69,77,78,79,80,81,82,83) have mixed types. Specify dtype option on import or set low_memory=False.\n",
      "  tmp_df = pd.read_csv(\"tmp_IEDB_lit_chunk_{}.csv\".format(i))\n"
     ]
    },
    {
     "name": "stdout",
     "output_type": "stream",
     "text": [
      "52\n"
     ]
    },
    {
     "name": "stderr",
     "output_type": "stream",
     "text": [
      "<ipython-input-2-d1cecaf699f7>:9: DtypeWarning: Columns (20,29,77,78,79,80,81,82,83) have mixed types. Specify dtype option on import or set low_memory=False.\n",
      "  tmp_df = pd.read_csv(\"tmp_IEDB_lit_chunk_{}.csv\".format(i))\n"
     ]
    },
    {
     "name": "stdout",
     "output_type": "stream",
     "text": [
      "53\n"
     ]
    },
    {
     "name": "stderr",
     "output_type": "stream",
     "text": [
      "<ipython-input-2-d1cecaf699f7>:9: DtypeWarning: Columns (20,29,77,78,79,80,81,82,83) have mixed types. Specify dtype option on import or set low_memory=False.\n",
      "  tmp_df = pd.read_csv(\"tmp_IEDB_lit_chunk_{}.csv\".format(i))\n"
     ]
    },
    {
     "name": "stdout",
     "output_type": "stream",
     "text": [
      "54\n",
      "55\n",
      "56\n",
      "57\n"
     ]
    },
    {
     "name": "stderr",
     "output_type": "stream",
     "text": [
      "<ipython-input-2-d1cecaf699f7>:9: DtypeWarning: Columns (20,67,68,69,77,78,79,80,81,82,83) have mixed types. Specify dtype option on import or set low_memory=False.\n",
      "  tmp_df = pd.read_csv(\"tmp_IEDB_lit_chunk_{}.csv\".format(i))\n"
     ]
    },
    {
     "name": "stdout",
     "output_type": "stream",
     "text": [
      "58\n",
      "59\n",
      "60\n",
      "61\n",
      "62\n"
     ]
    },
    {
     "name": "stderr",
     "output_type": "stream",
     "text": [
      "<ipython-input-2-d1cecaf699f7>:9: DtypeWarning: Columns (20,22,29,77,78,79,80,81,82,83) have mixed types. Specify dtype option on import or set low_memory=False.\n",
      "  tmp_df = pd.read_csv(\"tmp_IEDB_lit_chunk_{}.csv\".format(i))\n"
     ]
    },
    {
     "name": "stdout",
     "output_type": "stream",
     "text": [
      "63\n",
      "64\n",
      "65\n",
      "66\n",
      "67\n"
     ]
    },
    {
     "name": "stderr",
     "output_type": "stream",
     "text": [
      "<ipython-input-2-d1cecaf699f7>:9: DtypeWarning: Columns (20,77,78,79,80,81,82,83) have mixed types. Specify dtype option on import or set low_memory=False.\n",
      "  tmp_df = pd.read_csv(\"tmp_IEDB_lit_chunk_{}.csv\".format(i))\n"
     ]
    },
    {
     "name": "stdout",
     "output_type": "stream",
     "text": [
      "68\n"
     ]
    },
    {
     "name": "stderr",
     "output_type": "stream",
     "text": [
      "<ipython-input-2-d1cecaf699f7>:9: DtypeWarning: Columns (20,22,29,67,68,69,77,78,79,80,81,82,83) have mixed types. Specify dtype option on import or set low_memory=False.\n",
      "  tmp_df = pd.read_csv(\"tmp_IEDB_lit_chunk_{}.csv\".format(i))\n"
     ]
    },
    {
     "name": "stdout",
     "output_type": "stream",
     "text": [
      "69\n"
     ]
    },
    {
     "name": "stderr",
     "output_type": "stream",
     "text": [
      "<ipython-input-2-d1cecaf699f7>:9: DtypeWarning: Columns (20,77,78,79,80,81,82,83) have mixed types. Specify dtype option on import or set low_memory=False.\n",
      "  tmp_df = pd.read_csv(\"tmp_IEDB_lit_chunk_{}.csv\".format(i))\n"
     ]
    },
    {
     "name": "stdout",
     "output_type": "stream",
     "text": [
      "70\n"
     ]
    },
    {
     "name": "stderr",
     "output_type": "stream",
     "text": [
      "<ipython-input-2-d1cecaf699f7>:9: DtypeWarning: Columns (20,67,68,69,77,78,79,80,81,82,83) have mixed types. Specify dtype option on import or set low_memory=False.\n",
      "  tmp_df = pd.read_csv(\"tmp_IEDB_lit_chunk_{}.csv\".format(i))\n"
     ]
    },
    {
     "name": "stdout",
     "output_type": "stream",
     "text": [
      "71\n",
      "72\n",
      "73\n",
      "74\n",
      "75\n",
      "76\n"
     ]
    },
    {
     "name": "stderr",
     "output_type": "stream",
     "text": [
      "<ipython-input-2-d1cecaf699f7>:9: DtypeWarning: Columns (20,22,29,67,68,69,77,78,79,80,81,82,83) have mixed types. Specify dtype option on import or set low_memory=False.\n",
      "  tmp_df = pd.read_csv(\"tmp_IEDB_lit_chunk_{}.csv\".format(i))\n"
     ]
    },
    {
     "name": "stdout",
     "output_type": "stream",
     "text": [
      "77\n",
      "78\n"
     ]
    },
    {
     "name": "stderr",
     "output_type": "stream",
     "text": [
      "<ipython-input-2-d1cecaf699f7>:9: DtypeWarning: Columns (20,29,67,68,69,77,78,79,80,81,82,83) have mixed types. Specify dtype option on import or set low_memory=False.\n",
      "  tmp_df = pd.read_csv(\"tmp_IEDB_lit_chunk_{}.csv\".format(i))\n"
     ]
    },
    {
     "name": "stdout",
     "output_type": "stream",
     "text": [
      "79\n"
     ]
    },
    {
     "name": "stderr",
     "output_type": "stream",
     "text": [
      "<ipython-input-2-d1cecaf699f7>:9: DtypeWarning: Columns (29) have mixed types. Specify dtype option on import or set low_memory=False.\n",
      "  tmp_df = pd.read_csv(\"tmp_IEDB_lit_chunk_{}.csv\".format(i))\n"
     ]
    },
    {
     "name": "stdout",
     "output_type": "stream",
     "text": [
      "80\n",
      "81\n",
      "82\n",
      "83\n"
     ]
    },
    {
     "name": "stderr",
     "output_type": "stream",
     "text": [
      "<ipython-input-2-d1cecaf699f7>:9: DtypeWarning: Columns (20,29,80,81,82,83) have mixed types. Specify dtype option on import or set low_memory=False.\n",
      "  tmp_df = pd.read_csv(\"tmp_IEDB_lit_chunk_{}.csv\".format(i))\n"
     ]
    },
    {
     "name": "stdout",
     "output_type": "stream",
     "text": [
      "84\n",
      "85\n",
      "86\n",
      "87\n",
      "88\n",
      "89\n",
      "90\n",
      "91\n",
      "92\n",
      "93\n",
      "94\n",
      "95\n",
      "96\n",
      "97\n",
      "98\n",
      "99\n",
      "100\n",
      "101\n",
      "102\n",
      "103\n",
      "104\n",
      "105\n",
      "106\n",
      "107\n",
      "108\n"
     ]
    },
    {
     "name": "stderr",
     "output_type": "stream",
     "text": [
      "<ipython-input-2-d1cecaf699f7>:9: DtypeWarning: Columns (20,22,29,30,74,75,76,77,78,79,80,81,82,83) have mixed types. Specify dtype option on import or set low_memory=False.\n",
      "  tmp_df = pd.read_csv(\"tmp_IEDB_lit_chunk_{}.csv\".format(i))\n"
     ]
    },
    {
     "name": "stdout",
     "output_type": "stream",
     "text": [
      "109\n"
     ]
    },
    {
     "name": "stderr",
     "output_type": "stream",
     "text": [
      "<ipython-input-2-d1cecaf699f7>:9: DtypeWarning: Columns (77,78,79,80,81,82,83) have mixed types. Specify dtype option on import or set low_memory=False.\n",
      "  tmp_df = pd.read_csv(\"tmp_IEDB_lit_chunk_{}.csv\".format(i))\n"
     ]
    },
    {
     "name": "stdout",
     "output_type": "stream",
     "text": [
      "110\n",
      "111\n"
     ]
    },
    {
     "name": "stderr",
     "output_type": "stream",
     "text": [
      "<ipython-input-2-d1cecaf699f7>:9: DtypeWarning: Columns (20,29,77,78,79,80,81,82,83) have mixed types. Specify dtype option on import or set low_memory=False.\n",
      "  tmp_df = pd.read_csv(\"tmp_IEDB_lit_chunk_{}.csv\".format(i))\n"
     ]
    },
    {
     "name": "stdout",
     "output_type": "stream",
     "text": [
      "112\n",
      "113\n",
      "114\n",
      "115\n",
      "116\n",
      "117\n",
      "118\n",
      "119\n",
      "120\n",
      "121\n",
      "122\n",
      "123\n",
      "124\n",
      "125\n",
      "126\n",
      "127\n",
      "128\n",
      "129\n"
     ]
    },
    {
     "name": "stderr",
     "output_type": "stream",
     "text": [
      "<ipython-input-2-d1cecaf699f7>:9: DtypeWarning: Columns (20,29,77,78,79,80,81,82,83) have mixed types. Specify dtype option on import or set low_memory=False.\n",
      "  tmp_df = pd.read_csv(\"tmp_IEDB_lit_chunk_{}.csv\".format(i))\n"
     ]
    },
    {
     "name": "stdout",
     "output_type": "stream",
     "text": [
      "130\n",
      "131\n",
      "132\n",
      "133\n"
     ]
    },
    {
     "name": "stderr",
     "output_type": "stream",
     "text": [
      "<ipython-input-2-d1cecaf699f7>:9: DtypeWarning: Columns (20,77,78,79,80,81,82,83) have mixed types. Specify dtype option on import or set low_memory=False.\n",
      "  tmp_df = pd.read_csv(\"tmp_IEDB_lit_chunk_{}.csv\".format(i))\n"
     ]
    },
    {
     "name": "stdout",
     "output_type": "stream",
     "text": [
      "134\n",
      "135\n"
     ]
    },
    {
     "name": "stderr",
     "output_type": "stream",
     "text": [
      "<ipython-input-2-d1cecaf699f7>:9: DtypeWarning: Columns (20,22,67,68,69,77,78,79,80,81,82,83) have mixed types. Specify dtype option on import or set low_memory=False.\n",
      "  tmp_df = pd.read_csv(\"tmp_IEDB_lit_chunk_{}.csv\".format(i))\n"
     ]
    },
    {
     "name": "stdout",
     "output_type": "stream",
     "text": [
      "136\n"
     ]
    },
    {
     "name": "stderr",
     "output_type": "stream",
     "text": [
      "<ipython-input-2-d1cecaf699f7>:9: DtypeWarning: Columns (20,29,77,78,79,80,81,82,83) have mixed types. Specify dtype option on import or set low_memory=False.\n",
      "  tmp_df = pd.read_csv(\"tmp_IEDB_lit_chunk_{}.csv\".format(i))\n"
     ]
    },
    {
     "name": "stdout",
     "output_type": "stream",
     "text": [
      "137\n",
      "138\n"
     ]
    },
    {
     "name": "stderr",
     "output_type": "stream",
     "text": [
      "<ipython-input-2-d1cecaf699f7>:9: DtypeWarning: Columns (20,29,67,68,69,77,78,79,80,81,82,83) have mixed types. Specify dtype option on import or set low_memory=False.\n",
      "  tmp_df = pd.read_csv(\"tmp_IEDB_lit_chunk_{}.csv\".format(i))\n"
     ]
    },
    {
     "name": "stdout",
     "output_type": "stream",
     "text": [
      "139\n",
      "140\n",
      "141\n"
     ]
    },
    {
     "name": "stderr",
     "output_type": "stream",
     "text": [
      "<ipython-input-2-d1cecaf699f7>:9: DtypeWarning: Columns (20,29,67,68,69,77,78,79,80,81,82,83) have mixed types. Specify dtype option on import or set low_memory=False.\n",
      "  tmp_df = pd.read_csv(\"tmp_IEDB_lit_chunk_{}.csv\".format(i))\n"
     ]
    },
    {
     "name": "stdout",
     "output_type": "stream",
     "text": [
      "142\n"
     ]
    },
    {
     "name": "stderr",
     "output_type": "stream",
     "text": [
      "<ipython-input-2-d1cecaf699f7>:9: DtypeWarning: Columns (20,77,78,79,80,81,82,83) have mixed types. Specify dtype option on import or set low_memory=False.\n",
      "  tmp_df = pd.read_csv(\"tmp_IEDB_lit_chunk_{}.csv\".format(i))\n"
     ]
    },
    {
     "name": "stdout",
     "output_type": "stream",
     "text": [
      "143\n",
      "144\n",
      "145\n",
      "146\n"
     ]
    },
    {
     "name": "stderr",
     "output_type": "stream",
     "text": [
      "<ipython-input-2-d1cecaf699f7>:9: DtypeWarning: Columns (20,29,67,68,69) have mixed types. Specify dtype option on import or set low_memory=False.\n",
      "  tmp_df = pd.read_csv(\"tmp_IEDB_lit_chunk_{}.csv\".format(i))\n"
     ]
    },
    {
     "name": "stdout",
     "output_type": "stream",
     "text": [
      "147\n",
      "148\n",
      "149\n"
     ]
    },
    {
     "name": "stderr",
     "output_type": "stream",
     "text": [
      "<ipython-input-2-d1cecaf699f7>:9: DtypeWarning: Columns (20,30,67,68,69,74,75,76) have mixed types. Specify dtype option on import or set low_memory=False.\n",
      "  tmp_df = pd.read_csv(\"tmp_IEDB_lit_chunk_{}.csv\".format(i))\n"
     ]
    },
    {
     "name": "stdout",
     "output_type": "stream",
     "text": [
      "150\n",
      "151\n"
     ]
    },
    {
     "name": "stderr",
     "output_type": "stream",
     "text": [
      "<ipython-input-2-d1cecaf699f7>:9: DtypeWarning: Columns (22) have mixed types. Specify dtype option on import or set low_memory=False.\n",
      "  tmp_df = pd.read_csv(\"tmp_IEDB_lit_chunk_{}.csv\".format(i))\n"
     ]
    },
    {
     "name": "stdout",
     "output_type": "stream",
     "text": [
      "152\n"
     ]
    },
    {
     "name": "stderr",
     "output_type": "stream",
     "text": [
      "<ipython-input-2-d1cecaf699f7>:9: DtypeWarning: Columns (77,78,79,80,81,82,83) have mixed types. Specify dtype option on import or set low_memory=False.\n",
      "  tmp_df = pd.read_csv(\"tmp_IEDB_lit_chunk_{}.csv\".format(i))\n"
     ]
    },
    {
     "name": "stdout",
     "output_type": "stream",
     "text": [
      "153\n"
     ]
    },
    {
     "name": "stderr",
     "output_type": "stream",
     "text": [
      "<ipython-input-2-d1cecaf699f7>:9: DtypeWarning: Columns (22,77,78,79,80,81,82,83) have mixed types. Specify dtype option on import or set low_memory=False.\n",
      "  tmp_df = pd.read_csv(\"tmp_IEDB_lit_chunk_{}.csv\".format(i))\n"
     ]
    },
    {
     "name": "stdout",
     "output_type": "stream",
     "text": [
      "154\n"
     ]
    },
    {
     "name": "stderr",
     "output_type": "stream",
     "text": [
      "<ipython-input-2-d1cecaf699f7>:9: DtypeWarning: Columns (20,29) have mixed types. Specify dtype option on import or set low_memory=False.\n",
      "  tmp_df = pd.read_csv(\"tmp_IEDB_lit_chunk_{}.csv\".format(i))\n"
     ]
    },
    {
     "name": "stdout",
     "output_type": "stream",
     "text": [
      "155\n"
     ]
    },
    {
     "name": "stderr",
     "output_type": "stream",
     "text": [
      "<ipython-input-2-d1cecaf699f7>:9: DtypeWarning: Columns (20,29,77,78,79,80,81,82,83) have mixed types. Specify dtype option on import or set low_memory=False.\n",
      "  tmp_df = pd.read_csv(\"tmp_IEDB_lit_chunk_{}.csv\".format(i))\n"
     ]
    },
    {
     "name": "stdout",
     "output_type": "stream",
     "text": [
      "156\n"
     ]
    },
    {
     "name": "stderr",
     "output_type": "stream",
     "text": [
      "<ipython-input-2-d1cecaf699f7>:9: DtypeWarning: Columns (20,77,78,79,80,81,82,83) have mixed types. Specify dtype option on import or set low_memory=False.\n",
      "  tmp_df = pd.read_csv(\"tmp_IEDB_lit_chunk_{}.csv\".format(i))\n"
     ]
    },
    {
     "name": "stdout",
     "output_type": "stream",
     "text": [
      "157\n"
     ]
    },
    {
     "name": "stderr",
     "output_type": "stream",
     "text": [
      "<ipython-input-2-d1cecaf699f7>:9: DtypeWarning: Columns (20,22,29,77,78,79,80,81,82,83) have mixed types. Specify dtype option on import or set low_memory=False.\n",
      "  tmp_df = pd.read_csv(\"tmp_IEDB_lit_chunk_{}.csv\".format(i))\n"
     ]
    },
    {
     "name": "stdout",
     "output_type": "stream",
     "text": [
      "158\n",
      "159\n"
     ]
    },
    {
     "name": "stderr",
     "output_type": "stream",
     "text": [
      "<ipython-input-2-d1cecaf699f7>:9: DtypeWarning: Columns (20) have mixed types. Specify dtype option on import or set low_memory=False.\n",
      "  tmp_df = pd.read_csv(\"tmp_IEDB_lit_chunk_{}.csv\".format(i))\n"
     ]
    },
    {
     "name": "stdout",
     "output_type": "stream",
     "text": [
      "160\n",
      "161\n",
      "162\n",
      "163\n",
      "164\n",
      "165\n",
      "166\n",
      "167\n",
      "168\n"
     ]
    },
    {
     "name": "stderr",
     "output_type": "stream",
     "text": [
      "<ipython-input-2-d1cecaf699f7>:9: DtypeWarning: Columns (20,77,78,79,80,81,82,83) have mixed types. Specify dtype option on import or set low_memory=False.\n",
      "  tmp_df = pd.read_csv(\"tmp_IEDB_lit_chunk_{}.csv\".format(i))\n"
     ]
    },
    {
     "name": "stdout",
     "output_type": "stream",
     "text": [
      "169\n"
     ]
    },
    {
     "name": "stderr",
     "output_type": "stream",
     "text": [
      "<ipython-input-2-d1cecaf699f7>:9: DtypeWarning: Columns (20,22,29) have mixed types. Specify dtype option on import or set low_memory=False.\n",
      "  tmp_df = pd.read_csv(\"tmp_IEDB_lit_chunk_{}.csv\".format(i))\n"
     ]
    },
    {
     "name": "stdout",
     "output_type": "stream",
     "text": [
      "170\n",
      "171\n"
     ]
    },
    {
     "name": "stderr",
     "output_type": "stream",
     "text": [
      "<ipython-input-2-d1cecaf699f7>:9: DtypeWarning: Columns (20,29) have mixed types. Specify dtype option on import or set low_memory=False.\n",
      "  tmp_df = pd.read_csv(\"tmp_IEDB_lit_chunk_{}.csv\".format(i))\n"
     ]
    },
    {
     "name": "stdout",
     "output_type": "stream",
     "text": [
      "172\n"
     ]
    },
    {
     "name": "stderr",
     "output_type": "stream",
     "text": [
      "<ipython-input-2-d1cecaf699f7>:9: DtypeWarning: Columns (20,22,29) have mixed types. Specify dtype option on import or set low_memory=False.\n",
      "  tmp_df = pd.read_csv(\"tmp_IEDB_lit_chunk_{}.csv\".format(i))\n"
     ]
    },
    {
     "name": "stdout",
     "output_type": "stream",
     "text": [
      "173\n"
     ]
    },
    {
     "name": "stderr",
     "output_type": "stream",
     "text": [
      "<ipython-input-2-d1cecaf699f7>:9: DtypeWarning: Columns (22,67,68,69,77,78,79,80,81,82,83) have mixed types. Specify dtype option on import or set low_memory=False.\n",
      "  tmp_df = pd.read_csv(\"tmp_IEDB_lit_chunk_{}.csv\".format(i))\n"
     ]
    },
    {
     "name": "stdout",
     "output_type": "stream",
     "text": [
      "174\n",
      "175\n",
      "176\n",
      "177\n",
      "178\n",
      "179\n",
      "180\n"
     ]
    },
    {
     "name": "stderr",
     "output_type": "stream",
     "text": [
      "<ipython-input-2-d1cecaf699f7>:9: DtypeWarning: Columns (20,29,77,78,79,80,81,82,83) have mixed types. Specify dtype option on import or set low_memory=False.\n",
      "  tmp_df = pd.read_csv(\"tmp_IEDB_lit_chunk_{}.csv\".format(i))\n"
     ]
    },
    {
     "name": "stdout",
     "output_type": "stream",
     "text": [
      "181\n",
      "182\n"
     ]
    },
    {
     "name": "stderr",
     "output_type": "stream",
     "text": [
      "<ipython-input-2-d1cecaf699f7>:9: DtypeWarning: Columns (22,67,68,69,77,78,79,80,81,82,83) have mixed types. Specify dtype option on import or set low_memory=False.\n",
      "  tmp_df = pd.read_csv(\"tmp_IEDB_lit_chunk_{}.csv\".format(i))\n"
     ]
    },
    {
     "name": "stdout",
     "output_type": "stream",
     "text": [
      "183\n",
      "184\n",
      "185\n",
      "186\n",
      "187\n",
      "188\n"
     ]
    },
    {
     "name": "stderr",
     "output_type": "stream",
     "text": [
      "<ipython-input-2-d1cecaf699f7>:9: DtypeWarning: Columns (20,29,30,74,75,76,77,78,79,80,81,82,83) have mixed types. Specify dtype option on import or set low_memory=False.\n",
      "  tmp_df = pd.read_csv(\"tmp_IEDB_lit_chunk_{}.csv\".format(i))\n"
     ]
    },
    {
     "name": "stdout",
     "output_type": "stream",
     "text": [
      "189\n",
      "190\n",
      "191\n",
      "192\n",
      "193\n",
      "194\n",
      "195\n"
     ]
    },
    {
     "name": "stderr",
     "output_type": "stream",
     "text": [
      "<ipython-input-2-d1cecaf699f7>:9: DtypeWarning: Columns (22) have mixed types. Specify dtype option on import or set low_memory=False.\n",
      "  tmp_df = pd.read_csv(\"tmp_IEDB_lit_chunk_{}.csv\".format(i))\n"
     ]
    },
    {
     "name": "stdout",
     "output_type": "stream",
     "text": [
      "196\n"
     ]
    },
    {
     "name": "stderr",
     "output_type": "stream",
     "text": [
      "<ipython-input-2-d1cecaf699f7>:9: DtypeWarning: Columns (20,29,77,78,79,80,81,82,83) have mixed types. Specify dtype option on import or set low_memory=False.\n",
      "  tmp_df = pd.read_csv(\"tmp_IEDB_lit_chunk_{}.csv\".format(i))\n"
     ]
    },
    {
     "name": "stdout",
     "output_type": "stream",
     "text": [
      "197\n",
      "198\n",
      "199\n"
     ]
    },
    {
     "name": "stderr",
     "output_type": "stream",
     "text": [
      "<ipython-input-2-d1cecaf699f7>:9: DtypeWarning: Columns (20,29,77,78,79,80,81,82,83) have mixed types. Specify dtype option on import or set low_memory=False.\n",
      "  tmp_df = pd.read_csv(\"tmp_IEDB_lit_chunk_{}.csv\".format(i))\n"
     ]
    },
    {
     "name": "stdout",
     "output_type": "stream",
     "text": [
      "200\n",
      "201\n"
     ]
    },
    {
     "name": "stderr",
     "output_type": "stream",
     "text": [
      "<ipython-input-2-d1cecaf699f7>:9: DtypeWarning: Columns (22) have mixed types. Specify dtype option on import or set low_memory=False.\n",
      "  tmp_df = pd.read_csv(\"tmp_IEDB_lit_chunk_{}.csv\".format(i))\n"
     ]
    },
    {
     "name": "stdout",
     "output_type": "stream",
     "text": [
      "202\n"
     ]
    }
   ],
   "source": [
    "## Load the data into dataframe\n",
    "MAX_i = 203\n",
    "i=0\n",
    "df = pd.read_csv(\"tmp_IEDB_lit_chunk_{}.csv\".format(i))\n",
    "\n",
    "i+=1\n",
    "while i < MAX_i:\n",
    "    print(i)\n",
    "    tmp_df = pd.read_csv(\"tmp_IEDB_lit_chunk_{}.csv\".format(i))\n",
    "    df = pd.concat([df, tmp_df])\n",
    "    i+=1"
   ]
  },
  {
   "cell_type": "code",
   "execution_count": 3,
   "metadata": {},
   "outputs": [
    {
     "data": {
      "text/html": [
       "<div>\n",
       "<style scoped>\n",
       "    .dataframe tbody tr th:only-of-type {\n",
       "        vertical-align: middle;\n",
       "    }\n",
       "\n",
       "    .dataframe tbody tr th {\n",
       "        vertical-align: top;\n",
       "    }\n",
       "\n",
       "    .dataframe thead th {\n",
       "        text-align: right;\n",
       "    }\n",
       "</style>\n",
       "<table border=\"1\" class=\"dataframe\">\n",
       "  <thead>\n",
       "    <tr style=\"text-align: right;\">\n",
       "      <th></th>\n",
       "      <th>Unnamed: 0</th>\n",
       "      <th>elution_id</th>\n",
       "      <th>elution_iri</th>\n",
       "      <th>structure_id</th>\n",
       "      <th>structure_iri</th>\n",
       "      <th>linear_sequence</th>\n",
       "      <th>structure_type</th>\n",
       "      <th>structure_description</th>\n",
       "      <th>reference_id</th>\n",
       "      <th>reference_iri</th>\n",
       "      <th>...</th>\n",
       "      <th>r_object_source_organism_name</th>\n",
       "      <th>e_related_object_type</th>\n",
       "      <th>curated_source_antigen.accession</th>\n",
       "      <th>curated_source_antigen.name</th>\n",
       "      <th>curated_source_antigen.iri</th>\n",
       "      <th>curated_source_antigen.starting_position</th>\n",
       "      <th>curated_source_antigen.ending_position</th>\n",
       "      <th>curated_source_antigen.source_organism_name</th>\n",
       "      <th>curated_source_antigen.source_organism_iri</th>\n",
       "      <th>curated_source_antigen</th>\n",
       "    </tr>\n",
       "  </thead>\n",
       "  <tbody>\n",
       "    <tr>\n",
       "      <th>0</th>\n",
       "      <td>0</td>\n",
       "      <td>26</td>\n",
       "      <td>IEDB_ASSAY:26</td>\n",
       "      <td>31803</td>\n",
       "      <td>IEDB_EPITOPE:31803</td>\n",
       "      <td>KLEDLERDL</td>\n",
       "      <td>Linear peptide</td>\n",
       "      <td>KLEDLERDL</td>\n",
       "      <td>274</td>\n",
       "      <td>IEDB_REFERENCE:274</td>\n",
       "      <td>...</td>\n",
       "      <td>NaN</td>\n",
       "      <td>NaN</td>\n",
       "      <td>AAG26087.1</td>\n",
       "      <td>large delta antigen</td>\n",
       "      <td>GENPEPT:AAG26087.1</td>\n",
       "      <td>26.0</td>\n",
       "      <td>34.0</td>\n",
       "      <td>Hepatitis delta virus TW2667</td>\n",
       "      <td>ONTIE:0000432</td>\n",
       "      <td>NaN</td>\n",
       "    </tr>\n",
       "    <tr>\n",
       "      <th>1</th>\n",
       "      <td>1</td>\n",
       "      <td>115</td>\n",
       "      <td>IEDB_ASSAY:115</td>\n",
       "      <td>36724</td>\n",
       "      <td>IEDB_EPITOPE:36724</td>\n",
       "      <td>LITGRLQSL</td>\n",
       "      <td>Linear peptide</td>\n",
       "      <td>LITGRLQSL</td>\n",
       "      <td>299</td>\n",
       "      <td>IEDB_REFERENCE:299</td>\n",
       "      <td>...</td>\n",
       "      <td>NaN</td>\n",
       "      <td>NaN</td>\n",
       "      <td>P59594.1</td>\n",
       "      <td>Spike glycoprotein precursor</td>\n",
       "      <td>GENPEPT:P59594.1</td>\n",
       "      <td>978.0</td>\n",
       "      <td>986.0</td>\n",
       "      <td>SARS-CoV1</td>\n",
       "      <td>NaN</td>\n",
       "      <td>NaN</td>\n",
       "    </tr>\n",
       "    <tr>\n",
       "      <th>2</th>\n",
       "      <td>2</td>\n",
       "      <td>247</td>\n",
       "      <td>IEDB_ASSAY:247</td>\n",
       "      <td>14829</td>\n",
       "      <td>IEDB_EPITOPE:14829</td>\n",
       "      <td>EVMPVSMAK</td>\n",
       "      <td>Linear peptide</td>\n",
       "      <td>EVMPVSMAK</td>\n",
       "      <td>329</td>\n",
       "      <td>IEDB_REFERENCE:329</td>\n",
       "      <td>...</td>\n",
       "      <td>NaN</td>\n",
       "      <td>NaN</td>\n",
       "      <td>P59594.1</td>\n",
       "      <td>Spike glycoprotein precursor</td>\n",
       "      <td>GENPEPT:P59594.1</td>\n",
       "      <td>707.0</td>\n",
       "      <td>715.0</td>\n",
       "      <td>SARS-CoV1</td>\n",
       "      <td>NaN</td>\n",
       "      <td>NaN</td>\n",
       "    </tr>\n",
       "    <tr>\n",
       "      <th>3</th>\n",
       "      <td>3</td>\n",
       "      <td>248</td>\n",
       "      <td>IEDB_ASSAY:248</td>\n",
       "      <td>14829</td>\n",
       "      <td>IEDB_EPITOPE:14829</td>\n",
       "      <td>EVMPVSMAK</td>\n",
       "      <td>Linear peptide</td>\n",
       "      <td>EVMPVSMAK</td>\n",
       "      <td>329</td>\n",
       "      <td>IEDB_REFERENCE:329</td>\n",
       "      <td>...</td>\n",
       "      <td>NaN</td>\n",
       "      <td>NaN</td>\n",
       "      <td>P59594.1</td>\n",
       "      <td>Spike glycoprotein precursor</td>\n",
       "      <td>GENPEPT:P59594.1</td>\n",
       "      <td>707.0</td>\n",
       "      <td>715.0</td>\n",
       "      <td>SARS-CoV1</td>\n",
       "      <td>NaN</td>\n",
       "      <td>NaN</td>\n",
       "    </tr>\n",
       "    <tr>\n",
       "      <th>4</th>\n",
       "      <td>4</td>\n",
       "      <td>249</td>\n",
       "      <td>IEDB_ASSAY:249</td>\n",
       "      <td>33667</td>\n",
       "      <td>IEDB_EPITOPE:33667</td>\n",
       "      <td>KTFPPTEPK</td>\n",
       "      <td>Linear peptide</td>\n",
       "      <td>KTFPPTEPK</td>\n",
       "      <td>329</td>\n",
       "      <td>IEDB_REFERENCE:329</td>\n",
       "      <td>...</td>\n",
       "      <td>NaN</td>\n",
       "      <td>NaN</td>\n",
       "      <td>P59595.1</td>\n",
       "      <td>Nucleoprotein</td>\n",
       "      <td>UNIPROT:P59595.1</td>\n",
       "      <td>362.0</td>\n",
       "      <td>370.0</td>\n",
       "      <td>SARS-CoV1</td>\n",
       "      <td>NaN</td>\n",
       "      <td>NaN</td>\n",
       "    </tr>\n",
       "    <tr>\n",
       "      <th>...</th>\n",
       "      <td>...</td>\n",
       "      <td>...</td>\n",
       "      <td>...</td>\n",
       "      <td>...</td>\n",
       "      <td>...</td>\n",
       "      <td>...</td>\n",
       "      <td>...</td>\n",
       "      <td>...</td>\n",
       "      <td>...</td>\n",
       "      <td>...</td>\n",
       "      <td>...</td>\n",
       "      <td>...</td>\n",
       "      <td>...</td>\n",
       "      <td>...</td>\n",
       "      <td>...</td>\n",
       "      <td>...</td>\n",
       "      <td>...</td>\n",
       "      <td>...</td>\n",
       "      <td>...</td>\n",
       "      <td>...</td>\n",
       "      <td>...</td>\n",
       "    </tr>\n",
       "    <tr>\n",
       "      <th>1332</th>\n",
       "      <td>1332</td>\n",
       "      <td>22385107</td>\n",
       "      <td>IEDB_ASSAY:22385107</td>\n",
       "      <td>2186827</td>\n",
       "      <td>IEDB_EPITOPE:2186827</td>\n",
       "      <td>GFKQSSKALQRPV</td>\n",
       "      <td>Linear peptide</td>\n",
       "      <td>GFKQSSKALQRPV</td>\n",
       "      <td>315254</td>\n",
       "      <td>IEDB_REFERENCE:315254</td>\n",
       "      <td>...</td>\n",
       "      <td>Homo sapiens (human)</td>\n",
       "      <td>fusion neo-epitope</td>\n",
       "      <td>NaN</td>\n",
       "      <td>NaN</td>\n",
       "      <td>NaN</td>\n",
       "      <td>NaN</td>\n",
       "      <td>NaN</td>\n",
       "      <td>NaN</td>\n",
       "      <td>NaN</td>\n",
       "      <td>NaN</td>\n",
       "    </tr>\n",
       "    <tr>\n",
       "      <th>1333</th>\n",
       "      <td>1333</td>\n",
       "      <td>22385108</td>\n",
       "      <td>IEDB_ASSAY:22385108</td>\n",
       "      <td>2187186</td>\n",
       "      <td>IEDB_EPITOPE:2187186</td>\n",
       "      <td>TGFKQSSKALQRPV</td>\n",
       "      <td>Linear peptide</td>\n",
       "      <td>TGFKQSSKALQRPV</td>\n",
       "      <td>315254</td>\n",
       "      <td>IEDB_REFERENCE:315254</td>\n",
       "      <td>...</td>\n",
       "      <td>Homo sapiens (human)</td>\n",
       "      <td>fusion neo-epitope</td>\n",
       "      <td>NaN</td>\n",
       "      <td>NaN</td>\n",
       "      <td>NaN</td>\n",
       "      <td>NaN</td>\n",
       "      <td>NaN</td>\n",
       "      <td>NaN</td>\n",
       "      <td>NaN</td>\n",
       "      <td>NaN</td>\n",
       "    </tr>\n",
       "    <tr>\n",
       "      <th>1334</th>\n",
       "      <td>1334</td>\n",
       "      <td>22385533</td>\n",
       "      <td>IEDB_ASSAY:22385533</td>\n",
       "      <td>54725</td>\n",
       "      <td>IEDB_EPITOPE:54725</td>\n",
       "      <td>RLQSLQTYV</td>\n",
       "      <td>Linear peptide</td>\n",
       "      <td>RLQSLQTYV</td>\n",
       "      <td>1042032</td>\n",
       "      <td>IEDB_REFERENCE:1042032</td>\n",
       "      <td>...</td>\n",
       "      <td>NaN</td>\n",
       "      <td>NaN</td>\n",
       "      <td>P0DTC2.1</td>\n",
       "      <td>Spike glycoprotein</td>\n",
       "      <td>UNIPROT:P0DTC2.1</td>\n",
       "      <td>1000.0</td>\n",
       "      <td>1008.0</td>\n",
       "      <td>SARS-CoV2</td>\n",
       "      <td>NCBITaxon:2697049</td>\n",
       "      <td>NaN</td>\n",
       "    </tr>\n",
       "    <tr>\n",
       "      <th>1335</th>\n",
       "      <td>1335</td>\n",
       "      <td>22385659</td>\n",
       "      <td>IEDB_ASSAY:22385659</td>\n",
       "      <td>1868895</td>\n",
       "      <td>IEDB_EPITOPE:1868895</td>\n",
       "      <td>RLQSLQIYV</td>\n",
       "      <td>Linear peptide</td>\n",
       "      <td>RLQSLQIYV</td>\n",
       "      <td>1042032</td>\n",
       "      <td>IEDB_REFERENCE:1042032</td>\n",
       "      <td>...</td>\n",
       "      <td>NaN</td>\n",
       "      <td>NaN</td>\n",
       "      <td>QTN58858.1</td>\n",
       "      <td>surface glycoprotein [Severe acute respiratory...</td>\n",
       "      <td>GENPEPT:QTN58858.1</td>\n",
       "      <td>1000.0</td>\n",
       "      <td>1008.0</td>\n",
       "      <td>SARS-CoV2</td>\n",
       "      <td>NCBITaxon:2697049</td>\n",
       "      <td>NaN</td>\n",
       "    </tr>\n",
       "    <tr>\n",
       "      <th>1336</th>\n",
       "      <td>1336</td>\n",
       "      <td>22388214</td>\n",
       "      <td>IEDB_ASSAY:22388214</td>\n",
       "      <td>2187346</td>\n",
       "      <td>IEDB_EPITOPE:2187346</td>\n",
       "      <td>FPSDSWCYF</td>\n",
       "      <td>Linear peptide</td>\n",
       "      <td>FPSDSWCYF</td>\n",
       "      <td>315220</td>\n",
       "      <td>IEDB_REFERENCE:315220</td>\n",
       "      <td>...</td>\n",
       "      <td>Homo sapiens (human)</td>\n",
       "      <td>unspecified neo-epitope</td>\n",
       "      <td>NaN</td>\n",
       "      <td>NaN</td>\n",
       "      <td>NaN</td>\n",
       "      <td>NaN</td>\n",
       "      <td>NaN</td>\n",
       "      <td>NaN</td>\n",
       "      <td>NaN</td>\n",
       "      <td>NaN</td>\n",
       "    </tr>\n",
       "  </tbody>\n",
       "</table>\n",
       "<p>2021337 rows × 92 columns</p>\n",
       "</div>"
      ],
      "text/plain": [
       "      Unnamed: 0  elution_id          elution_iri  structure_id  \\\n",
       "0              0          26        IEDB_ASSAY:26         31803   \n",
       "1              1         115       IEDB_ASSAY:115         36724   \n",
       "2              2         247       IEDB_ASSAY:247         14829   \n",
       "3              3         248       IEDB_ASSAY:248         14829   \n",
       "4              4         249       IEDB_ASSAY:249         33667   \n",
       "...          ...         ...                  ...           ...   \n",
       "1332        1332    22385107  IEDB_ASSAY:22385107       2186827   \n",
       "1333        1333    22385108  IEDB_ASSAY:22385108       2187186   \n",
       "1334        1334    22385533  IEDB_ASSAY:22385533         54725   \n",
       "1335        1335    22385659  IEDB_ASSAY:22385659       1868895   \n",
       "1336        1336    22388214  IEDB_ASSAY:22388214       2187346   \n",
       "\n",
       "             structure_iri linear_sequence  structure_type  \\\n",
       "0       IEDB_EPITOPE:31803       KLEDLERDL  Linear peptide   \n",
       "1       IEDB_EPITOPE:36724       LITGRLQSL  Linear peptide   \n",
       "2       IEDB_EPITOPE:14829       EVMPVSMAK  Linear peptide   \n",
       "3       IEDB_EPITOPE:14829       EVMPVSMAK  Linear peptide   \n",
       "4       IEDB_EPITOPE:33667       KTFPPTEPK  Linear peptide   \n",
       "...                    ...             ...             ...   \n",
       "1332  IEDB_EPITOPE:2186827   GFKQSSKALQRPV  Linear peptide   \n",
       "1333  IEDB_EPITOPE:2187186  TGFKQSSKALQRPV  Linear peptide   \n",
       "1334    IEDB_EPITOPE:54725       RLQSLQTYV  Linear peptide   \n",
       "1335  IEDB_EPITOPE:1868895       RLQSLQIYV  Linear peptide   \n",
       "1336  IEDB_EPITOPE:2187346       FPSDSWCYF  Linear peptide   \n",
       "\n",
       "     structure_description  reference_id           reference_iri  ...  \\\n",
       "0                KLEDLERDL           274      IEDB_REFERENCE:274  ...   \n",
       "1                LITGRLQSL           299      IEDB_REFERENCE:299  ...   \n",
       "2                EVMPVSMAK           329      IEDB_REFERENCE:329  ...   \n",
       "3                EVMPVSMAK           329      IEDB_REFERENCE:329  ...   \n",
       "4                KTFPPTEPK           329      IEDB_REFERENCE:329  ...   \n",
       "...                    ...           ...                     ...  ...   \n",
       "1332         GFKQSSKALQRPV        315254   IEDB_REFERENCE:315254  ...   \n",
       "1333        TGFKQSSKALQRPV        315254   IEDB_REFERENCE:315254  ...   \n",
       "1334             RLQSLQTYV       1042032  IEDB_REFERENCE:1042032  ...   \n",
       "1335             RLQSLQIYV       1042032  IEDB_REFERENCE:1042032  ...   \n",
       "1336             FPSDSWCYF        315220   IEDB_REFERENCE:315220  ...   \n",
       "\n",
       "     r_object_source_organism_name    e_related_object_type  \\\n",
       "0                              NaN                      NaN   \n",
       "1                              NaN                      NaN   \n",
       "2                              NaN                      NaN   \n",
       "3                              NaN                      NaN   \n",
       "4                              NaN                      NaN   \n",
       "...                            ...                      ...   \n",
       "1332          Homo sapiens (human)       fusion neo-epitope   \n",
       "1333          Homo sapiens (human)       fusion neo-epitope   \n",
       "1334                           NaN                      NaN   \n",
       "1335                           NaN                      NaN   \n",
       "1336          Homo sapiens (human)  unspecified neo-epitope   \n",
       "\n",
       "     curated_source_antigen.accession  \\\n",
       "0                          AAG26087.1   \n",
       "1                            P59594.1   \n",
       "2                            P59594.1   \n",
       "3                            P59594.1   \n",
       "4                            P59595.1   \n",
       "...                               ...   \n",
       "1332                              NaN   \n",
       "1333                              NaN   \n",
       "1334                         P0DTC2.1   \n",
       "1335                       QTN58858.1   \n",
       "1336                              NaN   \n",
       "\n",
       "                            curated_source_antigen.name  \\\n",
       "0                                   large delta antigen   \n",
       "1                          Spike glycoprotein precursor   \n",
       "2                          Spike glycoprotein precursor   \n",
       "3                          Spike glycoprotein precursor   \n",
       "4                                         Nucleoprotein   \n",
       "...                                                 ...   \n",
       "1332                                                NaN   \n",
       "1333                                                NaN   \n",
       "1334                                 Spike glycoprotein   \n",
       "1335  surface glycoprotein [Severe acute respiratory...   \n",
       "1336                                                NaN   \n",
       "\n",
       "     curated_source_antigen.iri curated_source_antigen.starting_position  \\\n",
       "0            GENPEPT:AAG26087.1                                     26.0   \n",
       "1              GENPEPT:P59594.1                                    978.0   \n",
       "2              GENPEPT:P59594.1                                    707.0   \n",
       "3              GENPEPT:P59594.1                                    707.0   \n",
       "4              UNIPROT:P59595.1                                    362.0   \n",
       "...                         ...                                      ...   \n",
       "1332                        NaN                                      NaN   \n",
       "1333                        NaN                                      NaN   \n",
       "1334           UNIPROT:P0DTC2.1                                   1000.0   \n",
       "1335         GENPEPT:QTN58858.1                                   1000.0   \n",
       "1336                        NaN                                      NaN   \n",
       "\n",
       "     curated_source_antigen.ending_position  \\\n",
       "0                                      34.0   \n",
       "1                                     986.0   \n",
       "2                                     715.0   \n",
       "3                                     715.0   \n",
       "4                                     370.0   \n",
       "...                                     ...   \n",
       "1332                                    NaN   \n",
       "1333                                    NaN   \n",
       "1334                                 1008.0   \n",
       "1335                                 1008.0   \n",
       "1336                                    NaN   \n",
       "\n",
       "     curated_source_antigen.source_organism_name  \\\n",
       "0                   Hepatitis delta virus TW2667   \n",
       "1                                      SARS-CoV1   \n",
       "2                                      SARS-CoV1   \n",
       "3                                      SARS-CoV1   \n",
       "4                                      SARS-CoV1   \n",
       "...                                          ...   \n",
       "1332                                         NaN   \n",
       "1333                                         NaN   \n",
       "1334                                   SARS-CoV2   \n",
       "1335                                   SARS-CoV2   \n",
       "1336                                         NaN   \n",
       "\n",
       "     curated_source_antigen.source_organism_iri curated_source_antigen  \n",
       "0                                 ONTIE:0000432                    NaN  \n",
       "1                                           NaN                    NaN  \n",
       "2                                           NaN                    NaN  \n",
       "3                                           NaN                    NaN  \n",
       "4                                           NaN                    NaN  \n",
       "...                                         ...                    ...  \n",
       "1332                                        NaN                    NaN  \n",
       "1333                                        NaN                    NaN  \n",
       "1334                          NCBITaxon:2697049                    NaN  \n",
       "1335                          NCBITaxon:2697049                    NaN  \n",
       "1336                                        NaN                    NaN  \n",
       "\n",
       "[2021337 rows x 92 columns]"
      ]
     },
     "execution_count": 3,
     "metadata": {},
     "output_type": "execute_result"
    }
   ],
   "source": [
    "df[df.reference_type==\"Literature\"]"
   ]
  },
  {
   "cell_type": "markdown",
   "metadata": {},
   "source": [
    "#### 1.3 Extract PUBMED IDs from the data"
   ]
  },
  {
   "cell_type": "code",
   "execution_count": 4,
   "metadata": {},
   "outputs": [],
   "source": [
    "df = df.reset_index()"
   ]
  },
  {
   "cell_type": "code",
   "execution_count": 6,
   "metadata": {},
   "outputs": [],
   "source": [
    "pmids = df[~df.pubmed_id.isnull()].pubmed_id.unique()"
   ]
  },
  {
   "cell_type": "code",
   "execution_count": 7,
   "metadata": {},
   "outputs": [
    {
     "data": {
      "text/plain": [
       "array([15448372, 15140958, 15104671, ..., 36662516,  9593785, 36806685],\n",
       "      dtype=int64)"
      ]
     },
     "execution_count": 7,
     "metadata": {},
     "output_type": "execute_result"
    }
   ],
   "source": [
    "pmids"
   ]
  },
  {
   "cell_type": "code",
   "execution_count": 8,
   "metadata": {},
   "outputs": [
    {
     "data": {
      "text/plain": [
       "1269"
      ]
     },
     "execution_count": 8,
     "metadata": {},
     "output_type": "execute_result"
    }
   ],
   "source": [
    "len(pmids)"
   ]
  },
  {
   "cell_type": "code",
   "execution_count": 5,
   "metadata": {},
   "outputs": [
    {
     "ename": "OSError",
     "evalue": "[Errno 28] No space left on device",
     "output_type": "error",
     "traceback": [
      "\u001b[1;31m---------------------------------------------------------------------------\u001b[0m",
      "\u001b[1;31mOSError\u001b[0m                                   Traceback (most recent call last)",
      "\u001b[1;32m<ipython-input-5-3fc5984cc9df>\u001b[0m in \u001b[0;36m<module>\u001b[1;34m\u001b[0m\n\u001b[1;32m----> 1\u001b[1;33m \u001b[0mdf\u001b[0m\u001b[1;33m.\u001b[0m\u001b[0mto_csv\u001b[0m\u001b[1;33m(\u001b[0m\u001b[1;34m\"full_iedb_data.csv\"\u001b[0m\u001b[1;33m)\u001b[0m\u001b[1;33m\u001b[0m\u001b[1;33m\u001b[0m\u001b[0m\n\u001b[0m",
      "\u001b[1;32m~\\Miniconda3\\lib\\site-packages\\pandas\\core\\generic.py\u001b[0m in \u001b[0;36mto_csv\u001b[1;34m(self, path_or_buf, sep, na_rep, float_format, columns, header, index, index_label, mode, encoding, compression, quoting, quotechar, line_terminator, chunksize, date_format, doublequote, escapechar, decimal, errors, storage_options)\u001b[0m\n\u001b[0;32m   3561\u001b[0m         )\n\u001b[0;32m   3562\u001b[0m \u001b[1;33m\u001b[0m\u001b[0m\n\u001b[1;32m-> 3563\u001b[1;33m         return DataFrameRenderer(formatter).to_csv(\n\u001b[0m\u001b[0;32m   3564\u001b[0m             \u001b[0mpath_or_buf\u001b[0m\u001b[1;33m,\u001b[0m\u001b[1;33m\u001b[0m\u001b[1;33m\u001b[0m\u001b[0m\n\u001b[0;32m   3565\u001b[0m             \u001b[0mline_terminator\u001b[0m\u001b[1;33m=\u001b[0m\u001b[0mline_terminator\u001b[0m\u001b[1;33m,\u001b[0m\u001b[1;33m\u001b[0m\u001b[1;33m\u001b[0m\u001b[0m\n",
      "\u001b[1;32m~\\Miniconda3\\lib\\site-packages\\pandas\\io\\formats\\format.py\u001b[0m in \u001b[0;36mto_csv\u001b[1;34m(self, path_or_buf, encoding, sep, columns, index_label, mode, compression, quoting, quotechar, line_terminator, chunksize, date_format, doublequote, escapechar, errors, storage_options)\u001b[0m\n\u001b[0;32m   1178\u001b[0m             \u001b[0mformatter\u001b[0m\u001b[1;33m=\u001b[0m\u001b[0mself\u001b[0m\u001b[1;33m.\u001b[0m\u001b[0mfmt\u001b[0m\u001b[1;33m,\u001b[0m\u001b[1;33m\u001b[0m\u001b[1;33m\u001b[0m\u001b[0m\n\u001b[0;32m   1179\u001b[0m         )\n\u001b[1;32m-> 1180\u001b[1;33m         \u001b[0mcsv_formatter\u001b[0m\u001b[1;33m.\u001b[0m\u001b[0msave\u001b[0m\u001b[1;33m(\u001b[0m\u001b[1;33m)\u001b[0m\u001b[1;33m\u001b[0m\u001b[1;33m\u001b[0m\u001b[0m\n\u001b[0m\u001b[0;32m   1181\u001b[0m \u001b[1;33m\u001b[0m\u001b[0m\n\u001b[0;32m   1182\u001b[0m         \u001b[1;32mif\u001b[0m \u001b[0mcreated_buffer\u001b[0m\u001b[1;33m:\u001b[0m\u001b[1;33m\u001b[0m\u001b[1;33m\u001b[0m\u001b[0m\n",
      "\u001b[1;32m~\\Miniconda3\\lib\\site-packages\\pandas\\io\\formats\\csvs.py\u001b[0m in \u001b[0;36msave\u001b[1;34m(self)\u001b[0m\n\u001b[0;32m    259\u001b[0m             )\n\u001b[0;32m    260\u001b[0m \u001b[1;33m\u001b[0m\u001b[0m\n\u001b[1;32m--> 261\u001b[1;33m             \u001b[0mself\u001b[0m\u001b[1;33m.\u001b[0m\u001b[0m_save\u001b[0m\u001b[1;33m(\u001b[0m\u001b[1;33m)\u001b[0m\u001b[1;33m\u001b[0m\u001b[1;33m\u001b[0m\u001b[0m\n\u001b[0m\u001b[0;32m    262\u001b[0m \u001b[1;33m\u001b[0m\u001b[0m\n\u001b[0;32m    263\u001b[0m     \u001b[1;32mdef\u001b[0m \u001b[0m_save\u001b[0m\u001b[1;33m(\u001b[0m\u001b[0mself\u001b[0m\u001b[1;33m)\u001b[0m \u001b[1;33m->\u001b[0m \u001b[1;32mNone\u001b[0m\u001b[1;33m:\u001b[0m\u001b[1;33m\u001b[0m\u001b[1;33m\u001b[0m\u001b[0m\n",
      "\u001b[1;32m~\\Miniconda3\\lib\\site-packages\\pandas\\io\\formats\\csvs.py\u001b[0m in \u001b[0;36m_save\u001b[1;34m(self)\u001b[0m\n\u001b[0;32m    264\u001b[0m         \u001b[1;32mif\u001b[0m \u001b[0mself\u001b[0m\u001b[1;33m.\u001b[0m\u001b[0m_need_to_save_header\u001b[0m\u001b[1;33m:\u001b[0m\u001b[1;33m\u001b[0m\u001b[1;33m\u001b[0m\u001b[0m\n\u001b[0;32m    265\u001b[0m             \u001b[0mself\u001b[0m\u001b[1;33m.\u001b[0m\u001b[0m_save_header\u001b[0m\u001b[1;33m(\u001b[0m\u001b[1;33m)\u001b[0m\u001b[1;33m\u001b[0m\u001b[1;33m\u001b[0m\u001b[0m\n\u001b[1;32m--> 266\u001b[1;33m         \u001b[0mself\u001b[0m\u001b[1;33m.\u001b[0m\u001b[0m_save_body\u001b[0m\u001b[1;33m(\u001b[0m\u001b[1;33m)\u001b[0m\u001b[1;33m\u001b[0m\u001b[1;33m\u001b[0m\u001b[0m\n\u001b[0m\u001b[0;32m    267\u001b[0m \u001b[1;33m\u001b[0m\u001b[0m\n\u001b[0;32m    268\u001b[0m     \u001b[1;32mdef\u001b[0m \u001b[0m_save_header\u001b[0m\u001b[1;33m(\u001b[0m\u001b[0mself\u001b[0m\u001b[1;33m)\u001b[0m \u001b[1;33m->\u001b[0m \u001b[1;32mNone\u001b[0m\u001b[1;33m:\u001b[0m\u001b[1;33m\u001b[0m\u001b[1;33m\u001b[0m\u001b[0m\n",
      "\u001b[1;32m~\\Miniconda3\\lib\\site-packages\\pandas\\io\\formats\\csvs.py\u001b[0m in \u001b[0;36m_save_body\u001b[1;34m(self)\u001b[0m\n\u001b[0;32m    302\u001b[0m             \u001b[1;32mif\u001b[0m \u001b[0mstart_i\u001b[0m \u001b[1;33m>=\u001b[0m \u001b[0mend_i\u001b[0m\u001b[1;33m:\u001b[0m\u001b[1;33m\u001b[0m\u001b[1;33m\u001b[0m\u001b[0m\n\u001b[0;32m    303\u001b[0m                 \u001b[1;32mbreak\u001b[0m\u001b[1;33m\u001b[0m\u001b[1;33m\u001b[0m\u001b[0m\n\u001b[1;32m--> 304\u001b[1;33m             \u001b[0mself\u001b[0m\u001b[1;33m.\u001b[0m\u001b[0m_save_chunk\u001b[0m\u001b[1;33m(\u001b[0m\u001b[0mstart_i\u001b[0m\u001b[1;33m,\u001b[0m \u001b[0mend_i\u001b[0m\u001b[1;33m)\u001b[0m\u001b[1;33m\u001b[0m\u001b[1;33m\u001b[0m\u001b[0m\n\u001b[0m\u001b[0;32m    305\u001b[0m \u001b[1;33m\u001b[0m\u001b[0m\n\u001b[0;32m    306\u001b[0m     \u001b[1;32mdef\u001b[0m \u001b[0m_save_chunk\u001b[0m\u001b[1;33m(\u001b[0m\u001b[0mself\u001b[0m\u001b[1;33m,\u001b[0m \u001b[0mstart_i\u001b[0m\u001b[1;33m:\u001b[0m \u001b[0mint\u001b[0m\u001b[1;33m,\u001b[0m \u001b[0mend_i\u001b[0m\u001b[1;33m:\u001b[0m \u001b[0mint\u001b[0m\u001b[1;33m)\u001b[0m \u001b[1;33m->\u001b[0m \u001b[1;32mNone\u001b[0m\u001b[1;33m:\u001b[0m\u001b[1;33m\u001b[0m\u001b[1;33m\u001b[0m\u001b[0m\n",
      "\u001b[1;32m~\\Miniconda3\\lib\\site-packages\\pandas\\io\\formats\\csvs.py\u001b[0m in \u001b[0;36m_save_chunk\u001b[1;34m(self, start_i, end_i)\u001b[0m\n\u001b[0;32m    313\u001b[0m \u001b[1;33m\u001b[0m\u001b[0m\n\u001b[0;32m    314\u001b[0m         \u001b[0mix\u001b[0m \u001b[1;33m=\u001b[0m \u001b[0mself\u001b[0m\u001b[1;33m.\u001b[0m\u001b[0mdata_index\u001b[0m\u001b[1;33m[\u001b[0m\u001b[0mslicer\u001b[0m\u001b[1;33m]\u001b[0m\u001b[1;33m.\u001b[0m\u001b[0m_format_native_types\u001b[0m\u001b[1;33m(\u001b[0m\u001b[1;33m**\u001b[0m\u001b[0mself\u001b[0m\u001b[1;33m.\u001b[0m\u001b[0m_number_format\u001b[0m\u001b[1;33m)\u001b[0m\u001b[1;33m\u001b[0m\u001b[1;33m\u001b[0m\u001b[0m\n\u001b[1;32m--> 315\u001b[1;33m         libwriters.write_csv_rows(\n\u001b[0m\u001b[0;32m    316\u001b[0m             \u001b[0mdata\u001b[0m\u001b[1;33m,\u001b[0m\u001b[1;33m\u001b[0m\u001b[1;33m\u001b[0m\u001b[0m\n\u001b[0;32m    317\u001b[0m             \u001b[0mix\u001b[0m\u001b[1;33m,\u001b[0m\u001b[1;33m\u001b[0m\u001b[1;33m\u001b[0m\u001b[0m\n",
      "\u001b[1;32m~\\Miniconda3\\lib\\site-packages\\pandas\\_libs\\writers.pyx\u001b[0m in \u001b[0;36mpandas._libs.writers.write_csv_rows\u001b[1;34m()\u001b[0m\n",
      "\u001b[1;31mOSError\u001b[0m: [Errno 28] No space left on device"
     ]
    }
   ],
   "source": [
    "df.to_csv(\"full_iedb_data.csv\")"
   ]
  },
  {
   "cell_type": "markdown",
   "metadata": {},
   "source": [
    "## 2) Scrape PUBMED \n",
    "\n",
    "Scrape the publicly available data at pubmed.ncbi.nlm.nih.gov that corresponds to IEDB currated data to find the related affiliations and publication years."
   ]
  },
  {
   "cell_type": "code",
   "execution_count": 9,
   "metadata": {},
   "outputs": [],
   "source": [
    "def get_author(html_content):\n",
    "    if html_content.find(start, 1) > -1:\n",
    "        tmp1 = html_content[html_content.find(start, 1):]\n",
    "        tmp2 = tmp1[:tmp1.find(\">\", 1)]\n",
    "        tmp3 = tmp2[tmp2.find(\"title=\")+len(\"title=\"):]\n",
    "        tmp3 = tmp3[:tmp3.find(\"\\\"\", 1)+1]\n",
    "        return tmp3\n",
    "    else:\n",
    "        return -1\n",
    "def get_year(html_content, start):\n",
    "    if html_content.find(start, 1) > -1:\n",
    "        tmp1 = html_content[html_content.find(start, 1)+len(start):]\n",
    "        year = tmp1.split(\" \")[0]\n",
    "        return year\n",
    "    else:\n",
    "        return -1\n",
    "    "
   ]
  },
  {
   "cell_type": "code",
   "execution_count": 11,
   "metadata": {},
   "outputs": [
    {
     "name": "stdout",
     "output_type": "stream",
     "text": [
      "15448372\n",
      "2004\n",
      "Total affs for 15448372: 4\n",
      "15140958\n",
      "2004\n",
      "Total affs for 15140958: 1\n",
      "15104671\n",
      "2004\n",
      "Total affs for 15104671: 1\n",
      "15368525\n",
      "2004\n",
      "Total affs for 15368525: 1\n",
      "15538043\n",
      "2004\n",
      "Total affs for 15538043: 1\n",
      "15116427\n",
      "2004;18(9):995-1000.</span>\\n\\n\n",
      "Total affs for 15116427: 1\n",
      "15382068\n",
      "2004\n",
      "Total affs for 15382068: 1\n",
      "11782012\n",
      "2002\n",
      "Total affs for 11782012: 1\n",
      "15153496\n",
      "2004\n",
      "Total affs for 15153496: 1\n",
      "15305339\n",
      "2004\n",
      "Total affs for 15305339: 1\n",
      "15501984\n",
      "2004\n",
      "Total affs for 15501984: 1\n",
      "15039371\n",
      "2004\n",
      "Total affs for 15039371: 1\n",
      "15609329\n",
      "2005\n",
      "Total affs for 15609329: 1\n",
      "15016646\n",
      "2004\n",
      "Total affs for 15016646: 1\n",
      "14734527\n",
      "2004\n",
      "Total affs for 14734527: 1\n",
      "15004033\n",
      "2004\n",
      "Total affs for 15004033: 1\n",
      "15494511\n",
      "2004\n",
      "Total affs for 15494511: 1\n",
      "12010981\n",
      "2002\n",
      "Total affs for 12010981: 1\n",
      "12356679\n",
      "2002\n",
      "Total affs for 12356679: 1\n",
      "11836437\n",
      "2002\n",
      "Total affs for 11836437: 1\n",
      "12778479\n",
      "2003\n",
      "Total affs for 12778479: 1\n",
      "12972510\n",
      "2003\n",
      "Total affs for 12972510: 1\n",
      "11585536\n",
      "2001\n",
      "Total affs for 11585536: 1\n",
      "11086086\n",
      "2000\n",
      "Total affs for 11086086: 1\n",
      "10773346\n",
      "2000\n",
      "Total affs for 10773346: 1\n",
      "2333291\n",
      "1990\n",
      "Total affs for 2333291: 1\n",
      "11035787\n",
      "2000\n",
      "Total affs for 11035787: 1\n",
      "7544398\n",
      "1995\n",
      "Total affs for 7544398: 1\n",
      "11796635\n",
      "2002\n",
      "Total affs for 11796635: 1\n",
      "9741848\n",
      "1998\n",
      "Total affs for 9741848: 1\n",
      "16041067\n",
      "2005\n",
      "Total affs for 16041067: 1\n",
      "11237810\n",
      "2001\n",
      "Total affs for 11237810: 1\n",
      "10728873\n",
      "2000\n",
      "Total affs for 10728873: 0\n",
      "11745380\n",
      "2001\n",
      "Total affs for 11745380: 1\n",
      "15194781\n",
      "2004\n",
      "Total affs for 15194781: 1\n",
      "9886403\n",
      "1999\n",
      "Total affs for 9886403: 1\n",
      "12816978\n",
      "2003\n",
      "Total affs for 12816978: 1\n",
      "9366399\n",
      "1997\n",
      "Total affs for 9366399: 1\n",
      "7510885\n",
      "1994\n",
      "Total affs for 7510885: 1\n",
      "7529283\n",
      "1995\n",
      "Total affs for 7529283: 1\n",
      "7532675\n",
      "1995\n",
      "Total affs for 7532675: 1\n",
      "7536628\n",
      "1995;22:37-49.</span>\\n\\n\n",
      "Total affs for 7536628: 1\n",
      "7706734\n",
      "1995\n",
      "Total affs for 7706734: 1\n",
      "7732026\n",
      "1995\n",
      "Total affs for 7732026: 1\n",
      "7742526\n",
      "1995\n",
      "Total affs for 7742526: 1\n",
      "7823968\n",
      "1994\n",
      "Total affs for 7823968: 1\n",
      "7868898\n",
      "1995\n",
      "Total affs for 7868898: 1\n",
      "8047072\n",
      "1994\n",
      "Total affs for 8047072: 1\n",
      "8104103\n",
      "1993\n",
      "Total affs for 8104103: 1\n",
      "8144888\n",
      "1994\n",
      "Total affs for 8144888: 1\n",
      "8144960\n",
      "1994\n",
      "Total affs for 8144960: 1\n",
      "8196768\n",
      "1994\n",
      "Total affs for 8196768: 1\n",
      "8566090\n",
      "1996\n",
      "Total affs for 8566090: 1\n",
      "8671652\n",
      "1996\n",
      "Total affs for 8671652: 1\n",
      "8676071\n",
      "1996\n",
      "Total affs for 8676071: 1\n",
      "8805655\n",
      "1996\n",
      "Total affs for 8805655: 1\n",
      "8871647\n",
      "1996\n",
      "Total affs for 8871647: 1\n",
      "8882405\n",
      "1996\n",
      "Total affs for 8882405: 1\n",
      "8938271\n",
      "1995\n",
      "Total affs for 8938271: 1\n",
      "9002445\n",
      "1997;45(4):249-58.</span>\\n\\n\n",
      "Total affs for 9002445: 1\n",
      "9029118\n",
      "1997\n",
      "Total affs for 9029118: 1\n",
      "9079808\n",
      "1997\n",
      "Total affs for 9079808: 1\n",
      "9239396\n",
      "1997\n",
      "Total affs for 9239396: 1\n",
      "9252123\n",
      "1997\n",
      "Total affs for 9252123: 1\n",
      "9257824\n",
      "1997\n",
      "Total affs for 9257824: 1\n",
      "9331097\n",
      "1997\n",
      "Total affs for 9331097: 1\n",
      "9377553\n",
      "1997\n",
      "Total affs for 9377553: 1\n",
      "9410918\n",
      "1997\n",
      "Total affs for 9410918: 1\n",
      "9438205\n",
      "1997\n",
      "Total affs for 9438205: 1\n",
      "9544234\n",
      "1998\n",
      "Total affs for 9544234: 1\n",
      "9551926\n",
      "1998\n",
      "Total affs for 9551926: 1\n",
      "9727076\n",
      "1998\n",
      "Total affs for 9727076: 1\n",
      "9754653\n",
      "1998\n",
      "Total affs for 9754653: 1\n",
      "9780224\n",
      "1998\n",
      "Total affs for 9780224: 1\n",
      "9797143\n",
      "1998\n",
      "Total affs for 9797143: 1\n",
      "9809996\n",
      "1998\n",
      "Total affs for 9809996: 1\n",
      "9831133\n",
      "1998\n",
      "Total affs for 9831133: 1\n",
      "9862732\n",
      "1998\n",
      "Total affs for 9862732: 1\n",
      "9870321\n",
      "1998\n",
      "Total affs for 9870321: 1\n",
      "9916747\n",
      "1999\n",
      "Total affs for 9916747: 1\n",
      "9927058\n",
      "1999\n",
      "Total affs for 9927058: 1\n",
      "9935237\n",
      "1999\n",
      "Total affs for 9935237: 1\n",
      "10201910\n",
      "1999\n",
      "Total affs for 10201910: 1\n",
      "10352286\n",
      "1999\n",
      "Total affs for 10352286: 1\n",
      "10395702\n",
      "1999\n",
      "Total affs for 10395702: 1\n",
      "10473111\n",
      "1999\n",
      "Total affs for 10473111: 1\n",
      "10599997\n",
      "1999\n",
      "Total affs for 10599997: 1\n",
      "11033019\n",
      "2000\n",
      "Total affs for 11033019: 1\n",
      "11035079\n",
      "2000\n",
      "Total affs for 11035079: 1\n",
      "11082510\n",
      "2000\n",
      "Total affs for 11082510: 1\n",
      "11139320\n",
      "2001\n",
      "Total affs for 11139320: 1\n",
      "11152503\n",
      "2001\n",
      "Total affs for 11152503: 1\n",
      "11390031\n",
      "2001\n",
      "Total affs for 11390031: 1\n",
      "11424007\n",
      "2001\n",
      "Total affs for 11424007: 1\n",
      "11441084\n",
      "2001\n",
      "Total affs for 11441084: 1\n",
      "11560998\n",
      "2001\n",
      "Total affs for 11560998: 1\n",
      "11704282\n",
      "2001\n",
      "Total affs for 11704282: 1\n",
      "12055232\n",
      "2002\n",
      "Total affs for 12055232: 1\n",
      "12097265\n",
      "2002\n",
      "Total affs for 12097265: 1\n",
      "12473604\n",
      "2002\n",
      "Total affs for 12473604: 1\n",
      "12538723\n",
      "2003\n",
      "Total affs for 12538723: 1\n",
      "12559623\n",
      "2003\n",
      "Total affs for 12559623: 1\n",
      "12594302\n",
      "2003\n",
      "Total affs for 12594302: 1\n",
      "12886016\n",
      "2003\n",
      "Total affs for 12886016: 1\n",
      "1331239\n",
      "1992\n",
      "Total affs for 1331239: 1\n",
      "8384718\n",
      "1993\n",
      "Total affs for 8384718: 1\n",
      "9634482\n",
      "1998\n",
      "Total affs for 9634482: 1\n",
      "10553078\n",
      "1999\n",
      "Total affs for 10553078: 1\n",
      "7506728\n",
      "1994\n",
      "Total affs for 7506728: 1\n",
      "7528217\n",
      "1994\n",
      "Total affs for 7528217: 1\n",
      "2247148\n",
      "1990\n",
      "Total affs for 2247148: 1\n",
      "7529284\n",
      "1995\n",
      "Total affs for 7529284: 1\n",
      "7684681\n",
      "1993\n",
      "Total affs for 7684681: 1\n",
      "8617300\n",
      "1996\n",
      "Total affs for 8617300: 1\n",
      "7694806\n",
      "1993\n",
      "Total affs for 7694806: 1\n",
      "12796775\n",
      "2003\n",
      "Total affs for 12796775: 1\n",
      "2017257\n",
      "1991\n",
      "Total affs for 2017257: 1\n",
      "7679507\n",
      "1993\n",
      "Total affs for 7679507: 1\n",
      "2062316\n",
      "1991\n",
      "Total affs for 2062316: 1\n",
      "2480387\n",
      "1989\n",
      "Total affs for 2480387: 1\n",
      "9647225\n",
      "1998\n",
      "Total affs for 9647225: 1\n",
      "7889404\n",
      "1994\n",
      "Total affs for 7889404: 1\n",
      "8494822\n",
      "1993\n",
      "Total affs for 8494822: 1\n",
      "1372560\n",
      "1992\n",
      "Total affs for 1372560: 1\n",
      "2126195\n",
      "1990;2(4):311-6.</span>\\n\\n\n",
      "Total affs for 2126195: 1\n",
      "1448154\n",
      "1992\n",
      "Total affs for 1448154: 1\n",
      "7523137\n",
      "1994\n",
      "Total affs for 7523137: 1\n",
      "7547687\n",
      "1995\n",
      "Total affs for 7547687: 1\n",
      "7543776\n",
      "1995\n",
      "Total affs for 7543776: 1\n",
      "7679646\n",
      "1993\n",
      "Total affs for 7679646: 1\n",
      "7542549\n",
      "1995\n",
      "Total affs for 7542549: 1\n",
      "3264322\n",
      "1988\n",
      "Total affs for 3264322: 1\n",
      "2553813\n",
      "1989\n",
      "Total affs for 2553813: 1\n",
      "7525458\n",
      "1994\n",
      "Total affs for 7525458: 1\n",
      "11689620\n",
      "2001\n",
      "Total affs for 11689620: 1\n",
      "15657948\n",
      "2005\n",
      "Total affs for 15657948: 1\n",
      "9725236\n",
      "1998\n",
      "Total affs for 9725236: 1\n",
      "8642561\n",
      "1996\n",
      "Total affs for 8642561: 1\n",
      "16462803\n",
      "2006\n",
      "Total affs for 16462803: 1\n",
      "16210487\n",
      "2005\n",
      "Total affs for 16210487: 1\n",
      "9240420\n",
      "1997\n",
      "Total affs for 9240420: 1\n",
      "16172378\n",
      "2005\n",
      "Total affs for 16172378: 1\n",
      "16210659\n",
      "2005\n",
      "Total affs for 16210659: 1\n",
      "16175596\n",
      "2005\n",
      "Total affs for 16175596: 1\n",
      "15867491\n",
      "2005\n",
      "Total affs for 15867491: 1\n",
      "7643853\n",
      "1995\n",
      "Total affs for 7643853: 1\n",
      "11964304\n",
      "2002\n",
      "Total affs for 11964304: 1\n",
      "16393977\n",
      "2006\n",
      "Total affs for 16393977: 1\n",
      "15939790\n",
      "2005\n",
      "Total affs for 15939790: 1\n",
      "9680137\n",
      "1998\n",
      "Total affs for 9680137: 1\n",
      "12100728\n",
      "2002\n",
      "Total affs for 12100728: 1\n",
      "11754355\n",
      "2002\n",
      "Total affs for 11754355: 1\n",
      "11732011\n",
      "2001\n",
      "Total affs for 11732011: 1\n",
      "12634388\n",
      "2003\n",
      "Total affs for 12634388: 1\n",
      "11281563\n",
      "2001\n",
      "Total affs for 11281563: 1\n",
      "12428245\n",
      "2002\n",
      "Total affs for 12428245: 1\n",
      "12021342\n",
      "2002\n",
      "Total affs for 12021342: 1\n",
      "10432280\n",
      "1999\n",
      "Total affs for 10432280: 1\n",
      "9739058\n",
      "1998\n",
      "Total affs for 9739058: 1\n",
      "12438599\n",
      "2002\n",
      "Total affs for 12438599: 1\n",
      "16140790\n",
      "2005\n",
      "Total affs for 16140790: 1\n",
      "15939788\n",
      "2005\n",
      "Total affs for 15939788: 1\n",
      "9753499\n",
      "1998\n",
      "Total affs for 9753499: 1\n",
      "16781760\n",
      "2006\n",
      "Total affs for 16781760: 1\n",
      "7884894\n",
      "1995\n",
      "Total affs for 7884894: 1\n",
      "16912286\n",
      "2006\n",
      "Total affs for 16912286: 1\n",
      "16987064\n",
      "2006\n",
      "Total affs for 16987064: 1\n",
      "16887973\n",
      "2006\n",
      "Total affs for 16887973: 1\n",
      "16630549\n",
      "2006\n",
      "Total affs for 16630549: 1\n",
      "11084612\n",
      "2000\n",
      "Total affs for 11084612: 1\n",
      "14634108\n",
      "2003\n",
      "Total affs for 14634108: 1\n",
      "10603392\n",
      "2000\n",
      "Total affs for 10603392: 1\n",
      "12722940\n",
      "2003\n",
      "Total affs for 12722940: 1\n",
      "11552688\n",
      "2001;19(5):405-11,\n",
      "Total affs for 11552688: 1\n",
      "11012624\n",
      "2000\n",
      "Total affs for 11012624: 1\n",
      "9864030\n",
      "1998\n",
      "Total affs for 9864030: 1\n",
      "7535817\n",
      "1995\n",
      "Total affs for 7535817: 1\n",
      "1280333\n",
      "1992\n",
      "Total affs for 1280333: 1\n",
      "12078650\n",
      "2002\n",
      "Total affs for 12078650: 1\n",
      "7595214\n",
      "1995\n",
      "Total affs for 7595214: 1\n",
      "7493916\n",
      "1995\n",
      "Total affs for 7493916: 1\n",
      "8649443\n",
      "1996\n",
      "Total affs for 8649443: 1\n",
      "9282783\n",
      "1997\n",
      "Total affs for 9282783: 1\n",
      "12399208\n",
      "2002\n",
      "Total affs for 12399208: 1\n",
      "8567982\n",
      "1996\n",
      "Total affs for 8567982: 1\n",
      "8617954\n",
      "1996\n",
      "Total affs for 8617954: 1\n",
      "7683326\n",
      "1993\n",
      "Total affs for 7683326: 1\n",
      "7679709\n",
      "1993\n",
      "Total affs for 7679709: 1\n",
      "9328331\n",
      "1997\n",
      "Total affs for 9328331: 1\n",
      "8624812\n",
      "1996\n",
      "Total affs for 8624812: 1\n",
      "10544195\n",
      "1999\n",
      "Total affs for 10544195: 1\n",
      "16156661\n",
      "2005\n",
      "Total affs for 16156661: 1\n",
      "1658152\n",
      "1991\n",
      "Total affs for 1658152: 1\n",
      "10540322\n",
      "1999\n",
      "Total affs for 10540322: 1\n",
      "11451178\n",
      "2001\n",
      "Total affs for 11451178: 1\n",
      "15820153\n",
      "2005\n",
      "Total affs for 15820153: 1\n",
      "10488697\n",
      "1999\n",
      "Total affs for 10488697: 1\n",
      "17123567\n",
      "2007\n",
      "Total affs for 17123567: 1\n",
      "17166907\n",
      "2007\n",
      "Total affs for 17166907: 1\n",
      "17254671\n",
      "2007\n",
      "Total affs for 17254671: 1\n",
      "17291638\n",
      "2007\n",
      "Total affs for 17291638: 1\n",
      "17109345\n",
      "2006\n",
      "Total affs for 17109345: 1\n",
      "17225159\n"
     ]
    },
    {
     "name": "stdout",
     "output_type": "stream",
     "text": [
      "2007\n",
      "Total affs for 17225159: 1\n",
      "11566321\n",
      "2001\n",
      "Total affs for 11566321: 1\n",
      "12737989\n",
      "2003\n",
      "Total affs for 12737989: 1\n",
      "16879036\n",
      "2006\n",
      "Total affs for 16879036: 1\n",
      "15848276\n",
      "2005\n",
      "Total affs for 15848276: 1\n",
      "9521052\n",
      "1998\n",
      "Total affs for 9521052: 1\n",
      "7682013\n",
      "1993\n",
      "Total affs for 7682013: 1\n",
      "8642295\n",
      "1996\n",
      "Total affs for 8642295: 1\n",
      "7609055\n",
      "1995\n",
      "Total affs for 7609055: 1\n",
      "9658107\n",
      "1998\n",
      "Total affs for 9658107: 1\n",
      "10843661\n",
      "2000\n",
      "Total affs for 10843661: 1\n",
      "11428932\n",
      "2001\n",
      "Total affs for 11428932: 1\n",
      "16307312\n",
      "2005\n",
      "Total affs for 16307312: 1\n",
      "14550813\n",
      "2003\n",
      "Total affs for 14550813: 1\n",
      "12057851\n",
      "2002\n",
      "Total affs for 12057851: 1\n",
      "8393442\n",
      "1993\n",
      "Total affs for 8393442: 1\n",
      "17429413\n",
      "2007\n",
      "Total affs for 17429413: 1\n",
      "11961268\n",
      "2002\n",
      "Total affs for 11961268: 2\n",
      "8706347\n",
      "1996\n",
      "Total affs for 8706347: 1\n",
      "11591805\n",
      "2001\n",
      "Total affs for 11591805: 1\n",
      "12033779\n",
      "2002\n",
      "Total affs for 12033779: 1\n",
      "12634406\n",
      "2003\n",
      "Total affs for 12634406: 1\n",
      "17082594\n",
      "2006\n",
      "Total affs for 17082594: 1\n",
      "9820497\n",
      "1998\n",
      "Total affs for 9820497: 1\n",
      "12391232\n",
      "2002\n",
      "Total affs for 12391232: 1\n",
      "16336973\n",
      "2006\n",
      "Total affs for 16336973: 1\n",
      "17357107\n",
      "2007\n",
      "Total affs for 17357107: 1\n",
      "11395212\n",
      "2001\n",
      "Total affs for 11395212: 1\n",
      "9886375\n",
      "1999\n",
      "Total affs for 9886375: 1\n",
      "7818553\n",
      "1995\n",
      "Total affs for 7818553: 1\n",
      "11468143\n",
      "2001\n",
      "Total affs for 11468143: 1\n",
      "7531143\n",
      "1995\n",
      "Total affs for 7531143: 1\n",
      "16148129\n",
      "2005\n",
      "Total affs for 16148129: 1\n",
      "17057332\n",
      "2006\n",
      "Total affs for 17057332: 1\n",
      "12530975\n",
      "2003\n",
      "Total affs for 12530975: 1\n",
      "11035060\n",
      "2000\n",
      "Total affs for 11035060: 1\n",
      "7500030\n",
      "1995\n",
      "Total affs for 7500030: 1\n",
      "8642677\n",
      "1996\n",
      "Total affs for 8642677: 1\n",
      "10458773\n",
      "1999\n",
      "Total affs for 10458773: 1\n",
      "15935885\n",
      "2005\n",
      "Total affs for 15935885: 1\n",
      "10359113\n",
      "1999\n",
      "Total affs for 10359113: 1\n",
      "11012976\n",
      "2000\n",
      "Total affs for 11012976: 1\n",
      "10233722\n",
      "1999\n",
      "Total affs for 10233722: 1\n",
      "12972191\n",
      "2003\n",
      "Total affs for 12972191: 1\n",
      "12393434\n",
      "2003\n",
      "Total affs for 12393434: 1\n",
      "11535524\n",
      "2001\n",
      "Total affs for 11535524: 1\n",
      "10072559\n",
      "1999\n",
      "Total affs for 10072559: 1\n",
      "9846695\n",
      "1998\n",
      "Total affs for 9846695: 1\n",
      "17492596\n",
      "2007\n",
      "Total affs for 17492596: 1\n",
      "7547693\n",
      "1995\n",
      "Total affs for 7547693: 1\n",
      "15557146\n",
      "2004\n",
      "Total affs for 15557146: 1\n",
      "15307183\n",
      "2004\n",
      "Total affs for 15307183: 1\n",
      "16275762\n",
      "2005\n",
      "Total affs for 16275762: 1\n",
      "15535830\n",
      "2004;6(6):R521-34.</span>\\n\\n\n",
      "Total affs for 15535830: 1\n",
      "12110330\n",
      "2002\n",
      "Total affs for 12110330: 1\n",
      "14981767\n",
      "2004\n",
      "Total affs for 14981767: 1\n",
      "12692225\n",
      "2003\n",
      "Total affs for 12692225: 1\n",
      "17554032\n",
      "2007\n",
      "Total affs for 17554032: 3\n",
      "17142892\n",
      "2006\n",
      "Total affs for 17142892: 1\n",
      "8763995\n",
      "1996\n",
      "Total affs for 8763995: 1\n",
      "17030875\n",
      "2006\n",
      "Total affs for 17030875: 1\n",
      "17629360\n",
      "2007\n",
      "Total affs for 17629360: 1\n",
      "15802306\n",
      "2005\n",
      "Total affs for 15802306: 1\n",
      "17548627\n",
      "2007\n",
      "Total affs for 17548627: 1\n",
      "16101819\n",
      "2005\n",
      "Total affs for 16101819: 1\n",
      "12431390\n",
      "2003\n",
      "Total affs for 12431390: 1\n",
      "9144467\n",
      "1997\n",
      "Total affs for 9144467: 1\n",
      "9548478\n",
      "1997\n",
      "Total affs for 9548478: 1\n",
      "17565177\n",
      "2007\n",
      "Total affs for 17565177: 1\n",
      "7538538\n",
      "1995\n",
      "Total affs for 7538538: 1\n",
      "18097044\n",
      "2008\n",
      "Total affs for 18097044: 1\n",
      "18234055\n",
      "2008\n",
      "Total affs for 18234055: 1\n",
      "17900990\n",
      "2007\n",
      "Total affs for 17900990: 1\n",
      "15849183\n",
      "2005\n",
      "Total affs for 15849183: 1\n",
      "18299564\n",
      "2008\n",
      "Total affs for 18299564: 1\n",
      "18248530\n",
      "2008\n",
      "Total affs for 18248530: 1\n",
      "17981331\n",
      "2008\n",
      "Total affs for 17981331: 1\n",
      "17929331\n",
      "2008\n",
      "Total affs for 17929331: 1\n",
      "18212086\n",
      "2008\n",
      "Total affs for 18212086: 1\n",
      "9636190\n",
      "1998\n",
      "Total affs for 9636190: 1\n",
      "11514722\n",
      "2001\n",
      "Total affs for 11514722: 2\n",
      "11400172\n",
      "2001\n",
      "Total affs for 11400172: 1\n",
      "9295031\n",
      "1997\n",
      "Total affs for 9295031: 1\n",
      "7791441\n",
      "1995\n",
      "Total affs for 7791441: 1\n",
      "18402997\n",
      "2008\n",
      "Total affs for 18402997: 1\n",
      "18540051\n",
      "2008\n",
      "Total affs for 18540051: 1\n",
      "9751018\n",
      "1998\n",
      "Total affs for 9751018: 1\n",
      "17934211\n",
      "2008\n",
      "Total affs for 17934211: 1\n",
      "8643447\n",
      "1996\n",
      "Total affs for 8643447: 1\n",
      "15564450\n",
      "2004\n",
      "Total affs for 15564450: 1\n",
      "15982792\n",
      "2005\n",
      "Total affs for 15982792: 1\n",
      "17892322\n",
      "2007\n",
      "Total affs for 17892322: 1\n",
      "10404429\n",
      "1999\n",
      "Total affs for 10404429: 1\n",
      "12538674\n",
      "2003\n",
      "Total affs for 12538674: 1\n",
      "17096832\n",
      "2006\n",
      "Total affs for 17096832: 1\n",
      "17942551\n",
      "2008\n",
      "Total affs for 17942551: 1\n",
      "7520476\n",
      "1994\n",
      "Total affs for 7520476: 1\n",
      "18753217\n",
      "2008\n",
      "Total affs for 18753217: 3\n",
      "18270323\n",
      "2008\n",
      "Total affs for 18270323: 1\n",
      "18797815\n",
      "2008;153(10):1833-44.</span>\\n\\n\n",
      "Total affs for 18797815: 1\n",
      "18794202\n",
      "2008\n",
      "Total affs for 18794202: 1\n",
      "18546263\n",
      "2008\n",
      "Total affs for 18546263: 1\n",
      "10760807\n",
      "2000\n",
      "Total affs for 10760807: 1\n",
      "18275829\n",
      "2008\n",
      "Total affs for 18275829: 1\n",
      "10518571\n",
      "1999\n",
      "Total affs for 10518571: 1\n",
      "7527444\n",
      "1994\n",
      "Total affs for 7527444: 1\n",
      "9710228\n",
      "1998\n",
      "Total affs for 9710228: 1\n",
      "11391001\n",
      "2001\n",
      "Total affs for 11391001: 1\n",
      "9878435\n",
      "1999\n",
      "Total affs for 9878435: 1\n",
      "17259989\n",
      "2007\n",
      "Total affs for 17259989: 1\n",
      "8574469\n",
      "1995\n",
      "Total affs for 8574469: 1\n",
      "7506574\n",
      "1993\n",
      "Total affs for 7506574: 1\n",
      "15537660\n",
      "2005\n",
      "Total affs for 15537660: 1\n",
      "16962135\n",
      "2006\n",
      "Total affs for 16962135: 1\n",
      "10429675\n",
      "1999\n",
      "Total affs for 10429675: 1\n",
      "14555655\n",
      "2004\n",
      "Total affs for 14555655: 1\n",
      "18582999\n",
      "2008\n",
      "Total affs for 18582999: 1\n",
      "15226359\n",
      "2004\n",
      "Total affs for 15226359: 1\n",
      "19139173\n",
      "2009\n",
      "Total affs for 19139173: 1\n",
      "16197958\n",
      "2005\n",
      "Total affs for 16197958: 1\n",
      "11502003\n",
      "2001\n",
      "Total affs for 11502003: 1\n",
      "17109469\n",
      "2006\n",
      "Total affs for 17109469: 1\n",
      "16221670\n",
      "2006\n",
      "Total affs for 16221670: 1\n",
      "15814707\n",
      "2005\n",
      "Total affs for 15814707: 1\n",
      "10843695\n",
      "2000\n",
      "Total affs for 10843695: 1\n",
      "11287414\n",
      "2001\n",
      "Total affs for 11287414: 1\n",
      "10593938\n",
      "1999\n",
      "Total affs for 10593938: 1\n",
      "11584024\n",
      "2001\n",
      "Total affs for 11584024: 1\n",
      "12244049\n",
      "2002\n",
      "Total affs for 12244049: 1\n",
      "1525820\n",
      "1992\n",
      "Total affs for 1525820: 1\n",
      "8671682\n",
      "1996\n",
      "Total affs for 8671682: 1\n",
      "7935798\n",
      "1994\n",
      "Total affs for 7935798: 1\n",
      "10626735\n",
      "1999\n",
      "Total affs for 10626735: 1\n",
      "16963442\n",
      "2006\n",
      "Total affs for 16963442: 1\n",
      "15128805\n",
      "2004\n",
      "Total affs for 15128805: 1\n",
      "17719062\n",
      "2007\n",
      "Total affs for 17719062: 1\n",
      "7862664\n",
      "1995\n",
      "Total affs for 7862664: 1\n",
      "18846233\n",
      "2008;2(9):e288.</span>\\n\\n\n",
      "Total affs for 18846233: 1\n",
      "11544315\n",
      "2001\n",
      "Total affs for 11544315: 1\n",
      "19356612\n",
      "2009\n",
      "Total affs for 19356612: 1\n",
      "19122146\n",
      "2009\n",
      "Total affs for 19122146: 1\n",
      "18842709\n",
      "2008\n",
      "Total affs for 18842709: 1\n",
      "12805439\n",
      "2003\n",
      "Total affs for 12805439: 1\n",
      "15713487\n",
      "2005\n",
      "Total affs for 15713487: 1\n",
      "12939341\n",
      "2003\n",
      "Total affs for 12939341: 1\n",
      "18549801\n",
      "2008\n",
      "Total affs for 18549801: 1\n",
      "16323248\n",
      "2006\n",
      "Total affs for 16323248: 1\n",
      "14578281\n",
      "2003\n",
      "Total affs for 14578281: 1\n",
      "8941327\n",
      "1996\n",
      "Total affs for 8941327: 1\n",
      "17065344\n",
      "2006\n",
      "Total affs for 17065344: 1\n",
      "17130554\n",
      "2006\n",
      "Total affs for 17130554: 1\n",
      "19139562\n",
      "2009\n",
      "Total affs for 19139562: 1\n",
      "19243853\n",
      "2009\n",
      "Total affs for 19243853: 1\n",
      "18941234\n",
      "2008\n",
      "Total affs for 18941234: 1\n",
      "18802479\n",
      "2008\n",
      "Total affs for 18802479: 1\n",
      "16339897\n",
      "2005\n",
      "Total affs for 16339897: 1\n",
      "17513797\n",
      "2007\n",
      "Total affs for 17513797: 1\n",
      "15983206\n",
      "2005\n",
      "Total affs for 15983206: 1\n",
      "14617048\n",
      "2003\n",
      "Total affs for 14617048: 1\n",
      "16493087\n",
      "2006\n",
      "Total affs for 16493087: 1\n",
      "18358785\n",
      "2008\n",
      "Total affs for 18358785: 1\n",
      "16030147\n",
      "2005\n",
      "Total affs for 16030147: 1\n",
      "18397768\n",
      "2008\n",
      "Total affs for 18397768: 1\n",
      "15751060\n",
      "2005\n",
      "Total affs for 15751060: 1\n",
      "17273751\n",
      "2007\n",
      "Total affs for 17273751: 1\n",
      "10880047\n",
      "2000\n",
      "Total affs for 10880047: 1\n",
      "8026527\n",
      "1994\n",
      "Total affs for 8026527: 1\n",
      "14712489\n",
      "2004\n",
      "Total affs for 14712489: 1\n",
      "9684994\n",
      "1998\n",
      "Total affs for 9684994: 1\n",
      "18650441\n",
      "2008\n",
      "Total affs for 18650441: 1\n",
      "19435415\n",
      "2009\n",
      "Total affs for 19435415: 1\n",
      "19490987\n",
      "2009\n",
      "Total affs for 19490987: 1\n",
      "18187239\n",
      "2008\n",
      "Total affs for 18187239: 1\n",
      "19206147\n",
      "2009\n",
      "Total affs for 19206147: 1\n",
      "10940919\n",
      "2000\n",
      "Total affs for 10940919: 1\n",
      "16425257\n",
      "2006\n",
      "Total affs for 16425257: 1\n",
      "15609316\n",
      "2005\n",
      "Total affs for 15609316: 1\n",
      "10709786\n",
      "2000\n",
      "Total affs for 10709786: 1\n",
      "11418310\n",
      "2001\n",
      "Total affs for 11418310: 1\n",
      "7805746\n",
      "1994\n",
      "Total affs for 7805746: 1\n",
      "12960314\n",
      "2003\n",
      "Total affs for 12960314: 1\n",
      "9660068\n",
      "1998\n",
      "Total affs for 9660068: 1\n",
      "9349483\n",
      "1997\n",
      "Total affs for 9349483: 1\n",
      "17096336\n",
      "2007\n",
      "Total affs for 17096336: 1\n",
      "10229097\n",
      "1999\n",
      "Total affs for 10229097: 1\n",
      "17439726\n",
      "2007\n",
      "Total affs for 17439726: 1\n",
      "17202211\n",
      "2007\n",
      "Total affs for 17202211: 1\n",
      "11300474\n",
      "2001\n",
      "Total affs for 11300474: 1\n",
      "16353149\n",
      "2006\n",
      "Total affs for 16353149: 1\n",
      "7511661\n",
      "1994\n",
      "Total affs for 7511661: 1\n",
      "10369123\n",
      "1999\n",
      "Total affs for 10369123: 1\n",
      "7506573\n",
      "1993\n",
      "Total affs for 7506573: 1\n",
      "18941228\n",
      "2008\n",
      "Total affs for 18941228: 1\n",
      "7558923\n",
      "1995\n",
      "Total affs for 7558923: 1\n",
      "12692247\n",
      "2003\n",
      "Total affs for 12692247: 1\n",
      "16339578\n",
      "2005\n",
      "Total affs for 16339578: 1\n",
      "17192185\n",
      "2006\n",
      "Total affs for 17192185: 1\n",
      "9237101\n",
      "1997\n",
      "Total affs for 9237101: 1\n",
      "18674755\n",
      "2008;254(1):28-38.</span>\\n\\n\n",
      "Total affs for 18674755: 1\n",
      "9288625\n",
      "1997\n",
      "Total affs for 9288625: 1\n",
      "19443418\n"
     ]
    },
    {
     "name": "stdout",
     "output_type": "stream",
     "text": [
      "2009\n",
      "Total affs for 19443418: 1\n",
      "19542454\n",
      "2009\n",
      "Total affs for 19542454: 1\n",
      "19553306\n",
      "2009\n",
      "Total affs for 19553306: 1\n",
      "19475615\n",
      "2009\n",
      "Total affs for 19475615: 1\n",
      "19011169\n",
      "2009\n",
      "Total affs for 19011169: 1\n",
      "19446588\n",
      "2009\n",
      "Total affs for 19446588: 1\n",
      "7526383\n",
      "1994\n",
      "Total affs for 7526383: 1\n",
      "17065343\n",
      "2006\n",
      "Total affs for 17065343: 1\n",
      "9366420\n",
      "1997\n",
      "Total affs for 9366420: 1\n",
      "7522167\n",
      "1994\n",
      "Total affs for 7522167: 1\n",
      "17911594\n",
      "2007\n",
      "Total affs for 17911594: 1\n",
      "9058754\n",
      "1997\n",
      "Total affs for 9058754: 1\n",
      "19531498\n",
      "2009\n",
      "Total affs for 19531498: 1\n",
      "19801502\n",
      "2010\n",
      "Total affs for 19801502: 1\n",
      "19920890\n",
      "2009\n",
      "Total affs for 19920890: 1\n",
      "19958537\n",
      "2009\n",
      "Total affs for 19958537: 1\n",
      "19822231\n",
      "2009\n",
      "Total affs for 19822231: 1\n",
      "19843089\n",
      "2010\n",
      "Total affs for 19843089: 1\n",
      "20081153\n",
      "2010\n",
      "Total affs for 20081153: 1\n",
      "20019801\n",
      "2009\n",
      "Total affs for 20019801: 1\n",
      "12122005\n",
      "2002\n",
      "Total affs for 12122005: 1\n",
      "8666548\n",
      "1995\n",
      "Total affs for 8666548: 1\n",
      "12297839\n",
      "2002\n",
      "Total affs for 12297839: 1\n",
      "17559153\n",
      "2007\n",
      "Total affs for 17559153: 1\n",
      "9382929\n",
      "1997;47(1):103-5.</span>\\n\\n\n",
      "Total affs for 9382929: 1\n",
      "17620420\n",
      "2007\n",
      "Total affs for 17620420: 1\n",
      "8622959\n",
      "1996\n",
      "Total affs for 8622959: 1\n",
      "20064447\n",
      "2009\n",
      "Total affs for 20064447: 1\n",
      "18708671\n",
      "2008\n",
      "Total affs for 18708671: 1\n",
      "19955560\n",
      "2010\n",
      "Total affs for 19955560: 1\n",
      "20136618\n",
      "2010\n",
      "Total affs for 20136618: 1\n",
      "19748539\n",
      "2010\n",
      "Total affs for 19748539: 1\n",
      "7743653\n",
      "1995\n",
      "Total affs for 7743653: 1\n",
      "12947009\n",
      "2003\n",
      "Total affs for 12947009: 1\n",
      "14616798\n",
      "2003\n",
      "Total affs for 14616798: 1\n",
      "12507814\n",
      "2003\n",
      "Total affs for 12507814: 1\n",
      "12907150\n",
      "2003\n",
      "Total affs for 12907150: 1\n",
      "8906788\n",
      "1996\n",
      "Total affs for 8906788: 1\n",
      "9892618\n",
      "1999\n",
      "Total affs for 9892618: 1\n",
      "9103427\n",
      "1997\n",
      "Total affs for 9103427: 1\n",
      "19541644\n",
      "2009\n",
      "Total affs for 19541644: 1\n",
      "19950243\n",
      "2010\n",
      "Total affs for 19950243: 1\n",
      "19234124\n",
      "2009\n",
      "Total affs for 19234124: 1\n",
      "20064448\n",
      "2009\n",
      "Total affs for 20064448: 1\n",
      "20123035\n",
      "2010\n",
      "Total affs for 20123035: 1\n",
      "20166182\n",
      "2010\n",
      "Total affs for 20166182: 1\n",
      "19617632\n",
      "2009\n",
      "Total affs for 19617632: 1\n",
      "17644531\n",
      "2007\n",
      "Total affs for 17644531: 1\n",
      "10435578\n",
      "1999\n",
      "Total affs for 10435578: 1\n",
      "9586631\n",
      "1998\n",
      "Total affs for 9586631: 1\n",
      "14563323\n",
      "2003\n",
      "Total affs for 14563323: 1\n",
      "20332046\n",
      "2010\n",
      "Total affs for 20332046: 1\n",
      "19167249\n",
      "2009\n",
      "Total affs for 19167249: 1\n",
      "16186824\n",
      "2005\n",
      "Total affs for 16186824: 1\n",
      "16600963\n",
      "2006\n",
      "Total affs for 16600963: 1\n",
      "17825839\n",
      "2007\n",
      "Total affs for 17825839: 1\n",
      "15837811\n",
      "2005\n",
      "Total affs for 15837811: 1\n",
      "20419832\n",
      "2010\n",
      "Total affs for 20419832: 1\n",
      "19342659\n",
      "2009\n",
      "Total affs for 19342659: 1\n",
      "20705101\n",
      "2010\n",
      "Total affs for 20705101: 1\n",
      "10850706\n",
      "2000\n",
      "Total affs for 10850706: 1\n",
      "11323700\n",
      "2001\n",
      "Total affs for 11323700: 1\n",
      "12897781\n",
      "2003\n",
      "Total affs for 12897781: 1\n",
      "9862341\n",
      "1998\n",
      "Total affs for 9862341: 1\n",
      "9190931\n",
      "1997\n",
      "Total affs for 9190931: 1\n",
      "20668141\n",
      "2010\n",
      "Total affs for 20668141: 1\n",
      "10605027\n",
      "2000\n",
      "Total affs for 10605027: 1\n",
      "7667640\n",
      "1995\n",
      "Total affs for 7667640: 1\n",
      "7505078\n",
      "1993\n",
      "Total affs for 7505078: 1\n",
      "10638834\n",
      "1999\n",
      "Total affs for 10638834: 1\n",
      "10570294\n",
      "1999\n",
      "Total affs for 10570294: 1\n",
      "8301123\n",
      "1994\n",
      "Total affs for 8301123: 1\n",
      "15239626\n",
      "2004\n",
      "Total affs for 15239626: 1\n",
      "9886366\n",
      "1999\n",
      "Total affs for 9886366: 1\n",
      "17530010\n",
      "2007\n",
      "Total affs for 17530010: 1\n",
      "11342555\n",
      "2001\n",
      "Total affs for 11342555: 1\n",
      "20668086\n",
      "2010\n",
      "Total affs for 20668086: 1\n",
      "17496542\n",
      "2007\n",
      "Total affs for 17496542: 1\n",
      "16822283\n",
      "2006\n",
      "Total affs for 16822283: 1\n",
      "15239629\n",
      "2004\n",
      "Total affs for 15239629: 1\n",
      "16960008\n",
      "2006\n",
      "Total affs for 16960008: 1\n",
      "18698046\n",
      "2008\n",
      "Total affs for 18698046: 1\n",
      "20483993\n",
      "2010\n",
      "Total affs for 20483993: 1\n",
      "20615877\n",
      "2010\n",
      "Total affs for 20615877: 1\n",
      "16391015\n",
      "2006\n",
      "Total affs for 16391015: 1\n",
      "20844028\n",
      "2010\n",
      "Total affs for 20844028: 1\n",
      "21095258\n",
      "2011\n",
      "Total affs for 21095258: 1\n",
      "20722762\n",
      "2010\n",
      "Total affs for 20722762: 1\n",
      "11358432\n",
      "2001\n",
      "Total affs for 11358432: 1\n",
      "20831383\n",
      "2010\n",
      "Total affs for 20831383: 1\n",
      "9461441\n",
      "1998\n",
      "Total affs for 9461441: 1\n",
      "7539551\n",
      "1995\n",
      "Total affs for 7539551: 1\n",
      "21129215\n",
      "2010\n",
      "Total affs for 21129215: 1\n",
      "9029102\n",
      "1997\n",
      "Total affs for 9029102: 1\n",
      "10586024\n",
      "1999\n",
      "Total affs for 10586024: 1\n",
      "21169544\n",
      "2011\n",
      "Total affs for 21169544: 1\n",
      "17517179\n",
      "2007\n",
      "Total affs for 17517179: 1\n",
      "9075928\n",
      "1997\n",
      "Total affs for 9075928: 1\n",
      "21084459\n",
      "2011\n",
      "Total affs for 21084459: 1\n",
      "11148223\n",
      "2001\n",
      "Total affs for 11148223: 1\n",
      "12355426\n",
      "2002\n",
      "Total affs for 12355426: 1\n",
      "12218130\n",
      "2002\n",
      "Total affs for 12218130: 1\n",
      "9798702\n",
      "1998\n",
      "Total affs for 9798702: 1\n",
      "9820524\n",
      "1998\n",
      "Total affs for 9820524: 1\n",
      "11807003\n",
      "2002\n",
      "Total affs for 11807003: 1\n",
      "21094528\n",
      "2011\n",
      "Total affs for 21094528: 1\n",
      "21056495\n",
      "2011\n",
      "Total affs for 21056495: 1\n",
      "21294723\n",
      "2011\n",
      "Total affs for 21294723: 1\n",
      "20719985\n",
      "2010\n",
      "Total affs for 20719985: 1\n",
      "11207252\n",
      "2001\n",
      "Total affs for 11207252: 1\n",
      "11067925\n",
      "2000\n",
      "Total affs for 11067925: 1\n",
      "20934997\n",
      "2011\n",
      "Total affs for 20934997: 1\n",
      "21209280\n",
      "2011\n",
      "Total affs for 21209280: 1\n",
      "20156506\n",
      "2010\n",
      "Total affs for 20156506: 1\n",
      "9712350\n",
      "1998\n",
      "Total affs for 9712350: 1\n",
      "20616031\n",
      "2010\n",
      "Total affs for 20616031: 1\n",
      "15843558\n",
      "2005\n",
      "Total affs for 15843558: 1\n",
      "21543847\n",
      "2011\n",
      "Total affs for 21543847: 1\n",
      "20002212\n",
      "2010\n",
      "Total affs for 20002212: 1\n",
      "20975736\n",
      "2011\n",
      "Total affs for 20975736: 1\n",
      "21668362\n",
      "2011\n",
      "Total affs for 21668362: 1\n",
      "20856867\n",
      "2010\n",
      "Total affs for 20856867: 1\n",
      "21538979\n",
      "2011\n",
      "Total affs for 21538979: 1\n",
      "21503915\n",
      "2011\n",
      "Total affs for 21503915: 1\n",
      "19559119\n",
      "2009\n",
      "Total affs for 19559119: 1\n",
      "21618548\n",
      "2011\n",
      "Total affs for 21618548: 1\n",
      "20347630\n",
      "2010\n",
      "Total affs for 20347630: 1\n",
      "21705623\n",
      "2011\n",
      "Total affs for 21705623: 1\n",
      "11035120\n",
      "2000\n",
      "Total affs for 11035120: 1\n",
      "19655750\n",
      "2009\n",
      "Total affs for 19655750: 1\n",
      "21282516\n",
      "2011\n",
      "Total affs for 21282516: 1\n",
      "15069689\n",
      "2004\n",
      "Total affs for 15069689: 1\n",
      "20635156\n",
      "2010\n",
      "Total affs for 20635156: 1\n",
      "8557329\n",
      "1996\n",
      "Total affs for 8557329: 1\n",
      "21810614\n",
      "2011\n",
      "Total affs for 21810614: 1\n",
      "21756938\n",
      "2011\n",
      "Total affs for 21756938: 1\n",
      "21124993\n",
      "2010\n",
      "Total affs for 21124993: 1\n",
      "21850230\n",
      "2011;6(8):e22523.</span>\\n\\n\n",
      "Total affs for 21850230: 1\n",
      "20619457\n",
      "2010\n",
      "Total affs for 20619457: 1\n",
      "19196958\n",
      "2009\n",
      "Total affs for 19196958: 1\n",
      "1379681\n",
      "1992\n",
      "Total affs for 1379681: 1\n",
      "7504010\n",
      "1993\n",
      "Total affs for 7504010: 1\n",
      "18836451\n",
      "2008\n",
      "Total affs for 18836451: 1\n",
      "21949735\n",
      "2011;6(9):e24626.</span>\\n\\n\n",
      "Total affs for 21949735: 1\n",
      "21728172\n",
      "2011\n",
      "Total affs for 21728172: 1\n",
      "20053942\n",
      "2010\n",
      "Total affs for 20053942: 7\n",
      "19177349\n",
      "2009\n",
      "Total affs for 19177349: 1\n",
      "21704723\n",
      "2011\n",
      "Total affs for 21704723: 1\n",
      "19734234\n",
      "2009\n",
      "Total affs for 19734234: 1\n",
      "22006856\n",
      "2011\n",
      "Total affs for 22006856: 1\n",
      "16185891\n",
      "2005\n",
      "Total affs for 16185891: 1\n",
      "21980478\n",
      "2011;6(9):e25500.</span>\\n\\n\n",
      "Total affs for 21980478: 1\n",
      "1607654\n",
      "1992\n",
      "Total affs for 1607654: 1\n",
      "21998398\n",
      "2011\n",
      "Total affs for 21998398: 1\n",
      "21854782\n",
      "2011\n",
      "Total affs for 21854782: 1\n",
      "19605354\n",
      "2009\n",
      "Total affs for 19605354: 1\n",
      "22030472\n",
      "2011;272(1):11-7.</span>\\n\\n\n",
      "Total affs for 22030472: 1\n",
      "21636247\n",
      "2011\n",
      "Total affs for 21636247: 1\n",
      "21972290\n",
      "2011\n",
      "Total affs for 21972290: 1\n",
      "22235280\n",
      "2012;7(1):e29286.</span>\\n\\n\n",
      "Total affs for 22235280: 1\n",
      "22027386\n",
      "2012\n",
      "Total affs for 22027386: 1\n",
      "22246683\n",
      "2012\n",
      "Total affs for 22246683: 1\n",
      "22306902\n",
      "2012\n",
      "Total affs for 22306902: 1\n",
      "20806940\n",
      "2010\n",
      "Total affs for 20806940: 1\n",
      "22140258\n",
      "2012\n",
      "Total affs for 22140258: 1\n",
      "22323539\n",
      "2012\n",
      "Total affs for 22323539: 1\n",
      "22245737\n",
      "2012\n",
      "Total affs for 22245737: 1\n",
      "22298881\n",
      "2012\n",
      "Total affs for 22298881: 1\n",
      "22160697\n",
      "2011\n",
      "Total affs for 22160697: 1\n",
      "22032938\n",
      "2012\n",
      "Total affs for 22032938: 1\n",
      "22008818\n",
      "2012\n",
      "Total affs for 22008818: 1\n",
      "22480777\n",
      "2012\n",
      "Total affs for 22480777: 1\n",
      "22031944\n",
      "2012\n",
      "Total affs for 22031944: 1\n",
      "22039500\n",
      "2011;6(10):e26494.</span>\\n\\n\n",
      "Total affs for 22039500: 1\n",
      "22617051\n",
      "2012\n",
      "Total affs for 22617051: 1\n",
      "19655751\n",
      "2009\n",
      "Total affs for 19655751: 1\n",
      "22750229\n",
      "2012\n",
      "Total affs for 22750229: 1\n",
      "22526607\n",
      "2012\n",
      "Total affs for 22526607: 1\n",
      "22267603\n",
      "2012\n",
      "Total affs for 22267603: 1\n",
      "22819798\n",
      "2012\n",
      "Total affs for 22819798: 1\n",
      "22537173\n",
      "2012\n",
      "Total affs for 22537173: 1\n",
      "22722860\n",
      "2012\n",
      "Total affs for 22722860: 1\n",
      "22522618\n",
      "2012\n",
      "Total affs for 22522618: 1\n",
      "22943201\n",
      "2012\n",
      "Total affs for 22943201: 1\n",
      "22508927\n",
      "2012\n",
      "Total affs for 22508927: 1\n",
      "22952231\n",
      "2012\n",
      "Total affs for 22952231: 1\n",
      "22592266\n",
      "2012\n",
      "Total affs for 22592266: 4\n",
      "20886101\n",
      "2010\n",
      "Total affs for 20886101: 1\n",
      "22645359\n",
      "2012\n",
      "Total affs for 22645359: 1\n",
      "22539795\n",
      "2012\n",
      "Total affs for 22539795: 1\n",
      "23015716\n",
      "2012\n",
      "Total affs for 23015716: 1\n",
      "22979950\n",
      "2012\n",
      "Total affs for 22979950: 1\n",
      "21280120\n",
      "2011\n",
      "Total affs for 21280120: 1\n",
      "22927436\n",
      "2012\n",
      "Total affs for 22927436: 5\n",
      "21872626\n",
      "2011\n",
      "Total affs for 21872626: 1\n",
      "23042604\n",
      "2012\n",
      "Total affs for 23042604: 1\n",
      "23155466\n",
      "2012;7(11):e49213.</span>\\n\\n\n",
      "Total affs for 23155466: 1\n",
      "23144892\n"
     ]
    },
    {
     "name": "stdout",
     "output_type": "stream",
     "text": [
      "2012;7(11):e48484.</span>\\n\\n\n",
      "Total affs for 23144892: 1\n",
      "22536994\n",
      "2012\n",
      "Total affs for 22536994: 1\n",
      "9177355\n",
      "1997\n",
      "Total affs for 9177355: 1\n",
      "8624811\n",
      "1996\n",
      "Total affs for 8624811: 1\n",
      "23161907\n",
      "2012\n",
      "Total affs for 23161907: 1\n",
      "22936177\n",
      "2013\n",
      "Total affs for 22936177: 1\n",
      "23255554\n",
      "2013\n",
      "Total affs for 23255554: 1\n",
      "23121866\n",
      "2012\n",
      "Total affs for 23121866: 1\n",
      "22020283\n",
      "2011\n",
      "Total affs for 22020283: 1\n",
      "15583017\n",
      "2004\n",
      "Total affs for 15583017: 1\n",
      "23236061\n",
      "2013\n",
      "Total affs for 23236061: 1\n",
      "10975842\n",
      "2000\n",
      "Total affs for 10975842: 1\n",
      "23246542\n",
      "2013\n",
      "Total affs for 23246542: 1\n",
      "19698083\n",
      "2009\n",
      "Total affs for 19698083: 1\n",
      "23521884\n",
      "2013\n",
      "Total affs for 23521884: 1\n",
      "22019736\n",
      "2011\n",
      "Total affs for 22019736: 1\n",
      "23527138\n",
      "2013;8(3):e59210.</span>\\n\\n\n",
      "Total affs for 23527138: 1\n",
      "10601290\n",
      "1999\n",
      "Total affs for 10601290: 1\n",
      "8976183\n",
      "1996\n",
      "Total affs for 8976183: 1\n",
      "23430249\n",
      "2013\n",
      "Total affs for 23430249: 1\n",
      "23566939\n",
      "2013\n",
      "Total affs for 23566939: 1\n",
      "23569211\n",
      "2013\n",
      "Total affs for 23569211: 1\n",
      "23698002\n",
      "2013\n",
      "Total affs for 23698002: 1\n",
      "23678186\n",
      "2013\n",
      "Total affs for 23678186: 1\n",
      "23543059\n",
      "2013\n",
      "Total affs for 23543059: 1\n",
      "23762485\n",
      "2013\n",
      "Total affs for 23762485: 1\n",
      "16951352\n",
      "2006\n",
      "Total affs for 16951352: 1\n",
      "23749632\n",
      "2013\n",
      "Total affs for 23749632: 1\n",
      "23805144\n",
      "2013\n",
      "Total affs for 23805144: 1\n",
      "23776170\n",
      "2013\n",
      "Total affs for 23776170: 1\n",
      "1448153\n",
      "1992\n",
      "Total affs for 1448153: 1\n",
      "16702212\n",
      "2006\n",
      "Total affs for 16702212: 1\n",
      "16388312\n",
      "2006\n",
      "Total affs for 16388312: 1\n",
      "16081817\n",
      "2005\n",
      "Total affs for 16081817: 1\n",
      "23748502\n",
      "2013\n",
      "Total affs for 23748502: 1\n",
      "23867464\n",
      "2013\n",
      "Total affs for 23867464: 3\n",
      "23555576\n",
      "2013;8(3):e58309.</span>\\n\\n\n",
      "Total affs for 23555576: 1\n",
      "19412183\n",
      "2009\n",
      "Total affs for 19412183: 1\n",
      "23911395\n",
      "2013\n",
      "Total affs for 23911395: 1\n",
      "23280567\n",
      "2013\n",
      "Total affs for 23280567: 1\n",
      "24058176\n",
      "2013\n",
      "Total affs for 24058176: 1\n",
      "24130917\n",
      "2013\n",
      "Total affs for 24130917: 1\n",
      "24101547\n",
      "2013\n",
      "Total affs for 24101547: 1\n",
      "24192765\n",
      "2013\n",
      "Total affs for 24192765: 1\n",
      "24196962\n",
      "2014\n",
      "Total affs for 24196962: 1\n",
      "23978718\n",
      "2014\n",
      "Total affs for 23978718: 12\n",
      "22544926\n",
      "2012\n",
      "Total affs for 22544926: 1\n",
      "20375220\n",
      "2010\n",
      "Total affs for 20375220: 3\n",
      "23475216\n",
      "2013\n",
      "Total affs for 23475216: 1\n",
      "24338476\n",
      "2014\n",
      "Total affs for 24338476: 1\n",
      "17697703\n",
      "2007\n",
      "Total affs for 17697703: 1\n",
      "16115862\n",
      "2005\n",
      "Total affs for 16115862: 1\n",
      "24509977\n",
      "2014\n",
      "Total affs for 24509977: 8\n",
      "10958351\n",
      "2000\n",
      "Total affs for 10958351: 1\n",
      "10501844\n",
      "1999\n",
      "Total affs for 10501844: 1\n",
      "24366607\n",
      "2014\n",
      "Total affs for 24366607: 1\n",
      "24352655\n",
      "2014\n",
      "Total affs for 24352655: 1\n",
      "21900169\n",
      "2011\n",
      "Total affs for 21900169: 1\n",
      "24397554\n",
      "2014\n",
      "Total affs for 24397554: 1\n",
      "24395804\n",
      "2014\n",
      "Total affs for 24395804: 1\n",
      "24550293\n",
      "2014\n",
      "Total affs for 24550293: 1\n",
      "22009320\n",
      "2012\n",
      "Total affs for 22009320: 1\n",
      "15944288\n",
      "2005\n",
      "Total affs for 15944288: 1\n",
      "20212169\n",
      "2010\n",
      "Total affs for 20212169: 1\n",
      "20566715\n",
      "2010\n",
      "Total affs for 20566715: 1\n",
      "24709642\n",
      "2013\n",
      "Total affs for 24709642: 10\n",
      "24714562\n",
      "2014\n",
      "Total affs for 24714562: 7\n",
      "18301755\n",
      "2008\n",
      "Total affs for 18301755: 1\n",
      "24733843\n",
      "2014\n",
      "Total affs for 24733843: 1\n",
      "24721533\n",
      "2014\n",
      "Total affs for 24721533: 4\n",
      "24659387\n",
      "2014\n",
      "Total affs for 24659387: 0\n",
      "24582729\n",
      "2014\n",
      "Total affs for 24582729: 3\n",
      "24600035\n",
      "2014\n",
      "Total affs for 24600035: 1\n",
      "24563253\n",
      "2014\n",
      "Total affs for 24563253: 1\n",
      "24813999\n",
      "2014\n",
      "Total affs for 24813999: 4\n",
      "8258157\n",
      "1993\n",
      "Total affs for 8258157: 1\n",
      "24675761\n",
      "2014\n",
      "Total affs for 24675761: 8\n",
      "24886641\n",
      "2014\n",
      "Total affs for 24886641: 1\n",
      "24759101\n",
      "2014\n",
      "Total affs for 24759101: 5\n",
      "11929585\n",
      "2001\n",
      "Total affs for 11929585: 1\n",
      "24971174\n",
      "2014;2014:860562.</span>\\n\\n\n",
      "Total affs for 24971174: 3\n",
      "24694533\n",
      "2014\n",
      "Total affs for 24694533: 7\n",
      "24760079\n",
      "2014\n",
      "Total affs for 24760079: 6\n",
      "24829406\n",
      "2014\n",
      "Total affs for 24829406: 5\n",
      "24990997\n",
      "2014\n",
      "Total affs for 24990997: 4\n",
      "8946687\n",
      "1996\n",
      "Total affs for 8946687: 1\n",
      "9027961\n",
      "1997\n",
      "Total affs for 9027961: 1\n",
      "25102056\n",
      "2014\n",
      "Total affs for 25102056: 2\n",
      "24550723\n",
      "2014\n",
      "Total affs for 24550723: 4\n",
      "21795600\n",
      "2011\n",
      "Total affs for 21795600: 1\n",
      "25008925\n",
      "2014\n",
      "Total affs for 25008925: 6\n",
      "20707881\n",
      "2010\n",
      "Total affs for 20707881: 1\n",
      "25268942\n",
      "2014\n",
      "Total affs for 25268942: 2\n",
      "11929586\n",
      "2001\n",
      "Total affs for 11929586: 1\n",
      "12220628\n",
      "2002\n",
      "Total affs for 12220628: 1\n",
      "15113691\n",
      "2004\n",
      "Total affs for 15113691: 1\n",
      "8813735\n",
      "1996\n",
      "Total affs for 8813735: 1\n",
      "9089095\n",
      "1997;45(6):379-85.</span>\\n\\n\n",
      "Total affs for 9089095: 1\n",
      "25311806\n",
      "2014\n",
      "Total affs for 25311806: 7\n",
      "25355921\n",
      "2014\n",
      "Total affs for 25355921: 9\n",
      "1922338\n",
      "1991\n",
      "Total affs for 1922338: 1\n",
      "16112985\n",
      "2005\n",
      "Total affs for 16112985: 1\n",
      "15275975\n",
      "2004\n",
      "Total affs for 15275975: 1\n",
      "24258832\n",
      "2014\n",
      "Total affs for 24258832: 1\n",
      "22737070\n",
      "2012;8(6):e1002759.</span>\\n\\n\n",
      "Total affs for 22737070: 1\n",
      "15104674\n",
      "2004\n",
      "Total affs for 15104674: 1\n",
      "8760827\n",
      "1996\n",
      "Total affs for 8760827: 1\n",
      "21918184\n",
      "2011\n",
      "Total affs for 21918184: 1\n",
      "25471691\n",
      "2015\n",
      "Total affs for 25471691: 1\n",
      "25470744\n",
      "2014\n",
      "Total affs for 25470744: 13\n",
      "25452463\n",
      "2014\n",
      "Total affs for 25452463: 10\n",
      "25480565\n",
      "2015\n",
      "Total affs for 25480565: 6\n",
      "25548167\n",
      "2015\n",
      "Total affs for 25548167: 7\n",
      "25112375\n",
      "2015\n",
      "Total affs for 25112375: 1\n",
      "23646949\n",
      "2013\n",
      "Total affs for 23646949: 1\n",
      "8370082\n",
      "1993\n",
      "Total affs for 8370082: 1\n",
      "25505266\n",
      "2015\n",
      "Total affs for 25505266: 6\n",
      "25392532\n",
      "2014\n",
      "Total affs for 25392532: 4\n",
      "11120772\n",
      "2000\n",
      "Total affs for 11120772: 1\n",
      "11875071\n",
      "2002\n",
      "Total affs for 11875071: 1\n",
      "25469497\n",
      "2015\n",
      "Total affs for 25469497: 1\n",
      "18160138\n",
      "2008\n",
      "Total affs for 18160138: 1\n",
      "23890271\n",
      "2013\n",
      "Total affs for 23890271: 1\n",
      "25348595\n",
      "2014\n",
      "Total affs for 25348595: 1\n",
      "7734418\n",
      "1995\n",
      "Total affs for 7734418: 1\n",
      "25646416\n",
      "2015\n",
      "Total affs for 25646416: 4\n",
      "11163091\n",
      "2000\n",
      "Total affs for 11163091: 1\n",
      "9920028\n",
      "1999\n",
      "Total affs for 9920028: 1\n",
      "25816096\n",
      "2015\n",
      "Total affs for 25816096: 4\n",
      "7878657\n",
      "1994\n",
      "Total affs for 7878657: 1\n",
      "8981922\n",
      "1996\n",
      "Total affs for 8981922: 1\n",
      "25808313\n",
      "2015\n",
      "Total affs for 25808313: 0\n",
      "25605460\n",
      "2015\n",
      "Total affs for 25605460: 5\n",
      "1546329\n",
      "1992\n",
      "Total affs for 1546329: 1\n",
      "1557127\n",
      "1992\n",
      "Total affs for 1557127: 1\n",
      "7817380\n",
      "1994\n",
      "Total affs for 7817380: 1\n",
      "8360479\n",
      "1993\n",
      "Total affs for 8360479: 1\n",
      "8245441\n",
      "1993\n",
      "Total affs for 8245441: 1\n",
      "9045906\n",
      "1997\n",
      "Total affs for 9045906: 1\n",
      "10807784\n",
      "2000\n",
      "Total affs for 10807784: 1\n",
      "25802875\n",
      "2014;2014:298145.</span>\\n\\n\n",
      "Total affs for 25802875: 1\n",
      "11465720\n",
      "2001\n",
      "Total affs for 11465720: 1\n",
      "18802091\n",
      "2008\n",
      "Total affs for 18802091: 1\n",
      "25855358\n",
      "2015\n",
      "Total affs for 25855358: 8\n",
      "24616531\n",
      "2014\n",
      "Total affs for 24616531: 1\n",
      "7694286\n",
      "1993\n",
      "Total affs for 7694286: 1\n",
      "7743181\n",
      "1995\n",
      "Total affs for 7743181: 1\n",
      "7594476\n",
      "1995\n",
      "Total affs for 7594476: 1\n",
      "25135637\n",
      "2014\n",
      "Total affs for 25135637: 10\n",
      "12042320\n",
      "2002\n",
      "Total affs for 12042320: 1\n",
      "21993680\n",
      "2012\n",
      "Total affs for 21993680: 1\n",
      "25682073\n",
      "2015\n",
      "Total affs for 25682073: 1\n",
      "25777343\n",
      "2015\n",
      "Total affs for 25777343: 1\n",
      "25589627\n",
      "2015\n",
      "Total affs for 25589627: 3\n",
      "25810538\n",
      "2015\n",
      "Total affs for 25810538: 6\n",
      "11557759\n",
      "2001\n",
      "Total affs for 11557759: 1\n",
      "11152131\n",
      "2000\n",
      "Total affs for 11152131: 1\n",
      "7607703\n",
      "1995;42(2):123-8.</span>\\n\\n\n",
      "Total affs for 7607703: 1\n",
      "22343629\n",
      "2012\n",
      "Total affs for 22343629: 1\n",
      "9177214\n",
      "1997\n",
      "Total affs for 9177214: 1\n",
      "11435436\n",
      "2001\n",
      "Total affs for 11435436: 1\n",
      "21136679\n",
      "2007\n",
      "Total affs for 21136679: 1\n",
      "26024233\n",
      "2015\n",
      "Total affs for 26024233: 10\n",
      "8988533\n",
      "1996\n",
      "Total affs for 8988533: 1\n",
      "22322005\n",
      "2012\n",
      "Total affs for 22322005: 1\n",
      "15004565\n",
      "2004\n",
      "Total affs for 15004565: 0\n",
      "25892735\n",
      "2015\n",
      "Total affs for 25892735: 3\n",
      "25880248\n",
      "2015\n",
      "Total affs for 25880248: 1\n",
      "18991276\n",
      "2008\n",
      "Total affs for 18991276: 1\n",
      "16479539\n",
      "2006\n",
      "Total affs for 16479539: 1\n",
      "26261890\n",
      "2015\n",
      "Total affs for 26261890: 1\n",
      "17547437\n",
      "2007\n",
      "Total affs for 17547437: 1\n",
      "17145369\n",
      "2006\n",
      "Total affs for 17145369: 1\n",
      "20112406\n",
      "2010\n",
      "Total affs for 20112406: 1\n",
      "23555621\n",
      "2013;8(3):e59118.</span>\\n\\n\n",
      "Total affs for 23555621: 1\n",
      "26375851\n",
      "2015\n",
      "Total affs for 26375851: 5\n",
      "10358176\n",
      "1999\n",
      "Total affs for 10358176: 1\n",
      "26280087\n",
      "2015\n",
      "Total affs for 26280087: 6\n",
      "26154972\n",
      "2015\n",
      "Total affs for 26154972: 10\n",
      "17074750\n",
      "2007\n",
      "Total affs for 17074750: 1\n",
      "26418056\n",
      "2015\n",
      "Total affs for 26418056: 4\n",
      "26445723\n",
      "2015\n",
      "Total affs for 26445723: 6\n",
      "23481700\n",
      "2013\n",
      "Total affs for 23481700: 1\n",
      "24029068\n",
      "2013\n",
      "Total affs for 24029068: 1\n",
      "26579122\n",
      "2015\n",
      "Total affs for 26579122: 5\n",
      "19615748\n",
      "2009\n",
      "Total affs for 19615748: 1\n",
      "26429912\n",
      "2015\n",
      "Total affs for 26429912: 5\n",
      "25576301\n",
      "2015\n",
      "Total affs for 25576301: 3\n",
      "26688548\n",
      "2016\n",
      "Total affs for 26688548: 5\n",
      "22424782\n",
      "2012\n",
      "Total affs for 22424782: 1\n",
      "26577013\n",
      "2015\n",
      "Total affs for 26577013: 4\n",
      "25418920\n",
      "2015\n",
      "Total affs for 25418920: 1\n",
      "26728094\n",
      "2016\n",
      "Total affs for 26728094: 5\n",
      "26768311\n",
      "2015\n",
      "Total affs for 26768311: 6\n",
      "26771180\n",
      "2016\n",
      "Total affs for 26771180: 6\n",
      "22869377\n",
      "2012\n",
      "Total affs for 22869377: 1\n",
      "26541133\n"
     ]
    },
    {
     "name": "stdout",
     "output_type": "stream",
     "text": [
      "2016\n",
      "Total affs for 26541133: 5\n",
      "26748477\n",
      "2016\n",
      "Total affs for 26748477: 5\n",
      "26731261\n",
      "2016\n",
      "Total affs for 26731261: 4\n",
      "26597986\n",
      "2015\n",
      "Total affs for 26597986: 3\n",
      "26754738\n",
      "2016\n",
      "Total affs for 26754738: 6\n",
      "24715725\n",
      "2014\n",
      "Total affs for 24715725: 1\n",
      "26758806\n",
      "2016\n",
      "Total affs for 26758806: 2\n",
      "26917722\n",
      "2016\n",
      "Total affs for 26917722: 2\n",
      "26824387\n",
      "2016\n",
      "Total affs for 26824387: 7\n",
      "26854383\n",
      "2016\n",
      "Total affs for 26854383: 8\n",
      "26811146\n",
      "2016\n",
      "Total affs for 26811146: 3\n",
      "26758079\n",
      "2016\n",
      "Total affs for 26758079: 2\n",
      "27058226\n",
      "2016\n",
      "Total affs for 27058226: 7\n",
      "26983786\n",
      "2016\n",
      "Total affs for 26983786: 9\n",
      "27045007\n",
      "2016\n",
      "Total affs for 27045007: 11\n",
      "27036003\n",
      "2016\n",
      "Total affs for 27036003: 11\n",
      "26962231\n",
      "2016\n",
      "Total affs for 26962231: 6\n",
      "25056881\n",
      "2014\n",
      "Total affs for 25056881: 2\n",
      "25617474\n",
      "2015\n",
      "Total affs for 25617474: 4\n",
      "27238970\n",
      "2016\n",
      "Total affs for 27238970: 3\n",
      "26929215\n",
      "2016\n",
      "Total affs for 26929215: 2\n",
      "25645385\n",
      "2015\n",
      "Total affs for 25645385: 1\n",
      "11466336\n",
      "2001\n",
      "Total affs for 11466336: 1\n",
      "27183389\n",
      "2016\n",
      "Total affs for 27183389: 0\n",
      "27070377\n",
      "2016\n",
      "Total affs for 27070377: 2\n",
      "27094591\n",
      "2016\n",
      "Total affs for 27094591: 4\n",
      "15118850\n",
      "2004\n",
      "Total affs for 15118850: 1\n",
      "27467910\n",
      "2015\n",
      "Total affs for 27467910: 6\n",
      "20220067\n",
      "2010\n",
      "Total affs for 20220067: 1\n",
      "17308301\n",
      "2007\n",
      "Total affs for 17308301: 1\n",
      "27057987\n",
      "2016\n",
      "Total affs for 27057987: 6\n",
      "22898188\n",
      "2013\n",
      "Total affs for 22898188: 1\n",
      "27385781\n",
      "2016\n",
      "Total affs for 27385781: 3\n",
      "26033882\n",
      "2015\n",
      "Total affs for 26033882: 7\n",
      "27551282\n",
      "2016\n",
      "Total affs for 27551282: 3\n",
      "27072810\n",
      "2016\n",
      "Total affs for 27072810: 3\n",
      "27511729\n",
      "2016\n",
      "Total affs for 27511729: 2\n",
      "27543614\n",
      "2016\n",
      "Total affs for 27543614: 3\n",
      "27622074\n",
      "2016\n",
      "Total affs for 27622074: 4\n",
      "27638468\n",
      "2016\n",
      "Total affs for 27638468: 9\n",
      "27110896\n",
      "2016\n",
      "Total affs for 27110896: 3\n",
      "26921345\n",
      "2016\n",
      "Total affs for 26921345: 11\n",
      "27699241\n",
      "2016\n",
      "Total affs for 27699241: 10\n",
      "27717382\n",
      "2016\n",
      "Total affs for 27717382: 7\n",
      "27645996\n",
      "2016\n",
      "Total affs for 27645996: 7\n",
      "27600516\n",
      "2016\n",
      "Total affs for 27600516: 4\n",
      "10380706\n",
      "1999\n",
      "Total affs for 10380706: 1\n",
      "27333291\n",
      "2016\n",
      "Total affs for 27333291: 3\n",
      "27821860\n",
      "2016\n",
      "Total affs for 27821860: 1\n",
      "27746192\n",
      "2016\n",
      "Total affs for 27746192: 4\n",
      "27903649\n",
      "2017\n",
      "Total affs for 27903649: 8\n",
      "27738054\n",
      "2016\n",
      "Total affs for 27738054: 7\n",
      "27503676\n",
      "2017\n",
      "Total affs for 27503676: 4\n",
      "27847359\n",
      "2017\n",
      "Total affs for 27847359: 4\n",
      "27893789\n",
      "2016\n",
      "Total affs for 27893789: 6\n",
      "27846572\n",
      "2016\n",
      "Total affs for 27846572: 8\n",
      "28218747\n",
      "2017\n",
      "Total affs for 28218747: 7\n",
      "28148736\n",
      "2017\n",
      "Total affs for 28148736: 6\n",
      "28250417\n",
      "2017\n",
      "Total affs for 28250417: 4\n",
      "27902325\n",
      "2017\n",
      "Total affs for 27902325: 3\n",
      "28179428\n",
      "2017\n",
      "Total affs for 28179428: 8\n",
      "28254787\n",
      "2017\n",
      "Total affs for 28254787: 8\n",
      "28228285\n",
      "2017\n",
      "Total affs for 28228285: 11\n",
      "28352266\n",
      "2017\n",
      "Total affs for 28352266: 6\n",
      "28389098\n",
      "2017\n",
      "Total affs for 28389098: 3\n",
      "28423320\n",
      "2017\n",
      "Total affs for 28423320: 4\n",
      "28085643\n",
      "2017\n",
      "Total affs for 28085643: 4\n",
      "28263308\n",
      "2017\n",
      "Total affs for 28263308: 5\n",
      "28063628\n",
      "2017\n",
      "Total affs for 28063628: 3\n",
      "25837513\n",
      "2015\n",
      "Total affs for 25837513: 5\n",
      "23783831\n",
      "2013;4:2039.</span>\\n\\n\n",
      "Total affs for 23783831: 1\n",
      "28373107\n",
      "2017\n",
      "Total affs for 28373107: 7\n",
      "27920218\n",
      "2017\n",
      "Total affs for 27920218: 8\n",
      "26992070\n",
      "2016\n",
      "Total affs for 26992070: 4\n",
      "28552904\n",
      "2017\n",
      "Total affs for 28552904: 5\n",
      "28572406\n",
      "2017\n",
      "Total affs for 28572406: 8\n",
      "28686208\n",
      "2017\n",
      "Total affs for 28686208: 8\n",
      "28539429\n",
      "2017\n",
      "Total affs for 28539429: 7\n",
      "28514659\n",
      "2017\n",
      "Total affs for 28514659: 7\n",
      "28446606\n",
      "2017\n",
      "Total affs for 28446606: 5\n",
      "28698575\n",
      "2017\n",
      "Total affs for 28698575: 3\n",
      "11577350\n",
      "2001\n",
      "Total affs for 11577350: 1\n",
      "28811980\n",
      "2017\n",
      "Total affs for 28811980: 3\n",
      "28665520\n",
      "2017\n",
      "Total affs for 28665520: 7\n",
      "28855662\n",
      "2017\n",
      "Total affs for 28855662: 5\n",
      "28649982\n",
      "2017\n",
      "Total affs for 28649982: 10\n",
      "28855257\n",
      "2017\n",
      "Total affs for 28855257: 8\n",
      "28655516\n",
      "2017\n",
      "Total affs for 28655516: 4\n",
      "21937447\n",
      "2011\n",
      "Total affs for 21937447: 1\n",
      "28903331\n",
      "2017\n",
      "Total affs for 28903331: 6\n",
      "20639478\n",
      "2010\n",
      "Total affs for 20639478: 1\n",
      "28916719\n",
      "2017\n",
      "Total affs for 28916719: 9\n",
      "25576336\n",
      "2015\n",
      "Total affs for 25576336: 8\n",
      "28860189\n",
      "2017\n",
      "Total affs for 28860189: 4\n",
      "28931605\n",
      "2017\n",
      "Total affs for 28931605: 4\n",
      "28945243\n",
      "2017\n",
      "Total affs for 28945243: 10\n",
      "28832583\n",
      "2017\n",
      "Total affs for 28832583: 3\n",
      "28904123\n",
      "2017\n",
      "Total affs for 28904123: 4\n",
      "28834231\n",
      "2017\n",
      "Total affs for 28834231: 2\n",
      "28975614\n",
      "2018\n",
      "Total affs for 28975614: 4\n",
      "29084215\n",
      "2017\n",
      "Total affs for 29084215: 3\n",
      "29209312\n",
      "2017\n",
      "Total affs for 29209312: 4\n",
      "29312318\n",
      "2017\n",
      "Total affs for 29312318: 3\n",
      "28615212\n",
      "2017\n",
      "Total affs for 28615212: 9\n",
      "29441070\n",
      "2018\n",
      "Total affs for 29441070: 7\n",
      "29444872\n",
      "2018\n",
      "Total affs for 29444872: 4\n",
      "29463951\n",
      "2017;2017:4016802.</span>\\n\\n\n",
      "Total affs for 29463951: 5\n",
      "29435138\n",
      "2017\n",
      "Total affs for 29435138: 5\n",
      "29437277\n",
      "2018\n",
      "Total affs for 29437277: 9\n",
      "29429978\n",
      "2018\n",
      "Total affs for 29429978: 19\n",
      "29343547\n",
      "2018\n",
      "Total affs for 29343547: 6\n",
      "29531227\n",
      "2018\n",
      "Total affs for 29531227: 10\n",
      "29331515\n",
      "2018\n",
      "Total affs for 29331515: 19\n",
      "29562882\n",
      "2018\n",
      "Total affs for 29562882: 3\n",
      "29528337\n",
      "2018\n",
      "Total affs for 29528337: 10\n",
      "29632711\n",
      "2018\n",
      "Total affs for 29632711: 8\n",
      "29666167\n",
      "2018\n",
      "Total affs for 29666167: 8\n",
      "29549963\n",
      "2018\n",
      "Total affs for 29549963: 5\n",
      "29856876\n",
      "2018\n",
      "Total affs for 29856876: 1\n",
      "29724463\n",
      "2018\n",
      "Total affs for 29724463: 3\n",
      "29735483\n",
      "2018\n",
      "Total affs for 29735483: 7\n",
      "29603667\n",
      "2018\n",
      "Total affs for 29603667: 5\n",
      "29508533\n",
      "2018\n",
      "Total affs for 29508533: 4\n",
      "29632046\n",
      "2018\n",
      "Total affs for 29632046: 4\n",
      "29930882\n",
      "2018\n",
      "Total affs for 29930882: 2\n",
      "29093164\n",
      "2017\n",
      "Total affs for 29093164: 12\n",
      "29669837\n",
      "2018\n",
      "Total affs for 29669837: 17\n",
      "30001391\n",
      "2018\n",
      "Total affs for 30001391: 2\n",
      "29712860\n",
      "2018\n",
      "Total affs for 29712860: 5\n",
      "29393594\n",
      "2018\n",
      "Total affs for 29393594: 4\n",
      "29786170\n",
      "2018\n",
      "Total affs for 29786170: 3\n",
      "30053426\n",
      "2018\n",
      "Total affs for 30053426: 12\n",
      "30087334\n",
      "2018\n",
      "Total affs for 30087334: 7\n",
      "29769354\n",
      "2018\n",
      "Total affs for 29769354: 4\n",
      "30087171\n",
      "2018\n",
      "Total affs for 30087171: 14\n",
      "29950410\n",
      "2018\n",
      "Total affs for 29950410: 10\n",
      "21645925\n",
      "2011\n",
      "Total affs for 21645925: 1\n",
      "21943705\n",
      "2011\n",
      "Total affs for 21943705: 1\n",
      "15537658\n",
      "2005\n",
      "Total affs for 15537658: 1\n",
      "25028510\n",
      "2014\n",
      "Total affs for 25028510: 5\n",
      "27254288\n",
      "2016\n",
      "Total affs for 27254288: 2\n",
      "30242172\n",
      "2018\n",
      "Total affs for 30242172: 9\n",
      "27869121\n",
      "2016\n",
      "Total affs for 27869121: 9\n",
      "30128813\n",
      "2018\n",
      "Total affs for 30128813: 2\n",
      "30224695\n",
      "2018\n",
      "Total affs for 30224695: 8\n",
      "30302345\n",
      "2018\n",
      "Total affs for 30302345: 3\n",
      "30192525\n",
      "2018\n",
      "Total affs for 30192525: 2\n",
      "22706990\n",
      "2012\n",
      "Total affs for 22706990: 1\n",
      "10513815\n",
      "1999\n",
      "Total affs for 10513815: 1\n",
      "8155602\n",
      "1994\n",
      "Total affs for 8155602: 1\n",
      "16216671\n",
      "2005\n",
      "Total affs for 16216671: 1\n",
      "1546328\n",
      "1992\n",
      "Total affs for 1546328: 1\n",
      "30365927\n",
      "2019\n",
      "Total affs for 30365927: 3\n",
      "30341185\n",
      "2018\n",
      "Total affs for 30341185: 10\n",
      "8265661\n",
      "1993\n",
      "Total affs for 8265661: 1\n",
      "12750860\n",
      "2003\n",
      "Total affs for 12750860: 3\n",
      "14978097\n",
      "2004\n",
      "Total affs for 14978097: 1\n",
      "27514473\n",
      "2016\n",
      "Total affs for 27514473: 2\n",
      "29908955\n",
      "2018\n",
      "Total affs for 29908955: 3\n",
      "30410026\n",
      "2018\n",
      "Total affs for 30410026: 12\n",
      "18446792\n",
      "2008\n",
      "Total affs for 18446792: 1\n",
      "30552102\n",
      "2018\n",
      "Total affs for 30552102: 6\n",
      "30622521\n",
      "2018\n",
      "Total affs for 30622521: 4\n",
      "30524438\n",
      "2018\n",
      "Total affs for 30524438: 1\n",
      "30429286\n",
      "2018\n",
      "Total affs for 30429286: 5\n",
      "30575715\n",
      "2018\n",
      "Total affs for 30575715: 8\n",
      "30711514\n",
      "2019\n",
      "Total affs for 30711514: 4\n",
      "25958206\n",
      "2015\n",
      "Total affs for 25958206: 6\n",
      "29467338\n",
      "2018\n",
      "Total affs for 29467338: 2\n",
      "30315122\n",
      "2018\n",
      "Total affs for 30315122: 8\n",
      "30617019\n",
      "2019\n",
      "Total affs for 30617019: 4\n",
      "30828331\n",
      "2019\n",
      "Total affs for 30828331: 6\n",
      "30114007\n",
      "2018\n",
      "Total affs for 30114007: 5\n",
      "29789417\n",
      "2018\n",
      "Total affs for 29789417: 10\n",
      "30930889\n",
      "2019\n",
      "Total affs for 30930889: 4\n",
      "29242379\n",
      "2018\n",
      "Total affs for 29242379: 6\n",
      "10203015\n",
      "1999\n",
      "Total affs for 10203015: 1\n",
      "8805247\n",
      "1996\n",
      "Total affs for 8805247: 1\n",
      "30664876\n",
      "2019\n",
      "Total affs for 30664876: 5\n",
      "30784271\n",
      "2019\n",
      "Total affs for 30784271: 2\n",
      "30817223\n",
      "2019\n",
      "Total affs for 30817223: 5\n",
      "30941482\n",
      "2019\n",
      "Total affs for 30941482: 3\n",
      "31022685\n",
      "2018\n",
      "Total affs for 31022685: 8\n",
      "30778243\n",
      "2019\n",
      "Total affs for 30778243: 24\n",
      "29955175\n",
      "2019\n",
      "Total affs for 29955175: 5\n",
      "30912293\n",
      "2019\n",
      "Total affs for 30912293: 2\n",
      "30779550\n",
      "2019\n",
      "Total affs for 30779550: 7\n",
      "31212633\n",
      "2019\n",
      "Total affs for 31212633: 9\n",
      "30078552\n",
      "2018\n",
      "Total affs for 30078552: 14\n",
      "31091334\n",
      "2019\n",
      "Total affs for 31091334: 7\n",
      "8922363\n",
      "1996\n",
      "Total affs for 8922363: 1\n",
      "31324690\n",
      "2019\n",
      "Total affs for 31324690: 6\n",
      "9064319\n",
      "1996\n",
      "Total affs for 9064319: 1\n",
      "31364055\n",
      "2019;2024:259-268.</span>\\n\\n\n",
      "Total affs for 31364055: 2\n",
      "31276466\n",
      "2019\n",
      "Total affs for 31276466: 3\n",
      "29371260\n",
      "2018\n",
      "Total affs for 29371260: 6\n",
      "31296658\n",
      "2019\n",
      "Total affs for 31296658: 5\n",
      "24706797\n",
      "2014\n",
      "Total affs for 24706797: 1\n",
      "31396224\n"
     ]
    },
    {
     "name": "stdout",
     "output_type": "stream",
     "text": [
      "2019\n",
      "Total affs for 31396224: 6\n",
      "31222486\n",
      "2019\n",
      "Total affs for 31222486: 6\n",
      "22253836\n",
      "2012;7(1):e29949.</span>\\n\\n\n",
      "Total affs for 22253836: 1\n",
      "9234479\n",
      "1997\n",
      "Total affs for 9234479: 1\n",
      "31217245\n",
      "2019\n",
      "Total affs for 31217245: 6\n",
      "29493099\n",
      "2018\n",
      "Total affs for 29493099: 4\n",
      "31154438\n",
      "2019\n",
      "Total affs for 31154438: 17\n",
      "31498797\n",
      "2019\n",
      "Total affs for 31498797: 7\n",
      "31601650\n",
      "2019\n",
      "Total affs for 31601650: 2\n",
      "31555277\n",
      "2019\n",
      "Total affs for 31555277: 1\n",
      "8580072\n",
      "1995\n",
      "Total affs for 8580072: 1\n",
      "31530632\n",
      "2019\n",
      "Total affs for 31530632: 4\n",
      "30833945\n",
      "2019\n",
      "Total affs for 30833945: 3\n",
      "31723204\n",
      "2019\n",
      "Total affs for 31723204: 3\n",
      "31690625\n",
      "2019\n",
      "Total affs for 31690625: 7\n",
      "31685621\n",
      "2019\n",
      "Total affs for 31685621: 13\n",
      "31757993\n",
      "2019\n",
      "Total affs for 31757993: 4\n",
      "31686124\n",
      "2019\n",
      "Total affs for 31686124: 4\n",
      "31811120\n",
      "2019\n",
      "Total affs for 31811120: 17\n",
      "31540894\n",
      "2019\n",
      "Total affs for 31540894: 3\n",
      "31740583\n",
      "2019\n",
      "Total affs for 31740583: 9\n",
      "27862975\n",
      "2017\n",
      "Total affs for 27862975: 2\n",
      "31765434\n",
      "2019\n",
      "Total affs for 31765434: 3\n",
      "27239036\n",
      "2016\n",
      "Total affs for 27239036: 6\n",
      "31092671\n",
      "2019\n",
      "Total affs for 31092671: 5\n",
      "31803176\n",
      "2019\n",
      "Total affs for 31803176: 13\n",
      "31796585\n",
      "2019\n",
      "Total affs for 31796585: 5\n",
      "30484775\n",
      "2018\n",
      "Total affs for 30484775: 5\n",
      "31560392\n",
      "2020\n",
      "Total affs for 31560392: 2\n",
      "31735170\n",
      "2019\n",
      "Total affs for 31735170: 8\n",
      "31869419\n",
      "2020\n",
      "Total affs for 31869419: 10\n",
      "31908851\n",
      "2020\n",
      "Total affs for 31908851: 3\n",
      "31848261\n",
      "2020\n",
      "Total affs for 31848261: 6\n",
      "28329770\n",
      "2017\n",
      "Total affs for 28329770: 9\n",
      "32117305\n",
      "2020\n",
      "Total affs for 32117305: 3\n",
      "31852786\n",
      "2020\n",
      "Total affs for 31852786: 3\n",
      "31844290\n",
      "2020\n",
      "Total affs for 31844290: 24\n",
      "32102902\n",
      "2020\n",
      "Total affs for 32102902: 3\n",
      "9263005\n",
      "1997\n",
      "Total affs for 9263005: 1\n",
      "24223798\n",
      "2013\n",
      "Total affs for 24223798: 1\n",
      "26819371\n",
      "2016\n",
      "Total affs for 26819371: 6\n",
      "32269076\n",
      "2020\n",
      "Total affs for 32269076: 5\n",
      "31064751\n",
      "2019\n",
      "Total affs for 31064751: 9\n",
      "31044160\n",
      "2019\n",
      "Total affs for 31044160: 12\n",
      "21692558\n",
      "2011;55(2):107-15.</span>\\n\\n\n",
      "Total affs for 21692558: 1\n",
      "30115740\n",
      "2018\n",
      "Total affs for 30115740: 5\n",
      "30504837\n",
      "2018\n",
      "Total affs for 30504837: 16\n",
      "32310221\n",
      "2020\n",
      "Total affs for 32310221: 5\n",
      "32373127\n",
      "2020\n",
      "Total affs for 32373127: 2\n",
      "30425106\n",
      "2019\n",
      "Total affs for 30425106: 3\n",
      "32184355\n",
      "2020\n",
      "Total affs for 32184355: 6\n",
      "28954787\n",
      "2017\n",
      "Total affs for 28954787: 8\n",
      "28854978\n",
      "2017\n",
      "Total affs for 28854978: 8\n",
      "32404419\n",
      "2020\n",
      "Total affs for 32404419: 7\n",
      "28314751\n",
      "2017\n",
      "Total affs for 28314751: 5\n",
      "32531997\n",
      "2020\n",
      "Total affs for 32531997: 1\n",
      "30340600\n",
      "2018\n",
      "Total affs for 30340600: 6\n",
      "32518267\n",
      "2020\n",
      "Total affs for 32518267: 6\n",
      "32532817\n",
      "2020\n",
      "Total affs for 32532817: 4\n",
      "32391625\n",
      "2020\n",
      "Total affs for 32391625: 3\n",
      "32134551\n",
      "2020\n",
      "Total affs for 32134551: 6\n",
      "32002300\n",
      "2019\n",
      "Total affs for 32002300: 3\n",
      "32161166\n",
      "2020\n",
      "Total affs for 32161166: 4\n",
      "32522857\n",
      "2020\n",
      "Total affs for 32522857: 7\n",
      "32488085\n",
      "2020\n",
      "Total affs for 32488085: 4\n",
      "32571843\n",
      "2020\n",
      "Total affs for 32571843: 4\n",
      "32645549\n",
      "2020\n",
      "Total affs for 32645549: 5\n",
      "31039795\n",
      "2019\n",
      "Total affs for 31039795: 21\n",
      "32461371\n",
      "2020\n",
      "Total affs for 32461371: 4\n",
      "31921104\n",
      "2019\n",
      "Total affs for 31921104: 7\n",
      "32716298\n",
      "2020\n",
      "Total affs for 32716298: 6\n",
      "29557506\n",
      "2018\n",
      "Total affs for 29557506: 11\n",
      "31998317\n",
      "2020\n",
      "Total affs for 31998317: 12\n",
      "30451992\n",
      "2018\n",
      "Total affs for 30451992: 8\n",
      "32759969\n",
      "2020\n",
      "Total affs for 32759969: 6\n",
      "32817371\n",
      "2020\n",
      "Total affs for 32817371: 7\n",
      "32807968\n",
      "2020\n",
      "Total affs for 32807968: 6\n",
      "32934692\n",
      "2020\n",
      "Total affs for 32934692: 1\n",
      "32913893\n",
      "2020\n",
      "Total affs for 32913893: 6\n",
      "27397612\n",
      "2016\n",
      "Total affs for 27397612: 17\n",
      "31527070\n",
      "2019\n",
      "Total affs for 31527070: 3\n",
      "8680648\n",
      "1995\n",
      "Total affs for 8680648: 1\n",
      "27198675\n",
      "2016\n",
      "Total affs for 27198675: 6\n",
      "22912393\n",
      "2012\n",
      "Total affs for 22912393: 1\n",
      "33074657\n",
      "2020\n",
      "Total affs for 33074657: 3\n",
      "32983097\n",
      "2020\n",
      "Total affs for 32983097: 6\n",
      "32928873\n",
      "2020\n",
      "Total affs for 32928873: 9\n",
      "33268522\n",
      "2021\n",
      "Total affs for 33268522: 2\n",
      "33235258\n",
      "2020\n",
      "Total affs for 33235258: 8\n",
      "32927123\n",
      "2021\n",
      "Total affs for 32927123: 5\n",
      "32357974\n",
      "2020\n",
      "Total affs for 32357974: 3\n",
      "33325143\n",
      "2021\n",
      "Total affs for 33325143: 3\n",
      "33329543\n",
      "2020\n",
      "Total affs for 33329543: 5\n",
      "33230881\n",
      "2021\n",
      "Total affs for 33230881: 3\n",
      "32502341\n",
      "2020\n",
      "Total affs for 32502341: 0\n",
      "24891321\n",
      "2014\n",
      "Total affs for 24891321: 10\n",
      "31937595\n",
      "2020\n",
      "Total affs for 31937595: 5\n",
      "33443088\n",
      "2021\n",
      "Total affs for 33443088: 9\n",
      "32265295\n",
      "2020\n",
      "Total affs for 32265295: 4\n",
      "33521593\n",
      "2021\n",
      "Total affs for 33521593: 5\n",
      "33490292\n",
      "2021\n",
      "Total affs for 33490292: 1\n",
      "33537174\n",
      "2021\n",
      "Total affs for 33537174: 3\n",
      "33537173\n",
      "2021\n",
      "Total affs for 33537173: 11\n",
      "33372950\n",
      "2021\n",
      "Total affs for 33372950: 4\n",
      "32561536\n",
      "2020\n",
      "Total affs for 32561536: 4\n",
      "33141586\n",
      "2021\n",
      "Total affs for 33141586: 6\n",
      "25043048\n",
      "2014\n",
      "Total affs for 25043048: 13\n",
      "33468649\n",
      "2021\n",
      "Total affs for 33468649: 4\n",
      "33298915\n",
      "2020\n",
      "Total affs for 33298915: 6\n",
      "33665637\n",
      "2021\n",
      "Total affs for 33665637: 7\n",
      "33664060\n",
      "2021\n",
      "Total affs for 33664060: 18\n",
      "30568303\n",
      "2019\n",
      "Total affs for 30568303: 27\n",
      "33744048\n",
      "2021\n",
      "Total affs for 33744048: 3\n",
      "33392160\n",
      "2020\n",
      "Total affs for 33392160: 5\n",
      "33123756\n",
      "2021\n",
      "Total affs for 33123756: 13\n",
      "24149465\n",
      "2013\n",
      "Total affs for 24149465: 1\n",
      "21874303\n",
      "2012\n",
      "Total affs for 21874303: 6\n",
      "33649166\n",
      "2021\n",
      "Total affs for 33649166: 15\n",
      "26715028\n",
      "2016\n",
      "Total affs for 26715028: 3\n",
      "32387766\n",
      "2020\n",
      "Total affs for 32387766: 4\n",
      "21350948\n",
      "2011\n",
      "Total affs for 21350948: 1\n",
      "23721092\n",
      "2013\n",
      "Total affs for 23721092: 1\n",
      "33945786\n",
      "2021\n",
      "Total affs for 33945786: 11\n",
      "34016795\n",
      "2021\n",
      "Total affs for 34016795: 2\n",
      "21904219\n",
      "2011\n",
      "Total affs for 21904219: 1\n",
      "33911008\n",
      "2021\n",
      "Total affs for 33911008: 8\n",
      "33238185\n",
      "2021\n",
      "Total affs for 33238185: 3\n",
      "33912179\n",
      "2021\n",
      "Total affs for 33912179: 7\n",
      "34093574\n",
      "2021\n",
      "Total affs for 34093574: 4\n",
      "34025684\n",
      "2021\n",
      "Total affs for 34025684: 4\n",
      "33717175\n",
      "2021\n",
      "Total affs for 33717175: 10\n",
      "33981976\n",
      "2021\n",
      "Total affs for 33981976: 7\n",
      "34231935\n",
      "2021\n",
      "Total affs for 34231935: 6\n",
      "34006841\n",
      "2021\n",
      "Total affs for 34006841: 26\n",
      "34166618\n",
      "2021\n",
      "Total affs for 34166618: 8\n",
      "34210785\n",
      "2021\n",
      "Total affs for 34210785: 8\n",
      "34312620\n",
      "2021\n",
      "Total affs for 34312620: 0\n",
      "34265281\n",
      "2021\n",
      "Total affs for 34265281: 15\n",
      "34321228\n",
      "2021\n",
      "Total affs for 34321228: 7\n",
      "34236583\n",
      "2022\n",
      "Total affs for 34236583: 8\n",
      "33936100\n",
      "2021\n",
      "Total affs for 33936100: 4\n",
      "34202193\n",
      "2021\n",
      "Total affs for 34202193: 3\n",
      "33649101\n",
      "2021\n",
      "Total affs for 33649101: 15\n",
      "34087483\n",
      "2021;20:100105.</span>\\n\\n\n",
      "Total affs for 34087483: 2\n",
      "34168657\n",
      "2021\n",
      "Total affs for 34168657: 4\n",
      "34384783\n",
      "2021\n",
      "Total affs for 34384783: 6\n",
      "34405274\n",
      "2022\n",
      "Total affs for 34405274: 5\n",
      "34305923\n",
      "2021\n",
      "Total affs for 34305923: 4\n",
      "34290406\n",
      "2021\n",
      "Total affs for 34290406: 14\n",
      "34506741\n",
      "2021\n",
      "Total affs for 34506741: 6\n",
      "34371177\n",
      "2022\n",
      "Total affs for 34371177: 5\n",
      "34471285\n",
      "2021\n",
      "Total affs for 34471285: 20\n",
      "34172517\n",
      "2021\n",
      "Total affs for 34172517: 8\n",
      "34489470\n",
      "2021\n",
      "Total affs for 34489470: 29\n",
      "34171305\n",
      "2021\n",
      "Total affs for 34171305: 24\n",
      "34526989\n",
      "2021\n",
      "Total affs for 34526989: 5\n",
      "33633747\n",
      "2021\n",
      "Total affs for 33633747: 6\n",
      "31324691\n",
      "2019\n",
      "Total affs for 31324691: 6\n",
      "34627082\n",
      "2021\n",
      "Total affs for 34627082: 2\n",
      "34561969\n",
      "2022\n",
      "Total affs for 34561969: 7\n",
      "33592498\n",
      "2021;20:100032.</span>\\n\\n\n",
      "Total affs for 33592498: 5\n",
      "9568678\n",
      "1998\n",
      "Total affs for 9568678: 1\n",
      "34638844\n",
      "2021\n",
      "Total affs for 34638844: 2\n",
      "9743387\n",
      "1998\n",
      "Total affs for 9743387: 1\n",
      "9051144\n",
      "1997\n",
      "Total affs for 9051144: 1\n",
      "32938616\n",
      "2020\n",
      "Total affs for 32938616: 9\n",
      "9048833\n",
      "1997\n",
      "Total affs for 9048833: 1\n",
      "9457311\n",
      "1998\n",
      "Total affs for 9457311: 1\n",
      "34518289\n",
      "2021\n",
      "Total affs for 34518289: 12\n",
      "34725257\n",
      "2021\n",
      "Total affs for 34725257: 5\n",
      "34721410\n",
      "2021\n",
      "Total affs for 34721410: 5\n",
      "34696226\n",
      "2021\n",
      "Total affs for 34696226: 4\n",
      "34728796\n",
      "2021\n",
      "Total affs for 34728796: 10\n",
      "33691108\n",
      "2021\n",
      "Total affs for 33691108: 7\n",
      "9655265\n",
      "1998\n",
      "Total affs for 9655265: 1\n",
      "34561224\n",
      "2021\n",
      "Total affs for 34561224: 14\n",
      "15264237\n",
      "2004\n",
      "Total affs for 15264237: 1\n",
      "12841872\n",
      "2003\n",
      "Total affs for 12841872: 1\n",
      "34771556\n",
      "2021\n",
      "Total affs for 34771556: 3\n",
      "12858355\n",
      "2003\n",
      "Total affs for 12858355: 1\n",
      "34932366\n",
      "2022\n",
      "Total affs for 34932366: 2\n",
      "12949939\n",
      "2003\n",
      "Total affs for 12949939: 1\n",
      "35013235\n",
      "2022\n",
      "Total affs for 35013235: 8\n",
      "34509645\n",
      "2021;20:100143.</span>\\n\\n\n",
      "Total affs for 34509645: 3\n",
      "12783216\n",
      "2003\n",
      "Total affs for 12783216: 1\n",
      "14997204\n",
      "2004\n",
      "Total affs for 14997204: 1\n",
      "34857854\n",
      "2021\n",
      "Total affs for 34857854: 6\n",
      "34211107\n",
      "2021\n",
      "Total affs for 34211107: 4\n",
      "12402309\n",
      "2002\n",
      "Total affs for 12402309: 1\n",
      "33731925\n",
      "2021\n",
      "Total affs for 33731925: 27\n",
      "11547122\n",
      "2001\n",
      "Total affs for 11547122: 1\n",
      "11034097\n",
      "2000\n",
      "Total affs for 11034097: 1\n",
      "11801539\n",
      "2002\n",
      "Total affs for 11801539: 1\n",
      "12391194\n",
      "2002\n",
      "Total affs for 12391194: 1\n",
      "17397028\n",
      "2007\n",
      "Total affs for 17397028: 1\n",
      "17853904\n",
      "2007\n",
      "Total affs for 17853904: 1\n",
      "35051231\n",
      "2022\n",
      "Total affs for 35051231: 4\n",
      "35194575\n"
     ]
    },
    {
     "name": "stdout",
     "output_type": "stream",
     "text": [
      "2022\n",
      "Total affs for 35194575: 12\n",
      "35124005\n",
      "2022\n",
      "Total affs for 35124005: 3\n",
      "16622681\n",
      "2006\n",
      "Total affs for 16622681: 1\n",
      "35186375\n",
      "2022\n",
      "Total affs for 35186375: 4\n",
      "32983136\n",
      "2020\n",
      "Total affs for 32983136: 3\n",
      "35193931\n",
      "2022\n",
      "Total affs for 35193931: 8\n",
      "35211638\n",
      "2022\n",
      "Total affs for 35211638: 3\n",
      "35260532\n",
      "2022\n",
      "Total affs for 35260532: 4\n",
      "35116022\n",
      "2022\n",
      "Total affs for 35116022: 10\n",
      "16024648\n",
      "2005\n",
      "Total affs for 16024648: 1\n",
      "33968037\n",
      "2021\n",
      "Total affs for 33968037: 1\n",
      "34432728\n",
      "2021\n",
      "Total affs for 34432728: 2\n",
      "35327495\n",
      "2022\n",
      "Total affs for 35327495: 6\n",
      "35298559\n",
      "2022\n",
      "Total affs for 35298559: 3\n",
      "33740187\n",
      "2021\n",
      "Total affs for 33740187: 9\n",
      "35310951\n",
      "2022\n",
      "Total affs for 35310951: 6\n",
      "35255101\n",
      "2022\n",
      "Total affs for 35255101: 9\n",
      "20140431\n",
      "2010\n",
      "Total affs for 20140431: 1\n",
      "35379743\n",
      "2022\n",
      "Total affs for 35379743: 6\n",
      "19737960\n",
      "2009\n",
      "Total affs for 19737960: 1\n",
      "16738849\n",
      "2007\n",
      "Total affs for 16738849: 1\n",
      "20003233\n",
      "2009\n",
      "Total affs for 20003233: 1\n",
      "19171173\n",
      "2009\n",
      "Total affs for 19171173: 1\n",
      "19689476\n",
      "2009\n",
      "Total affs for 19689476: 1\n",
      "32157095\n",
      "2020\n",
      "Total affs for 32157095: 16\n",
      "18265979\n",
      "2008\n",
      "Total affs for 18265979: 1\n",
      "16141246\n",
      "2005\n",
      "Total affs for 16141246: 1\n",
      "19330328\n",
      "2009\n",
      "Total affs for 19330328: 1\n",
      "35318648\n",
      "2022\n",
      "Total affs for 35318648: 3\n",
      "18303116\n",
      "2008\n",
      "Total affs for 18303116: 1\n",
      "35484264\n",
      "2022\n",
      "Total affs for 35484264: 24\n",
      "22993607\n",
      "2010\n",
      "Total affs for 22993607: 1\n",
      "19307781\n",
      "2009\n",
      "Total affs for 19307781: 1\n",
      "35526384\n",
      "2022\n",
      "Total affs for 35526384: 4\n",
      "33811047\n",
      "2021\n",
      "Total affs for 33811047: 13\n",
      "35536648\n",
      "2022\n",
      "Total affs for 35536648: 2\n",
      "35587797\n",
      "2022\n",
      "Total affs for 35587797: 1\n",
      "35665491\n",
      "2022\n",
      "Total affs for 35665491: 13\n",
      "35705051\n",
      "2022\n",
      "Total affs for 35705051: 9\n",
      "35931021\n",
      "2022\n",
      "Total affs for 35931021: 7\n",
      "32897882\n",
      "2020\n",
      "Total affs for 32897882: 3\n",
      "8642260\n",
      "1996\n",
      "Total affs for 8642260: 1\n",
      "15695408\n",
      "2005\n",
      "Total affs for 15695408: 1\n",
      "36068240\n",
      "2022\n",
      "Total affs for 36068240: 3\n",
      "36010968\n",
      "2022\n",
      "Total affs for 36010968: 5\n",
      "36069549\n",
      "2022\n",
      "Total affs for 36069549: 2\n",
      "16452243\n",
      "2006\n",
      "Total affs for 16452243: 1\n",
      "36099883\n",
      "2022\n",
      "Total affs for 36099883: 6\n",
      "36088370\n",
      "2022\n",
      "Total affs for 36088370: 5\n",
      "17294448\n",
      "2007\n",
      "Total affs for 17294448: 1\n",
      "35623660\n",
      "2022\n",
      "Total affs for 35623660: 7\n",
      "9973436\n",
      "1999\n",
      "Total affs for 9973436: 1\n",
      "29203539\n",
      "2018\n",
      "Total affs for 29203539: 13\n",
      "35561310\n",
      "2022\n",
      "Total affs for 35561310: 8\n",
      "14695157\n",
      "2003\n",
      "Total affs for 14695157: 1\n",
      "10759561\n",
      "2000\n",
      "Total affs for 10759561: 1\n",
      "19148489\n",
      "2009\n",
      "Total affs for 19148489: 1\n",
      "27471654\n",
      "2016\n",
      "Total affs for 27471654: 7\n",
      "36254196\n",
      "2022\n",
      "Total affs for 36254196: 7\n",
      "15059918\n",
      "2004\n",
      "Total affs for 15059918: 1\n",
      "36302758\n",
      "2022\n",
      "Total affs for 36302758: 7\n",
      "36275878\n",
      "2022\n",
      "Total affs for 36275878: 2\n",
      "15563124\n",
      "2004\n",
      "Total affs for 15563124: 1\n",
      "11358829\n",
      "2001\n",
      "Total affs for 11358829: 1\n",
      "36526616\n",
      "2022\n",
      "Total affs for 36526616: 19\n",
      "36477533\n",
      "2022\n",
      "Total affs for 36477533: 18\n",
      "11971032\n",
      "2002\n",
      "Total affs for 11971032: 1\n",
      "36215666\n",
      "2022\n",
      "Total affs for 36215666: 9\n",
      "7644523\n",
      "1995\n",
      "Total affs for 7644523: 1\n",
      "9271594\n",
      "1997\n",
      "Total affs for 9271594: 1\n",
      "35967402\n",
      "2022\n",
      "Total affs for 35967402: 1\n",
      "36602309\n",
      "2023\n",
      "Total affs for 36602309: 4\n",
      "30640174\n",
      "2019\n",
      "Total affs for 30640174: 2\n",
      "36679999\n",
      "2023\n",
      "Total affs for 36679999: 5\n",
      "36222123\n",
      "2022\n",
      "Total affs for 36222123: 4\n",
      "36593402\n",
      "2023\n",
      "Total affs for 36593402: 5\n",
      "36662516\n",
      "2023\n",
      "Total affs for 36662516: 5\n",
      "9593785\n",
      "1998\n",
      "Total affs for 9593785: 1\n",
      "36806685\n",
      "2023\n",
      "Total affs for 36806685: 4\n"
     ]
    }
   ],
   "source": [
    "start = \"<a class=\\\"affiliation-link\\\"\"\n",
    "year_start = \"<span class=\\\"cit\\\">\"\n",
    "all_affiliations = set()\n",
    "pubmed_url = \"https://pubmed.ncbi.nlm.nih.gov/{}/\"\n",
    "aff_per_pmid = {}\n",
    "year_per_pmid = {}\n",
    "for pmid in pmids:\n",
    "    print(pmid)\n",
    "    pmid_affs = set()\n",
    "    response = requests.get(pubmed_url.format(pmid))\n",
    "    html_content = str(response.content)\n",
    "    year = get_year(html_content, year_start)\n",
    "    print(year)\n",
    "    aff = get_author(html_content)\n",
    "    while aff != -1:\n",
    "        all_affiliations.add(aff)\n",
    "        pmid_affs.add(aff)\n",
    "        html_content = html_content[html_content.find(start, 1)+len(start):]\n",
    "        aff = get_author(html_content)\n",
    "    print(\"Total affs for {}: {}\".format(pmid, len(list(pmid_affs))))\n",
    "    aff_per_pmid[pmid] = pmid_affs\n",
    "    year_per_pmid[pmid] = year\n",
    "    time.sleep(0.05)"
   ]
  },
  {
   "cell_type": "code",
   "execution_count": 15,
   "metadata": {},
   "outputs": [
    {
     "data": {
      "text/html": [
       "<div>\n",
       "<style scoped>\n",
       "    .dataframe tbody tr th:only-of-type {\n",
       "        vertical-align: middle;\n",
       "    }\n",
       "\n",
       "    .dataframe tbody tr th {\n",
       "        vertical-align: top;\n",
       "    }\n",
       "\n",
       "    .dataframe thead th {\n",
       "        text-align: right;\n",
       "    }\n",
       "</style>\n",
       "<table border=\"1\" class=\"dataframe\">\n",
       "  <thead>\n",
       "    <tr style=\"text-align: right;\">\n",
       "      <th></th>\n",
       "      <th>pmid</th>\n",
       "      <th>aff</th>\n",
       "      <th>year</th>\n",
       "    </tr>\n",
       "  </thead>\n",
       "  <tbody>\n",
       "    <tr>\n",
       "      <th>0</th>\n",
       "      <td>15448372</td>\n",
       "      <td>\"Division of Cancer Research, Institute of Bio...</td>\n",
       "      <td>2004</td>\n",
       "    </tr>\n",
       "    <tr>\n",
       "      <th>1</th>\n",
       "      <td>15448372</td>\n",
       "      <td>\"Institute of Clinical Medicine, National Yang...</td>\n",
       "      <td>2004</td>\n",
       "    </tr>\n",
       "    <tr>\n",
       "      <th>2</th>\n",
       "      <td>15448372</td>\n",
       "      <td>\"Department of Research and Education, Taipei ...</td>\n",
       "      <td>2004</td>\n",
       "    </tr>\n",
       "    <tr>\n",
       "      <th>3</th>\n",
       "      <td>15448372</td>\n",
       "      <td>\"Institute of Microbiology and Immunology, Nat...</td>\n",
       "      <td>2004</td>\n",
       "    </tr>\n",
       "    <tr>\n",
       "      <th>4</th>\n",
       "      <td>15140958</td>\n",
       "      <td>\"Department of Immunology, Peking University H...</td>\n",
       "      <td>2004</td>\n",
       "    </tr>\n",
       "    <tr>\n",
       "      <th>...</th>\n",
       "      <td>...</td>\n",
       "      <td>...</td>\n",
       "      <td>...</td>\n",
       "    </tr>\n",
       "    <tr>\n",
       "      <th>3627</th>\n",
       "      <td>9593785</td>\n",
       "      <td>\"Unit\\xc3\\xa9 d&amp;#x27;Immunit\\xc3\\xa9 Cellulair...</td>\n",
       "      <td>1998</td>\n",
       "    </tr>\n",
       "    <tr>\n",
       "      <th>3628</th>\n",
       "      <td>36806685</td>\n",
       "      <td>\"National Research Center for Hematology, Mosc...</td>\n",
       "      <td>2023</td>\n",
       "    </tr>\n",
       "    <tr>\n",
       "      <th>3629</th>\n",
       "      <td>36806685</td>\n",
       "      <td>\"Laboratory of Structural Immunology, Departme...</td>\n",
       "      <td>2023</td>\n",
       "    </tr>\n",
       "    <tr>\n",
       "      <th>3630</th>\n",
       "      <td>36806685</td>\n",
       "      <td>\"W.M. Keck Laboratory for Structural Biology, ...</td>\n",
       "      <td>2023</td>\n",
       "    </tr>\n",
       "    <tr>\n",
       "      <th>3631</th>\n",
       "      <td>36806685</td>\n",
       "      <td>\"W.M. Keck Laboratory for Structural Biology, ...</td>\n",
       "      <td>2023</td>\n",
       "    </tr>\n",
       "  </tbody>\n",
       "</table>\n",
       "<p>3632 rows × 3 columns</p>\n",
       "</div>"
      ],
      "text/plain": [
       "          pmid                                                aff  year\n",
       "0     15448372  \"Division of Cancer Research, Institute of Bio...  2004\n",
       "1     15448372  \"Institute of Clinical Medicine, National Yang...  2004\n",
       "2     15448372  \"Department of Research and Education, Taipei ...  2004\n",
       "3     15448372  \"Institute of Microbiology and Immunology, Nat...  2004\n",
       "4     15140958  \"Department of Immunology, Peking University H...  2004\n",
       "...        ...                                                ...   ...\n",
       "3627   9593785  \"Unit\\xc3\\xa9 d&#x27;Immunit\\xc3\\xa9 Cellulair...  1998\n",
       "3628  36806685  \"National Research Center for Hematology, Mosc...  2023\n",
       "3629  36806685  \"Laboratory of Structural Immunology, Departme...  2023\n",
       "3630  36806685  \"W.M. Keck Laboratory for Structural Biology, ...  2023\n",
       "3631  36806685  \"W.M. Keck Laboratory for Structural Biology, ...  2023\n",
       "\n",
       "[3632 rows x 3 columns]"
      ]
     },
     "execution_count": 15,
     "metadata": {},
     "output_type": "execute_result"
    }
   ],
   "source": [
    "tmp_dict = {\"pmid\":[], \"aff\":[], \"year\":[]}\n",
    "\n",
    "for key, values in aff_per_pmid.items():\n",
    "    for elem in list(values):\n",
    "        tmp_dict[\"pmid\"].append(key)\n",
    "        tmp_dict[\"aff\"].append(elem)\n",
    "        tmp_dict[\"year\"].append(year_per_pmid[key])\n",
    "    \n",
    "aff_pmid_df = pd.DataFrame(tmp_dict)\n",
    "aff_pmid_df"
   ]
  },
  {
   "cell_type": "code",
   "execution_count": 16,
   "metadata": {},
   "outputs": [],
   "source": [
    "aff_pmid_df[\"year\"] = aff_pmid_df[\"year\"].apply(lambda x: x.split(\";\")[0])"
   ]
  },
  {
   "cell_type": "code",
   "execution_count": 17,
   "metadata": {},
   "outputs": [
    {
     "data": {
      "text/plain": [
       "3362"
      ]
     },
     "execution_count": 17,
     "metadata": {},
     "output_type": "execute_result"
    }
   ],
   "source": [
    "all_affiliations = list(all_affiliations)\n",
    "len(all_affiliations)"
   ]
  },
  {
   "cell_type": "markdown",
   "metadata": {},
   "source": [
    "## 3) Extract useful info from the scrapped data "
   ]
  },
  {
   "cell_type": "markdown",
   "metadata": {},
   "source": [
    "#### 3.1 Map scraped author affiliations to countries"
   ]
  },
  {
   "cell_type": "code",
   "execution_count": 18,
   "metadata": {},
   "outputs": [],
   "source": [
    "import re"
   ]
  },
  {
   "cell_type": "code",
   "execution_count": 19,
   "metadata": {},
   "outputs": [],
   "source": [
    "from country_list import countries_for_language\n",
    "all_countries = dict(countries_for_language('en'))"
   ]
  },
  {
   "cell_type": "code",
   "execution_count": 20,
   "metadata": {},
   "outputs": [],
   "source": [
    "usa_states =[\"Alaska\", \"Alabama\", \"Arkansas\", \"American Samoa\", \"Arizona\", \"California\", \\\n",
    "            \"Colorado\", \"Connecticut\", \"District \", \"of Columbia\", \"Delaware\", \"Florida\", \\\n",
    "            \"Georgia\", \"Guam\", \"Hawaii\", \"Iowa\", \"Idaho\", \"Illinois\", \"Indiana\", \"Kansas\", \\\n",
    "            \"Kentucky\", \"Louisiana\", \"Massachusetts\", \"Maryland\", \"Maine\", \"Michigan\", \"Minnesota\", \\\n",
    "            \"Missouri\", \"Mississippi\", \"Montana\", \"North Carolina\", \"North Dakota\", \"Nebraska\", \\\n",
    "            \"New Hampshire\", \"New Jersey\", \"New Mexico\", \"Nevada\", \"New York\", \"Ohio\", \"Oklahoma\", \\\n",
    "            \"Oregon\", \"Pennsylvania\", \"Puerto Rico\", \"Rhode Island\", \"South Carolina\", \"South Dakota\", \\\n",
    "            \"Tennessee\", \"Texas\", \"Utah\", \"Virginia\", \"Virgin Islands\", \"Vermont\", \"Washington\", \\\n",
    "            \"Wisconsin\", \"West Virginia\", \"Wyoming\"]\n",
    "usa_state_codes = [\"AL\", \"AK\", \"AZ\", \"AR\", \"CA\", \"CO\", \"CT\", \"DC\", \"DE\", \"FL\", \"GA\", \n",
    "              \"HI\", \"ID\", \"IL\", \"IN\", \"IA\", \"KS\", \"KY\", \"LA\", \"ME\", \"MD\", \n",
    "              \"MA\", \"MI\", \"MN\", \"MS\", \"MO\", \"MT\", \"NE\", \"NV\", \"NH\", \"NJ\", \n",
    "              \"NM\", \"NY\", \"NC\", \"ND\", \"OH\", \"OK\", \"OR\", \"PA\", \"RI\", \"SC\", \n",
    "              \"SD\", \"TN\", \"TX\", \"UT\", \"VT\", \"VA\", \"WA\", \"WV\", \"WI\", \"WY\"]\n",
    "def map_affiliation_to_country(affiliation, all_countries):\n",
    "    \n",
    "    #the last part after the last comma usually has country code\n",
    "    affiliation_postfix = affiliation[affiliation.rfind(\",\"):]\n",
    "    #make the list of words out if it\n",
    "    aff_postfix_stripped = re.sub(r'[^a-zA-Z0-9_ ]', '', affiliation_postfix)\n",
    "    aff_postfix_stripped_split = aff_postfix_stripped.split(\" \")\n",
    "\n",
    "    found=False\n",
    "    \n",
    "    #check if exact country name of the country is in there\n",
    "    for country_key, country_val in all_countries.items():\n",
    "        if country_val in aff_postfix_stripped_split:\n",
    "            country_result = country_val\n",
    "            return country_result\n",
    "    \n",
    "    #check if the country key is in there (with some additions - e.g., US=USA)\n",
    "    for country_key, country_val in all_countries.items():\n",
    "        if country_key == \"US\" and \"USA\" in aff_postfix_stripped_split:\n",
    "            country_result = country_val\n",
    "            return country_result\n",
    "        if country_key == \"GB\" and \"UK\" in aff_postfix_stripped_split:\n",
    "            country_result = country_val\n",
    "            return country_result\n",
    "        if country_key in aff_postfix_stripped_split and country_key != \"MA\":\n",
    "            country_result = country_val\n",
    "            return country_result\n",
    "        \n",
    "    #check if the country name is the full affiliation\n",
    "    full_aff = affiliation\n",
    "    full_aff_low = full_aff.lower()\n",
    "    for country_key, country_val in all_countries.items():\n",
    "        if country_val.lower() in full_aff_low:\n",
    "            country_result = country_val\n",
    "            return country_result\n",
    "        \n",
    "    #check if any US state is in there?\n",
    "    for state in usa_states:\n",
    "        if state.lower() in full_aff_low:\n",
    "            return \"United States\"\n",
    "    for state_code in usa_state_codes:\n",
    "        if state_code in aff_postfix_stripped_split:\n",
    "            return \"United States\"\n",
    "    #some exceptions  \n",
    "    if \"england\"in full_aff_low or \"oxford\" in full_aff_low:\n",
    "        return \"United Kingdom\"\n",
    "    if \"korea\" in full_aff_low:\n",
    "        return \"South Korea\"\n",
    "    if \"uae\" in full_aff_low:\n",
    "        return \"United Arab Emirates\"\n",
    "    if \"czech republic\" in full_aff_low:\n",
    "        return \"Czech Republic\"\n",
    "    if \"cardiff\" in full_aff_low:\n",
    "        return \"United Kingdom\"\n",
    "    if \"hong kong\" in full_aff_low:\n",
    "        return \"Hong Kong\"\n",
    "    if \"scotland\" in full_aff_low:\n",
    "        return \"United Kingdom\"\n",
    "    if \"nantes\" in full_aff_low:\n",
    "        return \"France\"\n",
    "    if \"ningbo\" in full_aff_low or \"wenzhou\" in full_aff_low:\n",
    "        return \"China\"\n",
    "    return None"
   ]
  },
  {
   "cell_type": "code",
   "execution_count": 21,
   "metadata": {},
   "outputs": [],
   "source": [
    "affiliation_country_map = {}\n",
    "non_aligned = []\n",
    "for i, aff in enumerate(all_affiliations):\n",
    "    aff_country = map_affiliation_to_country(aff, all_countries)\n",
    "    aff_pmids = list(aff_pmid_df[aff_pmid_df[\"aff\"]==aff][\"pmid\"].unique())\n",
    "    if aff_country is not None:\n",
    "        affiliation_country_map[aff] = aff_country\n",
    "    else:\n",
    "        affiliation_country_map[aff] = None\n",
    "        non_aligned.append(aff)"
   ]
  },
  {
   "cell_type": "code",
   "execution_count": 22,
   "metadata": {},
   "outputs": [
    {
     "data": {
      "text/plain": [
       "25"
      ]
     },
     "execution_count": 22,
     "metadata": {},
     "output_type": "execute_result"
    }
   ],
   "source": [
    "len(non_aligned)"
   ]
  },
  {
   "cell_type": "code",
   "execution_count": 23,
   "metadata": {},
   "outputs": [],
   "source": [
    "aff_pmid_df[\"country\"] = aff_pmid_df.apply(lambda x: affiliation_country_map[x.aff], axis=1)"
   ]
  },
  {
   "cell_type": "code",
   "execution_count": 24,
   "metadata": {},
   "outputs": [
    {
     "data": {
      "text/html": [
       "<div>\n",
       "<style scoped>\n",
       "    .dataframe tbody tr th:only-of-type {\n",
       "        vertical-align: middle;\n",
       "    }\n",
       "\n",
       "    .dataframe tbody tr th {\n",
       "        vertical-align: top;\n",
       "    }\n",
       "\n",
       "    .dataframe thead th {\n",
       "        text-align: right;\n",
       "    }\n",
       "</style>\n",
       "<table border=\"1\" class=\"dataframe\">\n",
       "  <thead>\n",
       "    <tr style=\"text-align: right;\">\n",
       "      <th></th>\n",
       "      <th>pmid</th>\n",
       "      <th>aff</th>\n",
       "      <th>year</th>\n",
       "      <th>country</th>\n",
       "    </tr>\n",
       "  </thead>\n",
       "  <tbody>\n",
       "    <tr>\n",
       "      <th>0</th>\n",
       "      <td>15448372</td>\n",
       "      <td>\"Division of Cancer Research, Institute of Bio...</td>\n",
       "      <td>2004</td>\n",
       "      <td>China</td>\n",
       "    </tr>\n",
       "    <tr>\n",
       "      <th>1</th>\n",
       "      <td>15448372</td>\n",
       "      <td>\"Institute of Clinical Medicine, National Yang...</td>\n",
       "      <td>2004</td>\n",
       "      <td>China</td>\n",
       "    </tr>\n",
       "    <tr>\n",
       "      <th>2</th>\n",
       "      <td>15448372</td>\n",
       "      <td>\"Department of Research and Education, Taipei ...</td>\n",
       "      <td>2004</td>\n",
       "      <td>China</td>\n",
       "    </tr>\n",
       "    <tr>\n",
       "      <th>3</th>\n",
       "      <td>15448372</td>\n",
       "      <td>\"Institute of Microbiology and Immunology, Nat...</td>\n",
       "      <td>2004</td>\n",
       "      <td>China</td>\n",
       "    </tr>\n",
       "    <tr>\n",
       "      <th>4</th>\n",
       "      <td>15140958</td>\n",
       "      <td>\"Department of Immunology, Peking University H...</td>\n",
       "      <td>2004</td>\n",
       "      <td>China</td>\n",
       "    </tr>\n",
       "    <tr>\n",
       "      <th>...</th>\n",
       "      <td>...</td>\n",
       "      <td>...</td>\n",
       "      <td>...</td>\n",
       "      <td>...</td>\n",
       "    </tr>\n",
       "    <tr>\n",
       "      <th>3627</th>\n",
       "      <td>9593785</td>\n",
       "      <td>\"Unit\\xc3\\xa9 d&amp;#x27;Immunit\\xc3\\xa9 Cellulair...</td>\n",
       "      <td>1998</td>\n",
       "      <td>France</td>\n",
       "    </tr>\n",
       "    <tr>\n",
       "      <th>3628</th>\n",
       "      <td>36806685</td>\n",
       "      <td>\"National Research Center for Hematology, Mosc...</td>\n",
       "      <td>2023</td>\n",
       "      <td>Russia</td>\n",
       "    </tr>\n",
       "    <tr>\n",
       "      <th>3629</th>\n",
       "      <td>36806685</td>\n",
       "      <td>\"Laboratory of Structural Immunology, Departme...</td>\n",
       "      <td>2023</td>\n",
       "      <td>United States</td>\n",
       "    </tr>\n",
       "    <tr>\n",
       "      <th>3630</th>\n",
       "      <td>36806685</td>\n",
       "      <td>\"W.M. Keck Laboratory for Structural Biology, ...</td>\n",
       "      <td>2023</td>\n",
       "      <td>United States</td>\n",
       "    </tr>\n",
       "    <tr>\n",
       "      <th>3631</th>\n",
       "      <td>36806685</td>\n",
       "      <td>\"W.M. Keck Laboratory for Structural Biology, ...</td>\n",
       "      <td>2023</td>\n",
       "      <td>United States</td>\n",
       "    </tr>\n",
       "  </tbody>\n",
       "</table>\n",
       "<p>3632 rows × 4 columns</p>\n",
       "</div>"
      ],
      "text/plain": [
       "          pmid                                                aff  year  \\\n",
       "0     15448372  \"Division of Cancer Research, Institute of Bio...  2004   \n",
       "1     15448372  \"Institute of Clinical Medicine, National Yang...  2004   \n",
       "2     15448372  \"Department of Research and Education, Taipei ...  2004   \n",
       "3     15448372  \"Institute of Microbiology and Immunology, Nat...  2004   \n",
       "4     15140958  \"Department of Immunology, Peking University H...  2004   \n",
       "...        ...                                                ...   ...   \n",
       "3627   9593785  \"Unit\\xc3\\xa9 d&#x27;Immunit\\xc3\\xa9 Cellulair...  1998   \n",
       "3628  36806685  \"National Research Center for Hematology, Mosc...  2023   \n",
       "3629  36806685  \"Laboratory of Structural Immunology, Departme...  2023   \n",
       "3630  36806685  \"W.M. Keck Laboratory for Structural Biology, ...  2023   \n",
       "3631  36806685  \"W.M. Keck Laboratory for Structural Biology, ...  2023   \n",
       "\n",
       "            country  \n",
       "0             China  \n",
       "1             China  \n",
       "2             China  \n",
       "3             China  \n",
       "4             China  \n",
       "...             ...  \n",
       "3627         France  \n",
       "3628         Russia  \n",
       "3629  United States  \n",
       "3630  United States  \n",
       "3631  United States  \n",
       "\n",
       "[3632 rows x 4 columns]"
      ]
     },
     "execution_count": 24,
     "metadata": {},
     "output_type": "execute_result"
    }
   ],
   "source": [
    "aff_pmid_df"
   ]
  },
  {
   "cell_type": "markdown",
   "metadata": {},
   "source": [
    "#### 3.2 Map affiliations to institution types"
   ]
  },
  {
   "cell_type": "code",
   "execution_count": 25,
   "metadata": {},
   "outputs": [
    {
     "name": "stdout",
     "output_type": "stream",
     "text": [
      "\"Proteobotics SL, Spanish National Biotechnology Centre (CSIC), Darwin 3, 28049 Madrid, Spain.\"\n",
      "\"MBL International, 15A Constitution Way, Woburn, MA 01801, United States.\"\n",
      "\"Center for Cell Engineering, Memorial Sloan Kettering Cancer Center, New York, NY, USA. chandrs1@mskcc.org.\"\n",
      "\"Early Drug Development Service, Memorial Sloan Kettering Cancer Center, New York, NY, USA. klebanoc@mskcc.org.\"\n",
      "\"Repertoire Immune Medicines, Cambridge, MA 02139, USA.\"\n",
      "\"Guangdong-Hong Kong-Macau Great Bay Area Geroscience Joint Laboratory, Guangzhou, China.\"\n",
      "\"Cytel Corporation, San Diego, California, USA.\"\n",
      "\"Immunotope Inc., The Pennsylvania Biotechnology Center, 3805 Old Easton Road, Doylestown, Pennsylvania 18902, USA. rphilip@immunotope.com\"\n",
      "\"Shanghai-MOST Key Laboratory of Health and Disease Genomics, Chinese National Human Genome Center at Shanghai, Shanghai, China.\"\n",
      "\"Division of Cellular and Gene Therapies, Center for Biologics Evaluation and Research, US Food and Drug Administration, Silver Spring, MD 20993, USA.\"\n",
      "\"Key Laboratory of Surveillance and Early Warning on Infectious Disease, Division of Infectious Disease, Chinese Center for Disease Control and Prevention, Beijing, China.\"\n",
      "\"BioNTech AG, Mainz, Germany.\"\n",
      "\"DKFZ Partner Site T\\xc3\\xbcbingen, German Cancer Consortium (DKTK), T\\xc3\\xbcbingen, Germany.\"\n",
      "\"Veterans Administration Tennessee Valley Healthcare System, Nashville, TN, USA.\"\n",
      "\"Division of Cancer Immunotherapy, Exploratory Oncology Research and Clinical Trial Center, National Cancer Center, Kashiwa, Japan.\"\n",
      "\"Biomarin Pharmaceutical, 790 Lincoln Ave, San Rafael, CA, 94901, USA.\"\n",
      "\"Immatics Biotechnologies GmbH, 72076 T\\xc3\\xbcbingen, Germany.\"\n",
      "\"Clinical Cooperation Unit Translational Immunology, German Cancer Consortium (DKTK), DKFZ Partner Site, T\\xc3\\xbcbingen, Germany.\"\n",
      "\"A2 Biotherapeutics, Agoura Hills, CA.\"\n",
      "\"Information and Communications Technologies , National Research Council Canada , 1200 Montreal Road , Ottawa , Ontario , Canada , K1A 0R6.\"\n",
      "\"\\xc2\\xb6\\xc2\\xb6\\xc2\\xb6Association for Cancer Immunotherapy (CIMT), Langenbeckstr. 1,55131 Mainz, Germany.\"\n",
      "\"Immatics, Biotechnologies GmbH, Tuebingen, Germany.\"\n",
      "\"Ribological GmbH, 55131 Mainz, Germany.\"\n",
      "\"Cytiva, Marlborough, MA 01752, USA.\"\n",
      "\"German Center for Infection Research (DZIF), Munich and Hannover Sites, Braunschweig, Germany.\"\n",
      "\"GE Healthcare Life Sciences, Marlborough, Massachusetts 01752.\"\n",
      "\"Immunocore Ltd., 92 Park Drive, Milton Park, Abingdon, OX14 4RY, USA. chandramouli.chillakuri@immunocore.com.\"\n",
      "\"Biotechnology Division, Defence Research and Development Establishment, Gwalior 474002, India. Electronic address: dvkamboj@gmail.com.\"\n",
      "\"IBM Haifa Research Lab, Haifa 31905, Israel.\"\n",
      "\"Margaret Cancer Centre, Toronto, Ontario, Canada.\"\n",
      "\"Applied Bioinformatics Core, Weill Cornell Medicine, New York, NY, USA.\"\n",
      "\"Swiss Red Cross Blood Transfusion Services Zurich and Chur, Loestrasse 170, 7000, Chur, Switzerland.\"\n",
      "\"Netherlands Proteomics Centre, Utrecht, The Netherlands.\"\n",
      "\"DKFZ Partner Site T\\xc3\\xbcbingen, German Cancer Consortium (DKTK), Auf der Morgenstelle 15, 72076, T\\xc3\\xbcbingen, Germany.\"\n",
      "\"Epimmune, San Diego, CA 92121, USA. gishioka@epimmune.com\"\n",
      "\"IRCCS Istituto Giannina Gaslini, 16148 Genoa, Italy.\"\n",
      "\"Center for Virology and Vaccine Research, Beth Israel Deaconess Medical Center, Boston, MA, USA.\"\n",
      "\"NantHealth, Inc, Santa Cruz, California, USA.\"\n",
      "\"Microsoft Research, Redmond, WA 98052;\"\n",
      "\"Immunocore Ltd., 92 Park Drive, Milton Park, Abingdon, OX14 4RY, USA.\"\n",
      "\"Misvik biology Ltd, Turku, Finland.\"\n",
      "\"Celldex Therapeutics, Hampton, NJ 08827, USA.\"\n",
      "\"Proteomics Unit, Spanish National Biotechnology Center (CNB-CSIC), 28049 Madrid, Spain.\"\n",
      "\"Biotherapeutics and Translational Research, Pharmacokinetics, Dynamics &amp; Metabolism, Pfizer Global Research and Development, Sandwich, Kent, CT13-9NJ, UK. tim.j.townend@gsk.com.\"\n",
      "\"Singapore Immunology Network, A*STAR, Immunos, Singapore.\"\n",
      "\"INSERM, U1135, CIMI-Paris, Paris, France.\"\n",
      "\"DKFZ Partner Site T\\xc3\\xbcbingen, German Cancer Consortium, T\\xc3\\xbcbingen, Germany.\"\n",
      "\"Laboratory of Biological Chemistry, Office of Biotechnology Products, Center for Drugs Evaluation and Research, Food and Drug Administration, Silver Spring, MD, United States.\"\n",
      "\"ElyssaMed, Paris Biotech Sant\\xc3\\xa9, 75014, Paris, France.\"\n",
      "\"Biotherapeutics and Translational Research, Pharmacokinetics, Dynamics &amp; Metabolism, Pfizer Global Research and Development, Sandwich, Kent, CT13-9NJ, UK. Luis.Perez@ablynx.com.\"\n",
      "\"Centro de Biolog\\xc3\\xada Molecular Severo Ochoa (CSIC-UAM), 28049 Madrid, Spain.\"\n",
      "\"JSR Life Sciences, 1280 N Mathilda Ave, Sunnyvale, CA 94089, United States.\"\n",
      "\"Molecular Pharmacology Program, Memorial Sloan Kettering Cancer Center (MSKCC), New York, New York, USA.\"\n",
      "\"Division of Structural Biology, The Henry Wellcome Building for Genomic Medicine, Roosevelt Drive, Oxford OX3 7BN, UK.\"\n",
      "\"Memorial Sloan-Kettering Cancer Center, New York, NY 10021, USA.\"\n",
      "\"From the \\xe2\\x80\\xa1Centro de Biolog\\xc3\\xada Molecular Severo Ochoa (CSIC-UAM), 28049 Madrid, Spain. aldecastro@cbm.csic.es.\"\n",
      "\"IRCCS Policlinico San Matteo, Pavia, Italy.\"\n",
      "\"Immatics Biotechnologies GmbH, T\\xc3\\xbcbingen, Germany.\"\n",
      "\"Cancer and Inflammation Program, Leidos Biomedical Research Inc., Frederick National Laboratory for Cancer Research, Frederick, Maryland 21702, USA.\"\n",
      "\"Epimmune Inc., San Diego, California 92121, USA. jalexander@epimmune.com\"\n",
      "\"Immunocore Ltd., Abingdon, United Kingdom stephen.harper@immunocore.com david.cole@immunocore.com.\"\n",
      "\"Epimmune, Inc., San Diego, CA 92121, USA.\"\n",
      "\"Singapore Immunology Network, Agency for Science, Technology and Research (A*STAR), 8A Biomedical Grove, #03-06 Immunos, Singapore, 138648, Singapore. ren_ee_chee@immunol.a-star.edu.sg.\"\n",
      "\"Center for Cell Engineering, Memorial Sloan Kettering Cancer Center, New York, NY, USA. klebanoc@mskcc.org.\"\n",
      "\"Istituto di Biologia Cellulare, CNR, Rome, Italy.\"\n",
      "\"Calico Life Sciences LLC, South San Francisco, 94080, CA, USA.\"\n",
      "\"Medizinische Hochschule Hannover, Abt. Gastroenterologie, Hepatologie und Endokrinologie, Carl-Neuberg Strasse 1, 30625 Hannover, Germany.\"\n",
      "\"Division of Developmental Immunology, Deutsches Krebsforschungszentrum, Heidelberg, Germany.\"\n",
      "\"Singapore Immunology Network, Agency for Science, Technology and Research (A*STAR), 8A Biomedical Grove, #03-06 Immunos, Singapore, 138648, Singapore.\"\n",
      "\"Immunocore Ltd., 92 Park Drive, Milton Park, Abingdon, OX14 4RY, USA. andrew.whale@immunocore.com.\"\n",
      "\"Proteomics Unit, Centro Nacional de Biotecnolog\\xc3\\xada (CSIC), 28049 Madrid, Spain;\"\n",
      "\"MBL International, 15A Constitution Way, Woburn, MA 01801, United States. Electronic address: marc.delcommenne@mblintl.com.\"\n",
      "\"Lineberger Comprehensive Cancer Center, Chapel Hill, North Carolina.\"\n",
      "\"Blood Component Preparation Section, Jiangsu Province Blood Center, Nanjing, 210042, Jiangsu, China.\"\n",
      "\"Infection Prevention and Healthcare Epidemiology Unit, Alfred Health, Melbourne, Victoria, Australia.\"\n",
      "\"Service d&#x27;Anatomie Pathologique, Centre Chirurgical Marie-Lannelongue, 92350, Le-Plessis-Robinson, France.\"\n",
      "\"Center for Cell Engineering, Memorial Sloan Kettering Cancer Center, New York, NY, USA.\"\n",
      "\"Laboratory for Immunotherapy, RIKEN Center for Integrative Medical Science (IMS), Yokohama, Japan.\"\n",
      "\"Sanofi Pasteur, VaxDesign Campus, Orlando, FL, United States.\"\n",
      "\"Perlmutter Cancer Center at NYU Langone Medical Center, New York, New York, USA.\"\n",
      "\"Evaxion Biotech, Bredgade 34E, 1260, Copenhagen, Denmark. jkgm@evaxion-biotech.com.\"\n",
      "\"Philochem AG, Otelfingen, Switzerland.\"\n",
      "\"Weill Cornell Medicine, New York, New York, USA.\"\n",
      "\"New Opportunities Unit, Pfizer Global Research and Development, Sandwich, Kent, CT13 -9NJ, UK. tansi.khodai@googlemail.com.\"\n",
      "\"Pfizer Inc., Vaccine Research West, 10777 Science Center Drive, San Diego, CA 92121, USA. maya.kotturi@pfizer.com\"\n",
      "\"Cancer Vaccine Center and.\"\n",
      "\"From the \\xe2\\x80\\xa1Centro de Biolog\\xc3\\xada Molecular Severo Ochoa (CSIC-UAM), 28049 Madrid, Spain; aldecastro@cbm.csic.es.\"\n",
      "\"Immunotope Inc, Pennsylvania Biotechnology Center, Doylestown, PA 18902, USA.\"\n",
      "\"Ludwig Center, Johns Hopkins Kimmel Cancer Center, Baltimore, Maryland. bertvog@gmail.com wangqingok@gmail.com sbzhou@jhmi.edu.\"\n",
      "\"Epimmune Incorporated, San Diego, CA 92121, USA.\"\n",
      "\"Laboratory of Molecular Biophysics, Oxford, United Kingdom. SCOTT@BIOP.OX.AC.UK\"\n",
      "\"Laboratory of Immunology, Office of Biotechnology Products, Center for Drugs Evaluation and Research, Food and Drug Administration, Silver Spring, MD, United States.\"\n",
      "\"INSERM, U986, Paris, France.\"\n",
      "\"Cytiva, Marlborough, MA, USA.\"\n",
      "\"Australian Synchrotron, ANSTO, Clayton, VIC 3168, Australia.\"\n",
      "\"Epimmune, San Diego, CA 92121, USA. jalexander@epimmune.com\"\n",
      "\"Molecular Pharmacology Program, Memorial Sloan Kettering Cancer Center, New York, New York.\"\n",
      "\"\\xe2\\x80\\x96Proteobotics SL, Spanish National Biotechnology Centre (CSIC), Darwin 3, 28049, Madrid, Spain.\"\n",
      "\"Takara Shuzo Co., Ltd., Biotechnology Research Laboratories, SETA 3-4-1, OTSU, SHIGA, 520-21, Japan.\"\n",
      "\"Laboratorio de Inmunobiolog\\xc3\\xada, Unidad de Investigaci\\xc3\\xb3n en Diferenciaci\\xc3\\xb3n Celular y C\\xc3\\xa1ncer. FES-Zaragoza, UNAM, M\\xc3\\xa9xico. mogl@servidor.unam.mx\"\n",
      "\"Adaptive Biotechnologies, South San Francisco, California 94080, USA.\"\n",
      "\"Eli Lilly &amp; Co, Lilly Corporate Center, Indianapolis, IN, 46285, USA.\"\n",
      "\"Biotherapeutics and Translational Research, Pharmacokinetics, Dynamics &amp; Metabolism, Pfizer Global Research and Development, Sandwich, Kent, CT13-9NJ, UK. timothy.hickling@pfizer.com.\"\n",
      "\"Immunocore Ltd., Abingdon, UK.\"\n",
      "\"Fujian Key Laboratory of Translational Cancer Medicine, No. 420, Fuma Road, Jinan District, Fuzhou City, Fujian 350014, China.\"\n",
      "\"Ziegler Biosolutions, Fahrgasse 5, 79761 Waldshut-Tiengen, Germany. Electronic address: ziegler-biosolutions@gmx.de.\"\n",
      "\"Laboratoire d&#x27;Immunologie, G\\xc3\\xa9n\\xc3\\xa9thon, CNRS UMR 8115, 91002, Evry Cedex, France. davoust@genethon.fr\"\n",
      "\"9ABBVIE, Redwood City (CA), Redwood City, CA 94063 USA.\"\n",
      "\"Meng Yi Center Limited, Macau, China.\"\n",
      "\"Aeras Global TB Vaccine Foundation, Bethesda, MD, USA.\"\n",
      "\"BIOGEM Istituto di Ricerche Genetiche &#x27;G. Salvatore&#x27;, Campo Reale, 83031 Ariano Irpino, Italy.\"\n",
      "\"Immatics Biotechnologies GmbH , 72076 T\\xc3\\xbcbingen , Germany.\"\n",
      "\"ImmunityBio, Inc, Culver City, California, USA patricia.spilman@immunitybio.com.\"\n",
      "\"Biotherapeutics and Translational Research, Pharmacokinetics, Dynamics &amp; Metabolism, Pfizer Global Research and Development, Sandwich, Kent, CT13-9NJ, UK. fareed.mirza@novartis.com.\"\n",
      "\"Etubics Corporation, 41 West Harrison Street, Suite 100, Seattle, WA 98119, USA.\"\n",
      "\"Sunomix Therapeutics, Inc., San Diego, CA; and.\"\n",
      "\"IBM Research Laboratory, Haifa, Israel.\"\n",
      "\"Chiron Vaccines, Via Fiorentina 1, 53100 Siena, Italy.\"\n",
      "\"Infection Prevention and Healthcare Epidemiology Unit, Alfred Health, Melbourne, VIC, Australia.\"\n",
      "\"Molecular Pharmacology Program, Memorial Sloan Kettering Cancer Center, New York, New York. scheinbd@mskcc.org.\"\n",
      "\"Eureka Therapeutics Inc., 5858 Horton Street, Emeryville, CA 94608, USA.\"\n",
      "\"Epimmune, Inc., San Diego, California 92121, USA. blivingston@epimmune.com\"\n",
      "\"Singapore Immunology Network, 8A Biomedical Grove, #03-06 Immunos, Singapore, 138648, Singapore.\"\n",
      "\"Sanquin Reagents B.V. Amsterdam The Netherlands.\"\n",
      "\"Unit\\xc3\\xa9 Mixte CNRS-BioM\\xc3\\xa9rieux, UMR 2142, Ecole Normale Sup\\xc3\\xa9rieure, 46 All\\xc3\\xa9e d&#x27;Italie, 69364 Lyon C\\xc3\\xa9dex 07, France.\"\n",
      "\"Complete Omics Inc., Baltimore, MD 21227, USA.\"\n",
      "\"Human Oncology and Pathogenesis Program (HOPP), Immuno-Oncology Service, Memorial Sloan Kettering Cancer Center, New York, NY, USA. klebanoc@mskcc.org.\"\n",
      "\"Swiss Red Cross Blood Transfusion Services Zurich and Chur, R\\xc3\\xbctistrasse 19, 8952, Zurich, Switzerland.\"\n",
      "\"Abteilung Tumorvirus-Immunologie (0620), Deutsches Krebsforschungszentrum, Im Neuenheimer Feld 242, 69120 Heidelberg, Germany.\"\n",
      "\"Immunocore Ltd., Abingdon, United Kingdom.\"\n",
      "\"Division of Experimental Infection Research, TWINCORE, Centre of Experimental and Clinical Infection Research, MHH, Hanover, Germany.\"\n",
      "\"Netherlands Proteomics Centre, Utrecht, The Netherlands. w.wu1@uu.nl.\"\n",
      "\"Division of Pediatric Allergy-Immunology, National Jewish Health, Denver, USA.\"\n",
      "\"Human Oncology and Pathogenesis Program (HOPP), Immuno-Oncology Service, Memorial Sloan Kettering Cancer Center, New York, NY, USA. chandrs1@mskcc.org.\"\n",
      "\"Seqirus, Parkville, VIC, Australia.\"\n",
      "\"Histocompatibility Laboratory, Contract for Young Research Unit INSERM 94-03 and INSERM Unit 311, Blood Transfusion Establishment, Strasbourg, France.\"\n",
      "\"Philochem AG, 8112 Otelfingen, Switzerland.\"\n",
      "\"Immunocore Limited, 101 Park Drive, Milton Park, Abingdon, Oxon, OX14 4RX, United Kingdom.\"\n",
      "\"Laboratory of Immunomonitoring in Oncology, and CNRS-UMS 3655 and INSERM-US23, Gustave Roussy Cancer Campus, Villejuif, France.\"\n",
      "\"Mass Spectrometry Platform, Chan Zuckerberg Biohub, Stanford, CA, United States.\"\n",
      "\"\\xc2\\xa7\\xc2\\xa7\\xc2\\xa7\\xc2\\xa7BCN Peptides, Pol. Ind. Els Vinyets-Els Fogars II. 08777 Sant Quinti de Mediona (Barcelona), Spain.\"\n",
      "\"Biotherapeutics and Translational Research, Pharmacokinetics, Dynamics &amp; Metabolism, Pfizer Global Research and Development, Sandwich, Kent, CT13-9NJ, UK. rob.webster@pfizer.com.\"\n",
      "\"\\xe2\\x80\\xa1Centro de Biolog\\xc3\\xada Molecular Severo Ochoa (CSIC-UAM), 28049 Madrid, Spain.\"\n",
      "\"Molecular Vaccine Design, German Center for Infection Research (DZIF), Partner Site Heidelberg, Heidelberg, Germany.\"\n",
      "\"Nexthink, Prilly, Switzerland.\"\n",
      "\"Safety &amp; Environmental Assurance Centre, Unilever, Colworth Science Park, Sharnbrook MK44 1LQ, UK.\"\n",
      "\"Vaccine Research Unit, Pfizer Global Research and Development, Sandwich, Kent, CT13-9NJ, UK. brian.champion@pfizer.com.\"\n",
      "\"Centro de Investigaci\\xc3\\xb3n Biom\\xc3\\xa9dica en Red de Enfermedades Hep\\xc3\\xa1ticas y Digestivas (CIBEREHD), Pamplona, Spain.\"\n",
      "\"From the \\xe2\\x80\\xa1Proteomics Unit, Spanish National Biotechnology Centre (CSIC), Darwin 3, 28049, Madrid, Spain.\"\n",
      "\"GENimmune NV (Innogenetics NV), Ghent, Belgium.\"\n",
      "\"Molecular Medicine Program, Taiwan International Graduate Program, Taipei, Taiwan.\"\n",
      "\"Singapore Immunology Network, A*STAR, Singapore.\"\n",
      "\"Pure Protein L.L.C., Oklahoma City, Oklahoma 73104-3698, USA. rico-buchli@ouhsc.edu\"\n",
      "\"Immunocore Ltd., Milton Park, Abingdon, United Kingdom.\"\n",
      "\"Cancer Immunoregulation Unit, Istituto Nazionale per lo Studio e la Cura dei Tumori, &quot;Fondazione Pascale&quot; - IRCCS, 80131, Naples, Italy.\"\n",
      "\"Cytel Corporation, San Diego, California 92121.\"\n",
      "\"The Division of Structural Biology, The Wellcome Trust Centre for Human Genetics, Oxford, UK.\"\n",
      "\"Diamond Light Source, Harwell Science and Innovation Campus, Didcot, Oxfordshire OX11 0DE, UK.\"\n",
      "\"Centre for Lymphoid Cancer, British Columbia Cancer, Vancouver, BC, Canada.\"\n",
      "\"Netherlands Proteomics Centre, CH Utrecht, Netherlands.\"\n",
      "\"Cytel, San Diego, California 92121, USA.\"\n",
      "\"Eureka Therapeutics, Emeryville, California, USA.\"\n",
      "\"Experimental Therapeutics Center, Memorial Sloan Kettering Cancer Center, 1275 York Avenue, New York, NY, 10065, USA. scheinbd@mskcc.org.\"\n",
      "\"Division of BioTherapeutics, Leiden Academic Centre for Drug Research, Leiden, The Netherlands. j.kuiper@lacdr.leidenuniv.nl.\"\n",
      "\"Division of Hematology, H\\xc3\\xb4pital Maisonneuve-Rosemont, 5415 de l&#x27;Assomption Boulevard, Montreal, Quebec, Canada H1T 2M4.\"\n",
      "\"Dendreon Corporation, Mountain View, California 94043, USA. mvpeshwa@dendreon.com\"\n",
      "\"**Computational Systems Biology Group, Spanish National Biotechnology Centre (CSIC), Darwin 3, 28049, Madrid, Spain.\"\n",
      "\"Cytel Corporation, San Diego, California 92121, USA.\"\n",
      "\"Proteomics Unit, Spanish National Biotechnology Centre (CSIC), Darwin 3, 28049 Madrid, Spain.\"\n",
      "\"Molecular Pharmacology Program, SKI, Memorial Sloan Kettering Cancer Center, New York, NY, USA.\"\n",
      "\"EpiVax, Inc., Providence, RI 02903, USA.\"\n",
      "\"Biotechnology Division, Defence Research and Development Establishment, Gwalior 474002, India.\"\n",
      "\"Immunocore, Ltd., Abingdon, Oxfordshire OX14 4RY, United Kingdom; and Stephen.Harper@immunocore.com bent.jakobsen@immunocore.com.\"\n",
      "\"Immunocore, Limited, 57c Milton Park, Abingdon, Oxon, OX14 4RX, UK.\"\n",
      "\"D\\xc3\\xa9partement Endocrinologie, M\\xc3\\xa9tabolisme et Diab\\xc3\\xa8te, Equipe Immunologie des Diab\\xc3\\xa8tes, INSERM U1016, 75014, Paris, France.\"\n",
      "\"Pharmexa-Epimmune Inc., San Diego, California, USA. jalexander@paxvax.com\"\n",
      "\"Immunotope, Inc., Doylestown, PA, USA.\"\n",
      "\"FRE 2736 CNRS / bioM\\xc3\\xa9rieux, IFR 128 BioSciences Lyon-Gerland, Lyon, France.\"\n",
      "\"Program for Drug Discovery and Medical Technology Platforms (DMP), RIKEN, Yokohama, Japan. shin-ichiro.fujii@riken.jp.\"\n",
      "\"Physiology Biophysics and Systems Biology Program, Weill Cornell Medicine, New York, NY.\"\n",
      "\"Division of Infectious Disease, Key Laboratory of Surveillance and Early Warning on Infectious Disease, Chinese Center for Disease Control and Prevention.\"\n",
      "\"Facility for Biotechnology Resources, Center for Biologics Evaluation and Research, US Food and Drug Administration, Silver Spring, MD 20993, USA.\"\n",
      "\"Laboratory of Clinical and Experimental Endocrinology, KU Leuven, Leuven, Belgium.\"\n",
      "\"Early Drug Development Service, Memorial Sloan Kettering Cancer Center, New York, NY, USA.\"\n",
      "\"Innovative Targeting Solutions, Vancouver, BC, Canada.\"\n",
      "\"MyeloPro Diagnostics and Research, Vienna, Austria.\"\n",
      "\"Sanquin, Amsterdam, The Netherlands.\"\n",
      "\"Immunotope, Inc., Doylestown, PA 18902, USA.\"\n",
      "\"Clinical Cooperation Unit Translational Immunology, German Cancer Consortium (DKTK), DKFZ partner site T\\xc3\\xbcbingen, T\\xc3\\xbcbingen, Germany.\"\n",
      "\"Seqirus, Parkville, Victoria, Australia.\"\n",
      "\"Immunitrack, Copenhagen, Denmark.\"\n",
      "\"Vaccine Research Unit, Pfizer Global Research and Development, Sandwich, Kent, CT13-9NJ, UK. paul.cockle@pfizer.com.\"\n",
      "\"Netherlands Proteomics Centre, Padualaan 8, 3584 CH Utrecht, The Netherlands.\"\n",
      "\"Deepdene Surgery, Deepdene, VIC, 3103, Australia.\"\n",
      "\"Animal Facility, Istituto Nazionale per lo Studio e la Cura dei Tumori, &quot;Fondazione Pascale&quot;-IRCCS, 80131, Naples, Italy.\"\n",
      "\"Hubei Provincial Center for Disease Control and Prevention, Wuhan, Hubei, China.\"\n",
      "\"Immunology and Microbial Pathogenesis Program, Weill Cornell Medicine, New York, NY.\"\n",
      "\"From the Division for Cell Biology and.\"\n",
      "\"Marie-Jos\\xc3\\xa9e and Henry R. Kravis Center for Molecular Oncology, Memorial Sloan Kettering Cancer Center, New York, NY, USA.\"\n",
      "\"Human Oncology and Pathogenesis Program (HOPP), Immuno-Oncology Service, Memorial Sloan Kettering Cancer Center, New York, NY, USA.\"\n",
      "\"Equipe Labellis\\xc3\\xa9e par la Fondation pour la Recherche M\\xc3\\xa9dicale, FRM.\"\n",
      "\"Avidex Limited, Abingdon, Oxon, OX14 4RX, UK.\"\n",
      "\"BCN Peptides SA, Barcelona, Spain.\"\n",
      "\"EpiVax Inc., Providence, RI, United States.\"\n",
      "\"Facility for Biotechnology Resources, Center for Biologics Evaluation and Research, Food and Drug Administration, Silver Spring, MD, United States.\"\n",
      "\"Proteomics Unit, Spanish National Biotechnology Centre, Madrid, Spain.\"\n",
      "\"Centre R\\xc3\\xa9gional de Transfusion Sanguine, Nantes.\"\n",
      "\"German Cancer Consortium (DKTK), DKFZ Partner Site, T\\xc3\\xbcbingen, Germany.\"\n",
      "\"**BioNTech AG, Holderlinstr. 8,55131 Mainz, Germany.\"\n",
      "\"New Opportunities Unit, Pfizer Global Research and Development, Sandwich, Kent, CT13 -9NJ, UK. h.h.bright@btinternet.com.\"\n",
      "\"Immatics Biotechnologies GmbH, 72076 T\\xc3\\xbcbingen, Germany; and.\"\n",
      "\"Division of BioTherapeutics, Leiden Academic Centre for Drug Research, Leiden, The Netherlands. f.h.schaftenaar@lacdr.leidenuniv.nl.\"\n",
      "\"Protein Metrics Inc., San Carlos, CA 94070.\"\n",
      "\"PaxVax Inc., San Diego, California, USA.\"\n",
      "\"New Drug Development Center, Osong Medical Innovation Foundation, Cheongju-si, Republic of Korea.\"\n",
      "\"Arthritis and Immunology Program, Oklahoma Medical Research Foundation, Oklahoma City 73104, USA.\"\n",
      "\"Pure MHC LLC, Austin, United States.\"\n",
      "\"Medical Office, Copenhagen, Denmark.\"\n",
      "\"\\xc2\\xa7Rheumatology Unit, Bnai Zion Medical Center, Haifa 31048, Israel.\"\n",
      "\"Epimmune Inc., San Diego, CA 92121, USA. dmckinney@epimmune.com\"\n",
      "\"Epimmune Inc., San Diego, CA 92121, USA. jalexander@epimmune.com\"\n",
      "\"Discovery Chemistry and Technology, AbbVie North Chicago, IL, United States.\"\n",
      "\"Genome Center Health 2030, Chemin de Mines 9, 1202, Gen\\xc3\\xa8ve, Switzerland.\"\n",
      "\"Istituto di Biologia Cellulare, Rome, Italy.\"\n",
      "\"Argonex, Inc., Charlottesville, Virginia 22903, USA.\"\n",
      "\"Vaccine Branch, NCI, National Naval Medical Center, Bldg 8, Bethesda, MD 20892, USA. qinanj@mailnih.gov\"\n",
      "\"Netherlands Proteomics Centre , Padualaan 8 , 3584 CH Utrecht , The Netherlands.\"\n",
      "\"Unit\\xc3\\xa9 Mixte CNRS BioM\\xc3\\xa9rieux UMR 2142, Lyon, France.\"\n",
      "\"Molecular Pharmacology Program, SKI, Memorial Sloan Kettering Cancer Center, New York, NY, USA. scheinbd@mskcc.org.\"\n",
      "\"BIC-KRDL, Kent Ridge Digital Labs, 21 Heng Mui Keng Terrace, Singapore 119613. vladimir@krdl.org.sg\"\n",
      "\"Cytel Corporation, San Diego, CA 92121.\"\n",
      "\"Pathologie Ingolstadt, Ingolstadt, Germany.\"\n",
      "\"Division of Viral Products, Center for Biologics Evaluation and Research, U.S. Food and Drug Administration, Silver Spring, Maryland, USA.\"\n",
      "\"Cytel, San Diego, CA 92121.\"\n",
      "\"Consejo Superior de Investigaciones Cient\\xc3\\xadficas, Madrid, Spain.\"\n",
      "\"EpiVax, Inc., Providence, RI, United States.\"\n",
      "\"Netherlands Proteomics Centre , Padualaan 8, 3584 CH Utrecht, The Netherlands.\"\n",
      "\"Princess M\\xc3\\xa1xima Center for Pediatric Oncology, Utrecht, Netherlands.\"\n",
      "\"German Cancer Consortium (DKTK), DKFZ partner site T\\xc3\\xbcbingen, T\\xc3\\xbcbingen, Germany.\"\n",
      "\"Cytel Corporation, San Diego, CA 92121, USA.\"\n",
      "\"Division of Applied Regulatory Science, Office of Translational Science, Center for Drugs Evaluation and Research, Food and Drug Administration, Silver Spring, MD, United States.\"\n",
      "\"Genentech, Inc., South San Francisco, CA, USA.\"\n",
      "\"Unidad de Presentaci\\xc3\\xb3n y Regulaci\\xc3\\xb3n Inmunes, 28220 Majadahonda (Madrid), Spain.\"\n",
      "\"Medical Faculty Mannheim, Mannheim, Germany.\"\n",
      "\"Netherlands Proteomics Centre, 3584 CH Utrecht, The Netherlands.\"\n",
      "\"Immatics Biotechnologies GmbH, T\\xc3\\xbcbingen, Germany. andreas.moritz@student.uni-tuebingen.de maurer@immatics.com.\"\n",
      "\"Immunitrack Aps, R\\xc3\\xb8nnegade 4, 2100 Copenhagen East, Denmark.\"\n",
      "\"From the \\xe2\\x80\\xa1Centro de Biolog\\xc3\\xada Molecular Severo Ochoa (CSIC-UAM), 28049 Madrid, Spain.\"\n",
      "\"Infection Prevention and Healthcare Epidemiology Unit, Alfred Health, Melbourne, VIC, 3004, Australia.\"\n",
      "\"Sanofi Pasteur, Orlando, FL, United States.\"\n",
      "\"Innovative Immunological Models, Istituto Nazionale Tumori - IRCCS - &quot;Fond G. Pascale&quot;, Napoli, Italy.\"\n",
      "\"Immunology Program, Weill Cornell Medicine, New York, New York, USA.\"\n",
      "\"Cytel, San Diego, CA 92121, USA.\"\n",
      "\"InnatOss Laboratories B.V., Oss, Netherlands.\"\n",
      "\"Physiology Biophysics and Systems Biology Program, Weill Cornell Medicine, New York, New York, USA.\"\n",
      "\"Weill Cornell Medicine, New York, New York.\"\n",
      "\"Tissue Typing and Immunogenetics Unit, Hadassah Medical Center, Jerusalem, Israel.\"\n",
      "\"Immunocore LTD, Oxford, United Kingdom.\"\n",
      "\"Biotherapeutics and Translational Research, Pharmacokinetics, Dynamics &amp; Metabolism, Pfizer Global Research and Development, Sandwich, Kent, CT13-9NJ, UK. Rebecca.Platt@Covance.com.\"\n",
      "\"German Center for Infection Research (DZIF), Partner Site Hannover-Braunschweig, Inhoffenstr. 7, 38124 Braunschweig, Germany.\"\n",
      "\"Epimmune, Inc., San Diego, CA, USA.\"\n",
      "\"NIHR Southampton BRC, UHS NHS FT, Southampton, United Kingdom.\"\n",
      "\"Shanghai Key Laboratory of Hepatobiliary Tumor Biology (EHBH), Shanghai, 200438, China.\"\n",
      "\"Agenus Inc., Lexington, KY, USA.\"\n",
      "\"Assistance Publique H\\xc3\\xb4pitaux de Paris, Laboratoire d&#x27;Immunologie et Histocompatibilit\\xc3\\xa9, H\\xc3\\xb4pital Saint-Louis, Paris, France.\"\n",
      "\"Pure MHC LLC, Austin, Texas 78229, and.\"\n",
      "\"Division of Pediatric Allergy-Immunology, National Jewish Health, Denver, CO, 80206, USA.\"\n",
      "\"Cell Therapy Service, Memorial Sloan Kettering Cancer Center, New York, NY, USA. klebanoc@mskcc.org.\"\n",
      "\"\\xc2\\xb6Netherlands Proteomics Centre, Padualaan 8, 3584 CH Utrecht, the Netherlands.\"\n",
      "\"Genentech, Inc., South San Francisco, California, USA.\"\n",
      "\"Ziegler Biosolutions, Waldshut-Tiengen, Germany.\"\n",
      "\"Division of Cancer Research, Peter MacCallum Cancer Centre, Melbourne, Victoria, Australia.\"\n",
      "\"Singapore Immunology Network, Agency for Science, Technology and Research, Singapore 138648.\"\n",
      "\"Meng Yi Center Limited, Macau 999078, China.\"\n",
      "\"ImmunityBio, Inc, Culver City, California, USA.\"\n",
      "\"From the Division for Cell Biology and dzajonc@lji.org.\"\n",
      "\"City of Hope National Medical Center, Duarte, CA, United States.\"\n",
      "\"Takara Shuzo Co., Ltd., Biotechnology Research Laboratories, Otsu, Shiga, Japan.\"\n",
      "\"Lilly Biotechnology Center, Eli Lilly and Co, San Diego, CA, USA.\"\n",
      "\"Key Laboratory of Signaling Regulation and Targeting Therapy of Liver Cancer (SMMU), Ministry of Education, Shanghai, 200438, China.\"\n",
      "\"Philochem AG, Libernstrasse 3, 8112, Otelfingen, Switzerland. tim.fugmann@philochem.ch.\"\n",
      "\"TB Research Programme, MRC Laboratories, Fajara, The Gambia. petiet@stanford.edu\"\n",
      "\"Immunocore, Ltd., Abingdon, OX14 4RY, UK.\"\n",
      "\"\\xe2\\x80\\x96Immatics Biotechnologies GmbH, Paul-Ehrlich-Str. 15,72076 Tuebingen, Germany.\"\n",
      "\"Immunitrack ApS, Copenhagen, Denmark.\"\n",
      "\"Sanquin, Amsterdam, the Netherlands.\"\n",
      "\"TScan Therapeutics, Waltham, MA, USA.\"\n",
      "\"Division of Infectious Diseases, MGH, Boston, MA, USA.\"\n",
      "\"Laboratoire d&#x27;Immunologie et d&#x27;Histocompatibilit\\xc3\\xa9, INSERM U.396, Centre G. Hayem, H\\xc3\\xb4pital Saint-Louis, 1, Av. Claude Vellefaux, 75475 Paris Cedex 10, France.\"\n",
      "\"MLL Munich Leukemia Laboratory, Munich, Germany.\"\n",
      "\"D\\xc3\\xa9partement de M\\xc3\\xa9decine, Gustave Roussy, 94805, Villejuif, France.\"\n",
      "\"Bioinformatics Core, Memorial Sloan Kettering Cancer Center, New York, NY, USA.\"\n",
      "\"Immunocore, Ltd., Abingdon, Oxfordshire OX14 4RY, United Kingdom; and.\"\n",
      "\"Unit\\xc3\\xa9 d&#x27;Immunopathologie Virale, Centre de Recherche, H\\xc3\\xb4pital Sainte-Justine, Montreal, Quebec, Canada.\"\n",
      "\"Molecular Pharmacology Program, Memorial Sloan Kettering Cancer Center, New York, NY.\"\n",
      "\"Molecular Pharmacology Program, Memorial Sloan Kettering Cancer Center, New York, New York, United States of America.\"\n",
      "\"Tuberculosis Research Programme, Medical Research Council Laboratories, Fajara, BANJUL, Gambia, West Africa. mklein@mrc.gm\"\n",
      "\"Translational Oncology, 55131 Mainz, Germany.\"\n",
      "\"Leidos Life Sciences, Leidos Inc., Frederick, MD, United States.\"\n",
      "\"Singapore Immunology Network, 8A Biomedical Grove, #03-06 Immunos, Singapore, 138648, Singapore. ren_ee_chee@immunol.a-star.edu.sg.\"\n",
      "\"Philochem AG, Libernstrasse 3, 8112, Otelfingen, Switzerland.\"\n",
      "\"Pacific Northwest National Laboratory, Richland, United States.\"\n",
      "\"Max Delbr\\xc3\\xbcck Center for Molecular Medicine , Berlin, Germany.\"\n",
      "\"Janssen Research &amp; Development, LLC, Horsham, Philadelphia, Pennsylvania 19044.\"\n",
      "\"Evaxion Biotech, Bredgade 34E, 1260, Copenhagen, Denmark.\"\n",
      "\"Integrated Research and Treatment Center (IFB-Tx), MHH, Hanover, Germany.\"\n",
      "\"Cytel Corporation, San Diego, CA 92121, USA. alexander@cytelcorp.com\"\n",
      "\"Laboratory of Molecular Biology and Viral Oncology, Istituto Nazionale per lo Studio e la Cura dei Tumori, &quot;Fondazione Pascale&quot;-IRCCS, 80131, Naples, Italy.\"\n",
      "\"Complete Omics, Baltimore, MD 21227, USA.\"\n",
      "\"Guangdong-Hong Kong-Macau Great Bay Area Geroscience Joint Laboratory, Guangzhou 510000, China.\"\n",
      "\"Avidex Limited (subsidiary of Medigene Ag), 57c Milton Park, Abingdon, Oxon OX14 4RX, UK.\"\n",
      "\"Oncology R&amp;D, GlaxoSmithKline, Stevenage, UK.\"\n",
      "\"Laboratory of Cancer Immunoregulation, Istituto Nazionale per lo Studio e la Cura dei Tumori, &quot;Fondazione Pascale&quot;-IRCCS, Via Mariano Semmola, 1, 80131, Naples, Italy.\"\n",
      "\"EMD Millipore Corporation, Billerica, MA, USA.\"\n",
      "\"Austrian Agency for Health and Food Safety (AGES), Vienna, Austria.\"\n",
      "\"Vancouver Prostate Centre, Vancouver, Canada.\"\n",
      "\"Unidad de Presentaci\\xc3\\xb3n y Regulaci\\xc3\\xb3n Inmunes, 28220 Majadahonda (Madrid), Spain. Electronic address: dlopez@isciii.es.\"\n",
      "\"Division for Development of Peptide Therapeutics, TherapiaGene Corp, 341 Pojung-ri, Koosung-Myon, Yongin City, Kyonggi-do 449-910, South Korea.\"\n",
      "\"Weill Cornell Medicine, New York, New York, United States of America.\"\n",
      "\"Agency for Science, Technology and Research, Singapore Immunology Network, Singapore. evan_newell@immunol.a-star.edu.sg\"\n",
      "\"CIMT/CIP - Association for Cancer Immunotherapy, working group Cancer Immunoguiding Program, Mainz, Germany.\"\n",
      "\"TC Metrix, Epalinge 1066, Switzerland.\"\n",
      "\"Laboratory for Protein Functional and Structural Biology, RIKEN Center for Biosystems Dynamics Research, Yokohama, Japan.\"\n",
      "\"Guangzhou Center for Disease Control and Prevention, Guangzhou 510000, China.\"\n",
      "\"Epimmune, San Diego, CA, USA.\"\n",
      "\"4 German Center for Infection Research (DZIF) , Partner Sites T\\xc3\\xbcbingen and Munich, Germany .\"\n",
      "\"From the \\xe2\\x80\\xa1Proteomics Unit, Spanish National Biotechnology Centre (CSIC), Darwin 3, 28049, Madrid, Spain; A.J.R.Heck@uu.nl mmarcilla@cnb.csic.es.\"\n",
      "\"Laboratory for Immunotherapy, RIKEN Center for Integrative Medical Science (IMS), Yokohama, Japan. shin-ichiro.fujii@riken.jp.\"\n",
      "\"INSERM U580, H\\xc3\\xb4pital Necker, 161 rue de S\\xc3\\xa8vres, 75015 Paris, France. vanendert@necker.fr\"\n",
      "\"Northwest Biotherapeutics, L.L.C., Pacific Northwest Cancer Foundation, Seattle, Washington 98125, USA. mls@nwbio.org\"\n",
      "\"Seqirus, Parkville, Australia.\"\n",
      "\"HLA Foundation Laboratory, Kyoto, Japan.\"\n",
      "\"DKFZ, Division of Developmental Immunology, 69120 Heidelberg, Germany.\"\n",
      "\"\\xe2\\x80\\xa1\\xe2\\x80\\xa1Macromolecular X-ray Crystallography Unit, Spanish National Biotechnology Centre (CSIC), Darwin 3, 28049, Madrid, Spain.\"\n",
      "\"Biotechnology Research Laboratories, Takara Shuzo Co., Ltd., Otsu, Shiga, Japan. nukayai@takara.co.jp\"\n",
      "\"Centre for Innovative and Collaborative Health Systems Research Quality and System Performance , IWK Health Centre , Halifax , Nova Scotia B3K 6R8 , Canada.\"\n",
      "\"Istituto Giannina Gaslini, 16147 Genova, Italy.\"\n",
      "\"EpiVax, Inc., Providence, RI, USA.\"\n",
      "\"Present address: Immatics Biotechnologies GmbH, Paul-Ehrlich-Str. 15, D-72076, T\\xc3\\xbcbingen, Germany.\"\n",
      "\"IRCCS Ospedale Pediatrico Bambino Ges\\xc3\\xb9, 00146 Rome, Italy.\"\n",
      "\"Division of BioTherapeutics, Leiden Academic Centre for Drug Research, Leiden, The Netherlands.\"\n",
      "\"Division of Emerging Transfusion Transmitted Diseases, Center for Biologics Evaluation and Research, US Food and Drug Administration, Silver Spring, Maryland, USA.\"\n",
      "\"Ludwig Center, Johns Hopkins Kimmel Cancer Center, Baltimore, Maryland.\"\n",
      "\"Sanquin Blood Supply, Amsterdam, The Netherlands.\"\n",
      "\"German Cancer Consortium, Partner Site T\\xc3\\xbcbingen, T\\xc3\\xbcbingen, Germany.\"\n",
      "\"Epimmune, 5820 Nancy Ridge Drive, San Diego, CA 92121, USA.\"\n",
      "\"Laboratory of Immunology, Division of Therapeutic Proteins, Office of Biotechnology Products, Center for Drug Evaluation and Research, Food and Drug Administration, Bethesda, MD 20892, USA. Michael.norcross@fda.hhs.gov\"\n",
      "\"\\xe2\\x80\\xa1Centro de Biolog\\xc3\\xada Molecular Severo Ochoa (CSIC-UAM), 28049 Madrid, Spain. Electronic address: aldecastro@cbm.csic.es.\"\n",
      "\"Molecular and Cellular Immunology Section, Laboratory of Immunogenetics, NIAID, NIH, Rockville, MD 20852.\"\n",
      "\"INTAVIS Peptide Services GmbH &amp; Co.KG, Waldh\\xc3\\xa4user Str. 64, 72076, T\\xc3\\xbcbingen, Germany.\"\n",
      "\"Laboratory of Cancer Immunoregulation, Istituto Nazionale per lo Studio e la Cura dei Tumori, &quot;Fondazione Pascale&quot;-IRCCS, Via Mariano Semmola, 1, 80131, Naples, Italy. l.buonaguro@istitutotumori.na.it.\"\n",
      "\"Pure Protein LLC, Oklahoma City, OK 73104, USA.\"\n",
      "\"Laboratorio de Immunobiolog\\xc3\\xada, Unidad de Investigaci\\xc3\\xb3n en Diferenciaci\\xc3\\xb3n Celular y C\\xc3\\xa1ncer, Facultad de Estudios Superiores Zaragoza, UNAM, M\\xc3\\xa9xico City, Mexico.\"\n"
     ]
    }
   ],
   "source": [
    "aff_type = {}\n",
    "for aff in all_affiliations:\n",
    "    aff_low = aff.lower()\n",
    "    if \"hospital\" in aff_low:\n",
    "        aff_type[aff] = \"hospital\"\n",
    "        continue\n",
    "    if \"univers\" in aff_low or \"department\" in aff_low or \"school\" in aff_low or \"college\"in aff_low:\n",
    "        aff_type[aff] = \"university\"\n",
    "        continue\n",
    "    if \"institute\" in aff_low or \"institut\" in aff_low or \"research cent\" in aff_low or \"embl\" in aff_low \\\n",
    "    or \"academy\" in aff_low or \"national cent\"in aff_low :\n",
    "        aff_type[aff] = \"institute\"\n",
    "        continue\n",
    "    #if \"inc.\" in aff_low or \"ltd\" in aff_low:\n",
    "    aff_type[aff] = \"private\"\n",
    "    #    continue\n",
    "    print(aff)\n",
    "    "
   ]
  },
  {
   "cell_type": "code",
   "execution_count": 39,
   "metadata": {},
   "outputs": [],
   "source": [
    "aff_type_df = pd.DataFrame({\"type\":aff_type.values(), \"affiliation\":aff_type.keys()})\n",
    "aff_type_df.to_csv(\"aff_types.csv\")"
   ]
  },
  {
   "cell_type": "code",
   "execution_count": 26,
   "metadata": {},
   "outputs": [],
   "source": [
    "aff_pmid_df[\"institution_type\"] = aff_pmid_df.apply(lambda x: aff_type[x.aff], axis=1)"
   ]
  },
  {
   "cell_type": "code",
   "execution_count": 27,
   "metadata": {},
   "outputs": [
    {
     "data": {
      "text/html": [
       "<div>\n",
       "<style scoped>\n",
       "    .dataframe tbody tr th:only-of-type {\n",
       "        vertical-align: middle;\n",
       "    }\n",
       "\n",
       "    .dataframe tbody tr th {\n",
       "        vertical-align: top;\n",
       "    }\n",
       "\n",
       "    .dataframe thead th {\n",
       "        text-align: right;\n",
       "    }\n",
       "</style>\n",
       "<table border=\"1\" class=\"dataframe\">\n",
       "  <thead>\n",
       "    <tr style=\"text-align: right;\">\n",
       "      <th></th>\n",
       "      <th>pmid</th>\n",
       "      <th>aff</th>\n",
       "      <th>year</th>\n",
       "      <th>country</th>\n",
       "      <th>institution_type</th>\n",
       "    </tr>\n",
       "  </thead>\n",
       "  <tbody>\n",
       "    <tr>\n",
       "      <th>0</th>\n",
       "      <td>15448372</td>\n",
       "      <td>\"Division of Cancer Research, Institute of Bio...</td>\n",
       "      <td>2004</td>\n",
       "      <td>China</td>\n",
       "      <td>institute</td>\n",
       "    </tr>\n",
       "    <tr>\n",
       "      <th>1</th>\n",
       "      <td>15448372</td>\n",
       "      <td>\"Institute of Clinical Medicine, National Yang...</td>\n",
       "      <td>2004</td>\n",
       "      <td>China</td>\n",
       "      <td>hospital</td>\n",
       "    </tr>\n",
       "    <tr>\n",
       "      <th>2</th>\n",
       "      <td>15448372</td>\n",
       "      <td>\"Department of Research and Education, Taipei ...</td>\n",
       "      <td>2004</td>\n",
       "      <td>China</td>\n",
       "      <td>hospital</td>\n",
       "    </tr>\n",
       "    <tr>\n",
       "      <th>3</th>\n",
       "      <td>15448372</td>\n",
       "      <td>\"Institute of Microbiology and Immunology, Nat...</td>\n",
       "      <td>2004</td>\n",
       "      <td>China</td>\n",
       "      <td>university</td>\n",
       "    </tr>\n",
       "    <tr>\n",
       "      <th>4</th>\n",
       "      <td>15140958</td>\n",
       "      <td>\"Department of Immunology, Peking University H...</td>\n",
       "      <td>2004</td>\n",
       "      <td>China</td>\n",
       "      <td>university</td>\n",
       "    </tr>\n",
       "    <tr>\n",
       "      <th>...</th>\n",
       "      <td>...</td>\n",
       "      <td>...</td>\n",
       "      <td>...</td>\n",
       "      <td>...</td>\n",
       "      <td>...</td>\n",
       "    </tr>\n",
       "    <tr>\n",
       "      <th>3627</th>\n",
       "      <td>9593785</td>\n",
       "      <td>\"Unit\\xc3\\xa9 d&amp;#x27;Immunit\\xc3\\xa9 Cellulair...</td>\n",
       "      <td>1998</td>\n",
       "      <td>France</td>\n",
       "      <td>institute</td>\n",
       "    </tr>\n",
       "    <tr>\n",
       "      <th>3628</th>\n",
       "      <td>36806685</td>\n",
       "      <td>\"National Research Center for Hematology, Mosc...</td>\n",
       "      <td>2023</td>\n",
       "      <td>Russia</td>\n",
       "      <td>institute</td>\n",
       "    </tr>\n",
       "    <tr>\n",
       "      <th>3629</th>\n",
       "      <td>36806685</td>\n",
       "      <td>\"Laboratory of Structural Immunology, Departme...</td>\n",
       "      <td>2023</td>\n",
       "      <td>United States</td>\n",
       "      <td>hospital</td>\n",
       "    </tr>\n",
       "    <tr>\n",
       "      <th>3630</th>\n",
       "      <td>36806685</td>\n",
       "      <td>\"W.M. Keck Laboratory for Structural Biology, ...</td>\n",
       "      <td>2023</td>\n",
       "      <td>United States</td>\n",
       "      <td>university</td>\n",
       "    </tr>\n",
       "    <tr>\n",
       "      <th>3631</th>\n",
       "      <td>36806685</td>\n",
       "      <td>\"W.M. Keck Laboratory for Structural Biology, ...</td>\n",
       "      <td>2023</td>\n",
       "      <td>United States</td>\n",
       "      <td>university</td>\n",
       "    </tr>\n",
       "  </tbody>\n",
       "</table>\n",
       "<p>3632 rows × 5 columns</p>\n",
       "</div>"
      ],
      "text/plain": [
       "          pmid                                                aff  year  \\\n",
       "0     15448372  \"Division of Cancer Research, Institute of Bio...  2004   \n",
       "1     15448372  \"Institute of Clinical Medicine, National Yang...  2004   \n",
       "2     15448372  \"Department of Research and Education, Taipei ...  2004   \n",
       "3     15448372  \"Institute of Microbiology and Immunology, Nat...  2004   \n",
       "4     15140958  \"Department of Immunology, Peking University H...  2004   \n",
       "...        ...                                                ...   ...   \n",
       "3627   9593785  \"Unit\\xc3\\xa9 d&#x27;Immunit\\xc3\\xa9 Cellulair...  1998   \n",
       "3628  36806685  \"National Research Center for Hematology, Mosc...  2023   \n",
       "3629  36806685  \"Laboratory of Structural Immunology, Departme...  2023   \n",
       "3630  36806685  \"W.M. Keck Laboratory for Structural Biology, ...  2023   \n",
       "3631  36806685  \"W.M. Keck Laboratory for Structural Biology, ...  2023   \n",
       "\n",
       "            country institution_type  \n",
       "0             China        institute  \n",
       "1             China         hospital  \n",
       "2             China         hospital  \n",
       "3             China       university  \n",
       "4             China       university  \n",
       "...             ...              ...  \n",
       "3627         France        institute  \n",
       "3628         Russia        institute  \n",
       "3629  United States         hospital  \n",
       "3630  United States       university  \n",
       "3631  United States       university  \n",
       "\n",
       "[3632 rows x 5 columns]"
      ]
     },
     "execution_count": 27,
     "metadata": {},
     "output_type": "execute_result"
    }
   ],
   "source": [
    "aff_pmid_df"
   ]
  },
  {
   "cell_type": "code",
   "execution_count": 35,
   "metadata": {},
   "outputs": [],
   "source": [
    "aff_pmid_df.to_csv(\"affiliations_countries_year.csv\")\n",
    "#aff_pmid_df = pd.read_csv(\"affiliations_countries_year.csv\")"
   ]
  },
  {
   "cell_type": "code",
   "execution_count": 36,
   "metadata": {},
   "outputs": [
    {
     "data": {
      "text/html": [
       "<div>\n",
       "<style scoped>\n",
       "    .dataframe tbody tr th:only-of-type {\n",
       "        vertical-align: middle;\n",
       "    }\n",
       "\n",
       "    .dataframe tbody tr th {\n",
       "        vertical-align: top;\n",
       "    }\n",
       "\n",
       "    .dataframe thead th {\n",
       "        text-align: right;\n",
       "    }\n",
       "</style>\n",
       "<table border=\"1\" class=\"dataframe\">\n",
       "  <thead>\n",
       "    <tr style=\"text-align: right;\">\n",
       "      <th></th>\n",
       "      <th>pmid</th>\n",
       "      <th>aff</th>\n",
       "      <th>year</th>\n",
       "      <th>country</th>\n",
       "      <th>institution_type</th>\n",
       "    </tr>\n",
       "  </thead>\n",
       "  <tbody>\n",
       "    <tr>\n",
       "      <th>0</th>\n",
       "      <td>15448372</td>\n",
       "      <td>\"Division of Cancer Research, Institute of Bio...</td>\n",
       "      <td>2004</td>\n",
       "      <td>China</td>\n",
       "      <td>institute</td>\n",
       "    </tr>\n",
       "    <tr>\n",
       "      <th>1</th>\n",
       "      <td>15448372</td>\n",
       "      <td>\"Institute of Clinical Medicine, National Yang...</td>\n",
       "      <td>2004</td>\n",
       "      <td>China</td>\n",
       "      <td>hospital</td>\n",
       "    </tr>\n",
       "    <tr>\n",
       "      <th>2</th>\n",
       "      <td>15448372</td>\n",
       "      <td>\"Department of Research and Education, Taipei ...</td>\n",
       "      <td>2004</td>\n",
       "      <td>China</td>\n",
       "      <td>hospital</td>\n",
       "    </tr>\n",
       "    <tr>\n",
       "      <th>3</th>\n",
       "      <td>15448372</td>\n",
       "      <td>\"Institute of Microbiology and Immunology, Nat...</td>\n",
       "      <td>2004</td>\n",
       "      <td>China</td>\n",
       "      <td>university</td>\n",
       "    </tr>\n",
       "    <tr>\n",
       "      <th>4</th>\n",
       "      <td>15140958</td>\n",
       "      <td>\"Department of Immunology, Peking University H...</td>\n",
       "      <td>2004</td>\n",
       "      <td>China</td>\n",
       "      <td>university</td>\n",
       "    </tr>\n",
       "    <tr>\n",
       "      <th>...</th>\n",
       "      <td>...</td>\n",
       "      <td>...</td>\n",
       "      <td>...</td>\n",
       "      <td>...</td>\n",
       "      <td>...</td>\n",
       "    </tr>\n",
       "    <tr>\n",
       "      <th>3627</th>\n",
       "      <td>9593785</td>\n",
       "      <td>\"Unit\\xc3\\xa9 d&amp;#x27;Immunit\\xc3\\xa9 Cellulair...</td>\n",
       "      <td>1998</td>\n",
       "      <td>France</td>\n",
       "      <td>institute</td>\n",
       "    </tr>\n",
       "    <tr>\n",
       "      <th>3628</th>\n",
       "      <td>36806685</td>\n",
       "      <td>\"National Research Center for Hematology, Mosc...</td>\n",
       "      <td>2023</td>\n",
       "      <td>Russia</td>\n",
       "      <td>institute</td>\n",
       "    </tr>\n",
       "    <tr>\n",
       "      <th>3629</th>\n",
       "      <td>36806685</td>\n",
       "      <td>\"Laboratory of Structural Immunology, Departme...</td>\n",
       "      <td>2023</td>\n",
       "      <td>United States</td>\n",
       "      <td>hospital</td>\n",
       "    </tr>\n",
       "    <tr>\n",
       "      <th>3630</th>\n",
       "      <td>36806685</td>\n",
       "      <td>\"W.M. Keck Laboratory for Structural Biology, ...</td>\n",
       "      <td>2023</td>\n",
       "      <td>United States</td>\n",
       "      <td>university</td>\n",
       "    </tr>\n",
       "    <tr>\n",
       "      <th>3631</th>\n",
       "      <td>36806685</td>\n",
       "      <td>\"W.M. Keck Laboratory for Structural Biology, ...</td>\n",
       "      <td>2023</td>\n",
       "      <td>United States</td>\n",
       "      <td>university</td>\n",
       "    </tr>\n",
       "  </tbody>\n",
       "</table>\n",
       "<p>3632 rows × 5 columns</p>\n",
       "</div>"
      ],
      "text/plain": [
       "          pmid                                                aff  year  \\\n",
       "0     15448372  \"Division of Cancer Research, Institute of Bio...  2004   \n",
       "1     15448372  \"Institute of Clinical Medicine, National Yang...  2004   \n",
       "2     15448372  \"Department of Research and Education, Taipei ...  2004   \n",
       "3     15448372  \"Institute of Microbiology and Immunology, Nat...  2004   \n",
       "4     15140958  \"Department of Immunology, Peking University H...  2004   \n",
       "...        ...                                                ...   ...   \n",
       "3627   9593785  \"Unit\\xc3\\xa9 d&#x27;Immunit\\xc3\\xa9 Cellulair...  1998   \n",
       "3628  36806685  \"National Research Center for Hematology, Mosc...  2023   \n",
       "3629  36806685  \"Laboratory of Structural Immunology, Departme...  2023   \n",
       "3630  36806685  \"W.M. Keck Laboratory for Structural Biology, ...  2023   \n",
       "3631  36806685  \"W.M. Keck Laboratory for Structural Biology, ...  2023   \n",
       "\n",
       "            country institution_type  \n",
       "0             China        institute  \n",
       "1             China         hospital  \n",
       "2             China         hospital  \n",
       "3             China       university  \n",
       "4             China       university  \n",
       "...             ...              ...  \n",
       "3627         France        institute  \n",
       "3628         Russia        institute  \n",
       "3629  United States         hospital  \n",
       "3630  United States       university  \n",
       "3631  United States       university  \n",
       "\n",
       "[3632 rows x 5 columns]"
      ]
     },
     "execution_count": 36,
     "metadata": {},
     "output_type": "execute_result"
    }
   ],
   "source": [
    "aff_pmid_df"
   ]
  },
  {
   "cell_type": "markdown",
   "metadata": {},
   "source": [
    "## 4) Merge - pmid metadata and iedb entries to a final data "
   ]
  },
  {
   "cell_type": "code",
   "execution_count": null,
   "metadata": {},
   "outputs": [],
   "source": [
    "df = pd.read_csv(\"full_iedb_data.csv\")\n",
    "aff_pmid_df = pd.read_csv(\"affiliations_countries_year.csv\")"
   ]
  },
  {
   "cell_type": "code",
   "execution_count": null,
   "metadata": {},
   "outputs": [],
   "source": [
    "merged_df = df.merge(aff_pmid_df, left_on=\"pubmed_id\", right_on=\"pmid\", how=\"left\")"
   ]
  },
  {
   "cell_type": "code",
   "execution_count": null,
   "metadata": {},
   "outputs": [],
   "source": []
  },
  {
   "cell_type": "code",
   "execution_count": null,
   "metadata": {},
   "outputs": [],
   "source": [
    "merged_df.to_csv(\"final_processed_data_merged.csv\")"
   ]
  },
  {
   "cell_type": "code",
   "execution_count": 20,
   "metadata": {},
   "outputs": [],
   "source": [
    "import plotly.express as px"
   ]
  },
  {
   "cell_type": "code",
   "execution_count": 26,
   "metadata": {},
   "outputs": [
    {
     "data": {
      "text/html": [
       "<div>\n",
       "<style scoped>\n",
       "    .dataframe tbody tr th:only-of-type {\n",
       "        vertical-align: middle;\n",
       "    }\n",
       "\n",
       "    .dataframe tbody tr th {\n",
       "        vertical-align: top;\n",
       "    }\n",
       "\n",
       "    .dataframe thead th {\n",
       "        text-align: right;\n",
       "    }\n",
       "</style>\n",
       "<table border=\"1\" class=\"dataframe\">\n",
       "  <thead>\n",
       "    <tr style=\"text-align: right;\">\n",
       "      <th></th>\n",
       "      <th></th>\n",
       "      <th>Unnamed: 0</th>\n",
       "      <th>pmid</th>\n",
       "      <th>aff</th>\n",
       "      <th>institution_type</th>\n",
       "    </tr>\n",
       "    <tr>\n",
       "      <th>country</th>\n",
       "      <th>year</th>\n",
       "      <th></th>\n",
       "      <th></th>\n",
       "      <th></th>\n",
       "      <th></th>\n",
       "    </tr>\n",
       "  </thead>\n",
       "  <tbody>\n",
       "    <tr>\n",
       "      <th>Albania</th>\n",
       "      <th>2016</th>\n",
       "      <td>2</td>\n",
       "      <td>2</td>\n",
       "      <td>2</td>\n",
       "      <td>2</td>\n",
       "    </tr>\n",
       "    <tr>\n",
       "      <th rowspan=\"4\" valign=\"top\">Argentina</th>\n",
       "      <th>2008</th>\n",
       "      <td>1</td>\n",
       "      <td>1</td>\n",
       "      <td>1</td>\n",
       "      <td>1</td>\n",
       "    </tr>\n",
       "    <tr>\n",
       "      <th>2014</th>\n",
       "      <td>1</td>\n",
       "      <td>1</td>\n",
       "      <td>1</td>\n",
       "      <td>1</td>\n",
       "    </tr>\n",
       "    <tr>\n",
       "      <th>2016</th>\n",
       "      <td>2</td>\n",
       "      <td>2</td>\n",
       "      <td>2</td>\n",
       "      <td>2</td>\n",
       "    </tr>\n",
       "    <tr>\n",
       "      <th>2017</th>\n",
       "      <td>2</td>\n",
       "      <td>2</td>\n",
       "      <td>2</td>\n",
       "      <td>2</td>\n",
       "    </tr>\n",
       "    <tr>\n",
       "      <th>...</th>\n",
       "      <th>...</th>\n",
       "      <td>...</td>\n",
       "      <td>...</td>\n",
       "      <td>...</td>\n",
       "      <td>...</td>\n",
       "    </tr>\n",
       "    <tr>\n",
       "      <th rowspan=\"4\" valign=\"top\">United States</th>\n",
       "      <th>2020</th>\n",
       "      <td>54</td>\n",
       "      <td>54</td>\n",
       "      <td>54</td>\n",
       "      <td>54</td>\n",
       "    </tr>\n",
       "    <tr>\n",
       "      <th>2021</th>\n",
       "      <td>213</td>\n",
       "      <td>213</td>\n",
       "      <td>213</td>\n",
       "      <td>213</td>\n",
       "    </tr>\n",
       "    <tr>\n",
       "      <th>2022</th>\n",
       "      <td>75</td>\n",
       "      <td>75</td>\n",
       "      <td>75</td>\n",
       "      <td>75</td>\n",
       "    </tr>\n",
       "    <tr>\n",
       "      <th>2023</th>\n",
       "      <td>7</td>\n",
       "      <td>7</td>\n",
       "      <td>7</td>\n",
       "      <td>7</td>\n",
       "    </tr>\n",
       "    <tr>\n",
       "      <th>Vatican City</th>\n",
       "      <th>2019</th>\n",
       "      <td>1</td>\n",
       "      <td>1</td>\n",
       "      <td>1</td>\n",
       "      <td>1</td>\n",
       "    </tr>\n",
       "  </tbody>\n",
       "</table>\n",
       "<p>472 rows × 4 columns</p>\n",
       "</div>"
      ],
      "text/plain": [
       "                    Unnamed: 0  pmid  aff  institution_type\n",
       "country       year                                         \n",
       "Albania       2016           2     2    2                 2\n",
       "Argentina     2008           1     1    1                 1\n",
       "              2014           1     1    1                 1\n",
       "              2016           2     2    2                 2\n",
       "              2017           2     2    2                 2\n",
       "...                        ...   ...  ...               ...\n",
       "United States 2020          54    54   54                54\n",
       "              2021         213   213  213               213\n",
       "              2022          75    75   75                75\n",
       "              2023           7     7    7                 7\n",
       "Vatican City  2019           1     1    1                 1\n",
       "\n",
       "[472 rows x 4 columns]"
      ]
     },
     "execution_count": 26,
     "metadata": {},
     "output_type": "execute_result"
    }
   ],
   "source": [
    "aff_pmid_df.groupby([\"country\", \"year\"]).count()"
   ]
  },
  {
   "cell_type": "markdown",
   "metadata": {},
   "source": [
    "### Plots - countries"
   ]
  },
  {
   "cell_type": "code",
   "execution_count": 32,
   "metadata": {},
   "outputs": [],
   "source": [
    "pd_aff_counts = aff_pmid_df.groupby(['country']).count().reset_index()"
   ]
  },
  {
   "cell_type": "code",
   "execution_count": 33,
   "metadata": {},
   "outputs": [],
   "source": [
    "pd_aff_counts[\"precentage\"] = pd_aff_counts[\"aff\"].apply(lambda x: x/pd_aff_counts[\"aff\"].sum())"
   ]
  },
  {
   "cell_type": "code",
   "execution_count": 34,
   "metadata": {},
   "outputs": [
    {
     "data": {
      "text/html": [
       "<div>\n",
       "<style scoped>\n",
       "    .dataframe tbody tr th:only-of-type {\n",
       "        vertical-align: middle;\n",
       "    }\n",
       "\n",
       "    .dataframe tbody tr th {\n",
       "        vertical-align: top;\n",
       "    }\n",
       "\n",
       "    .dataframe thead th {\n",
       "        text-align: right;\n",
       "    }\n",
       "</style>\n",
       "<table border=\"1\" class=\"dataframe\">\n",
       "  <thead>\n",
       "    <tr style=\"text-align: right;\">\n",
       "      <th></th>\n",
       "      <th>country</th>\n",
       "      <th>Unnamed: 0</th>\n",
       "      <th>pmid</th>\n",
       "      <th>aff</th>\n",
       "      <th>year</th>\n",
       "      <th>institution_type</th>\n",
       "      <th>precentage</th>\n",
       "    </tr>\n",
       "  </thead>\n",
       "  <tbody>\n",
       "    <tr>\n",
       "      <th>0</th>\n",
       "      <td>Albania</td>\n",
       "      <td>2</td>\n",
       "      <td>2</td>\n",
       "      <td>2</td>\n",
       "      <td>2</td>\n",
       "      <td>2</td>\n",
       "      <td>0.000555</td>\n",
       "    </tr>\n",
       "    <tr>\n",
       "      <th>1</th>\n",
       "      <td>Argentina</td>\n",
       "      <td>8</td>\n",
       "      <td>8</td>\n",
       "      <td>8</td>\n",
       "      <td>8</td>\n",
       "      <td>8</td>\n",
       "      <td>0.002219</td>\n",
       "    </tr>\n",
       "    <tr>\n",
       "      <th>2</th>\n",
       "      <td>Australia</td>\n",
       "      <td>355</td>\n",
       "      <td>355</td>\n",
       "      <td>355</td>\n",
       "      <td>355</td>\n",
       "      <td>355</td>\n",
       "      <td>0.098447</td>\n",
       "    </tr>\n",
       "    <tr>\n",
       "      <th>3</th>\n",
       "      <td>Austria</td>\n",
       "      <td>22</td>\n",
       "      <td>22</td>\n",
       "      <td>22</td>\n",
       "      <td>22</td>\n",
       "      <td>22</td>\n",
       "      <td>0.006101</td>\n",
       "    </tr>\n",
       "    <tr>\n",
       "      <th>4</th>\n",
       "      <td>Belgium</td>\n",
       "      <td>10</td>\n",
       "      <td>10</td>\n",
       "      <td>10</td>\n",
       "      <td>10</td>\n",
       "      <td>10</td>\n",
       "      <td>0.002773</td>\n",
       "    </tr>\n",
       "    <tr>\n",
       "      <th>5</th>\n",
       "      <td>Brazil</td>\n",
       "      <td>1</td>\n",
       "      <td>1</td>\n",
       "      <td>1</td>\n",
       "      <td>1</td>\n",
       "      <td>1</td>\n",
       "      <td>0.000277</td>\n",
       "    </tr>\n",
       "    <tr>\n",
       "      <th>6</th>\n",
       "      <td>Canada</td>\n",
       "      <td>100</td>\n",
       "      <td>100</td>\n",
       "      <td>100</td>\n",
       "      <td>100</td>\n",
       "      <td>100</td>\n",
       "      <td>0.027732</td>\n",
       "    </tr>\n",
       "    <tr>\n",
       "      <th>7</th>\n",
       "      <td>Cayman Islands</td>\n",
       "      <td>1</td>\n",
       "      <td>1</td>\n",
       "      <td>1</td>\n",
       "      <td>1</td>\n",
       "      <td>1</td>\n",
       "      <td>0.000277</td>\n",
       "    </tr>\n",
       "    <tr>\n",
       "      <th>8</th>\n",
       "      <td>Chile</td>\n",
       "      <td>3</td>\n",
       "      <td>3</td>\n",
       "      <td>3</td>\n",
       "      <td>3</td>\n",
       "      <td>3</td>\n",
       "      <td>0.000832</td>\n",
       "    </tr>\n",
       "    <tr>\n",
       "      <th>9</th>\n",
       "      <td>China</td>\n",
       "      <td>296</td>\n",
       "      <td>296</td>\n",
       "      <td>296</td>\n",
       "      <td>296</td>\n",
       "      <td>296</td>\n",
       "      <td>0.082085</td>\n",
       "    </tr>\n",
       "    <tr>\n",
       "      <th>10</th>\n",
       "      <td>Colombia</td>\n",
       "      <td>8</td>\n",
       "      <td>8</td>\n",
       "      <td>8</td>\n",
       "      <td>8</td>\n",
       "      <td>8</td>\n",
       "      <td>0.002219</td>\n",
       "    </tr>\n",
       "    <tr>\n",
       "      <th>11</th>\n",
       "      <td>Czech Republic</td>\n",
       "      <td>2</td>\n",
       "      <td>2</td>\n",
       "      <td>2</td>\n",
       "      <td>2</td>\n",
       "      <td>2</td>\n",
       "      <td>0.000555</td>\n",
       "    </tr>\n",
       "    <tr>\n",
       "      <th>12</th>\n",
       "      <td>Denmark</td>\n",
       "      <td>71</td>\n",
       "      <td>71</td>\n",
       "      <td>71</td>\n",
       "      <td>71</td>\n",
       "      <td>71</td>\n",
       "      <td>0.019689</td>\n",
       "    </tr>\n",
       "    <tr>\n",
       "      <th>13</th>\n",
       "      <td>Finland</td>\n",
       "      <td>2</td>\n",
       "      <td>2</td>\n",
       "      <td>2</td>\n",
       "      <td>2</td>\n",
       "      <td>2</td>\n",
       "      <td>0.000555</td>\n",
       "    </tr>\n",
       "    <tr>\n",
       "      <th>14</th>\n",
       "      <td>France</td>\n",
       "      <td>114</td>\n",
       "      <td>114</td>\n",
       "      <td>114</td>\n",
       "      <td>114</td>\n",
       "      <td>114</td>\n",
       "      <td>0.031614</td>\n",
       "    </tr>\n",
       "    <tr>\n",
       "      <th>15</th>\n",
       "      <td>Gabon</td>\n",
       "      <td>1</td>\n",
       "      <td>1</td>\n",
       "      <td>1</td>\n",
       "      <td>1</td>\n",
       "      <td>1</td>\n",
       "      <td>0.000277</td>\n",
       "    </tr>\n",
       "    <tr>\n",
       "      <th>16</th>\n",
       "      <td>Gambia</td>\n",
       "      <td>2</td>\n",
       "      <td>2</td>\n",
       "      <td>2</td>\n",
       "      <td>2</td>\n",
       "      <td>2</td>\n",
       "      <td>0.000555</td>\n",
       "    </tr>\n",
       "    <tr>\n",
       "      <th>17</th>\n",
       "      <td>Georgia</td>\n",
       "      <td>9</td>\n",
       "      <td>9</td>\n",
       "      <td>9</td>\n",
       "      <td>9</td>\n",
       "      <td>9</td>\n",
       "      <td>0.002496</td>\n",
       "    </tr>\n",
       "    <tr>\n",
       "      <th>18</th>\n",
       "      <td>Germany</td>\n",
       "      <td>421</td>\n",
       "      <td>421</td>\n",
       "      <td>421</td>\n",
       "      <td>421</td>\n",
       "      <td>421</td>\n",
       "      <td>0.116750</td>\n",
       "    </tr>\n",
       "    <tr>\n",
       "      <th>19</th>\n",
       "      <td>Greece</td>\n",
       "      <td>8</td>\n",
       "      <td>8</td>\n",
       "      <td>8</td>\n",
       "      <td>8</td>\n",
       "      <td>8</td>\n",
       "      <td>0.002219</td>\n",
       "    </tr>\n",
       "    <tr>\n",
       "      <th>20</th>\n",
       "      <td>Hong Kong</td>\n",
       "      <td>2</td>\n",
       "      <td>2</td>\n",
       "      <td>2</td>\n",
       "      <td>2</td>\n",
       "      <td>2</td>\n",
       "      <td>0.000555</td>\n",
       "    </tr>\n",
       "    <tr>\n",
       "      <th>21</th>\n",
       "      <td>India</td>\n",
       "      <td>38</td>\n",
       "      <td>38</td>\n",
       "      <td>38</td>\n",
       "      <td>38</td>\n",
       "      <td>38</td>\n",
       "      <td>0.010538</td>\n",
       "    </tr>\n",
       "    <tr>\n",
       "      <th>22</th>\n",
       "      <td>Iran</td>\n",
       "      <td>7</td>\n",
       "      <td>7</td>\n",
       "      <td>7</td>\n",
       "      <td>7</td>\n",
       "      <td>7</td>\n",
       "      <td>0.001941</td>\n",
       "    </tr>\n",
       "    <tr>\n",
       "      <th>23</th>\n",
       "      <td>Ireland</td>\n",
       "      <td>3</td>\n",
       "      <td>3</td>\n",
       "      <td>3</td>\n",
       "      <td>3</td>\n",
       "      <td>3</td>\n",
       "      <td>0.000832</td>\n",
       "    </tr>\n",
       "    <tr>\n",
       "      <th>24</th>\n",
       "      <td>Israel</td>\n",
       "      <td>72</td>\n",
       "      <td>72</td>\n",
       "      <td>72</td>\n",
       "      <td>72</td>\n",
       "      <td>72</td>\n",
       "      <td>0.019967</td>\n",
       "    </tr>\n",
       "    <tr>\n",
       "      <th>25</th>\n",
       "      <td>Italy</td>\n",
       "      <td>82</td>\n",
       "      <td>82</td>\n",
       "      <td>82</td>\n",
       "      <td>82</td>\n",
       "      <td>82</td>\n",
       "      <td>0.022740</td>\n",
       "    </tr>\n",
       "    <tr>\n",
       "      <th>26</th>\n",
       "      <td>Japan</td>\n",
       "      <td>125</td>\n",
       "      <td>125</td>\n",
       "      <td>125</td>\n",
       "      <td>125</td>\n",
       "      <td>125</td>\n",
       "      <td>0.034664</td>\n",
       "    </tr>\n",
       "    <tr>\n",
       "      <th>27</th>\n",
       "      <td>Kazakhstan</td>\n",
       "      <td>1</td>\n",
       "      <td>1</td>\n",
       "      <td>1</td>\n",
       "      <td>1</td>\n",
       "      <td>1</td>\n",
       "      <td>0.000277</td>\n",
       "    </tr>\n",
       "    <tr>\n",
       "      <th>28</th>\n",
       "      <td>Lebanon</td>\n",
       "      <td>1</td>\n",
       "      <td>1</td>\n",
       "      <td>1</td>\n",
       "      <td>1</td>\n",
       "      <td>1</td>\n",
       "      <td>0.000277</td>\n",
       "    </tr>\n",
       "    <tr>\n",
       "      <th>29</th>\n",
       "      <td>Lithuania</td>\n",
       "      <td>1</td>\n",
       "      <td>1</td>\n",
       "      <td>1</td>\n",
       "      <td>1</td>\n",
       "      <td>1</td>\n",
       "      <td>0.000277</td>\n",
       "    </tr>\n",
       "    <tr>\n",
       "      <th>30</th>\n",
       "      <td>Macao SAR China</td>\n",
       "      <td>3</td>\n",
       "      <td>3</td>\n",
       "      <td>3</td>\n",
       "      <td>3</td>\n",
       "      <td>3</td>\n",
       "      <td>0.000832</td>\n",
       "    </tr>\n",
       "    <tr>\n",
       "      <th>31</th>\n",
       "      <td>Mexico</td>\n",
       "      <td>1</td>\n",
       "      <td>1</td>\n",
       "      <td>1</td>\n",
       "      <td>1</td>\n",
       "      <td>1</td>\n",
       "      <td>0.000277</td>\n",
       "    </tr>\n",
       "    <tr>\n",
       "      <th>32</th>\n",
       "      <td>Moldova</td>\n",
       "      <td>24</td>\n",
       "      <td>24</td>\n",
       "      <td>24</td>\n",
       "      <td>24</td>\n",
       "      <td>24</td>\n",
       "      <td>0.006656</td>\n",
       "    </tr>\n",
       "    <tr>\n",
       "      <th>33</th>\n",
       "      <td>Netherlands</td>\n",
       "      <td>173</td>\n",
       "      <td>173</td>\n",
       "      <td>173</td>\n",
       "      <td>173</td>\n",
       "      <td>173</td>\n",
       "      <td>0.047976</td>\n",
       "    </tr>\n",
       "    <tr>\n",
       "      <th>34</th>\n",
       "      <td>New Zealand</td>\n",
       "      <td>1</td>\n",
       "      <td>1</td>\n",
       "      <td>1</td>\n",
       "      <td>1</td>\n",
       "      <td>1</td>\n",
       "      <td>0.000277</td>\n",
       "    </tr>\n",
       "    <tr>\n",
       "      <th>35</th>\n",
       "      <td>Niger</td>\n",
       "      <td>1</td>\n",
       "      <td>1</td>\n",
       "      <td>1</td>\n",
       "      <td>1</td>\n",
       "      <td>1</td>\n",
       "      <td>0.000277</td>\n",
       "    </tr>\n",
       "    <tr>\n",
       "      <th>36</th>\n",
       "      <td>Norway</td>\n",
       "      <td>10</td>\n",
       "      <td>10</td>\n",
       "      <td>10</td>\n",
       "      <td>10</td>\n",
       "      <td>10</td>\n",
       "      <td>0.002773</td>\n",
       "    </tr>\n",
       "    <tr>\n",
       "      <th>37</th>\n",
       "      <td>Pakistan</td>\n",
       "      <td>1</td>\n",
       "      <td>1</td>\n",
       "      <td>1</td>\n",
       "      <td>1</td>\n",
       "      <td>1</td>\n",
       "      <td>0.000277</td>\n",
       "    </tr>\n",
       "    <tr>\n",
       "      <th>38</th>\n",
       "      <td>Panama</td>\n",
       "      <td>8</td>\n",
       "      <td>8</td>\n",
       "      <td>8</td>\n",
       "      <td>8</td>\n",
       "      <td>8</td>\n",
       "      <td>0.002219</td>\n",
       "    </tr>\n",
       "    <tr>\n",
       "      <th>39</th>\n",
       "      <td>Poland</td>\n",
       "      <td>3</td>\n",
       "      <td>3</td>\n",
       "      <td>3</td>\n",
       "      <td>3</td>\n",
       "      <td>3</td>\n",
       "      <td>0.000832</td>\n",
       "    </tr>\n",
       "    <tr>\n",
       "      <th>40</th>\n",
       "      <td>Russia</td>\n",
       "      <td>6</td>\n",
       "      <td>6</td>\n",
       "      <td>6</td>\n",
       "      <td>6</td>\n",
       "      <td>6</td>\n",
       "      <td>0.001664</td>\n",
       "    </tr>\n",
       "    <tr>\n",
       "      <th>41</th>\n",
       "      <td>Saudi Arabia</td>\n",
       "      <td>1</td>\n",
       "      <td>1</td>\n",
       "      <td>1</td>\n",
       "      <td>1</td>\n",
       "      <td>1</td>\n",
       "      <td>0.000277</td>\n",
       "    </tr>\n",
       "    <tr>\n",
       "      <th>42</th>\n",
       "      <td>Sierra Leone</td>\n",
       "      <td>1</td>\n",
       "      <td>1</td>\n",
       "      <td>1</td>\n",
       "      <td>1</td>\n",
       "      <td>1</td>\n",
       "      <td>0.000277</td>\n",
       "    </tr>\n",
       "    <tr>\n",
       "      <th>43</th>\n",
       "      <td>Singapore</td>\n",
       "      <td>26</td>\n",
       "      <td>26</td>\n",
       "      <td>26</td>\n",
       "      <td>26</td>\n",
       "      <td>26</td>\n",
       "      <td>0.007210</td>\n",
       "    </tr>\n",
       "    <tr>\n",
       "      <th>44</th>\n",
       "      <td>South Africa</td>\n",
       "      <td>2</td>\n",
       "      <td>2</td>\n",
       "      <td>2</td>\n",
       "      <td>2</td>\n",
       "      <td>2</td>\n",
       "      <td>0.000555</td>\n",
       "    </tr>\n",
       "    <tr>\n",
       "      <th>45</th>\n",
       "      <td>South Korea</td>\n",
       "      <td>18</td>\n",
       "      <td>18</td>\n",
       "      <td>18</td>\n",
       "      <td>18</td>\n",
       "      <td>18</td>\n",
       "      <td>0.004992</td>\n",
       "    </tr>\n",
       "    <tr>\n",
       "      <th>46</th>\n",
       "      <td>Spain</td>\n",
       "      <td>111</td>\n",
       "      <td>111</td>\n",
       "      <td>111</td>\n",
       "      <td>111</td>\n",
       "      <td>111</td>\n",
       "      <td>0.030782</td>\n",
       "    </tr>\n",
       "    <tr>\n",
       "      <th>47</th>\n",
       "      <td>Sweden</td>\n",
       "      <td>30</td>\n",
       "      <td>30</td>\n",
       "      <td>30</td>\n",
       "      <td>30</td>\n",
       "      <td>30</td>\n",
       "      <td>0.008319</td>\n",
       "    </tr>\n",
       "    <tr>\n",
       "      <th>48</th>\n",
       "      <td>Switzerland</td>\n",
       "      <td>108</td>\n",
       "      <td>108</td>\n",
       "      <td>108</td>\n",
       "      <td>108</td>\n",
       "      <td>108</td>\n",
       "      <td>0.029950</td>\n",
       "    </tr>\n",
       "    <tr>\n",
       "      <th>49</th>\n",
       "      <td>Taiwan</td>\n",
       "      <td>13</td>\n",
       "      <td>13</td>\n",
       "      <td>13</td>\n",
       "      <td>13</td>\n",
       "      <td>13</td>\n",
       "      <td>0.003605</td>\n",
       "    </tr>\n",
       "    <tr>\n",
       "      <th>50</th>\n",
       "      <td>Thailand</td>\n",
       "      <td>4</td>\n",
       "      <td>4</td>\n",
       "      <td>4</td>\n",
       "      <td>4</td>\n",
       "      <td>4</td>\n",
       "      <td>0.001109</td>\n",
       "    </tr>\n",
       "    <tr>\n",
       "      <th>51</th>\n",
       "      <td>Tunisia</td>\n",
       "      <td>7</td>\n",
       "      <td>7</td>\n",
       "      <td>7</td>\n",
       "      <td>7</td>\n",
       "      <td>7</td>\n",
       "      <td>0.001941</td>\n",
       "    </tr>\n",
       "    <tr>\n",
       "      <th>52</th>\n",
       "      <td>United Arab Emirates</td>\n",
       "      <td>1</td>\n",
       "      <td>1</td>\n",
       "      <td>1</td>\n",
       "      <td>1</td>\n",
       "      <td>1</td>\n",
       "      <td>0.000277</td>\n",
       "    </tr>\n",
       "    <tr>\n",
       "      <th>53</th>\n",
       "      <td>United Kingdom</td>\n",
       "      <td>293</td>\n",
       "      <td>293</td>\n",
       "      <td>293</td>\n",
       "      <td>293</td>\n",
       "      <td>293</td>\n",
       "      <td>0.081253</td>\n",
       "    </tr>\n",
       "    <tr>\n",
       "      <th>54</th>\n",
       "      <td>United States</td>\n",
       "      <td>991</td>\n",
       "      <td>991</td>\n",
       "      <td>991</td>\n",
       "      <td>991</td>\n",
       "      <td>991</td>\n",
       "      <td>0.274820</td>\n",
       "    </tr>\n",
       "    <tr>\n",
       "      <th>55</th>\n",
       "      <td>Vatican City</td>\n",
       "      <td>1</td>\n",
       "      <td>1</td>\n",
       "      <td>1</td>\n",
       "      <td>1</td>\n",
       "      <td>1</td>\n",
       "      <td>0.000277</td>\n",
       "    </tr>\n",
       "  </tbody>\n",
       "</table>\n",
       "</div>"
      ],
      "text/plain": [
       "                 country  Unnamed: 0  pmid  aff  year  institution_type  \\\n",
       "0                Albania           2     2    2     2                 2   \n",
       "1              Argentina           8     8    8     8                 8   \n",
       "2              Australia         355   355  355   355               355   \n",
       "3                Austria          22    22   22    22                22   \n",
       "4                Belgium          10    10   10    10                10   \n",
       "5                 Brazil           1     1    1     1                 1   \n",
       "6                 Canada         100   100  100   100               100   \n",
       "7         Cayman Islands           1     1    1     1                 1   \n",
       "8                  Chile           3     3    3     3                 3   \n",
       "9                  China         296   296  296   296               296   \n",
       "10              Colombia           8     8    8     8                 8   \n",
       "11        Czech Republic           2     2    2     2                 2   \n",
       "12               Denmark          71    71   71    71                71   \n",
       "13               Finland           2     2    2     2                 2   \n",
       "14                France         114   114  114   114               114   \n",
       "15                 Gabon           1     1    1     1                 1   \n",
       "16                Gambia           2     2    2     2                 2   \n",
       "17               Georgia           9     9    9     9                 9   \n",
       "18               Germany         421   421  421   421               421   \n",
       "19                Greece           8     8    8     8                 8   \n",
       "20             Hong Kong           2     2    2     2                 2   \n",
       "21                 India          38    38   38    38                38   \n",
       "22                  Iran           7     7    7     7                 7   \n",
       "23               Ireland           3     3    3     3                 3   \n",
       "24                Israel          72    72   72    72                72   \n",
       "25                 Italy          82    82   82    82                82   \n",
       "26                 Japan         125   125  125   125               125   \n",
       "27            Kazakhstan           1     1    1     1                 1   \n",
       "28               Lebanon           1     1    1     1                 1   \n",
       "29             Lithuania           1     1    1     1                 1   \n",
       "30       Macao SAR China           3     3    3     3                 3   \n",
       "31                Mexico           1     1    1     1                 1   \n",
       "32               Moldova          24    24   24    24                24   \n",
       "33           Netherlands         173   173  173   173               173   \n",
       "34           New Zealand           1     1    1     1                 1   \n",
       "35                 Niger           1     1    1     1                 1   \n",
       "36                Norway          10    10   10    10                10   \n",
       "37              Pakistan           1     1    1     1                 1   \n",
       "38                Panama           8     8    8     8                 8   \n",
       "39                Poland           3     3    3     3                 3   \n",
       "40                Russia           6     6    6     6                 6   \n",
       "41          Saudi Arabia           1     1    1     1                 1   \n",
       "42          Sierra Leone           1     1    1     1                 1   \n",
       "43             Singapore          26    26   26    26                26   \n",
       "44          South Africa           2     2    2     2                 2   \n",
       "45           South Korea          18    18   18    18                18   \n",
       "46                 Spain         111   111  111   111               111   \n",
       "47                Sweden          30    30   30    30                30   \n",
       "48           Switzerland         108   108  108   108               108   \n",
       "49                Taiwan          13    13   13    13                13   \n",
       "50              Thailand           4     4    4     4                 4   \n",
       "51               Tunisia           7     7    7     7                 7   \n",
       "52  United Arab Emirates           1     1    1     1                 1   \n",
       "53        United Kingdom         293   293  293   293               293   \n",
       "54         United States         991   991  991   991               991   \n",
       "55          Vatican City           1     1    1     1                 1   \n",
       "\n",
       "    precentage  \n",
       "0     0.000555  \n",
       "1     0.002219  \n",
       "2     0.098447  \n",
       "3     0.006101  \n",
       "4     0.002773  \n",
       "5     0.000277  \n",
       "6     0.027732  \n",
       "7     0.000277  \n",
       "8     0.000832  \n",
       "9     0.082085  \n",
       "10    0.002219  \n",
       "11    0.000555  \n",
       "12    0.019689  \n",
       "13    0.000555  \n",
       "14    0.031614  \n",
       "15    0.000277  \n",
       "16    0.000555  \n",
       "17    0.002496  \n",
       "18    0.116750  \n",
       "19    0.002219  \n",
       "20    0.000555  \n",
       "21    0.010538  \n",
       "22    0.001941  \n",
       "23    0.000832  \n",
       "24    0.019967  \n",
       "25    0.022740  \n",
       "26    0.034664  \n",
       "27    0.000277  \n",
       "28    0.000277  \n",
       "29    0.000277  \n",
       "30    0.000832  \n",
       "31    0.000277  \n",
       "32    0.006656  \n",
       "33    0.047976  \n",
       "34    0.000277  \n",
       "35    0.000277  \n",
       "36    0.002773  \n",
       "37    0.000277  \n",
       "38    0.002219  \n",
       "39    0.000832  \n",
       "40    0.001664  \n",
       "41    0.000277  \n",
       "42    0.000277  \n",
       "43    0.007210  \n",
       "44    0.000555  \n",
       "45    0.004992  \n",
       "46    0.030782  \n",
       "47    0.008319  \n",
       "48    0.029950  \n",
       "49    0.003605  \n",
       "50    0.001109  \n",
       "51    0.001941  \n",
       "52    0.000277  \n",
       "53    0.081253  \n",
       "54    0.274820  \n",
       "55    0.000277  "
      ]
     },
     "execution_count": 34,
     "metadata": {},
     "output_type": "execute_result"
    }
   ],
   "source": [
    "pd_aff_counts"
   ]
  },
  {
   "cell_type": "code",
   "execution_count": 35,
   "metadata": {},
   "outputs": [
    {
     "data": {
      "application/vnd.plotly.v1+json": {
       "config": {
        "plotlyServerURL": "https://plot.ly"
       },
       "data": [
        {
         "domain": {
          "x": [
           0,
           1
          ],
          "y": [
           0,
           1
          ]
         },
         "hovertemplate": "country=%{label}<br>precentage=%{value}<extra></extra>",
         "labels": [
          "Australia",
          "Canada",
          "China",
          "France",
          "Germany",
          "Italy",
          "Japan",
          "Netherlands",
          "Spain",
          "Switzerland",
          "United Kingdom",
          "United States"
         ],
         "legendgroup": "",
         "name": "",
         "showlegend": true,
         "type": "pie",
         "values": [
          0.09844703272323904,
          0.027731558513588463,
          0.08208541320022185,
          0.03161397670549085,
          0.11674986134220743,
          0.02273987798114254,
          0.03466444814198558,
          0.04797559622850804,
          0.030782029950083195,
          0.029950083194675542,
          0.0812534664448142,
          0.27481974486966165
         ]
        }
       ],
       "layout": {
        "legend": {
         "tracegroupgap": 0
        },
        "template": {
         "data": {
          "bar": [
           {
            "error_x": {
             "color": "#2a3f5f"
            },
            "error_y": {
             "color": "#2a3f5f"
            },
            "marker": {
             "line": {
              "color": "#E5ECF6",
              "width": 0.5
             },
             "pattern": {
              "fillmode": "overlay",
              "size": 10,
              "solidity": 0.2
             }
            },
            "type": "bar"
           }
          ],
          "barpolar": [
           {
            "marker": {
             "line": {
              "color": "#E5ECF6",
              "width": 0.5
             },
             "pattern": {
              "fillmode": "overlay",
              "size": 10,
              "solidity": 0.2
             }
            },
            "type": "barpolar"
           }
          ],
          "carpet": [
           {
            "aaxis": {
             "endlinecolor": "#2a3f5f",
             "gridcolor": "white",
             "linecolor": "white",
             "minorgridcolor": "white",
             "startlinecolor": "#2a3f5f"
            },
            "baxis": {
             "endlinecolor": "#2a3f5f",
             "gridcolor": "white",
             "linecolor": "white",
             "minorgridcolor": "white",
             "startlinecolor": "#2a3f5f"
            },
            "type": "carpet"
           }
          ],
          "choropleth": [
           {
            "colorbar": {
             "outlinewidth": 0,
             "ticks": ""
            },
            "type": "choropleth"
           }
          ],
          "contour": [
           {
            "colorbar": {
             "outlinewidth": 0,
             "ticks": ""
            },
            "colorscale": [
             [
              0,
              "#0d0887"
             ],
             [
              0.1111111111111111,
              "#46039f"
             ],
             [
              0.2222222222222222,
              "#7201a8"
             ],
             [
              0.3333333333333333,
              "#9c179e"
             ],
             [
              0.4444444444444444,
              "#bd3786"
             ],
             [
              0.5555555555555556,
              "#d8576b"
             ],
             [
              0.6666666666666666,
              "#ed7953"
             ],
             [
              0.7777777777777778,
              "#fb9f3a"
             ],
             [
              0.8888888888888888,
              "#fdca26"
             ],
             [
              1,
              "#f0f921"
             ]
            ],
            "type": "contour"
           }
          ],
          "contourcarpet": [
           {
            "colorbar": {
             "outlinewidth": 0,
             "ticks": ""
            },
            "type": "contourcarpet"
           }
          ],
          "heatmap": [
           {
            "colorbar": {
             "outlinewidth": 0,
             "ticks": ""
            },
            "colorscale": [
             [
              0,
              "#0d0887"
             ],
             [
              0.1111111111111111,
              "#46039f"
             ],
             [
              0.2222222222222222,
              "#7201a8"
             ],
             [
              0.3333333333333333,
              "#9c179e"
             ],
             [
              0.4444444444444444,
              "#bd3786"
             ],
             [
              0.5555555555555556,
              "#d8576b"
             ],
             [
              0.6666666666666666,
              "#ed7953"
             ],
             [
              0.7777777777777778,
              "#fb9f3a"
             ],
             [
              0.8888888888888888,
              "#fdca26"
             ],
             [
              1,
              "#f0f921"
             ]
            ],
            "type": "heatmap"
           }
          ],
          "heatmapgl": [
           {
            "colorbar": {
             "outlinewidth": 0,
             "ticks": ""
            },
            "colorscale": [
             [
              0,
              "#0d0887"
             ],
             [
              0.1111111111111111,
              "#46039f"
             ],
             [
              0.2222222222222222,
              "#7201a8"
             ],
             [
              0.3333333333333333,
              "#9c179e"
             ],
             [
              0.4444444444444444,
              "#bd3786"
             ],
             [
              0.5555555555555556,
              "#d8576b"
             ],
             [
              0.6666666666666666,
              "#ed7953"
             ],
             [
              0.7777777777777778,
              "#fb9f3a"
             ],
             [
              0.8888888888888888,
              "#fdca26"
             ],
             [
              1,
              "#f0f921"
             ]
            ],
            "type": "heatmapgl"
           }
          ],
          "histogram": [
           {
            "marker": {
             "pattern": {
              "fillmode": "overlay",
              "size": 10,
              "solidity": 0.2
             }
            },
            "type": "histogram"
           }
          ],
          "histogram2d": [
           {
            "colorbar": {
             "outlinewidth": 0,
             "ticks": ""
            },
            "colorscale": [
             [
              0,
              "#0d0887"
             ],
             [
              0.1111111111111111,
              "#46039f"
             ],
             [
              0.2222222222222222,
              "#7201a8"
             ],
             [
              0.3333333333333333,
              "#9c179e"
             ],
             [
              0.4444444444444444,
              "#bd3786"
             ],
             [
              0.5555555555555556,
              "#d8576b"
             ],
             [
              0.6666666666666666,
              "#ed7953"
             ],
             [
              0.7777777777777778,
              "#fb9f3a"
             ],
             [
              0.8888888888888888,
              "#fdca26"
             ],
             [
              1,
              "#f0f921"
             ]
            ],
            "type": "histogram2d"
           }
          ],
          "histogram2dcontour": [
           {
            "colorbar": {
             "outlinewidth": 0,
             "ticks": ""
            },
            "colorscale": [
             [
              0,
              "#0d0887"
             ],
             [
              0.1111111111111111,
              "#46039f"
             ],
             [
              0.2222222222222222,
              "#7201a8"
             ],
             [
              0.3333333333333333,
              "#9c179e"
             ],
             [
              0.4444444444444444,
              "#bd3786"
             ],
             [
              0.5555555555555556,
              "#d8576b"
             ],
             [
              0.6666666666666666,
              "#ed7953"
             ],
             [
              0.7777777777777778,
              "#fb9f3a"
             ],
             [
              0.8888888888888888,
              "#fdca26"
             ],
             [
              1,
              "#f0f921"
             ]
            ],
            "type": "histogram2dcontour"
           }
          ],
          "mesh3d": [
           {
            "colorbar": {
             "outlinewidth": 0,
             "ticks": ""
            },
            "type": "mesh3d"
           }
          ],
          "parcoords": [
           {
            "line": {
             "colorbar": {
              "outlinewidth": 0,
              "ticks": ""
             }
            },
            "type": "parcoords"
           }
          ],
          "pie": [
           {
            "automargin": true,
            "type": "pie"
           }
          ],
          "scatter": [
           {
            "marker": {
             "colorbar": {
              "outlinewidth": 0,
              "ticks": ""
             }
            },
            "type": "scatter"
           }
          ],
          "scatter3d": [
           {
            "line": {
             "colorbar": {
              "outlinewidth": 0,
              "ticks": ""
             }
            },
            "marker": {
             "colorbar": {
              "outlinewidth": 0,
              "ticks": ""
             }
            },
            "type": "scatter3d"
           }
          ],
          "scattercarpet": [
           {
            "marker": {
             "colorbar": {
              "outlinewidth": 0,
              "ticks": ""
             }
            },
            "type": "scattercarpet"
           }
          ],
          "scattergeo": [
           {
            "marker": {
             "colorbar": {
              "outlinewidth": 0,
              "ticks": ""
             }
            },
            "type": "scattergeo"
           }
          ],
          "scattergl": [
           {
            "marker": {
             "colorbar": {
              "outlinewidth": 0,
              "ticks": ""
             }
            },
            "type": "scattergl"
           }
          ],
          "scattermapbox": [
           {
            "marker": {
             "colorbar": {
              "outlinewidth": 0,
              "ticks": ""
             }
            },
            "type": "scattermapbox"
           }
          ],
          "scatterpolar": [
           {
            "marker": {
             "colorbar": {
              "outlinewidth": 0,
              "ticks": ""
             }
            },
            "type": "scatterpolar"
           }
          ],
          "scatterpolargl": [
           {
            "marker": {
             "colorbar": {
              "outlinewidth": 0,
              "ticks": ""
             }
            },
            "type": "scatterpolargl"
           }
          ],
          "scatterternary": [
           {
            "marker": {
             "colorbar": {
              "outlinewidth": 0,
              "ticks": ""
             }
            },
            "type": "scatterternary"
           }
          ],
          "surface": [
           {
            "colorbar": {
             "outlinewidth": 0,
             "ticks": ""
            },
            "colorscale": [
             [
              0,
              "#0d0887"
             ],
             [
              0.1111111111111111,
              "#46039f"
             ],
             [
              0.2222222222222222,
              "#7201a8"
             ],
             [
              0.3333333333333333,
              "#9c179e"
             ],
             [
              0.4444444444444444,
              "#bd3786"
             ],
             [
              0.5555555555555556,
              "#d8576b"
             ],
             [
              0.6666666666666666,
              "#ed7953"
             ],
             [
              0.7777777777777778,
              "#fb9f3a"
             ],
             [
              0.8888888888888888,
              "#fdca26"
             ],
             [
              1,
              "#f0f921"
             ]
            ],
            "type": "surface"
           }
          ],
          "table": [
           {
            "cells": {
             "fill": {
              "color": "#EBF0F8"
             },
             "line": {
              "color": "white"
             }
            },
            "header": {
             "fill": {
              "color": "#C8D4E3"
             },
             "line": {
              "color": "white"
             }
            },
            "type": "table"
           }
          ]
         },
         "layout": {
          "annotationdefaults": {
           "arrowcolor": "#2a3f5f",
           "arrowhead": 0,
           "arrowwidth": 1
          },
          "autotypenumbers": "strict",
          "coloraxis": {
           "colorbar": {
            "outlinewidth": 0,
            "ticks": ""
           }
          },
          "colorscale": {
           "diverging": [
            [
             0,
             "#8e0152"
            ],
            [
             0.1,
             "#c51b7d"
            ],
            [
             0.2,
             "#de77ae"
            ],
            [
             0.3,
             "#f1b6da"
            ],
            [
             0.4,
             "#fde0ef"
            ],
            [
             0.5,
             "#f7f7f7"
            ],
            [
             0.6,
             "#e6f5d0"
            ],
            [
             0.7,
             "#b8e186"
            ],
            [
             0.8,
             "#7fbc41"
            ],
            [
             0.9,
             "#4d9221"
            ],
            [
             1,
             "#276419"
            ]
           ],
           "sequential": [
            [
             0,
             "#0d0887"
            ],
            [
             0.1111111111111111,
             "#46039f"
            ],
            [
             0.2222222222222222,
             "#7201a8"
            ],
            [
             0.3333333333333333,
             "#9c179e"
            ],
            [
             0.4444444444444444,
             "#bd3786"
            ],
            [
             0.5555555555555556,
             "#d8576b"
            ],
            [
             0.6666666666666666,
             "#ed7953"
            ],
            [
             0.7777777777777778,
             "#fb9f3a"
            ],
            [
             0.8888888888888888,
             "#fdca26"
            ],
            [
             1,
             "#f0f921"
            ]
           ],
           "sequentialminus": [
            [
             0,
             "#0d0887"
            ],
            [
             0.1111111111111111,
             "#46039f"
            ],
            [
             0.2222222222222222,
             "#7201a8"
            ],
            [
             0.3333333333333333,
             "#9c179e"
            ],
            [
             0.4444444444444444,
             "#bd3786"
            ],
            [
             0.5555555555555556,
             "#d8576b"
            ],
            [
             0.6666666666666666,
             "#ed7953"
            ],
            [
             0.7777777777777778,
             "#fb9f3a"
            ],
            [
             0.8888888888888888,
             "#fdca26"
            ],
            [
             1,
             "#f0f921"
            ]
           ]
          },
          "colorway": [
           "#636efa",
           "#EF553B",
           "#00cc96",
           "#ab63fa",
           "#FFA15A",
           "#19d3f3",
           "#FF6692",
           "#B6E880",
           "#FF97FF",
           "#FECB52"
          ],
          "font": {
           "color": "#2a3f5f"
          },
          "geo": {
           "bgcolor": "white",
           "lakecolor": "white",
           "landcolor": "#E5ECF6",
           "showlakes": true,
           "showland": true,
           "subunitcolor": "white"
          },
          "hoverlabel": {
           "align": "left"
          },
          "hovermode": "closest",
          "mapbox": {
           "style": "light"
          },
          "paper_bgcolor": "white",
          "plot_bgcolor": "#E5ECF6",
          "polar": {
           "angularaxis": {
            "gridcolor": "white",
            "linecolor": "white",
            "ticks": ""
           },
           "bgcolor": "#E5ECF6",
           "radialaxis": {
            "gridcolor": "white",
            "linecolor": "white",
            "ticks": ""
           }
          },
          "scene": {
           "xaxis": {
            "backgroundcolor": "#E5ECF6",
            "gridcolor": "white",
            "gridwidth": 2,
            "linecolor": "white",
            "showbackground": true,
            "ticks": "",
            "zerolinecolor": "white"
           },
           "yaxis": {
            "backgroundcolor": "#E5ECF6",
            "gridcolor": "white",
            "gridwidth": 2,
            "linecolor": "white",
            "showbackground": true,
            "ticks": "",
            "zerolinecolor": "white"
           },
           "zaxis": {
            "backgroundcolor": "#E5ECF6",
            "gridcolor": "white",
            "gridwidth": 2,
            "linecolor": "white",
            "showbackground": true,
            "ticks": "",
            "zerolinecolor": "white"
           }
          },
          "shapedefaults": {
           "line": {
            "color": "#2a3f5f"
           }
          },
          "ternary": {
           "aaxis": {
            "gridcolor": "white",
            "linecolor": "white",
            "ticks": ""
           },
           "baxis": {
            "gridcolor": "white",
            "linecolor": "white",
            "ticks": ""
           },
           "bgcolor": "#E5ECF6",
           "caxis": {
            "gridcolor": "white",
            "linecolor": "white",
            "ticks": ""
           }
          },
          "title": {
           "x": 0.05
          },
          "xaxis": {
           "automargin": true,
           "gridcolor": "white",
           "linecolor": "white",
           "ticks": "",
           "title": {
            "standoff": 15
           },
           "zerolinecolor": "white",
           "zerolinewidth": 2
          },
          "yaxis": {
           "automargin": true,
           "gridcolor": "white",
           "linecolor": "white",
           "ticks": "",
           "title": {
            "standoff": 15
           },
           "zerolinecolor": "white",
           "zerolinewidth": 2
          }
         }
        },
        "title": {
         "text": "IEDB literature origin"
        }
       }
      },
      "text/html": [
       "<div>                            <div id=\"8ba55fa4-2065-474a-845b-59293333313b\" class=\"plotly-graph-div\" style=\"height:525px; width:100%;\"></div>            <script type=\"text/javascript\">                require([\"plotly\"], function(Plotly) {                    window.PLOTLYENV=window.PLOTLYENV || {};                                    if (document.getElementById(\"8ba55fa4-2065-474a-845b-59293333313b\")) {                    Plotly.newPlot(                        \"8ba55fa4-2065-474a-845b-59293333313b\",                        [{\"domain\":{\"x\":[0.0,1.0],\"y\":[0.0,1.0]},\"hovertemplate\":\"country=%{label}<br>precentage=%{value}<extra></extra>\",\"labels\":[\"Australia\",\"Canada\",\"China\",\"France\",\"Germany\",\"Italy\",\"Japan\",\"Netherlands\",\"Spain\",\"Switzerland\",\"United Kingdom\",\"United States\"],\"legendgroup\":\"\",\"name\":\"\",\"showlegend\":true,\"type\":\"pie\",\"values\":[0.09844703272323904,0.027731558513588463,0.08208541320022185,0.03161397670549085,0.11674986134220743,0.02273987798114254,0.03466444814198558,0.04797559622850804,0.030782029950083195,0.029950083194675542,0.0812534664448142,0.27481974486966165]}],                        {\"legend\":{\"tracegroupgap\":0},\"template\":{\"data\":{\"bar\":[{\"error_x\":{\"color\":\"#2a3f5f\"},\"error_y\":{\"color\":\"#2a3f5f\"},\"marker\":{\"line\":{\"color\":\"#E5ECF6\",\"width\":0.5},\"pattern\":{\"fillmode\":\"overlay\",\"size\":10,\"solidity\":0.2}},\"type\":\"bar\"}],\"barpolar\":[{\"marker\":{\"line\":{\"color\":\"#E5ECF6\",\"width\":0.5},\"pattern\":{\"fillmode\":\"overlay\",\"size\":10,\"solidity\":0.2}},\"type\":\"barpolar\"}],\"carpet\":[{\"aaxis\":{\"endlinecolor\":\"#2a3f5f\",\"gridcolor\":\"white\",\"linecolor\":\"white\",\"minorgridcolor\":\"white\",\"startlinecolor\":\"#2a3f5f\"},\"baxis\":{\"endlinecolor\":\"#2a3f5f\",\"gridcolor\":\"white\",\"linecolor\":\"white\",\"minorgridcolor\":\"white\",\"startlinecolor\":\"#2a3f5f\"},\"type\":\"carpet\"}],\"choropleth\":[{\"colorbar\":{\"outlinewidth\":0,\"ticks\":\"\"},\"type\":\"choropleth\"}],\"contour\":[{\"colorbar\":{\"outlinewidth\":0,\"ticks\":\"\"},\"colorscale\":[[0.0,\"#0d0887\"],[0.1111111111111111,\"#46039f\"],[0.2222222222222222,\"#7201a8\"],[0.3333333333333333,\"#9c179e\"],[0.4444444444444444,\"#bd3786\"],[0.5555555555555556,\"#d8576b\"],[0.6666666666666666,\"#ed7953\"],[0.7777777777777778,\"#fb9f3a\"],[0.8888888888888888,\"#fdca26\"],[1.0,\"#f0f921\"]],\"type\":\"contour\"}],\"contourcarpet\":[{\"colorbar\":{\"outlinewidth\":0,\"ticks\":\"\"},\"type\":\"contourcarpet\"}],\"heatmap\":[{\"colorbar\":{\"outlinewidth\":0,\"ticks\":\"\"},\"colorscale\":[[0.0,\"#0d0887\"],[0.1111111111111111,\"#46039f\"],[0.2222222222222222,\"#7201a8\"],[0.3333333333333333,\"#9c179e\"],[0.4444444444444444,\"#bd3786\"],[0.5555555555555556,\"#d8576b\"],[0.6666666666666666,\"#ed7953\"],[0.7777777777777778,\"#fb9f3a\"],[0.8888888888888888,\"#fdca26\"],[1.0,\"#f0f921\"]],\"type\":\"heatmap\"}],\"heatmapgl\":[{\"colorbar\":{\"outlinewidth\":0,\"ticks\":\"\"},\"colorscale\":[[0.0,\"#0d0887\"],[0.1111111111111111,\"#46039f\"],[0.2222222222222222,\"#7201a8\"],[0.3333333333333333,\"#9c179e\"],[0.4444444444444444,\"#bd3786\"],[0.5555555555555556,\"#d8576b\"],[0.6666666666666666,\"#ed7953\"],[0.7777777777777778,\"#fb9f3a\"],[0.8888888888888888,\"#fdca26\"],[1.0,\"#f0f921\"]],\"type\":\"heatmapgl\"}],\"histogram\":[{\"marker\":{\"pattern\":{\"fillmode\":\"overlay\",\"size\":10,\"solidity\":0.2}},\"type\":\"histogram\"}],\"histogram2d\":[{\"colorbar\":{\"outlinewidth\":0,\"ticks\":\"\"},\"colorscale\":[[0.0,\"#0d0887\"],[0.1111111111111111,\"#46039f\"],[0.2222222222222222,\"#7201a8\"],[0.3333333333333333,\"#9c179e\"],[0.4444444444444444,\"#bd3786\"],[0.5555555555555556,\"#d8576b\"],[0.6666666666666666,\"#ed7953\"],[0.7777777777777778,\"#fb9f3a\"],[0.8888888888888888,\"#fdca26\"],[1.0,\"#f0f921\"]],\"type\":\"histogram2d\"}],\"histogram2dcontour\":[{\"colorbar\":{\"outlinewidth\":0,\"ticks\":\"\"},\"colorscale\":[[0.0,\"#0d0887\"],[0.1111111111111111,\"#46039f\"],[0.2222222222222222,\"#7201a8\"],[0.3333333333333333,\"#9c179e\"],[0.4444444444444444,\"#bd3786\"],[0.5555555555555556,\"#d8576b\"],[0.6666666666666666,\"#ed7953\"],[0.7777777777777778,\"#fb9f3a\"],[0.8888888888888888,\"#fdca26\"],[1.0,\"#f0f921\"]],\"type\":\"histogram2dcontour\"}],\"mesh3d\":[{\"colorbar\":{\"outlinewidth\":0,\"ticks\":\"\"},\"type\":\"mesh3d\"}],\"parcoords\":[{\"line\":{\"colorbar\":{\"outlinewidth\":0,\"ticks\":\"\"}},\"type\":\"parcoords\"}],\"pie\":[{\"automargin\":true,\"type\":\"pie\"}],\"scatter\":[{\"marker\":{\"colorbar\":{\"outlinewidth\":0,\"ticks\":\"\"}},\"type\":\"scatter\"}],\"scatter3d\":[{\"line\":{\"colorbar\":{\"outlinewidth\":0,\"ticks\":\"\"}},\"marker\":{\"colorbar\":{\"outlinewidth\":0,\"ticks\":\"\"}},\"type\":\"scatter3d\"}],\"scattercarpet\":[{\"marker\":{\"colorbar\":{\"outlinewidth\":0,\"ticks\":\"\"}},\"type\":\"scattercarpet\"}],\"scattergeo\":[{\"marker\":{\"colorbar\":{\"outlinewidth\":0,\"ticks\":\"\"}},\"type\":\"scattergeo\"}],\"scattergl\":[{\"marker\":{\"colorbar\":{\"outlinewidth\":0,\"ticks\":\"\"}},\"type\":\"scattergl\"}],\"scattermapbox\":[{\"marker\":{\"colorbar\":{\"outlinewidth\":0,\"ticks\":\"\"}},\"type\":\"scattermapbox\"}],\"scatterpolar\":[{\"marker\":{\"colorbar\":{\"outlinewidth\":0,\"ticks\":\"\"}},\"type\":\"scatterpolar\"}],\"scatterpolargl\":[{\"marker\":{\"colorbar\":{\"outlinewidth\":0,\"ticks\":\"\"}},\"type\":\"scatterpolargl\"}],\"scatterternary\":[{\"marker\":{\"colorbar\":{\"outlinewidth\":0,\"ticks\":\"\"}},\"type\":\"scatterternary\"}],\"surface\":[{\"colorbar\":{\"outlinewidth\":0,\"ticks\":\"\"},\"colorscale\":[[0.0,\"#0d0887\"],[0.1111111111111111,\"#46039f\"],[0.2222222222222222,\"#7201a8\"],[0.3333333333333333,\"#9c179e\"],[0.4444444444444444,\"#bd3786\"],[0.5555555555555556,\"#d8576b\"],[0.6666666666666666,\"#ed7953\"],[0.7777777777777778,\"#fb9f3a\"],[0.8888888888888888,\"#fdca26\"],[1.0,\"#f0f921\"]],\"type\":\"surface\"}],\"table\":[{\"cells\":{\"fill\":{\"color\":\"#EBF0F8\"},\"line\":{\"color\":\"white\"}},\"header\":{\"fill\":{\"color\":\"#C8D4E3\"},\"line\":{\"color\":\"white\"}},\"type\":\"table\"}]},\"layout\":{\"annotationdefaults\":{\"arrowcolor\":\"#2a3f5f\",\"arrowhead\":0,\"arrowwidth\":1},\"autotypenumbers\":\"strict\",\"coloraxis\":{\"colorbar\":{\"outlinewidth\":0,\"ticks\":\"\"}},\"colorscale\":{\"diverging\":[[0,\"#8e0152\"],[0.1,\"#c51b7d\"],[0.2,\"#de77ae\"],[0.3,\"#f1b6da\"],[0.4,\"#fde0ef\"],[0.5,\"#f7f7f7\"],[0.6,\"#e6f5d0\"],[0.7,\"#b8e186\"],[0.8,\"#7fbc41\"],[0.9,\"#4d9221\"],[1,\"#276419\"]],\"sequential\":[[0.0,\"#0d0887\"],[0.1111111111111111,\"#46039f\"],[0.2222222222222222,\"#7201a8\"],[0.3333333333333333,\"#9c179e\"],[0.4444444444444444,\"#bd3786\"],[0.5555555555555556,\"#d8576b\"],[0.6666666666666666,\"#ed7953\"],[0.7777777777777778,\"#fb9f3a\"],[0.8888888888888888,\"#fdca26\"],[1.0,\"#f0f921\"]],\"sequentialminus\":[[0.0,\"#0d0887\"],[0.1111111111111111,\"#46039f\"],[0.2222222222222222,\"#7201a8\"],[0.3333333333333333,\"#9c179e\"],[0.4444444444444444,\"#bd3786\"],[0.5555555555555556,\"#d8576b\"],[0.6666666666666666,\"#ed7953\"],[0.7777777777777778,\"#fb9f3a\"],[0.8888888888888888,\"#fdca26\"],[1.0,\"#f0f921\"]]},\"colorway\":[\"#636efa\",\"#EF553B\",\"#00cc96\",\"#ab63fa\",\"#FFA15A\",\"#19d3f3\",\"#FF6692\",\"#B6E880\",\"#FF97FF\",\"#FECB52\"],\"font\":{\"color\":\"#2a3f5f\"},\"geo\":{\"bgcolor\":\"white\",\"lakecolor\":\"white\",\"landcolor\":\"#E5ECF6\",\"showlakes\":true,\"showland\":true,\"subunitcolor\":\"white\"},\"hoverlabel\":{\"align\":\"left\"},\"hovermode\":\"closest\",\"mapbox\":{\"style\":\"light\"},\"paper_bgcolor\":\"white\",\"plot_bgcolor\":\"#E5ECF6\",\"polar\":{\"angularaxis\":{\"gridcolor\":\"white\",\"linecolor\":\"white\",\"ticks\":\"\"},\"bgcolor\":\"#E5ECF6\",\"radialaxis\":{\"gridcolor\":\"white\",\"linecolor\":\"white\",\"ticks\":\"\"}},\"scene\":{\"xaxis\":{\"backgroundcolor\":\"#E5ECF6\",\"gridcolor\":\"white\",\"gridwidth\":2,\"linecolor\":\"white\",\"showbackground\":true,\"ticks\":\"\",\"zerolinecolor\":\"white\"},\"yaxis\":{\"backgroundcolor\":\"#E5ECF6\",\"gridcolor\":\"white\",\"gridwidth\":2,\"linecolor\":\"white\",\"showbackground\":true,\"ticks\":\"\",\"zerolinecolor\":\"white\"},\"zaxis\":{\"backgroundcolor\":\"#E5ECF6\",\"gridcolor\":\"white\",\"gridwidth\":2,\"linecolor\":\"white\",\"showbackground\":true,\"ticks\":\"\",\"zerolinecolor\":\"white\"}},\"shapedefaults\":{\"line\":{\"color\":\"#2a3f5f\"}},\"ternary\":{\"aaxis\":{\"gridcolor\":\"white\",\"linecolor\":\"white\",\"ticks\":\"\"},\"baxis\":{\"gridcolor\":\"white\",\"linecolor\":\"white\",\"ticks\":\"\"},\"bgcolor\":\"#E5ECF6\",\"caxis\":{\"gridcolor\":\"white\",\"linecolor\":\"white\",\"ticks\":\"\"}},\"title\":{\"x\":0.05},\"xaxis\":{\"automargin\":true,\"gridcolor\":\"white\",\"linecolor\":\"white\",\"ticks\":\"\",\"title\":{\"standoff\":15},\"zerolinecolor\":\"white\",\"zerolinewidth\":2},\"yaxis\":{\"automargin\":true,\"gridcolor\":\"white\",\"linecolor\":\"white\",\"ticks\":\"\",\"title\":{\"standoff\":15},\"zerolinecolor\":\"white\",\"zerolinewidth\":2}}},\"title\":{\"text\":\"IEDB literature origin\"}},                        {\"responsive\": true}                    ).then(function(){\n",
       "                            \n",
       "var gd = document.getElementById('8ba55fa4-2065-474a-845b-59293333313b');\n",
       "var x = new MutationObserver(function (mutations, observer) {{\n",
       "        var display = window.getComputedStyle(gd).display;\n",
       "        if (!display || display === 'none') {{\n",
       "            console.log([gd, 'removed!']);\n",
       "            Plotly.purge(gd);\n",
       "            observer.disconnect();\n",
       "        }}\n",
       "}});\n",
       "\n",
       "// Listen for the removal of the full notebook cells\n",
       "var notebookContainer = gd.closest('#notebook-container');\n",
       "if (notebookContainer) {{\n",
       "    x.observe(notebookContainer, {childList: true});\n",
       "}}\n",
       "\n",
       "// Listen for the clearing of the current output cell\n",
       "var outputEl = gd.closest('.output');\n",
       "if (outputEl) {{\n",
       "    x.observe(outputEl, {childList: true});\n",
       "}}\n",
       "\n",
       "                        })                };                });            </script>        </div>"
      ]
     },
     "metadata": {},
     "output_type": "display_data"
    }
   ],
   "source": [
    "import plotly.express as px\n",
    "\n",
    "#pd_aff_counts.loc[pd_aff_counts['precentage'] < 0.01, 'countries'] = 'Other countries' # Represent only large countries\n",
    "fig = px.pie(pd_aff_counts[pd_aff_counts[\"precentage\"]>0.02], values='precentage', names='country', title='IEDB literature origin')\n",
    "fig.show()"
   ]
  },
  {
   "cell_type": "code",
   "execution_count": 37,
   "metadata": {},
   "outputs": [],
   "source": [
    "top_countries = list(pd_aff_counts[pd_aff_counts[\"precentage\"]>0.02][\"country\"])"
   ]
  },
  {
   "cell_type": "code",
   "execution_count": 45,
   "metadata": {},
   "outputs": [
    {
     "data": {
      "application/vnd.plotly.v1+json": {
       "config": {
        "plotlyServerURL": "https://plot.ly"
       },
       "data": [
        {
         "alignmentgroup": "True",
         "hovertemplate": "country=Australia<br>year=%{x}<br>pmid=%{y}<extra></extra>",
         "legendgroup": "Australia",
         "marker": {
          "color": "#2E91E5",
          "pattern": {
           "shape": ""
          }
         },
         "name": "Australia",
         "offsetgroup": "Australia",
         "orientation": "v",
         "showlegend": true,
         "textposition": "auto",
         "type": "bar",
         "x": [
          1996,
          1998,
          1999,
          2001,
          2002,
          2003,
          2004,
          2005,
          2006,
          2007,
          2008,
          2009,
          2010,
          2011,
          2012,
          2013,
          2014,
          2015,
          2016,
          2017,
          2018,
          2019,
          2020,
          2021,
          2022
         ],
         "xaxis": "x",
         "y": [
          1,
          2,
          2,
          2,
          2,
          5,
          3,
          5,
          2,
          2,
          3,
          4,
          6,
          1,
          11,
          2,
          34,
          22,
          23,
          16,
          46,
          43,
          30,
          67,
          21
         ],
         "yaxis": "y"
        },
        {
         "alignmentgroup": "True",
         "hovertemplate": "country=Canada<br>year=%{x}<br>pmid=%{y}<extra></extra>",
         "legendgroup": "Canada",
         "marker": {
          "color": "#E15F99",
          "pattern": {
           "shape": ""
          }
         },
         "name": "Canada",
         "offsetgroup": "Canada",
         "orientation": "v",
         "showlegend": true,
         "textposition": "auto",
         "type": "bar",
         "x": [
          1991,
          1993,
          1994,
          1995,
          2003,
          2005,
          2006,
          2013,
          2014,
          2015,
          2016,
          2017,
          2018,
          2019,
          2020,
          2021,
          2022
         ],
         "xaxis": "x",
         "y": [
          1,
          1,
          4,
          1,
          1,
          1,
          1,
          1,
          10,
          5,
          9,
          15,
          19,
          9,
          3,
          15,
          4
         ],
         "yaxis": "y"
        },
        {
         "alignmentgroup": "True",
         "hovertemplate": "country=China<br>year=%{x}<br>pmid=%{y}<extra></extra>",
         "legendgroup": "China",
         "marker": {
          "color": "#1CA71C",
          "pattern": {
           "shape": ""
          }
         },
         "name": "China",
         "offsetgroup": "China",
         "orientation": "v",
         "showlegend": true,
         "textposition": "auto",
         "type": "bar",
         "x": [
          2003,
          2004,
          2006,
          2007,
          2008,
          2009,
          2010,
          2011,
          2012,
          2013,
          2014,
          2015,
          2016,
          2017,
          2018,
          2019,
          2020,
          2021,
          2022,
          2023
         ],
         "xaxis": "x",
         "y": [
          1,
          6,
          2,
          4,
          1,
          3,
          8,
          7,
          7,
          5,
          11,
          21,
          14,
          17,
          49,
          17,
          14,
          42,
          63,
          4
         ],
         "yaxis": "y"
        },
        {
         "alignmentgroup": "True",
         "hovertemplate": "country=France<br>year=%{x}<br>pmid=%{y}<extra></extra>",
         "legendgroup": "France",
         "marker": {
          "color": "#FB0D0D",
          "pattern": {
           "shape": ""
          }
         },
         "name": "France",
         "offsetgroup": "France",
         "orientation": "v",
         "showlegend": true,
         "textposition": "auto",
         "type": "bar",
         "x": [
          1993,
          1996,
          1997,
          1998,
          1999,
          2000,
          2001,
          2002,
          2003,
          2004,
          2005,
          2006,
          2007,
          2009,
          2010,
          2011,
          2012,
          2013,
          2014,
          2016,
          2017,
          2018,
          2019,
          2020,
          2021,
          2022,
          2023
         ],
         "xaxis": "x",
         "y": [
          1,
          4,
          2,
          2,
          3,
          2,
          2,
          3,
          3,
          2,
          4,
          2,
          3,
          2,
          2,
          1,
          1,
          1,
          4,
          4,
          1,
          30,
          3,
          5,
          19,
          7,
          1
         ],
         "yaxis": "y"
        },
        {
         "alignmentgroup": "True",
         "hovertemplate": "country=Germany<br>year=%{x}<br>pmid=%{y}<extra></extra>",
         "legendgroup": "Germany",
         "marker": {
          "color": "#DA16FF",
          "pattern": {
           "shape": ""
          }
         },
         "name": "Germany",
         "offsetgroup": "Germany",
         "orientation": "v",
         "showlegend": true,
         "textposition": "auto",
         "type": "bar",
         "x": [
          1993,
          1994,
          1995,
          1996,
          1998,
          1999,
          2000,
          2001,
          2002,
          2003,
          2004,
          2005,
          2006,
          2007,
          2008,
          2009,
          2010,
          2011,
          2012,
          2013,
          2014,
          2015,
          2016,
          2017,
          2018,
          2019,
          2020,
          2021,
          2022,
          2023
         ],
         "xaxis": "x",
         "y": [
          2,
          1,
          1,
          1,
          2,
          5,
          3,
          3,
          3,
          5,
          9,
          6,
          2,
          4,
          9,
          5,
          2,
          5,
          5,
          1,
          24,
          20,
          80,
          27,
          59,
          66,
          33,
          26,
          11,
          1
         ],
         "yaxis": "y"
        },
        {
         "alignmentgroup": "True",
         "hovertemplate": "country=Italy<br>year=%{x}<br>pmid=%{y}<extra></extra>",
         "legendgroup": "Italy",
         "marker": {
          "color": "#222A2A",
          "pattern": {
           "shape": ""
          }
         },
         "name": "Italy",
         "offsetgroup": "Italy",
         "orientation": "v",
         "showlegend": true,
         "textposition": "auto",
         "type": "bar",
         "x": [
          1994,
          1995,
          1996,
          1997,
          1998,
          1999,
          2000,
          2001,
          2002,
          2003,
          2005,
          2006,
          2008,
          2012,
          2013,
          2014,
          2016,
          2017,
          2018,
          2019,
          2020,
          2021,
          2022,
          2023
         ],
         "xaxis": "x",
         "y": [
          4,
          3,
          1,
          2,
          1,
          4,
          2,
          2,
          4,
          1,
          3,
          1,
          1,
          1,
          1,
          6,
          5,
          6,
          13,
          15,
          1,
          2,
          1,
          2
         ],
         "yaxis": "y"
        },
        {
         "alignmentgroup": "True",
         "hovertemplate": "country=Japan<br>year=%{x}<br>pmid=%{y}<extra></extra>",
         "legendgroup": "Japan",
         "marker": {
          "color": "#B68100",
          "pattern": {
           "shape": ""
          }
         },
         "name": "Japan",
         "offsetgroup": "Japan",
         "orientation": "v",
         "showlegend": true,
         "textposition": "auto",
         "type": "bar",
         "x": [
          1994,
          1995,
          1996,
          1997,
          1998,
          1999,
          2001,
          2002,
          2003,
          2004,
          2006,
          2007,
          2008,
          2009,
          2011,
          2012,
          2013,
          2014,
          2016,
          2017,
          2018,
          2019,
          2020,
          2021,
          2022
         ],
         "xaxis": "x",
         "y": [
          1,
          1,
          1,
          3,
          3,
          4,
          4,
          2,
          3,
          2,
          2,
          4,
          2,
          6,
          2,
          2,
          4,
          12,
          2,
          2,
          7,
          5,
          8,
          11,
          32
         ],
         "yaxis": "y"
        },
        {
         "alignmentgroup": "True",
         "hovertemplate": "country=Netherlands<br>year=%{x}<br>pmid=%{y}<extra></extra>",
         "legendgroup": "Netherlands",
         "marker": {
          "color": "#750D86",
          "pattern": {
           "shape": ""
          }
         },
         "name": "Netherlands",
         "offsetgroup": "Netherlands",
         "orientation": "v",
         "showlegend": true,
         "textposition": "auto",
         "type": "bar",
         "x": [
          1993,
          1994,
          1995,
          1996,
          1998,
          1999,
          2000,
          2001,
          2002,
          2003,
          2005,
          2006,
          2009,
          2011,
          2012,
          2013,
          2014,
          2015,
          2016,
          2017,
          2018,
          2019,
          2020,
          2021,
          2022
         ],
         "xaxis": "x",
         "y": [
          3,
          1,
          5,
          1,
          2,
          2,
          2,
          2,
          4,
          3,
          1,
          1,
          3,
          5,
          3,
          3,
          10,
          20,
          8,
          12,
          16,
          14,
          16,
          23,
          13
         ],
         "yaxis": "y"
        },
        {
         "alignmentgroup": "True",
         "hovertemplate": "country=Spain<br>year=%{x}<br>pmid=%{y}<extra></extra>",
         "legendgroup": "Spain",
         "marker": {
          "color": "#EB663B",
          "pattern": {
           "shape": ""
          }
         },
         "name": "Spain",
         "offsetgroup": "Spain",
         "orientation": "v",
         "showlegend": true,
         "textposition": "auto",
         "type": "bar",
         "x": [
          1996,
          1997,
          1998,
          1999,
          2000,
          2001,
          2002,
          2004,
          2005,
          2007,
          2008,
          2009,
          2010,
          2011,
          2012,
          2013,
          2014,
          2015,
          2016,
          2017,
          2018,
          2019,
          2020,
          2021,
          2022
         ],
         "xaxis": "x",
         "y": [
          1,
          2,
          2,
          3,
          3,
          6,
          3,
          1,
          2,
          2,
          1,
          1,
          1,
          2,
          5,
          5,
          5,
          9,
          8,
          13,
          6,
          18,
          3,
          4,
          5
         ],
         "yaxis": "y"
        },
        {
         "alignmentgroup": "True",
         "hovertemplate": "country=Switzerland<br>year=%{x}<br>pmid=%{y}<extra></extra>",
         "legendgroup": "Switzerland",
         "marker": {
          "color": "#511CFB",
          "pattern": {
           "shape": ""
          }
         },
         "name": "Switzerland",
         "offsetgroup": "Switzerland",
         "orientation": "v",
         "showlegend": true,
         "textposition": "auto",
         "type": "bar",
         "x": [
          1995,
          1998,
          1999,
          2000,
          2001,
          2006,
          2012,
          2014,
          2015,
          2016,
          2017,
          2018,
          2019,
          2020,
          2021
         ],
         "xaxis": "x",
         "y": [
          1,
          1,
          1,
          1,
          1,
          1,
          1,
          7,
          1,
          12,
          9,
          24,
          5,
          26,
          17
         ],
         "yaxis": "y"
        },
        {
         "alignmentgroup": "True",
         "hovertemplate": "country=United Kingdom<br>year=%{x}<br>pmid=%{y}<extra></extra>",
         "legendgroup": "United Kingdom",
         "marker": {
          "color": "#00A08B",
          "pattern": {
           "shape": ""
          }
         },
         "name": "United Kingdom",
         "offsetgroup": "United Kingdom",
         "orientation": "v",
         "showlegend": true,
         "textposition": "auto",
         "type": "bar",
         "x": [
          1988,
          1989,
          1990,
          1992,
          1993,
          1994,
          1995,
          1996,
          1997,
          1998,
          1999,
          2000,
          2001,
          2003,
          2004,
          2005,
          2006,
          2007,
          2008,
          2009,
          2010,
          2011,
          2012,
          2013,
          2014,
          2015,
          2016,
          2017,
          2018,
          2019,
          2020,
          2021,
          2022,
          2023
         ],
         "xaxis": "x",
         "y": [
          1,
          1,
          1,
          2,
          1,
          3,
          3,
          4,
          1,
          1,
          1,
          3,
          1,
          2,
          4,
          5,
          6,
          3,
          4,
          2,
          12,
          3,
          4,
          15,
          7,
          9,
          12,
          35,
          31,
          29,
          36,
          17,
          32,
          2
         ],
         "yaxis": "y"
        },
        {
         "alignmentgroup": "True",
         "hovertemplate": "country=United States<br>year=%{x}<br>pmid=%{y}<extra></extra>",
         "legendgroup": "United States",
         "marker": {
          "color": "#FB00D1",
          "pattern": {
           "shape": ""
          }
         },
         "name": "United States",
         "offsetgroup": "United States",
         "orientation": "v",
         "showlegend": true,
         "textposition": "auto",
         "type": "bar",
         "x": [
          1991,
          1992,
          1993,
          1994,
          1995,
          1996,
          1997,
          1998,
          1999,
          2000,
          2001,
          2002,
          2003,
          2004,
          2005,
          2006,
          2007,
          2008,
          2009,
          2010,
          2011,
          2012,
          2013,
          2014,
          2015,
          2016,
          2017,
          2018,
          2019,
          2020,
          2021,
          2022,
          2023
         ],
         "xaxis": "x",
         "y": [
          3,
          6,
          8,
          7,
          18,
          15,
          20,
          20,
          13,
          11,
          19,
          7,
          12,
          11,
          11,
          12,
          13,
          11,
          13,
          13,
          13,
          11,
          5,
          35,
          45,
          56,
          91,
          77,
          66,
          54,
          213,
          75,
          7
         ],
         "yaxis": "y"
        }
       ],
       "layout": {
        "barmode": "relative",
        "legend": {
         "title": {
          "text": "country"
         },
         "tracegroupgap": 0
        },
        "margin": {
         "t": 60
        },
        "template": {
         "data": {
          "bar": [
           {
            "error_x": {
             "color": "#2a3f5f"
            },
            "error_y": {
             "color": "#2a3f5f"
            },
            "marker": {
             "line": {
              "color": "#E5ECF6",
              "width": 0.5
             },
             "pattern": {
              "fillmode": "overlay",
              "size": 10,
              "solidity": 0.2
             }
            },
            "type": "bar"
           }
          ],
          "barpolar": [
           {
            "marker": {
             "line": {
              "color": "#E5ECF6",
              "width": 0.5
             },
             "pattern": {
              "fillmode": "overlay",
              "size": 10,
              "solidity": 0.2
             }
            },
            "type": "barpolar"
           }
          ],
          "carpet": [
           {
            "aaxis": {
             "endlinecolor": "#2a3f5f",
             "gridcolor": "white",
             "linecolor": "white",
             "minorgridcolor": "white",
             "startlinecolor": "#2a3f5f"
            },
            "baxis": {
             "endlinecolor": "#2a3f5f",
             "gridcolor": "white",
             "linecolor": "white",
             "minorgridcolor": "white",
             "startlinecolor": "#2a3f5f"
            },
            "type": "carpet"
           }
          ],
          "choropleth": [
           {
            "colorbar": {
             "outlinewidth": 0,
             "ticks": ""
            },
            "type": "choropleth"
           }
          ],
          "contour": [
           {
            "colorbar": {
             "outlinewidth": 0,
             "ticks": ""
            },
            "colorscale": [
             [
              0,
              "#0d0887"
             ],
             [
              0.1111111111111111,
              "#46039f"
             ],
             [
              0.2222222222222222,
              "#7201a8"
             ],
             [
              0.3333333333333333,
              "#9c179e"
             ],
             [
              0.4444444444444444,
              "#bd3786"
             ],
             [
              0.5555555555555556,
              "#d8576b"
             ],
             [
              0.6666666666666666,
              "#ed7953"
             ],
             [
              0.7777777777777778,
              "#fb9f3a"
             ],
             [
              0.8888888888888888,
              "#fdca26"
             ],
             [
              1,
              "#f0f921"
             ]
            ],
            "type": "contour"
           }
          ],
          "contourcarpet": [
           {
            "colorbar": {
             "outlinewidth": 0,
             "ticks": ""
            },
            "type": "contourcarpet"
           }
          ],
          "heatmap": [
           {
            "colorbar": {
             "outlinewidth": 0,
             "ticks": ""
            },
            "colorscale": [
             [
              0,
              "#0d0887"
             ],
             [
              0.1111111111111111,
              "#46039f"
             ],
             [
              0.2222222222222222,
              "#7201a8"
             ],
             [
              0.3333333333333333,
              "#9c179e"
             ],
             [
              0.4444444444444444,
              "#bd3786"
             ],
             [
              0.5555555555555556,
              "#d8576b"
             ],
             [
              0.6666666666666666,
              "#ed7953"
             ],
             [
              0.7777777777777778,
              "#fb9f3a"
             ],
             [
              0.8888888888888888,
              "#fdca26"
             ],
             [
              1,
              "#f0f921"
             ]
            ],
            "type": "heatmap"
           }
          ],
          "heatmapgl": [
           {
            "colorbar": {
             "outlinewidth": 0,
             "ticks": ""
            },
            "colorscale": [
             [
              0,
              "#0d0887"
             ],
             [
              0.1111111111111111,
              "#46039f"
             ],
             [
              0.2222222222222222,
              "#7201a8"
             ],
             [
              0.3333333333333333,
              "#9c179e"
             ],
             [
              0.4444444444444444,
              "#bd3786"
             ],
             [
              0.5555555555555556,
              "#d8576b"
             ],
             [
              0.6666666666666666,
              "#ed7953"
             ],
             [
              0.7777777777777778,
              "#fb9f3a"
             ],
             [
              0.8888888888888888,
              "#fdca26"
             ],
             [
              1,
              "#f0f921"
             ]
            ],
            "type": "heatmapgl"
           }
          ],
          "histogram": [
           {
            "marker": {
             "pattern": {
              "fillmode": "overlay",
              "size": 10,
              "solidity": 0.2
             }
            },
            "type": "histogram"
           }
          ],
          "histogram2d": [
           {
            "colorbar": {
             "outlinewidth": 0,
             "ticks": ""
            },
            "colorscale": [
             [
              0,
              "#0d0887"
             ],
             [
              0.1111111111111111,
              "#46039f"
             ],
             [
              0.2222222222222222,
              "#7201a8"
             ],
             [
              0.3333333333333333,
              "#9c179e"
             ],
             [
              0.4444444444444444,
              "#bd3786"
             ],
             [
              0.5555555555555556,
              "#d8576b"
             ],
             [
              0.6666666666666666,
              "#ed7953"
             ],
             [
              0.7777777777777778,
              "#fb9f3a"
             ],
             [
              0.8888888888888888,
              "#fdca26"
             ],
             [
              1,
              "#f0f921"
             ]
            ],
            "type": "histogram2d"
           }
          ],
          "histogram2dcontour": [
           {
            "colorbar": {
             "outlinewidth": 0,
             "ticks": ""
            },
            "colorscale": [
             [
              0,
              "#0d0887"
             ],
             [
              0.1111111111111111,
              "#46039f"
             ],
             [
              0.2222222222222222,
              "#7201a8"
             ],
             [
              0.3333333333333333,
              "#9c179e"
             ],
             [
              0.4444444444444444,
              "#bd3786"
             ],
             [
              0.5555555555555556,
              "#d8576b"
             ],
             [
              0.6666666666666666,
              "#ed7953"
             ],
             [
              0.7777777777777778,
              "#fb9f3a"
             ],
             [
              0.8888888888888888,
              "#fdca26"
             ],
             [
              1,
              "#f0f921"
             ]
            ],
            "type": "histogram2dcontour"
           }
          ],
          "mesh3d": [
           {
            "colorbar": {
             "outlinewidth": 0,
             "ticks": ""
            },
            "type": "mesh3d"
           }
          ],
          "parcoords": [
           {
            "line": {
             "colorbar": {
              "outlinewidth": 0,
              "ticks": ""
             }
            },
            "type": "parcoords"
           }
          ],
          "pie": [
           {
            "automargin": true,
            "type": "pie"
           }
          ],
          "scatter": [
           {
            "marker": {
             "colorbar": {
              "outlinewidth": 0,
              "ticks": ""
             }
            },
            "type": "scatter"
           }
          ],
          "scatter3d": [
           {
            "line": {
             "colorbar": {
              "outlinewidth": 0,
              "ticks": ""
             }
            },
            "marker": {
             "colorbar": {
              "outlinewidth": 0,
              "ticks": ""
             }
            },
            "type": "scatter3d"
           }
          ],
          "scattercarpet": [
           {
            "marker": {
             "colorbar": {
              "outlinewidth": 0,
              "ticks": ""
             }
            },
            "type": "scattercarpet"
           }
          ],
          "scattergeo": [
           {
            "marker": {
             "colorbar": {
              "outlinewidth": 0,
              "ticks": ""
             }
            },
            "type": "scattergeo"
           }
          ],
          "scattergl": [
           {
            "marker": {
             "colorbar": {
              "outlinewidth": 0,
              "ticks": ""
             }
            },
            "type": "scattergl"
           }
          ],
          "scattermapbox": [
           {
            "marker": {
             "colorbar": {
              "outlinewidth": 0,
              "ticks": ""
             }
            },
            "type": "scattermapbox"
           }
          ],
          "scatterpolar": [
           {
            "marker": {
             "colorbar": {
              "outlinewidth": 0,
              "ticks": ""
             }
            },
            "type": "scatterpolar"
           }
          ],
          "scatterpolargl": [
           {
            "marker": {
             "colorbar": {
              "outlinewidth": 0,
              "ticks": ""
             }
            },
            "type": "scatterpolargl"
           }
          ],
          "scatterternary": [
           {
            "marker": {
             "colorbar": {
              "outlinewidth": 0,
              "ticks": ""
             }
            },
            "type": "scatterternary"
           }
          ],
          "surface": [
           {
            "colorbar": {
             "outlinewidth": 0,
             "ticks": ""
            },
            "colorscale": [
             [
              0,
              "#0d0887"
             ],
             [
              0.1111111111111111,
              "#46039f"
             ],
             [
              0.2222222222222222,
              "#7201a8"
             ],
             [
              0.3333333333333333,
              "#9c179e"
             ],
             [
              0.4444444444444444,
              "#bd3786"
             ],
             [
              0.5555555555555556,
              "#d8576b"
             ],
             [
              0.6666666666666666,
              "#ed7953"
             ],
             [
              0.7777777777777778,
              "#fb9f3a"
             ],
             [
              0.8888888888888888,
              "#fdca26"
             ],
             [
              1,
              "#f0f921"
             ]
            ],
            "type": "surface"
           }
          ],
          "table": [
           {
            "cells": {
             "fill": {
              "color": "#EBF0F8"
             },
             "line": {
              "color": "white"
             }
            },
            "header": {
             "fill": {
              "color": "#C8D4E3"
             },
             "line": {
              "color": "white"
             }
            },
            "type": "table"
           }
          ]
         },
         "layout": {
          "annotationdefaults": {
           "arrowcolor": "#2a3f5f",
           "arrowhead": 0,
           "arrowwidth": 1
          },
          "autotypenumbers": "strict",
          "coloraxis": {
           "colorbar": {
            "outlinewidth": 0,
            "ticks": ""
           }
          },
          "colorscale": {
           "diverging": [
            [
             0,
             "#8e0152"
            ],
            [
             0.1,
             "#c51b7d"
            ],
            [
             0.2,
             "#de77ae"
            ],
            [
             0.3,
             "#f1b6da"
            ],
            [
             0.4,
             "#fde0ef"
            ],
            [
             0.5,
             "#f7f7f7"
            ],
            [
             0.6,
             "#e6f5d0"
            ],
            [
             0.7,
             "#b8e186"
            ],
            [
             0.8,
             "#7fbc41"
            ],
            [
             0.9,
             "#4d9221"
            ],
            [
             1,
             "#276419"
            ]
           ],
           "sequential": [
            [
             0,
             "#0d0887"
            ],
            [
             0.1111111111111111,
             "#46039f"
            ],
            [
             0.2222222222222222,
             "#7201a8"
            ],
            [
             0.3333333333333333,
             "#9c179e"
            ],
            [
             0.4444444444444444,
             "#bd3786"
            ],
            [
             0.5555555555555556,
             "#d8576b"
            ],
            [
             0.6666666666666666,
             "#ed7953"
            ],
            [
             0.7777777777777778,
             "#fb9f3a"
            ],
            [
             0.8888888888888888,
             "#fdca26"
            ],
            [
             1,
             "#f0f921"
            ]
           ],
           "sequentialminus": [
            [
             0,
             "#0d0887"
            ],
            [
             0.1111111111111111,
             "#46039f"
            ],
            [
             0.2222222222222222,
             "#7201a8"
            ],
            [
             0.3333333333333333,
             "#9c179e"
            ],
            [
             0.4444444444444444,
             "#bd3786"
            ],
            [
             0.5555555555555556,
             "#d8576b"
            ],
            [
             0.6666666666666666,
             "#ed7953"
            ],
            [
             0.7777777777777778,
             "#fb9f3a"
            ],
            [
             0.8888888888888888,
             "#fdca26"
            ],
            [
             1,
             "#f0f921"
            ]
           ]
          },
          "colorway": [
           "#636efa",
           "#EF553B",
           "#00cc96",
           "#ab63fa",
           "#FFA15A",
           "#19d3f3",
           "#FF6692",
           "#B6E880",
           "#FF97FF",
           "#FECB52"
          ],
          "font": {
           "color": "#2a3f5f"
          },
          "geo": {
           "bgcolor": "white",
           "lakecolor": "white",
           "landcolor": "#E5ECF6",
           "showlakes": true,
           "showland": true,
           "subunitcolor": "white"
          },
          "hoverlabel": {
           "align": "left"
          },
          "hovermode": "closest",
          "mapbox": {
           "style": "light"
          },
          "paper_bgcolor": "white",
          "plot_bgcolor": "#E5ECF6",
          "polar": {
           "angularaxis": {
            "gridcolor": "white",
            "linecolor": "white",
            "ticks": ""
           },
           "bgcolor": "#E5ECF6",
           "radialaxis": {
            "gridcolor": "white",
            "linecolor": "white",
            "ticks": ""
           }
          },
          "scene": {
           "xaxis": {
            "backgroundcolor": "#E5ECF6",
            "gridcolor": "white",
            "gridwidth": 2,
            "linecolor": "white",
            "showbackground": true,
            "ticks": "",
            "zerolinecolor": "white"
           },
           "yaxis": {
            "backgroundcolor": "#E5ECF6",
            "gridcolor": "white",
            "gridwidth": 2,
            "linecolor": "white",
            "showbackground": true,
            "ticks": "",
            "zerolinecolor": "white"
           },
           "zaxis": {
            "backgroundcolor": "#E5ECF6",
            "gridcolor": "white",
            "gridwidth": 2,
            "linecolor": "white",
            "showbackground": true,
            "ticks": "",
            "zerolinecolor": "white"
           }
          },
          "shapedefaults": {
           "line": {
            "color": "#2a3f5f"
           }
          },
          "ternary": {
           "aaxis": {
            "gridcolor": "white",
            "linecolor": "white",
            "ticks": ""
           },
           "baxis": {
            "gridcolor": "white",
            "linecolor": "white",
            "ticks": ""
           },
           "bgcolor": "#E5ECF6",
           "caxis": {
            "gridcolor": "white",
            "linecolor": "white",
            "ticks": ""
           }
          },
          "title": {
           "x": 0.05
          },
          "xaxis": {
           "automargin": true,
           "gridcolor": "white",
           "linecolor": "white",
           "ticks": "",
           "title": {
            "standoff": 15
           },
           "zerolinecolor": "white",
           "zerolinewidth": 2
          },
          "yaxis": {
           "automargin": true,
           "gridcolor": "white",
           "linecolor": "white",
           "ticks": "",
           "title": {
            "standoff": 15
           },
           "zerolinecolor": "white",
           "zerolinewidth": 2
          }
         }
        },
        "xaxis": {
         "anchor": "y",
         "domain": [
          0,
          1
         ],
         "title": {
          "text": "year"
         }
        },
        "yaxis": {
         "anchor": "x",
         "domain": [
          0,
          1
         ],
         "title": {
          "text": "pmid"
         }
        }
       }
      },
      "text/html": [
       "<div>                            <div id=\"230edf48-5e87-4fe1-be87-e34b83c43162\" class=\"plotly-graph-div\" style=\"height:525px; width:100%;\"></div>            <script type=\"text/javascript\">                require([\"plotly\"], function(Plotly) {                    window.PLOTLYENV=window.PLOTLYENV || {};                                    if (document.getElementById(\"230edf48-5e87-4fe1-be87-e34b83c43162\")) {                    Plotly.newPlot(                        \"230edf48-5e87-4fe1-be87-e34b83c43162\",                        [{\"alignmentgroup\":\"True\",\"hovertemplate\":\"country=Australia<br>year=%{x}<br>pmid=%{y}<extra></extra>\",\"legendgroup\":\"Australia\",\"marker\":{\"color\":\"#2E91E5\",\"pattern\":{\"shape\":\"\"}},\"name\":\"Australia\",\"offsetgroup\":\"Australia\",\"orientation\":\"v\",\"showlegend\":true,\"textposition\":\"auto\",\"type\":\"bar\",\"x\":[1996,1998,1999,2001,2002,2003,2004,2005,2006,2007,2008,2009,2010,2011,2012,2013,2014,2015,2016,2017,2018,2019,2020,2021,2022],\"xaxis\":\"x\",\"y\":[1,2,2,2,2,5,3,5,2,2,3,4,6,1,11,2,34,22,23,16,46,43,30,67,21],\"yaxis\":\"y\"},{\"alignmentgroup\":\"True\",\"hovertemplate\":\"country=Canada<br>year=%{x}<br>pmid=%{y}<extra></extra>\",\"legendgroup\":\"Canada\",\"marker\":{\"color\":\"#E15F99\",\"pattern\":{\"shape\":\"\"}},\"name\":\"Canada\",\"offsetgroup\":\"Canada\",\"orientation\":\"v\",\"showlegend\":true,\"textposition\":\"auto\",\"type\":\"bar\",\"x\":[1991,1993,1994,1995,2003,2005,2006,2013,2014,2015,2016,2017,2018,2019,2020,2021,2022],\"xaxis\":\"x\",\"y\":[1,1,4,1,1,1,1,1,10,5,9,15,19,9,3,15,4],\"yaxis\":\"y\"},{\"alignmentgroup\":\"True\",\"hovertemplate\":\"country=China<br>year=%{x}<br>pmid=%{y}<extra></extra>\",\"legendgroup\":\"China\",\"marker\":{\"color\":\"#1CA71C\",\"pattern\":{\"shape\":\"\"}},\"name\":\"China\",\"offsetgroup\":\"China\",\"orientation\":\"v\",\"showlegend\":true,\"textposition\":\"auto\",\"type\":\"bar\",\"x\":[2003,2004,2006,2007,2008,2009,2010,2011,2012,2013,2014,2015,2016,2017,2018,2019,2020,2021,2022,2023],\"xaxis\":\"x\",\"y\":[1,6,2,4,1,3,8,7,7,5,11,21,14,17,49,17,14,42,63,4],\"yaxis\":\"y\"},{\"alignmentgroup\":\"True\",\"hovertemplate\":\"country=France<br>year=%{x}<br>pmid=%{y}<extra></extra>\",\"legendgroup\":\"France\",\"marker\":{\"color\":\"#FB0D0D\",\"pattern\":{\"shape\":\"\"}},\"name\":\"France\",\"offsetgroup\":\"France\",\"orientation\":\"v\",\"showlegend\":true,\"textposition\":\"auto\",\"type\":\"bar\",\"x\":[1993,1996,1997,1998,1999,2000,2001,2002,2003,2004,2005,2006,2007,2009,2010,2011,2012,2013,2014,2016,2017,2018,2019,2020,2021,2022,2023],\"xaxis\":\"x\",\"y\":[1,4,2,2,3,2,2,3,3,2,4,2,3,2,2,1,1,1,4,4,1,30,3,5,19,7,1],\"yaxis\":\"y\"},{\"alignmentgroup\":\"True\",\"hovertemplate\":\"country=Germany<br>year=%{x}<br>pmid=%{y}<extra></extra>\",\"legendgroup\":\"Germany\",\"marker\":{\"color\":\"#DA16FF\",\"pattern\":{\"shape\":\"\"}},\"name\":\"Germany\",\"offsetgroup\":\"Germany\",\"orientation\":\"v\",\"showlegend\":true,\"textposition\":\"auto\",\"type\":\"bar\",\"x\":[1993,1994,1995,1996,1998,1999,2000,2001,2002,2003,2004,2005,2006,2007,2008,2009,2010,2011,2012,2013,2014,2015,2016,2017,2018,2019,2020,2021,2022,2023],\"xaxis\":\"x\",\"y\":[2,1,1,1,2,5,3,3,3,5,9,6,2,4,9,5,2,5,5,1,24,20,80,27,59,66,33,26,11,1],\"yaxis\":\"y\"},{\"alignmentgroup\":\"True\",\"hovertemplate\":\"country=Italy<br>year=%{x}<br>pmid=%{y}<extra></extra>\",\"legendgroup\":\"Italy\",\"marker\":{\"color\":\"#222A2A\",\"pattern\":{\"shape\":\"\"}},\"name\":\"Italy\",\"offsetgroup\":\"Italy\",\"orientation\":\"v\",\"showlegend\":true,\"textposition\":\"auto\",\"type\":\"bar\",\"x\":[1994,1995,1996,1997,1998,1999,2000,2001,2002,2003,2005,2006,2008,2012,2013,2014,2016,2017,2018,2019,2020,2021,2022,2023],\"xaxis\":\"x\",\"y\":[4,3,1,2,1,4,2,2,4,1,3,1,1,1,1,6,5,6,13,15,1,2,1,2],\"yaxis\":\"y\"},{\"alignmentgroup\":\"True\",\"hovertemplate\":\"country=Japan<br>year=%{x}<br>pmid=%{y}<extra></extra>\",\"legendgroup\":\"Japan\",\"marker\":{\"color\":\"#B68100\",\"pattern\":{\"shape\":\"\"}},\"name\":\"Japan\",\"offsetgroup\":\"Japan\",\"orientation\":\"v\",\"showlegend\":true,\"textposition\":\"auto\",\"type\":\"bar\",\"x\":[1994,1995,1996,1997,1998,1999,2001,2002,2003,2004,2006,2007,2008,2009,2011,2012,2013,2014,2016,2017,2018,2019,2020,2021,2022],\"xaxis\":\"x\",\"y\":[1,1,1,3,3,4,4,2,3,2,2,4,2,6,2,2,4,12,2,2,7,5,8,11,32],\"yaxis\":\"y\"},{\"alignmentgroup\":\"True\",\"hovertemplate\":\"country=Netherlands<br>year=%{x}<br>pmid=%{y}<extra></extra>\",\"legendgroup\":\"Netherlands\",\"marker\":{\"color\":\"#750D86\",\"pattern\":{\"shape\":\"\"}},\"name\":\"Netherlands\",\"offsetgroup\":\"Netherlands\",\"orientation\":\"v\",\"showlegend\":true,\"textposition\":\"auto\",\"type\":\"bar\",\"x\":[1993,1994,1995,1996,1998,1999,2000,2001,2002,2003,2005,2006,2009,2011,2012,2013,2014,2015,2016,2017,2018,2019,2020,2021,2022],\"xaxis\":\"x\",\"y\":[3,1,5,1,2,2,2,2,4,3,1,1,3,5,3,3,10,20,8,12,16,14,16,23,13],\"yaxis\":\"y\"},{\"alignmentgroup\":\"True\",\"hovertemplate\":\"country=Spain<br>year=%{x}<br>pmid=%{y}<extra></extra>\",\"legendgroup\":\"Spain\",\"marker\":{\"color\":\"#EB663B\",\"pattern\":{\"shape\":\"\"}},\"name\":\"Spain\",\"offsetgroup\":\"Spain\",\"orientation\":\"v\",\"showlegend\":true,\"textposition\":\"auto\",\"type\":\"bar\",\"x\":[1996,1997,1998,1999,2000,2001,2002,2004,2005,2007,2008,2009,2010,2011,2012,2013,2014,2015,2016,2017,2018,2019,2020,2021,2022],\"xaxis\":\"x\",\"y\":[1,2,2,3,3,6,3,1,2,2,1,1,1,2,5,5,5,9,8,13,6,18,3,4,5],\"yaxis\":\"y\"},{\"alignmentgroup\":\"True\",\"hovertemplate\":\"country=Switzerland<br>year=%{x}<br>pmid=%{y}<extra></extra>\",\"legendgroup\":\"Switzerland\",\"marker\":{\"color\":\"#511CFB\",\"pattern\":{\"shape\":\"\"}},\"name\":\"Switzerland\",\"offsetgroup\":\"Switzerland\",\"orientation\":\"v\",\"showlegend\":true,\"textposition\":\"auto\",\"type\":\"bar\",\"x\":[1995,1998,1999,2000,2001,2006,2012,2014,2015,2016,2017,2018,2019,2020,2021],\"xaxis\":\"x\",\"y\":[1,1,1,1,1,1,1,7,1,12,9,24,5,26,17],\"yaxis\":\"y\"},{\"alignmentgroup\":\"True\",\"hovertemplate\":\"country=United Kingdom<br>year=%{x}<br>pmid=%{y}<extra></extra>\",\"legendgroup\":\"United Kingdom\",\"marker\":{\"color\":\"#00A08B\",\"pattern\":{\"shape\":\"\"}},\"name\":\"United Kingdom\",\"offsetgroup\":\"United Kingdom\",\"orientation\":\"v\",\"showlegend\":true,\"textposition\":\"auto\",\"type\":\"bar\",\"x\":[1988,1989,1990,1992,1993,1994,1995,1996,1997,1998,1999,2000,2001,2003,2004,2005,2006,2007,2008,2009,2010,2011,2012,2013,2014,2015,2016,2017,2018,2019,2020,2021,2022,2023],\"xaxis\":\"x\",\"y\":[1,1,1,2,1,3,3,4,1,1,1,3,1,2,4,5,6,3,4,2,12,3,4,15,7,9,12,35,31,29,36,17,32,2],\"yaxis\":\"y\"},{\"alignmentgroup\":\"True\",\"hovertemplate\":\"country=United States<br>year=%{x}<br>pmid=%{y}<extra></extra>\",\"legendgroup\":\"United States\",\"marker\":{\"color\":\"#FB00D1\",\"pattern\":{\"shape\":\"\"}},\"name\":\"United States\",\"offsetgroup\":\"United States\",\"orientation\":\"v\",\"showlegend\":true,\"textposition\":\"auto\",\"type\":\"bar\",\"x\":[1991,1992,1993,1994,1995,1996,1997,1998,1999,2000,2001,2002,2003,2004,2005,2006,2007,2008,2009,2010,2011,2012,2013,2014,2015,2016,2017,2018,2019,2020,2021,2022,2023],\"xaxis\":\"x\",\"y\":[3,6,8,7,18,15,20,20,13,11,19,7,12,11,11,12,13,11,13,13,13,11,5,35,45,56,91,77,66,54,213,75,7],\"yaxis\":\"y\"}],                        {\"barmode\":\"relative\",\"legend\":{\"title\":{\"text\":\"country\"},\"tracegroupgap\":0},\"margin\":{\"t\":60},\"template\":{\"data\":{\"bar\":[{\"error_x\":{\"color\":\"#2a3f5f\"},\"error_y\":{\"color\":\"#2a3f5f\"},\"marker\":{\"line\":{\"color\":\"#E5ECF6\",\"width\":0.5},\"pattern\":{\"fillmode\":\"overlay\",\"size\":10,\"solidity\":0.2}},\"type\":\"bar\"}],\"barpolar\":[{\"marker\":{\"line\":{\"color\":\"#E5ECF6\",\"width\":0.5},\"pattern\":{\"fillmode\":\"overlay\",\"size\":10,\"solidity\":0.2}},\"type\":\"barpolar\"}],\"carpet\":[{\"aaxis\":{\"endlinecolor\":\"#2a3f5f\",\"gridcolor\":\"white\",\"linecolor\":\"white\",\"minorgridcolor\":\"white\",\"startlinecolor\":\"#2a3f5f\"},\"baxis\":{\"endlinecolor\":\"#2a3f5f\",\"gridcolor\":\"white\",\"linecolor\":\"white\",\"minorgridcolor\":\"white\",\"startlinecolor\":\"#2a3f5f\"},\"type\":\"carpet\"}],\"choropleth\":[{\"colorbar\":{\"outlinewidth\":0,\"ticks\":\"\"},\"type\":\"choropleth\"}],\"contour\":[{\"colorbar\":{\"outlinewidth\":0,\"ticks\":\"\"},\"colorscale\":[[0.0,\"#0d0887\"],[0.1111111111111111,\"#46039f\"],[0.2222222222222222,\"#7201a8\"],[0.3333333333333333,\"#9c179e\"],[0.4444444444444444,\"#bd3786\"],[0.5555555555555556,\"#d8576b\"],[0.6666666666666666,\"#ed7953\"],[0.7777777777777778,\"#fb9f3a\"],[0.8888888888888888,\"#fdca26\"],[1.0,\"#f0f921\"]],\"type\":\"contour\"}],\"contourcarpet\":[{\"colorbar\":{\"outlinewidth\":0,\"ticks\":\"\"},\"type\":\"contourcarpet\"}],\"heatmap\":[{\"colorbar\":{\"outlinewidth\":0,\"ticks\":\"\"},\"colorscale\":[[0.0,\"#0d0887\"],[0.1111111111111111,\"#46039f\"],[0.2222222222222222,\"#7201a8\"],[0.3333333333333333,\"#9c179e\"],[0.4444444444444444,\"#bd3786\"],[0.5555555555555556,\"#d8576b\"],[0.6666666666666666,\"#ed7953\"],[0.7777777777777778,\"#fb9f3a\"],[0.8888888888888888,\"#fdca26\"],[1.0,\"#f0f921\"]],\"type\":\"heatmap\"}],\"heatmapgl\":[{\"colorbar\":{\"outlinewidth\":0,\"ticks\":\"\"},\"colorscale\":[[0.0,\"#0d0887\"],[0.1111111111111111,\"#46039f\"],[0.2222222222222222,\"#7201a8\"],[0.3333333333333333,\"#9c179e\"],[0.4444444444444444,\"#bd3786\"],[0.5555555555555556,\"#d8576b\"],[0.6666666666666666,\"#ed7953\"],[0.7777777777777778,\"#fb9f3a\"],[0.8888888888888888,\"#fdca26\"],[1.0,\"#f0f921\"]],\"type\":\"heatmapgl\"}],\"histogram\":[{\"marker\":{\"pattern\":{\"fillmode\":\"overlay\",\"size\":10,\"solidity\":0.2}},\"type\":\"histogram\"}],\"histogram2d\":[{\"colorbar\":{\"outlinewidth\":0,\"ticks\":\"\"},\"colorscale\":[[0.0,\"#0d0887\"],[0.1111111111111111,\"#46039f\"],[0.2222222222222222,\"#7201a8\"],[0.3333333333333333,\"#9c179e\"],[0.4444444444444444,\"#bd3786\"],[0.5555555555555556,\"#d8576b\"],[0.6666666666666666,\"#ed7953\"],[0.7777777777777778,\"#fb9f3a\"],[0.8888888888888888,\"#fdca26\"],[1.0,\"#f0f921\"]],\"type\":\"histogram2d\"}],\"histogram2dcontour\":[{\"colorbar\":{\"outlinewidth\":0,\"ticks\":\"\"},\"colorscale\":[[0.0,\"#0d0887\"],[0.1111111111111111,\"#46039f\"],[0.2222222222222222,\"#7201a8\"],[0.3333333333333333,\"#9c179e\"],[0.4444444444444444,\"#bd3786\"],[0.5555555555555556,\"#d8576b\"],[0.6666666666666666,\"#ed7953\"],[0.7777777777777778,\"#fb9f3a\"],[0.8888888888888888,\"#fdca26\"],[1.0,\"#f0f921\"]],\"type\":\"histogram2dcontour\"}],\"mesh3d\":[{\"colorbar\":{\"outlinewidth\":0,\"ticks\":\"\"},\"type\":\"mesh3d\"}],\"parcoords\":[{\"line\":{\"colorbar\":{\"outlinewidth\":0,\"ticks\":\"\"}},\"type\":\"parcoords\"}],\"pie\":[{\"automargin\":true,\"type\":\"pie\"}],\"scatter\":[{\"marker\":{\"colorbar\":{\"outlinewidth\":0,\"ticks\":\"\"}},\"type\":\"scatter\"}],\"scatter3d\":[{\"line\":{\"colorbar\":{\"outlinewidth\":0,\"ticks\":\"\"}},\"marker\":{\"colorbar\":{\"outlinewidth\":0,\"ticks\":\"\"}},\"type\":\"scatter3d\"}],\"scattercarpet\":[{\"marker\":{\"colorbar\":{\"outlinewidth\":0,\"ticks\":\"\"}},\"type\":\"scattercarpet\"}],\"scattergeo\":[{\"marker\":{\"colorbar\":{\"outlinewidth\":0,\"ticks\":\"\"}},\"type\":\"scattergeo\"}],\"scattergl\":[{\"marker\":{\"colorbar\":{\"outlinewidth\":0,\"ticks\":\"\"}},\"type\":\"scattergl\"}],\"scattermapbox\":[{\"marker\":{\"colorbar\":{\"outlinewidth\":0,\"ticks\":\"\"}},\"type\":\"scattermapbox\"}],\"scatterpolar\":[{\"marker\":{\"colorbar\":{\"outlinewidth\":0,\"ticks\":\"\"}},\"type\":\"scatterpolar\"}],\"scatterpolargl\":[{\"marker\":{\"colorbar\":{\"outlinewidth\":0,\"ticks\":\"\"}},\"type\":\"scatterpolargl\"}],\"scatterternary\":[{\"marker\":{\"colorbar\":{\"outlinewidth\":0,\"ticks\":\"\"}},\"type\":\"scatterternary\"}],\"surface\":[{\"colorbar\":{\"outlinewidth\":0,\"ticks\":\"\"},\"colorscale\":[[0.0,\"#0d0887\"],[0.1111111111111111,\"#46039f\"],[0.2222222222222222,\"#7201a8\"],[0.3333333333333333,\"#9c179e\"],[0.4444444444444444,\"#bd3786\"],[0.5555555555555556,\"#d8576b\"],[0.6666666666666666,\"#ed7953\"],[0.7777777777777778,\"#fb9f3a\"],[0.8888888888888888,\"#fdca26\"],[1.0,\"#f0f921\"]],\"type\":\"surface\"}],\"table\":[{\"cells\":{\"fill\":{\"color\":\"#EBF0F8\"},\"line\":{\"color\":\"white\"}},\"header\":{\"fill\":{\"color\":\"#C8D4E3\"},\"line\":{\"color\":\"white\"}},\"type\":\"table\"}]},\"layout\":{\"annotationdefaults\":{\"arrowcolor\":\"#2a3f5f\",\"arrowhead\":0,\"arrowwidth\":1},\"autotypenumbers\":\"strict\",\"coloraxis\":{\"colorbar\":{\"outlinewidth\":0,\"ticks\":\"\"}},\"colorscale\":{\"diverging\":[[0,\"#8e0152\"],[0.1,\"#c51b7d\"],[0.2,\"#de77ae\"],[0.3,\"#f1b6da\"],[0.4,\"#fde0ef\"],[0.5,\"#f7f7f7\"],[0.6,\"#e6f5d0\"],[0.7,\"#b8e186\"],[0.8,\"#7fbc41\"],[0.9,\"#4d9221\"],[1,\"#276419\"]],\"sequential\":[[0.0,\"#0d0887\"],[0.1111111111111111,\"#46039f\"],[0.2222222222222222,\"#7201a8\"],[0.3333333333333333,\"#9c179e\"],[0.4444444444444444,\"#bd3786\"],[0.5555555555555556,\"#d8576b\"],[0.6666666666666666,\"#ed7953\"],[0.7777777777777778,\"#fb9f3a\"],[0.8888888888888888,\"#fdca26\"],[1.0,\"#f0f921\"]],\"sequentialminus\":[[0.0,\"#0d0887\"],[0.1111111111111111,\"#46039f\"],[0.2222222222222222,\"#7201a8\"],[0.3333333333333333,\"#9c179e\"],[0.4444444444444444,\"#bd3786\"],[0.5555555555555556,\"#d8576b\"],[0.6666666666666666,\"#ed7953\"],[0.7777777777777778,\"#fb9f3a\"],[0.8888888888888888,\"#fdca26\"],[1.0,\"#f0f921\"]]},\"colorway\":[\"#636efa\",\"#EF553B\",\"#00cc96\",\"#ab63fa\",\"#FFA15A\",\"#19d3f3\",\"#FF6692\",\"#B6E880\",\"#FF97FF\",\"#FECB52\"],\"font\":{\"color\":\"#2a3f5f\"},\"geo\":{\"bgcolor\":\"white\",\"lakecolor\":\"white\",\"landcolor\":\"#E5ECF6\",\"showlakes\":true,\"showland\":true,\"subunitcolor\":\"white\"},\"hoverlabel\":{\"align\":\"left\"},\"hovermode\":\"closest\",\"mapbox\":{\"style\":\"light\"},\"paper_bgcolor\":\"white\",\"plot_bgcolor\":\"#E5ECF6\",\"polar\":{\"angularaxis\":{\"gridcolor\":\"white\",\"linecolor\":\"white\",\"ticks\":\"\"},\"bgcolor\":\"#E5ECF6\",\"radialaxis\":{\"gridcolor\":\"white\",\"linecolor\":\"white\",\"ticks\":\"\"}},\"scene\":{\"xaxis\":{\"backgroundcolor\":\"#E5ECF6\",\"gridcolor\":\"white\",\"gridwidth\":2,\"linecolor\":\"white\",\"showbackground\":true,\"ticks\":\"\",\"zerolinecolor\":\"white\"},\"yaxis\":{\"backgroundcolor\":\"#E5ECF6\",\"gridcolor\":\"white\",\"gridwidth\":2,\"linecolor\":\"white\",\"showbackground\":true,\"ticks\":\"\",\"zerolinecolor\":\"white\"},\"zaxis\":{\"backgroundcolor\":\"#E5ECF6\",\"gridcolor\":\"white\",\"gridwidth\":2,\"linecolor\":\"white\",\"showbackground\":true,\"ticks\":\"\",\"zerolinecolor\":\"white\"}},\"shapedefaults\":{\"line\":{\"color\":\"#2a3f5f\"}},\"ternary\":{\"aaxis\":{\"gridcolor\":\"white\",\"linecolor\":\"white\",\"ticks\":\"\"},\"baxis\":{\"gridcolor\":\"white\",\"linecolor\":\"white\",\"ticks\":\"\"},\"bgcolor\":\"#E5ECF6\",\"caxis\":{\"gridcolor\":\"white\",\"linecolor\":\"white\",\"ticks\":\"\"}},\"title\":{\"x\":0.05},\"xaxis\":{\"automargin\":true,\"gridcolor\":\"white\",\"linecolor\":\"white\",\"ticks\":\"\",\"title\":{\"standoff\":15},\"zerolinecolor\":\"white\",\"zerolinewidth\":2},\"yaxis\":{\"automargin\":true,\"gridcolor\":\"white\",\"linecolor\":\"white\",\"ticks\":\"\",\"title\":{\"standoff\":15},\"zerolinecolor\":\"white\",\"zerolinewidth\":2}}},\"xaxis\":{\"anchor\":\"y\",\"domain\":[0.0,1.0],\"title\":{\"text\":\"year\"}},\"yaxis\":{\"anchor\":\"x\",\"domain\":[0.0,1.0],\"title\":{\"text\":\"pmid\"}}},                        {\"responsive\": true}                    ).then(function(){\n",
       "                            \n",
       "var gd = document.getElementById('230edf48-5e87-4fe1-be87-e34b83c43162');\n",
       "var x = new MutationObserver(function (mutations, observer) {{\n",
       "        var display = window.getComputedStyle(gd).display;\n",
       "        if (!display || display === 'none') {{\n",
       "            console.log([gd, 'removed!']);\n",
       "            Plotly.purge(gd);\n",
       "            observer.disconnect();\n",
       "        }}\n",
       "}});\n",
       "\n",
       "// Listen for the removal of the full notebook cells\n",
       "var notebookContainer = gd.closest('#notebook-container');\n",
       "if (notebookContainer) {{\n",
       "    x.observe(notebookContainer, {childList: true});\n",
       "}}\n",
       "\n",
       "// Listen for the clearing of the current output cell\n",
       "var outputEl = gd.closest('.output');\n",
       "if (outputEl) {{\n",
       "    x.observe(outputEl, {childList: true});\n",
       "}}\n",
       "\n",
       "                        })                };                });            </script>        </div>"
      ]
     },
     "metadata": {},
     "output_type": "display_data"
    }
   ],
   "source": [
    "tmp_df = aff_pmid_df[aff_pmid_df[\"country\"].isin(top_countries)].groupby([\"country\", \"year\"]).count().reset_index()\n",
    "px.bar(tmp_df, x=\"year\", y=\"pmid\", color=\"country\", color_discrete_sequence=px.colors.qualitative.Dark24)"
   ]
  },
  {
   "cell_type": "code",
   "execution_count": 40,
   "metadata": {},
   "outputs": [
    {
     "data": {
      "application/vnd.plotly.v1+json": {
       "config": {
        "plotlyServerURL": "https://plot.ly"
       },
       "data": [
        {
         "alignmentgroup": "True",
         "hovertemplate": "institution_type=hospital<br>year=%{x}<br>pmid=%{y}<extra></extra>",
         "legendgroup": "hospital",
         "marker": {
          "color": "#2E91E5",
          "pattern": {
           "shape": ""
          }
         },
         "name": "hospital",
         "offsetgroup": "hospital",
         "orientation": "v",
         "showlegend": true,
         "textposition": "auto",
         "type": "bar",
         "x": [
          1988,
          1989,
          1990,
          1992,
          1993,
          1994,
          1995,
          1996,
          1997,
          1998,
          1999,
          2000,
          2001,
          2004,
          2005,
          2006,
          2007,
          2008,
          2010,
          2011,
          2012,
          2013,
          2014,
          2015,
          2016,
          2017,
          2018,
          2019,
          2020,
          2021,
          2022,
          2023
         ],
         "xaxis": "x",
         "y": [
          1,
          1,
          1,
          2,
          4,
          4,
          9,
          4,
          2,
          1,
          1,
          3,
          6,
          7,
          2,
          7,
          5,
          1,
          2,
          4,
          3,
          2,
          27,
          18,
          25,
          39,
          53,
          30,
          33,
          45,
          27,
          2
         ],
         "yaxis": "y"
        },
        {
         "alignmentgroup": "True",
         "hovertemplate": "institution_type=institute<br>year=%{x}<br>pmid=%{y}<extra></extra>",
         "legendgroup": "institute",
         "marker": {
          "color": "#E15F99",
          "pattern": {
           "shape": ""
          }
         },
         "name": "institute",
         "offsetgroup": "institute",
         "orientation": "v",
         "showlegend": true,
         "textposition": "auto",
         "type": "bar",
         "x": [
          1993,
          1994,
          1995,
          1996,
          1997,
          1998,
          1999,
          2000,
          2001,
          2002,
          2003,
          2004,
          2005,
          2006,
          2007,
          2008,
          2009,
          2010,
          2011,
          2012,
          2013,
          2014,
          2015,
          2016,
          2017,
          2018,
          2019,
          2020,
          2021,
          2022
         ],
         "xaxis": "x",
         "y": [
          3,
          1,
          4,
          8,
          8,
          10,
          4,
          5,
          5,
          6,
          10,
          6,
          5,
          11,
          7,
          5,
          7,
          8,
          7,
          11,
          7,
          27,
          18,
          31,
          43,
          59,
          43,
          26,
          67,
          20
         ],
         "yaxis": "y"
        },
        {
         "alignmentgroup": "True",
         "hovertemplate": "institution_type=private<br>year=%{x}<br>pmid=%{y}<extra></extra>",
         "legendgroup": "private",
         "marker": {
          "color": "#1CA71C",
          "pattern": {
           "shape": ""
          }
         },
         "name": "private",
         "offsetgroup": "private",
         "orientation": "v",
         "showlegend": true,
         "textposition": "auto",
         "type": "bar",
         "x": [
          1991,
          1993,
          1994,
          1995,
          1996,
          1997,
          1998,
          1999,
          2000,
          2001,
          2002,
          2003,
          2004,
          2005,
          2006,
          2007,
          2008,
          2009,
          2010,
          2011,
          2012,
          2013,
          2014,
          2015,
          2016,
          2017,
          2018,
          2019,
          2020,
          2021,
          2022
         ],
         "xaxis": "x",
         "y": [
          1,
          2,
          5,
          7,
          6,
          6,
          5,
          5,
          1,
          4,
          4,
          3,
          1,
          4,
          3,
          5,
          1,
          1,
          2,
          2,
          3,
          10,
          11,
          9,
          20,
          22,
          37,
          42,
          21,
          57,
          42
         ],
         "yaxis": "y"
        },
        {
         "alignmentgroup": "True",
         "hovertemplate": "institution_type=university<br>year=%{x}<br>pmid=%{y}<extra></extra>",
         "legendgroup": "university",
         "marker": {
          "color": "#FB0D0D",
          "pattern": {
           "shape": ""
          }
         },
         "name": "university",
         "offsetgroup": "university",
         "orientation": "v",
         "showlegend": true,
         "textposition": "auto",
         "type": "bar",
         "x": [
          1991,
          1992,
          1993,
          1994,
          1995,
          1996,
          1997,
          1998,
          1999,
          2000,
          2001,
          2002,
          2003,
          2004,
          2005,
          2006,
          2007,
          2008,
          2009,
          2010,
          2011,
          2012,
          2013,
          2014,
          2015,
          2016,
          2017,
          2018,
          2019,
          2020,
          2021,
          2022,
          2023
         ],
         "xaxis": "x",
         "y": [
          3,
          6,
          7,
          11,
          13,
          11,
          14,
          20,
          28,
          18,
          27,
          18,
          23,
          24,
          27,
          11,
          18,
          25,
          31,
          32,
          26,
          34,
          24,
          100,
          107,
          157,
          140,
          228,
          175,
          149,
          287,
          175,
          15
         ],
         "yaxis": "y"
        }
       ],
       "layout": {
        "barmode": "relative",
        "legend": {
         "title": {
          "text": "institution_type"
         },
         "tracegroupgap": 0
        },
        "margin": {
         "t": 60
        },
        "template": {
         "data": {
          "bar": [
           {
            "error_x": {
             "color": "#2a3f5f"
            },
            "error_y": {
             "color": "#2a3f5f"
            },
            "marker": {
             "line": {
              "color": "#E5ECF6",
              "width": 0.5
             },
             "pattern": {
              "fillmode": "overlay",
              "size": 10,
              "solidity": 0.2
             }
            },
            "type": "bar"
           }
          ],
          "barpolar": [
           {
            "marker": {
             "line": {
              "color": "#E5ECF6",
              "width": 0.5
             },
             "pattern": {
              "fillmode": "overlay",
              "size": 10,
              "solidity": 0.2
             }
            },
            "type": "barpolar"
           }
          ],
          "carpet": [
           {
            "aaxis": {
             "endlinecolor": "#2a3f5f",
             "gridcolor": "white",
             "linecolor": "white",
             "minorgridcolor": "white",
             "startlinecolor": "#2a3f5f"
            },
            "baxis": {
             "endlinecolor": "#2a3f5f",
             "gridcolor": "white",
             "linecolor": "white",
             "minorgridcolor": "white",
             "startlinecolor": "#2a3f5f"
            },
            "type": "carpet"
           }
          ],
          "choropleth": [
           {
            "colorbar": {
             "outlinewidth": 0,
             "ticks": ""
            },
            "type": "choropleth"
           }
          ],
          "contour": [
           {
            "colorbar": {
             "outlinewidth": 0,
             "ticks": ""
            },
            "colorscale": [
             [
              0,
              "#0d0887"
             ],
             [
              0.1111111111111111,
              "#46039f"
             ],
             [
              0.2222222222222222,
              "#7201a8"
             ],
             [
              0.3333333333333333,
              "#9c179e"
             ],
             [
              0.4444444444444444,
              "#bd3786"
             ],
             [
              0.5555555555555556,
              "#d8576b"
             ],
             [
              0.6666666666666666,
              "#ed7953"
             ],
             [
              0.7777777777777778,
              "#fb9f3a"
             ],
             [
              0.8888888888888888,
              "#fdca26"
             ],
             [
              1,
              "#f0f921"
             ]
            ],
            "type": "contour"
           }
          ],
          "contourcarpet": [
           {
            "colorbar": {
             "outlinewidth": 0,
             "ticks": ""
            },
            "type": "contourcarpet"
           }
          ],
          "heatmap": [
           {
            "colorbar": {
             "outlinewidth": 0,
             "ticks": ""
            },
            "colorscale": [
             [
              0,
              "#0d0887"
             ],
             [
              0.1111111111111111,
              "#46039f"
             ],
             [
              0.2222222222222222,
              "#7201a8"
             ],
             [
              0.3333333333333333,
              "#9c179e"
             ],
             [
              0.4444444444444444,
              "#bd3786"
             ],
             [
              0.5555555555555556,
              "#d8576b"
             ],
             [
              0.6666666666666666,
              "#ed7953"
             ],
             [
              0.7777777777777778,
              "#fb9f3a"
             ],
             [
              0.8888888888888888,
              "#fdca26"
             ],
             [
              1,
              "#f0f921"
             ]
            ],
            "type": "heatmap"
           }
          ],
          "heatmapgl": [
           {
            "colorbar": {
             "outlinewidth": 0,
             "ticks": ""
            },
            "colorscale": [
             [
              0,
              "#0d0887"
             ],
             [
              0.1111111111111111,
              "#46039f"
             ],
             [
              0.2222222222222222,
              "#7201a8"
             ],
             [
              0.3333333333333333,
              "#9c179e"
             ],
             [
              0.4444444444444444,
              "#bd3786"
             ],
             [
              0.5555555555555556,
              "#d8576b"
             ],
             [
              0.6666666666666666,
              "#ed7953"
             ],
             [
              0.7777777777777778,
              "#fb9f3a"
             ],
             [
              0.8888888888888888,
              "#fdca26"
             ],
             [
              1,
              "#f0f921"
             ]
            ],
            "type": "heatmapgl"
           }
          ],
          "histogram": [
           {
            "marker": {
             "pattern": {
              "fillmode": "overlay",
              "size": 10,
              "solidity": 0.2
             }
            },
            "type": "histogram"
           }
          ],
          "histogram2d": [
           {
            "colorbar": {
             "outlinewidth": 0,
             "ticks": ""
            },
            "colorscale": [
             [
              0,
              "#0d0887"
             ],
             [
              0.1111111111111111,
              "#46039f"
             ],
             [
              0.2222222222222222,
              "#7201a8"
             ],
             [
              0.3333333333333333,
              "#9c179e"
             ],
             [
              0.4444444444444444,
              "#bd3786"
             ],
             [
              0.5555555555555556,
              "#d8576b"
             ],
             [
              0.6666666666666666,
              "#ed7953"
             ],
             [
              0.7777777777777778,
              "#fb9f3a"
             ],
             [
              0.8888888888888888,
              "#fdca26"
             ],
             [
              1,
              "#f0f921"
             ]
            ],
            "type": "histogram2d"
           }
          ],
          "histogram2dcontour": [
           {
            "colorbar": {
             "outlinewidth": 0,
             "ticks": ""
            },
            "colorscale": [
             [
              0,
              "#0d0887"
             ],
             [
              0.1111111111111111,
              "#46039f"
             ],
             [
              0.2222222222222222,
              "#7201a8"
             ],
             [
              0.3333333333333333,
              "#9c179e"
             ],
             [
              0.4444444444444444,
              "#bd3786"
             ],
             [
              0.5555555555555556,
              "#d8576b"
             ],
             [
              0.6666666666666666,
              "#ed7953"
             ],
             [
              0.7777777777777778,
              "#fb9f3a"
             ],
             [
              0.8888888888888888,
              "#fdca26"
             ],
             [
              1,
              "#f0f921"
             ]
            ],
            "type": "histogram2dcontour"
           }
          ],
          "mesh3d": [
           {
            "colorbar": {
             "outlinewidth": 0,
             "ticks": ""
            },
            "type": "mesh3d"
           }
          ],
          "parcoords": [
           {
            "line": {
             "colorbar": {
              "outlinewidth": 0,
              "ticks": ""
             }
            },
            "type": "parcoords"
           }
          ],
          "pie": [
           {
            "automargin": true,
            "type": "pie"
           }
          ],
          "scatter": [
           {
            "marker": {
             "colorbar": {
              "outlinewidth": 0,
              "ticks": ""
             }
            },
            "type": "scatter"
           }
          ],
          "scatter3d": [
           {
            "line": {
             "colorbar": {
              "outlinewidth": 0,
              "ticks": ""
             }
            },
            "marker": {
             "colorbar": {
              "outlinewidth": 0,
              "ticks": ""
             }
            },
            "type": "scatter3d"
           }
          ],
          "scattercarpet": [
           {
            "marker": {
             "colorbar": {
              "outlinewidth": 0,
              "ticks": ""
             }
            },
            "type": "scattercarpet"
           }
          ],
          "scattergeo": [
           {
            "marker": {
             "colorbar": {
              "outlinewidth": 0,
              "ticks": ""
             }
            },
            "type": "scattergeo"
           }
          ],
          "scattergl": [
           {
            "marker": {
             "colorbar": {
              "outlinewidth": 0,
              "ticks": ""
             }
            },
            "type": "scattergl"
           }
          ],
          "scattermapbox": [
           {
            "marker": {
             "colorbar": {
              "outlinewidth": 0,
              "ticks": ""
             }
            },
            "type": "scattermapbox"
           }
          ],
          "scatterpolar": [
           {
            "marker": {
             "colorbar": {
              "outlinewidth": 0,
              "ticks": ""
             }
            },
            "type": "scatterpolar"
           }
          ],
          "scatterpolargl": [
           {
            "marker": {
             "colorbar": {
              "outlinewidth": 0,
              "ticks": ""
             }
            },
            "type": "scatterpolargl"
           }
          ],
          "scatterternary": [
           {
            "marker": {
             "colorbar": {
              "outlinewidth": 0,
              "ticks": ""
             }
            },
            "type": "scatterternary"
           }
          ],
          "surface": [
           {
            "colorbar": {
             "outlinewidth": 0,
             "ticks": ""
            },
            "colorscale": [
             [
              0,
              "#0d0887"
             ],
             [
              0.1111111111111111,
              "#46039f"
             ],
             [
              0.2222222222222222,
              "#7201a8"
             ],
             [
              0.3333333333333333,
              "#9c179e"
             ],
             [
              0.4444444444444444,
              "#bd3786"
             ],
             [
              0.5555555555555556,
              "#d8576b"
             ],
             [
              0.6666666666666666,
              "#ed7953"
             ],
             [
              0.7777777777777778,
              "#fb9f3a"
             ],
             [
              0.8888888888888888,
              "#fdca26"
             ],
             [
              1,
              "#f0f921"
             ]
            ],
            "type": "surface"
           }
          ],
          "table": [
           {
            "cells": {
             "fill": {
              "color": "#EBF0F8"
             },
             "line": {
              "color": "white"
             }
            },
            "header": {
             "fill": {
              "color": "#C8D4E3"
             },
             "line": {
              "color": "white"
             }
            },
            "type": "table"
           }
          ]
         },
         "layout": {
          "annotationdefaults": {
           "arrowcolor": "#2a3f5f",
           "arrowhead": 0,
           "arrowwidth": 1
          },
          "autotypenumbers": "strict",
          "coloraxis": {
           "colorbar": {
            "outlinewidth": 0,
            "ticks": ""
           }
          },
          "colorscale": {
           "diverging": [
            [
             0,
             "#8e0152"
            ],
            [
             0.1,
             "#c51b7d"
            ],
            [
             0.2,
             "#de77ae"
            ],
            [
             0.3,
             "#f1b6da"
            ],
            [
             0.4,
             "#fde0ef"
            ],
            [
             0.5,
             "#f7f7f7"
            ],
            [
             0.6,
             "#e6f5d0"
            ],
            [
             0.7,
             "#b8e186"
            ],
            [
             0.8,
             "#7fbc41"
            ],
            [
             0.9,
             "#4d9221"
            ],
            [
             1,
             "#276419"
            ]
           ],
           "sequential": [
            [
             0,
             "#0d0887"
            ],
            [
             0.1111111111111111,
             "#46039f"
            ],
            [
             0.2222222222222222,
             "#7201a8"
            ],
            [
             0.3333333333333333,
             "#9c179e"
            ],
            [
             0.4444444444444444,
             "#bd3786"
            ],
            [
             0.5555555555555556,
             "#d8576b"
            ],
            [
             0.6666666666666666,
             "#ed7953"
            ],
            [
             0.7777777777777778,
             "#fb9f3a"
            ],
            [
             0.8888888888888888,
             "#fdca26"
            ],
            [
             1,
             "#f0f921"
            ]
           ],
           "sequentialminus": [
            [
             0,
             "#0d0887"
            ],
            [
             0.1111111111111111,
             "#46039f"
            ],
            [
             0.2222222222222222,
             "#7201a8"
            ],
            [
             0.3333333333333333,
             "#9c179e"
            ],
            [
             0.4444444444444444,
             "#bd3786"
            ],
            [
             0.5555555555555556,
             "#d8576b"
            ],
            [
             0.6666666666666666,
             "#ed7953"
            ],
            [
             0.7777777777777778,
             "#fb9f3a"
            ],
            [
             0.8888888888888888,
             "#fdca26"
            ],
            [
             1,
             "#f0f921"
            ]
           ]
          },
          "colorway": [
           "#636efa",
           "#EF553B",
           "#00cc96",
           "#ab63fa",
           "#FFA15A",
           "#19d3f3",
           "#FF6692",
           "#B6E880",
           "#FF97FF",
           "#FECB52"
          ],
          "font": {
           "color": "#2a3f5f"
          },
          "geo": {
           "bgcolor": "white",
           "lakecolor": "white",
           "landcolor": "#E5ECF6",
           "showlakes": true,
           "showland": true,
           "subunitcolor": "white"
          },
          "hoverlabel": {
           "align": "left"
          },
          "hovermode": "closest",
          "mapbox": {
           "style": "light"
          },
          "paper_bgcolor": "white",
          "plot_bgcolor": "#E5ECF6",
          "polar": {
           "angularaxis": {
            "gridcolor": "white",
            "linecolor": "white",
            "ticks": ""
           },
           "bgcolor": "#E5ECF6",
           "radialaxis": {
            "gridcolor": "white",
            "linecolor": "white",
            "ticks": ""
           }
          },
          "scene": {
           "xaxis": {
            "backgroundcolor": "#E5ECF6",
            "gridcolor": "white",
            "gridwidth": 2,
            "linecolor": "white",
            "showbackground": true,
            "ticks": "",
            "zerolinecolor": "white"
           },
           "yaxis": {
            "backgroundcolor": "#E5ECF6",
            "gridcolor": "white",
            "gridwidth": 2,
            "linecolor": "white",
            "showbackground": true,
            "ticks": "",
            "zerolinecolor": "white"
           },
           "zaxis": {
            "backgroundcolor": "#E5ECF6",
            "gridcolor": "white",
            "gridwidth": 2,
            "linecolor": "white",
            "showbackground": true,
            "ticks": "",
            "zerolinecolor": "white"
           }
          },
          "shapedefaults": {
           "line": {
            "color": "#2a3f5f"
           }
          },
          "ternary": {
           "aaxis": {
            "gridcolor": "white",
            "linecolor": "white",
            "ticks": ""
           },
           "baxis": {
            "gridcolor": "white",
            "linecolor": "white",
            "ticks": ""
           },
           "bgcolor": "#E5ECF6",
           "caxis": {
            "gridcolor": "white",
            "linecolor": "white",
            "ticks": ""
           }
          },
          "title": {
           "x": 0.05
          },
          "xaxis": {
           "automargin": true,
           "gridcolor": "white",
           "linecolor": "white",
           "ticks": "",
           "title": {
            "standoff": 15
           },
           "zerolinecolor": "white",
           "zerolinewidth": 2
          },
          "yaxis": {
           "automargin": true,
           "gridcolor": "white",
           "linecolor": "white",
           "ticks": "",
           "title": {
            "standoff": 15
           },
           "zerolinecolor": "white",
           "zerolinewidth": 2
          }
         }
        },
        "xaxis": {
         "anchor": "y",
         "domain": [
          0,
          1
         ],
         "title": {
          "text": "year"
         }
        },
        "yaxis": {
         "anchor": "x",
         "domain": [
          0,
          1
         ],
         "title": {
          "text": "pmid"
         }
        }
       }
      },
      "text/html": [
       "<div>                            <div id=\"32404854-1993-47f1-9377-fa8caef33472\" class=\"plotly-graph-div\" style=\"height:525px; width:100%;\"></div>            <script type=\"text/javascript\">                require([\"plotly\"], function(Plotly) {                    window.PLOTLYENV=window.PLOTLYENV || {};                                    if (document.getElementById(\"32404854-1993-47f1-9377-fa8caef33472\")) {                    Plotly.newPlot(                        \"32404854-1993-47f1-9377-fa8caef33472\",                        [{\"alignmentgroup\":\"True\",\"hovertemplate\":\"institution_type=hospital<br>year=%{x}<br>pmid=%{y}<extra></extra>\",\"legendgroup\":\"hospital\",\"marker\":{\"color\":\"#2E91E5\",\"pattern\":{\"shape\":\"\"}},\"name\":\"hospital\",\"offsetgroup\":\"hospital\",\"orientation\":\"v\",\"showlegend\":true,\"textposition\":\"auto\",\"type\":\"bar\",\"x\":[1988,1989,1990,1992,1993,1994,1995,1996,1997,1998,1999,2000,2001,2004,2005,2006,2007,2008,2010,2011,2012,2013,2014,2015,2016,2017,2018,2019,2020,2021,2022,2023],\"xaxis\":\"x\",\"y\":[1,1,1,2,4,4,9,4,2,1,1,3,6,7,2,7,5,1,2,4,3,2,27,18,25,39,53,30,33,45,27,2],\"yaxis\":\"y\"},{\"alignmentgroup\":\"True\",\"hovertemplate\":\"institution_type=institute<br>year=%{x}<br>pmid=%{y}<extra></extra>\",\"legendgroup\":\"institute\",\"marker\":{\"color\":\"#E15F99\",\"pattern\":{\"shape\":\"\"}},\"name\":\"institute\",\"offsetgroup\":\"institute\",\"orientation\":\"v\",\"showlegend\":true,\"textposition\":\"auto\",\"type\":\"bar\",\"x\":[1993,1994,1995,1996,1997,1998,1999,2000,2001,2002,2003,2004,2005,2006,2007,2008,2009,2010,2011,2012,2013,2014,2015,2016,2017,2018,2019,2020,2021,2022],\"xaxis\":\"x\",\"y\":[3,1,4,8,8,10,4,5,5,6,10,6,5,11,7,5,7,8,7,11,7,27,18,31,43,59,43,26,67,20],\"yaxis\":\"y\"},{\"alignmentgroup\":\"True\",\"hovertemplate\":\"institution_type=private<br>year=%{x}<br>pmid=%{y}<extra></extra>\",\"legendgroup\":\"private\",\"marker\":{\"color\":\"#1CA71C\",\"pattern\":{\"shape\":\"\"}},\"name\":\"private\",\"offsetgroup\":\"private\",\"orientation\":\"v\",\"showlegend\":true,\"textposition\":\"auto\",\"type\":\"bar\",\"x\":[1991,1993,1994,1995,1996,1997,1998,1999,2000,2001,2002,2003,2004,2005,2006,2007,2008,2009,2010,2011,2012,2013,2014,2015,2016,2017,2018,2019,2020,2021,2022],\"xaxis\":\"x\",\"y\":[1,2,5,7,6,6,5,5,1,4,4,3,1,4,3,5,1,1,2,2,3,10,11,9,20,22,37,42,21,57,42],\"yaxis\":\"y\"},{\"alignmentgroup\":\"True\",\"hovertemplate\":\"institution_type=university<br>year=%{x}<br>pmid=%{y}<extra></extra>\",\"legendgroup\":\"university\",\"marker\":{\"color\":\"#FB0D0D\",\"pattern\":{\"shape\":\"\"}},\"name\":\"university\",\"offsetgroup\":\"university\",\"orientation\":\"v\",\"showlegend\":true,\"textposition\":\"auto\",\"type\":\"bar\",\"x\":[1991,1992,1993,1994,1995,1996,1997,1998,1999,2000,2001,2002,2003,2004,2005,2006,2007,2008,2009,2010,2011,2012,2013,2014,2015,2016,2017,2018,2019,2020,2021,2022,2023],\"xaxis\":\"x\",\"y\":[3,6,7,11,13,11,14,20,28,18,27,18,23,24,27,11,18,25,31,32,26,34,24,100,107,157,140,228,175,149,287,175,15],\"yaxis\":\"y\"}],                        {\"barmode\":\"relative\",\"legend\":{\"title\":{\"text\":\"institution_type\"},\"tracegroupgap\":0},\"margin\":{\"t\":60},\"template\":{\"data\":{\"bar\":[{\"error_x\":{\"color\":\"#2a3f5f\"},\"error_y\":{\"color\":\"#2a3f5f\"},\"marker\":{\"line\":{\"color\":\"#E5ECF6\",\"width\":0.5},\"pattern\":{\"fillmode\":\"overlay\",\"size\":10,\"solidity\":0.2}},\"type\":\"bar\"}],\"barpolar\":[{\"marker\":{\"line\":{\"color\":\"#E5ECF6\",\"width\":0.5},\"pattern\":{\"fillmode\":\"overlay\",\"size\":10,\"solidity\":0.2}},\"type\":\"barpolar\"}],\"carpet\":[{\"aaxis\":{\"endlinecolor\":\"#2a3f5f\",\"gridcolor\":\"white\",\"linecolor\":\"white\",\"minorgridcolor\":\"white\",\"startlinecolor\":\"#2a3f5f\"},\"baxis\":{\"endlinecolor\":\"#2a3f5f\",\"gridcolor\":\"white\",\"linecolor\":\"white\",\"minorgridcolor\":\"white\",\"startlinecolor\":\"#2a3f5f\"},\"type\":\"carpet\"}],\"choropleth\":[{\"colorbar\":{\"outlinewidth\":0,\"ticks\":\"\"},\"type\":\"choropleth\"}],\"contour\":[{\"colorbar\":{\"outlinewidth\":0,\"ticks\":\"\"},\"colorscale\":[[0.0,\"#0d0887\"],[0.1111111111111111,\"#46039f\"],[0.2222222222222222,\"#7201a8\"],[0.3333333333333333,\"#9c179e\"],[0.4444444444444444,\"#bd3786\"],[0.5555555555555556,\"#d8576b\"],[0.6666666666666666,\"#ed7953\"],[0.7777777777777778,\"#fb9f3a\"],[0.8888888888888888,\"#fdca26\"],[1.0,\"#f0f921\"]],\"type\":\"contour\"}],\"contourcarpet\":[{\"colorbar\":{\"outlinewidth\":0,\"ticks\":\"\"},\"type\":\"contourcarpet\"}],\"heatmap\":[{\"colorbar\":{\"outlinewidth\":0,\"ticks\":\"\"},\"colorscale\":[[0.0,\"#0d0887\"],[0.1111111111111111,\"#46039f\"],[0.2222222222222222,\"#7201a8\"],[0.3333333333333333,\"#9c179e\"],[0.4444444444444444,\"#bd3786\"],[0.5555555555555556,\"#d8576b\"],[0.6666666666666666,\"#ed7953\"],[0.7777777777777778,\"#fb9f3a\"],[0.8888888888888888,\"#fdca26\"],[1.0,\"#f0f921\"]],\"type\":\"heatmap\"}],\"heatmapgl\":[{\"colorbar\":{\"outlinewidth\":0,\"ticks\":\"\"},\"colorscale\":[[0.0,\"#0d0887\"],[0.1111111111111111,\"#46039f\"],[0.2222222222222222,\"#7201a8\"],[0.3333333333333333,\"#9c179e\"],[0.4444444444444444,\"#bd3786\"],[0.5555555555555556,\"#d8576b\"],[0.6666666666666666,\"#ed7953\"],[0.7777777777777778,\"#fb9f3a\"],[0.8888888888888888,\"#fdca26\"],[1.0,\"#f0f921\"]],\"type\":\"heatmapgl\"}],\"histogram\":[{\"marker\":{\"pattern\":{\"fillmode\":\"overlay\",\"size\":10,\"solidity\":0.2}},\"type\":\"histogram\"}],\"histogram2d\":[{\"colorbar\":{\"outlinewidth\":0,\"ticks\":\"\"},\"colorscale\":[[0.0,\"#0d0887\"],[0.1111111111111111,\"#46039f\"],[0.2222222222222222,\"#7201a8\"],[0.3333333333333333,\"#9c179e\"],[0.4444444444444444,\"#bd3786\"],[0.5555555555555556,\"#d8576b\"],[0.6666666666666666,\"#ed7953\"],[0.7777777777777778,\"#fb9f3a\"],[0.8888888888888888,\"#fdca26\"],[1.0,\"#f0f921\"]],\"type\":\"histogram2d\"}],\"histogram2dcontour\":[{\"colorbar\":{\"outlinewidth\":0,\"ticks\":\"\"},\"colorscale\":[[0.0,\"#0d0887\"],[0.1111111111111111,\"#46039f\"],[0.2222222222222222,\"#7201a8\"],[0.3333333333333333,\"#9c179e\"],[0.4444444444444444,\"#bd3786\"],[0.5555555555555556,\"#d8576b\"],[0.6666666666666666,\"#ed7953\"],[0.7777777777777778,\"#fb9f3a\"],[0.8888888888888888,\"#fdca26\"],[1.0,\"#f0f921\"]],\"type\":\"histogram2dcontour\"}],\"mesh3d\":[{\"colorbar\":{\"outlinewidth\":0,\"ticks\":\"\"},\"type\":\"mesh3d\"}],\"parcoords\":[{\"line\":{\"colorbar\":{\"outlinewidth\":0,\"ticks\":\"\"}},\"type\":\"parcoords\"}],\"pie\":[{\"automargin\":true,\"type\":\"pie\"}],\"scatter\":[{\"marker\":{\"colorbar\":{\"outlinewidth\":0,\"ticks\":\"\"}},\"type\":\"scatter\"}],\"scatter3d\":[{\"line\":{\"colorbar\":{\"outlinewidth\":0,\"ticks\":\"\"}},\"marker\":{\"colorbar\":{\"outlinewidth\":0,\"ticks\":\"\"}},\"type\":\"scatter3d\"}],\"scattercarpet\":[{\"marker\":{\"colorbar\":{\"outlinewidth\":0,\"ticks\":\"\"}},\"type\":\"scattercarpet\"}],\"scattergeo\":[{\"marker\":{\"colorbar\":{\"outlinewidth\":0,\"ticks\":\"\"}},\"type\":\"scattergeo\"}],\"scattergl\":[{\"marker\":{\"colorbar\":{\"outlinewidth\":0,\"ticks\":\"\"}},\"type\":\"scattergl\"}],\"scattermapbox\":[{\"marker\":{\"colorbar\":{\"outlinewidth\":0,\"ticks\":\"\"}},\"type\":\"scattermapbox\"}],\"scatterpolar\":[{\"marker\":{\"colorbar\":{\"outlinewidth\":0,\"ticks\":\"\"}},\"type\":\"scatterpolar\"}],\"scatterpolargl\":[{\"marker\":{\"colorbar\":{\"outlinewidth\":0,\"ticks\":\"\"}},\"type\":\"scatterpolargl\"}],\"scatterternary\":[{\"marker\":{\"colorbar\":{\"outlinewidth\":0,\"ticks\":\"\"}},\"type\":\"scatterternary\"}],\"surface\":[{\"colorbar\":{\"outlinewidth\":0,\"ticks\":\"\"},\"colorscale\":[[0.0,\"#0d0887\"],[0.1111111111111111,\"#46039f\"],[0.2222222222222222,\"#7201a8\"],[0.3333333333333333,\"#9c179e\"],[0.4444444444444444,\"#bd3786\"],[0.5555555555555556,\"#d8576b\"],[0.6666666666666666,\"#ed7953\"],[0.7777777777777778,\"#fb9f3a\"],[0.8888888888888888,\"#fdca26\"],[1.0,\"#f0f921\"]],\"type\":\"surface\"}],\"table\":[{\"cells\":{\"fill\":{\"color\":\"#EBF0F8\"},\"line\":{\"color\":\"white\"}},\"header\":{\"fill\":{\"color\":\"#C8D4E3\"},\"line\":{\"color\":\"white\"}},\"type\":\"table\"}]},\"layout\":{\"annotationdefaults\":{\"arrowcolor\":\"#2a3f5f\",\"arrowhead\":0,\"arrowwidth\":1},\"autotypenumbers\":\"strict\",\"coloraxis\":{\"colorbar\":{\"outlinewidth\":0,\"ticks\":\"\"}},\"colorscale\":{\"diverging\":[[0,\"#8e0152\"],[0.1,\"#c51b7d\"],[0.2,\"#de77ae\"],[0.3,\"#f1b6da\"],[0.4,\"#fde0ef\"],[0.5,\"#f7f7f7\"],[0.6,\"#e6f5d0\"],[0.7,\"#b8e186\"],[0.8,\"#7fbc41\"],[0.9,\"#4d9221\"],[1,\"#276419\"]],\"sequential\":[[0.0,\"#0d0887\"],[0.1111111111111111,\"#46039f\"],[0.2222222222222222,\"#7201a8\"],[0.3333333333333333,\"#9c179e\"],[0.4444444444444444,\"#bd3786\"],[0.5555555555555556,\"#d8576b\"],[0.6666666666666666,\"#ed7953\"],[0.7777777777777778,\"#fb9f3a\"],[0.8888888888888888,\"#fdca26\"],[1.0,\"#f0f921\"]],\"sequentialminus\":[[0.0,\"#0d0887\"],[0.1111111111111111,\"#46039f\"],[0.2222222222222222,\"#7201a8\"],[0.3333333333333333,\"#9c179e\"],[0.4444444444444444,\"#bd3786\"],[0.5555555555555556,\"#d8576b\"],[0.6666666666666666,\"#ed7953\"],[0.7777777777777778,\"#fb9f3a\"],[0.8888888888888888,\"#fdca26\"],[1.0,\"#f0f921\"]]},\"colorway\":[\"#636efa\",\"#EF553B\",\"#00cc96\",\"#ab63fa\",\"#FFA15A\",\"#19d3f3\",\"#FF6692\",\"#B6E880\",\"#FF97FF\",\"#FECB52\"],\"font\":{\"color\":\"#2a3f5f\"},\"geo\":{\"bgcolor\":\"white\",\"lakecolor\":\"white\",\"landcolor\":\"#E5ECF6\",\"showlakes\":true,\"showland\":true,\"subunitcolor\":\"white\"},\"hoverlabel\":{\"align\":\"left\"},\"hovermode\":\"closest\",\"mapbox\":{\"style\":\"light\"},\"paper_bgcolor\":\"white\",\"plot_bgcolor\":\"#E5ECF6\",\"polar\":{\"angularaxis\":{\"gridcolor\":\"white\",\"linecolor\":\"white\",\"ticks\":\"\"},\"bgcolor\":\"#E5ECF6\",\"radialaxis\":{\"gridcolor\":\"white\",\"linecolor\":\"white\",\"ticks\":\"\"}},\"scene\":{\"xaxis\":{\"backgroundcolor\":\"#E5ECF6\",\"gridcolor\":\"white\",\"gridwidth\":2,\"linecolor\":\"white\",\"showbackground\":true,\"ticks\":\"\",\"zerolinecolor\":\"white\"},\"yaxis\":{\"backgroundcolor\":\"#E5ECF6\",\"gridcolor\":\"white\",\"gridwidth\":2,\"linecolor\":\"white\",\"showbackground\":true,\"ticks\":\"\",\"zerolinecolor\":\"white\"},\"zaxis\":{\"backgroundcolor\":\"#E5ECF6\",\"gridcolor\":\"white\",\"gridwidth\":2,\"linecolor\":\"white\",\"showbackground\":true,\"ticks\":\"\",\"zerolinecolor\":\"white\"}},\"shapedefaults\":{\"line\":{\"color\":\"#2a3f5f\"}},\"ternary\":{\"aaxis\":{\"gridcolor\":\"white\",\"linecolor\":\"white\",\"ticks\":\"\"},\"baxis\":{\"gridcolor\":\"white\",\"linecolor\":\"white\",\"ticks\":\"\"},\"bgcolor\":\"#E5ECF6\",\"caxis\":{\"gridcolor\":\"white\",\"linecolor\":\"white\",\"ticks\":\"\"}},\"title\":{\"x\":0.05},\"xaxis\":{\"automargin\":true,\"gridcolor\":\"white\",\"linecolor\":\"white\",\"ticks\":\"\",\"title\":{\"standoff\":15},\"zerolinecolor\":\"white\",\"zerolinewidth\":2},\"yaxis\":{\"automargin\":true,\"gridcolor\":\"white\",\"linecolor\":\"white\",\"ticks\":\"\",\"title\":{\"standoff\":15},\"zerolinecolor\":\"white\",\"zerolinewidth\":2}}},\"xaxis\":{\"anchor\":\"y\",\"domain\":[0.0,1.0],\"title\":{\"text\":\"year\"}},\"yaxis\":{\"anchor\":\"x\",\"domain\":[0.0,1.0],\"title\":{\"text\":\"pmid\"}}},                        {\"responsive\": true}                    ).then(function(){\n",
       "                            \n",
       "var gd = document.getElementById('32404854-1993-47f1-9377-fa8caef33472');\n",
       "var x = new MutationObserver(function (mutations, observer) {{\n",
       "        var display = window.getComputedStyle(gd).display;\n",
       "        if (!display || display === 'none') {{\n",
       "            console.log([gd, 'removed!']);\n",
       "            Plotly.purge(gd);\n",
       "            observer.disconnect();\n",
       "        }}\n",
       "}});\n",
       "\n",
       "// Listen for the removal of the full notebook cells\n",
       "var notebookContainer = gd.closest('#notebook-container');\n",
       "if (notebookContainer) {{\n",
       "    x.observe(notebookContainer, {childList: true});\n",
       "}}\n",
       "\n",
       "// Listen for the clearing of the current output cell\n",
       "var outputEl = gd.closest('.output');\n",
       "if (outputEl) {{\n",
       "    x.observe(outputEl, {childList: true});\n",
       "}}\n",
       "\n",
       "                        })                };                });            </script>        </div>"
      ]
     },
     "metadata": {},
     "output_type": "display_data"
    }
   ],
   "source": [
    "tmp_df = aff_pmid_df[aff_pmid_df[\"country\"].isin(top_countries)].groupby([\"institution_type\", \"year\"]).count().reset_index()\n",
    "px.bar(tmp_df, x=\"year\", y=\"pmid\", color=\"institution_type\", color_discrete_sequence=px.colors.qualitative.Dark24)"
   ]
  },
  {
   "cell_type": "code",
   "execution_count": 172,
   "metadata": {},
   "outputs": [
    {
     "data": {
      "text/plain": [
       "3362"
      ]
     },
     "execution_count": 172,
     "metadata": {},
     "output_type": "execute_result"
    }
   ],
   "source": [
    "len(all_affiliations)"
   ]
  },
  {
   "cell_type": "code",
   "execution_count": 174,
   "metadata": {},
   "outputs": [],
   "source": [
    "aff_type_df = pd.DataFrame({\"type\":aff_type.values(), \"affiliation\":aff_type.keys()})"
   ]
  },
  {
   "cell_type": "code",
   "execution_count": 175,
   "metadata": {},
   "outputs": [
    {
     "data": {
      "text/html": [
       "<div>\n",
       "<style scoped>\n",
       "    .dataframe tbody tr th:only-of-type {\n",
       "        vertical-align: middle;\n",
       "    }\n",
       "\n",
       "    .dataframe tbody tr th {\n",
       "        vertical-align: top;\n",
       "    }\n",
       "\n",
       "    .dataframe thead th {\n",
       "        text-align: right;\n",
       "    }\n",
       "</style>\n",
       "<table border=\"1\" class=\"dataframe\">\n",
       "  <thead>\n",
       "    <tr style=\"text-align: right;\">\n",
       "      <th></th>\n",
       "      <th>affiliation</th>\n",
       "    </tr>\n",
       "    <tr>\n",
       "      <th>type</th>\n",
       "      <th></th>\n",
       "    </tr>\n",
       "  </thead>\n",
       "  <tbody>\n",
       "    <tr>\n",
       "      <th>hospital</th>\n",
       "      <td>406</td>\n",
       "    </tr>\n",
       "    <tr>\n",
       "      <th>institute</th>\n",
       "      <td>518</td>\n",
       "    </tr>\n",
       "    <tr>\n",
       "      <th>private</th>\n",
       "      <td>353</td>\n",
       "    </tr>\n",
       "    <tr>\n",
       "      <th>university</th>\n",
       "      <td>2085</td>\n",
       "    </tr>\n",
       "  </tbody>\n",
       "</table>\n",
       "</div>"
      ],
      "text/plain": [
       "            affiliation\n",
       "type                   \n",
       "hospital            406\n",
       "institute           518\n",
       "private             353\n",
       "university         2085"
      ]
     },
     "execution_count": 175,
     "metadata": {},
     "output_type": "execute_result"
    }
   ],
   "source": [
    "aff_type_df.groupby([\"type\"]).count()"
   ]
  },
  {
   "cell_type": "code",
   "execution_count": 176,
   "metadata": {},
   "outputs": [],
   "source": [
    "aff_pmid_df[\"institution_type\"] = aff_pmid_df.apply(lambda x: aff_type[x.aff], axis=1)"
   ]
  },
  {
   "cell_type": "code",
   "execution_count": 177,
   "metadata": {},
   "outputs": [
    {
     "data": {
      "text/html": [
       "<div>\n",
       "<style scoped>\n",
       "    .dataframe tbody tr th:only-of-type {\n",
       "        vertical-align: middle;\n",
       "    }\n",
       "\n",
       "    .dataframe tbody tr th {\n",
       "        vertical-align: top;\n",
       "    }\n",
       "\n",
       "    .dataframe thead th {\n",
       "        text-align: right;\n",
       "    }\n",
       "</style>\n",
       "<table border=\"1\" class=\"dataframe\">\n",
       "  <thead>\n",
       "    <tr style=\"text-align: right;\">\n",
       "      <th></th>\n",
       "      <th>pmid</th>\n",
       "      <th>aff</th>\n",
       "      <th>country</th>\n",
       "      <th>institution_type</th>\n",
       "    </tr>\n",
       "  </thead>\n",
       "  <tbody>\n",
       "    <tr>\n",
       "      <th>0</th>\n",
       "      <td>15448372</td>\n",
       "      <td>\"Division of Cancer Research, Institute of Bio...</td>\n",
       "      <td>China</td>\n",
       "      <td>institute</td>\n",
       "    </tr>\n",
       "    <tr>\n",
       "      <th>1</th>\n",
       "      <td>15448372</td>\n",
       "      <td>\"Institute of Clinical Medicine, National Yang...</td>\n",
       "      <td>China</td>\n",
       "      <td>hospital</td>\n",
       "    </tr>\n",
       "    <tr>\n",
       "      <th>2</th>\n",
       "      <td>15448372</td>\n",
       "      <td>\"Department of Research and Education, Taipei ...</td>\n",
       "      <td>China</td>\n",
       "      <td>hospital</td>\n",
       "    </tr>\n",
       "    <tr>\n",
       "      <th>3</th>\n",
       "      <td>15448372</td>\n",
       "      <td>\"Institute of Microbiology and Immunology, Nat...</td>\n",
       "      <td>China</td>\n",
       "      <td>university</td>\n",
       "    </tr>\n",
       "    <tr>\n",
       "      <th>4</th>\n",
       "      <td>15140958</td>\n",
       "      <td>\"Department of Immunology, Peking University H...</td>\n",
       "      <td>China</td>\n",
       "      <td>university</td>\n",
       "    </tr>\n",
       "    <tr>\n",
       "      <th>...</th>\n",
       "      <td>...</td>\n",
       "      <td>...</td>\n",
       "      <td>...</td>\n",
       "      <td>...</td>\n",
       "    </tr>\n",
       "    <tr>\n",
       "      <th>3627</th>\n",
       "      <td>9593785</td>\n",
       "      <td>\"Unit\\xc3\\xa9 d&amp;#x27;Immunit\\xc3\\xa9 Cellulair...</td>\n",
       "      <td>France</td>\n",
       "      <td>institute</td>\n",
       "    </tr>\n",
       "    <tr>\n",
       "      <th>3628</th>\n",
       "      <td>36806685</td>\n",
       "      <td>\"W.M. Keck Laboratory for Structural Biology, ...</td>\n",
       "      <td>United States</td>\n",
       "      <td>university</td>\n",
       "    </tr>\n",
       "    <tr>\n",
       "      <th>3629</th>\n",
       "      <td>36806685</td>\n",
       "      <td>\"W.M. Keck Laboratory for Structural Biology, ...</td>\n",
       "      <td>United States</td>\n",
       "      <td>university</td>\n",
       "    </tr>\n",
       "    <tr>\n",
       "      <th>3630</th>\n",
       "      <td>36806685</td>\n",
       "      <td>\"National Research Center for Hematology, Mosc...</td>\n",
       "      <td>Russia</td>\n",
       "      <td>institute</td>\n",
       "    </tr>\n",
       "    <tr>\n",
       "      <th>3631</th>\n",
       "      <td>36806685</td>\n",
       "      <td>\"Laboratory of Structural Immunology, Departme...</td>\n",
       "      <td>United States</td>\n",
       "      <td>hospital</td>\n",
       "    </tr>\n",
       "  </tbody>\n",
       "</table>\n",
       "<p>3632 rows × 4 columns</p>\n",
       "</div>"
      ],
      "text/plain": [
       "          pmid                                                aff  \\\n",
       "0     15448372  \"Division of Cancer Research, Institute of Bio...   \n",
       "1     15448372  \"Institute of Clinical Medicine, National Yang...   \n",
       "2     15448372  \"Department of Research and Education, Taipei ...   \n",
       "3     15448372  \"Institute of Microbiology and Immunology, Nat...   \n",
       "4     15140958  \"Department of Immunology, Peking University H...   \n",
       "...        ...                                                ...   \n",
       "3627   9593785  \"Unit\\xc3\\xa9 d&#x27;Immunit\\xc3\\xa9 Cellulair...   \n",
       "3628  36806685  \"W.M. Keck Laboratory for Structural Biology, ...   \n",
       "3629  36806685  \"W.M. Keck Laboratory for Structural Biology, ...   \n",
       "3630  36806685  \"National Research Center for Hematology, Mosc...   \n",
       "3631  36806685  \"Laboratory of Structural Immunology, Departme...   \n",
       "\n",
       "            country institution_type  \n",
       "0             China        institute  \n",
       "1             China         hospital  \n",
       "2             China         hospital  \n",
       "3             China       university  \n",
       "4             China       university  \n",
       "...             ...              ...  \n",
       "3627         France        institute  \n",
       "3628  United States       university  \n",
       "3629  United States       university  \n",
       "3630         Russia        institute  \n",
       "3631  United States         hospital  \n",
       "\n",
       "[3632 rows x 4 columns]"
      ]
     },
     "execution_count": 177,
     "metadata": {},
     "output_type": "execute_result"
    }
   ],
   "source": [
    "aff_pmid_df"
   ]
  },
  {
   "cell_type": "code",
   "execution_count": null,
   "metadata": {},
   "outputs": [],
   "source": []
  },
  {
   "cell_type": "code",
   "execution_count": 99,
   "metadata": {},
   "outputs": [],
   "source": [
    "pmcid_url = 'https://www.ncbi.nlm.nih.gov/pmc/oai/oai.cgi?verb=GetRecord&identifier=oai:pubmedcentral.nih.gov:{}&metadataPrefix=pmc_fm'\n",
    "pmcid_convert_url = \"https://www.ncbi.nlm.nih.gov/pmc/utils/idconv/v1.0/?ids={}\" "
   ]
  },
  {
   "cell_type": "code",
   "execution_count": 159,
   "metadata": {},
   "outputs": [
    {
     "name": "stdout",
     "output_type": "stream",
     "text": [
      "https://www.ncbi.nlm.nih.gov/pmc/utils/idconv/v1.0/?ids=15448372\n",
      "Could not access\n",
      "https://www.ncbi.nlm.nih.gov/pmc/utils/idconv/v1.0/?ids=15140958\n",
      "PMC415819\n",
      "https://www.ncbi.nlm.nih.gov/pmc/oai/oai.cgi?verb=GetRecord&identifier=oai:pubmedcentral.nih.gov:PMID15448372&metadataPrefix=pmc_fm\n",
      "<Response [200]>\n",
      "Could not access\n",
      "https://www.ncbi.nlm.nih.gov/pmc/utils/idconv/v1.0/?ids=15104671\n",
      "PMC7161580\n",
      "https://www.ncbi.nlm.nih.gov/pmc/oai/oai.cgi?verb=GetRecord&identifier=oai:pubmedcentral.nih.gov:PMID15448372&metadataPrefix=pmc_fm\n",
      "<Response [200]>\n",
      "Could not access\n",
      "https://www.ncbi.nlm.nih.gov/pmc/utils/idconv/v1.0/?ids=15368525\n",
      "Could not access\n",
      "https://www.ncbi.nlm.nih.gov/pmc/utils/idconv/v1.0/?ids=15538043\n",
      "Could not access\n",
      "https://www.ncbi.nlm.nih.gov/pmc/utils/idconv/v1.0/?ids=15116427\n",
      "Could not access\n",
      "https://www.ncbi.nlm.nih.gov/pmc/utils/idconv/v1.0/?ids=15382068\n",
      "Could not access\n",
      "https://www.ncbi.nlm.nih.gov/pmc/utils/idconv/v1.0/?ids=11782012\n",
      "Could not access\n",
      "https://www.ncbi.nlm.nih.gov/pmc/utils/idconv/v1.0/?ids=15153496\n",
      "Could not access\n",
      "https://www.ncbi.nlm.nih.gov/pmc/utils/idconv/v1.0/?ids=15305339\n",
      "Could not access\n",
      "https://www.ncbi.nlm.nih.gov/pmc/utils/idconv/v1.0/?ids=15501984\n",
      "Could not access\n",
      "https://www.ncbi.nlm.nih.gov/pmc/utils/idconv/v1.0/?ids=15039371\n",
      "PMC375155\n",
      "https://www.ncbi.nlm.nih.gov/pmc/oai/oai.cgi?verb=GetRecord&identifier=oai:pubmedcentral.nih.gov:PMID15448372&metadataPrefix=pmc_fm\n",
      "<Response [200]>\n"
     ]
    },
    {
     "ename": "KeyboardInterrupt",
     "evalue": "",
     "output_type": "error",
     "traceback": [
      "\u001b[1;31m---------------------------------------------------------------------------\u001b[0m",
      "\u001b[1;31mKeyboardInterrupt\u001b[0m                         Traceback (most recent call last)",
      "\u001b[1;32m<ipython-input-159-a215e8705a23>\u001b[0m in \u001b[0;36m<module>\u001b[1;34m\u001b[0m\n\u001b[0;32m     19\u001b[0m     \u001b[0mpmid_result\u001b[0m \u001b[1;33m=\u001b[0m \u001b[0mrequests\u001b[0m\u001b[1;33m.\u001b[0m\u001b[0mget\u001b[0m\u001b[1;33m(\u001b[0m\u001b[0mpmid_url\u001b[0m\u001b[1;33m)\u001b[0m\u001b[1;33m\u001b[0m\u001b[1;33m\u001b[0m\u001b[0m\n\u001b[0;32m     20\u001b[0m     \u001b[0mprint\u001b[0m\u001b[1;33m(\u001b[0m\u001b[0mpmid_result\u001b[0m\u001b[1;33m)\u001b[0m\u001b[1;33m\u001b[0m\u001b[1;33m\u001b[0m\u001b[0m\n\u001b[1;32m---> 21\u001b[1;33m     \u001b[0mtime\u001b[0m\u001b[1;33m.\u001b[0m\u001b[0msleep\u001b[0m\u001b[1;33m(\u001b[0m\u001b[1;36m1\u001b[0m\u001b[1;33m)\u001b[0m\u001b[1;33m\u001b[0m\u001b[1;33m\u001b[0m\u001b[0m\n\u001b[0m\u001b[0;32m     22\u001b[0m     \u001b[0mdict_data\u001b[0m \u001b[1;33m=\u001b[0m \u001b[0mxmltodict\u001b[0m\u001b[1;33m.\u001b[0m\u001b[0mparse\u001b[0m\u001b[1;33m(\u001b[0m\u001b[0mpmid_result\u001b[0m\u001b[1;33m.\u001b[0m\u001b[0mcontent\u001b[0m\u001b[1;33m)\u001b[0m\u001b[1;33m\u001b[0m\u001b[1;33m\u001b[0m\u001b[0m\n\u001b[0;32m     23\u001b[0m     \u001b[1;32mif\u001b[0m \u001b[1;32mnot\u001b[0m \u001b[1;34m\"GetRecord\"\u001b[0m \u001b[1;32min\u001b[0m \u001b[0mdict_data\u001b[0m\u001b[1;33m[\u001b[0m\u001b[1;34m\"OAI-PMH\"\u001b[0m\u001b[1;33m]\u001b[0m\u001b[1;33m:\u001b[0m\u001b[1;33m\u001b[0m\u001b[1;33m\u001b[0m\u001b[0m\n",
      "\u001b[1;31mKeyboardInterrupt\u001b[0m: "
     ]
    }
   ],
   "source": [
    "import time\n",
    "import requests\n",
    "import xmltodict\n",
    "\n",
    "all_affiliations = set()\n",
    "\n",
    "for pmid in pmids:\n",
    "    pmcid_convert = pmid_convert_url.format(pmid)\n",
    "    print(pmcid_convert)\n",
    "    pmid_conv_result = requests.get(pmcid_convert)\n",
    "    conv_data = xmltodict.parse(pmid_conv_result.content)\n",
    "    if not \"@pmcid\" in conv_data[\"pmcids\"][\"record\"]:\n",
    "        print(\"Could not access\")\n",
    "        continue\n",
    "    pmcid = conv_data[\"pmcids\"][\"record\"][\"@pmcid\"]\n",
    "    print(pmcid)\n",
    "    pmid_url = pmid_url.format(pmcid)\n",
    "    print(pmid_url)\n",
    "    pmid_result = requests.get(pmid_url)\n",
    "    print(pmid_result)\n",
    "    time.sleep(1)\n",
    "    dict_data = xmltodict.parse(pmid_result.content)\n",
    "    if not \"GetRecord\" in dict_data[\"OAI-PMH\"]:\n",
    "        print(\"Could not access\")\n",
    "        continue\n",
    "    affiliations = dict_data[\"OAI-PMH\"][\"GetRecord\"]['record']['metadata']['article'][\"front\"]['article-meta']['contrib-group']['aff']\n",
    "    print(affiliations)\n",
    "    present_aff_states = set()\n",
    "    for aff in affiliations:\n",
    "        present_aff_states.add(aff[\"#text\"])\n",
    "    print(present_aff_states)\n",
    "    all_affiliations2 = all_affiliations.union(present_aff_states)\n",
    "    all_affiliations = all_affiliations2"
   ]
  }
 ],
 "metadata": {
  "kernelspec": {
   "display_name": "Python 3 (ipykernel)",
   "language": "python",
   "name": "python3"
  },
  "language_info": {
   "codemirror_mode": {
    "name": "ipython",
    "version": 3
   },
   "file_extension": ".py",
   "mimetype": "text/x-python",
   "name": "python",
   "nbconvert_exporter": "python",
   "pygments_lexer": "ipython3",
   "version": "3.11.4"
  }
 },
 "nbformat": 4,
 "nbformat_minor": 4
}
