{
 "cells": [
  {
   "cell_type": "code",
   "execution_count": 14,
   "id": "07024b67",
   "metadata": {},
   "outputs": [],
   "source": [
    "import pandas as pd\n",
    "import numpy as np\n",
    "import plotly.express as px\n",
    "import os\n",
    "import plotly.express as px\n",
    "import plotly.graph_objects as go"
   ]
  },
  {
   "cell_type": "code",
   "execution_count": 5,
   "id": "1c084e61",
   "metadata": {},
   "outputs": [],
   "source": [
    "# datasets\n",
    "data_fname = \"./{}_peptides_ms_all.csv\"\n",
    "all_datasets = [\"mhcflurry\", \"netmhc\"]\n",
    "all_datasets_names = [\"MHCFlurry2.0\", \"NetMHCpan4.1\", \"MHCFlurry2.0\", \"NetMHCpan4.1\"]\n",
    "all_datasets_fname = [data_fname.format(x) for x in all_datasets]"
   ]
  },
  {
   "cell_type": "code",
   "execution_count": 6,
   "id": "0c619be0",
   "metadata": {},
   "outputs": [],
   "source": [
    "data_fname = \"./{}_peptides_ba.csv\"\n",
    "all_datasets_fname.extend([data_fname.format(x) for x in all_datasets])"
   ]
  },
  {
   "cell_type": "code",
   "execution_count": 7,
   "id": "214fb06c",
   "metadata": {},
   "outputs": [],
   "source": [
    "all_data_pd = None\n",
    "for i, ds in enumerate(all_datasets_fname):\n",
    "    dataset_df =  pd.read_csv(ds, header=None, sep=\"\\t\")\n",
    "    if \"_ba\" in ds:\n",
    "        dataset_df[\"dataset_name\"] = dataset_df[0].apply(lambda x: all_datasets_names[i]+\"_BA\")\n",
    "    if \"_ms_\" in ds:\n",
    "        dataset_df[\"dataset_name\"] = dataset_df[0].apply(lambda x: all_datasets_names[i]+\"_MS\")\n",
    "        \n",
    "    if all_data_pd is None:\n",
    "        all_data_pd = dataset_df\n",
    "    else:\n",
    "        all_data_pd = pd.concat([all_data_pd, dataset_df])"
   ]
  },
  {
   "cell_type": "code",
   "execution_count": 8,
   "id": "13f0296e",
   "metadata": {},
   "outputs": [],
   "source": [
    "all_data_pd.columns = [\"peptide\", \"allele\", \"locus\", \"dataset_name\"]"
   ]
  },
  {
   "cell_type": "code",
   "execution_count": 9,
   "id": "b2fb4de7",
   "metadata": {},
   "outputs": [],
   "source": [
    "def plot(all_alleles_all_datasets, locus):\n",
    "    tmp_data = all_alleles_all_datasets[all_alleles_all_datasets.apply(lambda x: x.allele[4]==locus, axis=1)]\n",
    "    symbols_dict = {\"MHCFlurry2.0_BA\": \"line-ne\", \\\n",
    "                    \"NetMHCpan4.1_BA\": \"line-nw\", \\\n",
    "                    \"MHCFlurry2.0_MS\": \"line-ns\", \\\n",
    "                    \"NetMHCpan4.1_MS\": \"line-ew\" }\n",
    "    colors_dict = {\"MHCFlurry2.0_BA\": px.colors.qualitative.D3[3], \\\n",
    "                    \"NetMHCpan4.1_BA\": px.colors.qualitative.D3[3], \\\n",
    "                    \"MHCFlurry2.0_MS\": px.colors.qualitative.D3[0], \\\n",
    "                    \"NetMHCpan4.1_MS\": px.colors.qualitative.D3[0]}\n",
    "    allele_order_df = tmp_data[tmp_data[\"dataset_name\"]==\"MHCFlurry2.0_MS\"][[\"allele\", \"peptide_counts\"]]\\\n",
    "    .sort_values(by=\"peptide_counts\", ascending=False).reset_index(drop=True).reset_index()[[\"allele\", \"index\"]]\n",
    "    tmp_data[\"symbols\"] = tmp_data.dataset_name.apply(lambda x: symbols_dict[x])\n",
    "    tmp_data[\"color\"] = tmp_data.dataset_name.apply(lambda x: colors_dict[x])\n",
    "    tmp_data[\"allele_order\"] = tmp_data.allele.apply(lambda x: allele_order_df[\"index\"][allele_order_df.allele==x].iloc[0])\n",
    "    #tmp_data = tmp_data.sort_values(by=[\"peptide_counts\", \"allele_short\"], ascending=[False, True])\n",
    "    fig = go.Figure()\n",
    "    for dsn in [\"MHCFlurry2.0_MS\", \"NetMHCpan4.1_MS\", \"MHCFlurry2.0_BA\", \"NetMHCpan4.1_BA\"]:\n",
    "        tmp_data_ds = tmp_data[tmp_data.dataset_name == dsn].sort_values(by=\"allele_order\")\n",
    "        tmp_data_ds_no_zeros = tmp_data_ds[tmp_data_ds[\"peptide_counts\"]!=0]\n",
    "        #tmp_data_ds = tmp_data_ds.sort_values(by=\"allele_short\")\n",
    "        '''\n",
    "        fig.add_trace(go.Bar(x=tmp_data_ds.allele_short, y=tmp_data_ds.peptide_counts,#/tmp_data_ds.peptide_counts.sum(), \\\n",
    "                             name = dsn, marker_color = colors_dict[dsn]\\\n",
    "                            # marker_symbol=tmp_data_ds.symbols, opacity=0.5, \\\n",
    "                             #marker_line_width=1, marker_size=0, marker_color = tmp_data_ds.color,\\\n",
    "                             #line_color = colors_dict[dsn], line=dict(dash='dot')\n",
    "                          ))\n",
    "        '''\n",
    "        fig.add_trace(go.Scatter(mode=\"lines\", x=tmp_data_ds.allele_short, y=tmp_data_ds.peptide_counts, \\\n",
    "                                 marker_symbol=tmp_data_ds.symbols, opacity=0.5, \\\n",
    "                                 marker_line_width=1, marker_size=0, name = dsn, marker_color = tmp_data_ds.color,\\\n",
    "                                 line_color = colors_dict[dsn], line=dict(dash='dot')\n",
    "                              ))\n",
    "\n",
    "        fig.add_trace(go.Scatter(mode=\"markers\", x=tmp_data_ds_no_zeros.allele_short, y=tmp_data_ds_no_zeros.peptide_counts, \\\n",
    "                             marker_symbol=tmp_data_ds_no_zeros.symbols, opacity=1, \\\n",
    "                             marker_line_width=2, marker_size=9, name = dsn, marker_color = tmp_data_ds_no_zeros.color,\\\n",
    "                             line_color = colors_dict[dsn], line=dict(dash='dot')\n",
    "                          ))\n",
    "        fig.add_trace(go.Scatter(mode=\"markers\", x=tmp_data_ds_no_zeros.allele_short, y=tmp_data_ds_no_zeros.peptide_counts, \\\n",
    "                         marker_symbol=\"circle-open\", opacity=1, \\\n",
    "                         marker_line_width=2, marker_size=9, name = dsn, marker_color = tmp_data_ds_no_zeros.color,\\\n",
    "                         line_color = colors_dict[dsn], line=dict(dash='dot')\n",
    "                      ))\n",
    "        \n",
    "                              # marker_line_width=2, marker_size=15,\n",
    "                              # hovertemplate=\"name: %{y}%{x}<br>number: %{marker.symbol}<extra></extra>\"))\n",
    "    fig.update_layout(width=800, height=400, yaxis_range=[-1000, 25000], \\\n",
    "                      #barmode='stack',\\\n",
    "                      xaxis=dict(tickangle=45,tick0=0, dtick=1.2))\n",
    "    return fig"
   ]
  },
  {
   "cell_type": "code",
   "execution_count": 11,
   "id": "8f8c0206",
   "metadata": {},
   "outputs": [],
   "source": [
    "tmp = all_data_pd.groupby(by=[\"dataset_name\", \"allele\"]).count().reset_index()\n",
    "tmp = tmp[tmp.columns[:-1]]\n",
    "all_data_freqs =  tmp.groupby(\"dataset_name\")[\"peptide\"].apply(lambda x: x*100/x.sum()).reset_index()\n",
    "tmp[\"peptide\"] = all_data_freqs[\"peptide\"]\n",
    "\n",
    "all_data_freqs = tmp\n",
    "\n",
    "all_data_counts = all_data_pd.groupby(by=[\"dataset_name\", \"allele\"]).count().reset_index()\n",
    "all_data_freqs = all_data_freqs.sort_values([\"dataset_name\", \"allele\"], ascending=[False, True])\n",
    "\n",
    "all_data_counts = all_data_counts.sort_values([\"dataset_name\", \"allele\"], ascending=[False, True])\n",
    "all_data_counts[\"allele_short\"] = all_data_counts[\"allele\"].apply(lambda x: x[4:])\n",
    "all_data_freqs[\"allele_short\"] = all_data_freqs[\"allele\"].apply(lambda x: x[4:])"
   ]
  },
  {
   "cell_type": "code",
   "execution_count": 12,
   "id": "aa343791",
   "metadata": {},
   "outputs": [],
   "source": [
    "interesting_alleles = all_data_counts[all_data_counts.allele\\\n",
    "                                      .apply(lambda x: any(all_data_counts[all_data_counts.allele==x].peptide > 1000))]\\\n",
    ".allele.unique()\n",
    "all_alleles_all_datasets = pd.DataFrame({\"dataset_name\": all_data_counts.dataset_name.unique()}).merge( \\\n",
    "pd.DataFrame({\"allele\": interesting_alleles}) ,\\\n",
    "         how=\"cross\")\n",
    "def get_counts(allele, dataset_name, all_data_counts):\n",
    "    tmp = all_data_counts[(all_data_counts.allele == allele)\\\n",
    "                    & (all_data_counts.dataset_name == dataset_name)].peptide\n",
    "    if tmp.shape[0]>0:\n",
    "        return tmp.iloc[0]\n",
    "    else:\n",
    "        return 0\n",
    "                                                                          \n",
    "all_alleles_all_datasets[\"peptide_counts\"] = all_alleles_all_datasets.apply(lambda x: \\\n",
    "                                                                            get_counts(x.allele, x.dataset_name, \\\n",
    "                                                                                      all_data_counts), axis=1)\n",
    "\n",
    "all_alleles_all_datasets[\"allele_short\"] = all_alleles_all_datasets[\"allele\"].apply(lambda x: x[4:])"
   ]
  },
  {
   "cell_type": "code",
   "execution_count": 21,
   "id": "06acddef",
   "metadata": {},
   "outputs": [],
   "source": [
    "import warnings\n",
    "warnings.filterwarnings('ignore')"
   ]
  },
  {
   "cell_type": "markdown",
   "id": "1a972e8a",
   "metadata": {},
   "source": [
    "## Dataset contents locus A"
   ]
  },
  {
   "cell_type": "code",
   "execution_count": 30,
   "id": "4954ca84",
   "metadata": {},
   "outputs": [
    {
     "data": {
      "application/vnd.plotly.v1+json": {
       "config": {
        "plotlyServerURL": "https://plot.ly"
       },
       "data": [
        {
         "line": {
          "color": "#1F77B4",
          "dash": "dot"
         },
         "marker": {
          "color": [
           "#1F77B4",
           "#1F77B4",
           "#1F77B4",
           "#1F77B4",
           "#1F77B4",
           "#1F77B4",
           "#1F77B4",
           "#1F77B4",
           "#1F77B4",
           "#1F77B4",
           "#1F77B4",
           "#1F77B4",
           "#1F77B4",
           "#1F77B4",
           "#1F77B4",
           "#1F77B4",
           "#1F77B4",
           "#1F77B4",
           "#1F77B4",
           "#1F77B4",
           "#1F77B4",
           "#1F77B4",
           "#1F77B4",
           "#1F77B4",
           "#1F77B4",
           "#1F77B4",
           "#1F77B4",
           "#1F77B4",
           "#1F77B4",
           "#1F77B4",
           "#1F77B4",
           "#1F77B4",
           "#1F77B4",
           "#1F77B4",
           "#1F77B4",
           "#1F77B4",
           "#1F77B4",
           "#1F77B4",
           "#1F77B4"
          ],
          "line": {
           "width": 1
          },
          "size": 0,
          "symbol": [
           "line-ns",
           "line-ns",
           "line-ns",
           "line-ns",
           "line-ns",
           "line-ns",
           "line-ns",
           "line-ns",
           "line-ns",
           "line-ns",
           "line-ns",
           "line-ns",
           "line-ns",
           "line-ns",
           "line-ns",
           "line-ns",
           "line-ns",
           "line-ns",
           "line-ns",
           "line-ns",
           "line-ns",
           "line-ns",
           "line-ns",
           "line-ns",
           "line-ns",
           "line-ns",
           "line-ns",
           "line-ns",
           "line-ns",
           "line-ns",
           "line-ns",
           "line-ns",
           "line-ns",
           "line-ns",
           "line-ns",
           "line-ns",
           "line-ns",
           "line-ns",
           "line-ns"
          ]
         },
         "mode": "lines",
         "name": "MHCFlurry2.0_MS",
         "opacity": 0.5,
         "type": "scatter",
         "x": [
          "A*02:01",
          "A*03:01",
          "A*68:01",
          "A*01:01",
          "A*11:01",
          "A*29:02",
          "A*24:02",
          "A*02:07",
          "A*68:02",
          "A*23:01",
          "A*34:02",
          "A*02:05",
          "A*31:01",
          "A*02:04",
          "A*02:02",
          "A*32:01",
          "A*33:03",
          "A*11:02",
          "A*02:03",
          "A*30:02",
          "A*74:01",
          "A*26:01",
          "A*36:01",
          "A*02:06",
          "A*33:01",
          "A*30:01",
          "A*34:01",
          "A*02:11",
          "A*66:01",
          "A*25:01",
          "A*24:07",
          "A*02:20",
          "A*03:02",
          "A*69:01",
          "A*02:12",
          "A*02:16",
          "A*02:19",
          "A*24:03",
          "A*80:01"
         ],
         "y": [
          21445,
          15227,
          10643,
          9608,
          8137,
          7865,
          7671,
          4726,
          3859,
          3749,
          3724,
          3639,
          3616,
          3515,
          3425,
          3204,
          3043,
          2882,
          2826,
          2793,
          2688,
          2663,
          2614,
          2498,
          2497,
          2458,
          2360,
          2202,
          2197,
          2105,
          1454,
          946,
          17,
          0,
          0,
          0,
          0,
          0,
          0
         ]
        },
        {
         "line": {
          "color": "#1F77B4",
          "dash": "dot"
         },
         "marker": {
          "color": [
           "#1F77B4",
           "#1F77B4",
           "#1F77B4",
           "#1F77B4",
           "#1F77B4",
           "#1F77B4",
           "#1F77B4",
           "#1F77B4",
           "#1F77B4",
           "#1F77B4",
           "#1F77B4",
           "#1F77B4",
           "#1F77B4",
           "#1F77B4",
           "#1F77B4",
           "#1F77B4",
           "#1F77B4",
           "#1F77B4",
           "#1F77B4",
           "#1F77B4",
           "#1F77B4",
           "#1F77B4",
           "#1F77B4",
           "#1F77B4",
           "#1F77B4",
           "#1F77B4",
           "#1F77B4",
           "#1F77B4",
           "#1F77B4",
           "#1F77B4",
           "#1F77B4",
           "#1F77B4",
           "#1F77B4"
          ],
          "line": {
           "width": 2
          },
          "size": 9,
          "symbol": [
           "line-ns",
           "line-ns",
           "line-ns",
           "line-ns",
           "line-ns",
           "line-ns",
           "line-ns",
           "line-ns",
           "line-ns",
           "line-ns",
           "line-ns",
           "line-ns",
           "line-ns",
           "line-ns",
           "line-ns",
           "line-ns",
           "line-ns",
           "line-ns",
           "line-ns",
           "line-ns",
           "line-ns",
           "line-ns",
           "line-ns",
           "line-ns",
           "line-ns",
           "line-ns",
           "line-ns",
           "line-ns",
           "line-ns",
           "line-ns",
           "line-ns",
           "line-ns",
           "line-ns"
          ]
         },
         "mode": "markers",
         "name": "MHCFlurry2.0_MS",
         "opacity": 1,
         "type": "scatter",
         "x": [
          "A*02:01",
          "A*03:01",
          "A*68:01",
          "A*01:01",
          "A*11:01",
          "A*29:02",
          "A*24:02",
          "A*02:07",
          "A*68:02",
          "A*23:01",
          "A*34:02",
          "A*02:05",
          "A*31:01",
          "A*02:04",
          "A*02:02",
          "A*32:01",
          "A*33:03",
          "A*11:02",
          "A*02:03",
          "A*30:02",
          "A*74:01",
          "A*26:01",
          "A*36:01",
          "A*02:06",
          "A*33:01",
          "A*30:01",
          "A*34:01",
          "A*02:11",
          "A*66:01",
          "A*25:01",
          "A*24:07",
          "A*02:20",
          "A*03:02"
         ],
         "y": [
          21445,
          15227,
          10643,
          9608,
          8137,
          7865,
          7671,
          4726,
          3859,
          3749,
          3724,
          3639,
          3616,
          3515,
          3425,
          3204,
          3043,
          2882,
          2826,
          2793,
          2688,
          2663,
          2614,
          2498,
          2497,
          2458,
          2360,
          2202,
          2197,
          2105,
          1454,
          946,
          17
         ]
        },
        {
         "line": {
          "color": "#1F77B4",
          "dash": "dot"
         },
         "marker": {
          "color": [
           "#1F77B4",
           "#1F77B4",
           "#1F77B4",
           "#1F77B4",
           "#1F77B4",
           "#1F77B4",
           "#1F77B4",
           "#1F77B4",
           "#1F77B4",
           "#1F77B4",
           "#1F77B4",
           "#1F77B4",
           "#1F77B4",
           "#1F77B4",
           "#1F77B4",
           "#1F77B4",
           "#1F77B4",
           "#1F77B4",
           "#1F77B4",
           "#1F77B4",
           "#1F77B4",
           "#1F77B4",
           "#1F77B4",
           "#1F77B4",
           "#1F77B4",
           "#1F77B4",
           "#1F77B4",
           "#1F77B4",
           "#1F77B4",
           "#1F77B4",
           "#1F77B4",
           "#1F77B4",
           "#1F77B4"
          ],
          "line": {
           "width": 2
          },
          "size": 9,
          "symbol": "circle-open"
         },
         "mode": "markers",
         "name": "MHCFlurry2.0_MS",
         "opacity": 1,
         "type": "scatter",
         "x": [
          "A*02:01",
          "A*03:01",
          "A*68:01",
          "A*01:01",
          "A*11:01",
          "A*29:02",
          "A*24:02",
          "A*02:07",
          "A*68:02",
          "A*23:01",
          "A*34:02",
          "A*02:05",
          "A*31:01",
          "A*02:04",
          "A*02:02",
          "A*32:01",
          "A*33:03",
          "A*11:02",
          "A*02:03",
          "A*30:02",
          "A*74:01",
          "A*26:01",
          "A*36:01",
          "A*02:06",
          "A*33:01",
          "A*30:01",
          "A*34:01",
          "A*02:11",
          "A*66:01",
          "A*25:01",
          "A*24:07",
          "A*02:20",
          "A*03:02"
         ],
         "y": [
          21445,
          15227,
          10643,
          9608,
          8137,
          7865,
          7671,
          4726,
          3859,
          3749,
          3724,
          3639,
          3616,
          3515,
          3425,
          3204,
          3043,
          2882,
          2826,
          2793,
          2688,
          2663,
          2614,
          2498,
          2497,
          2458,
          2360,
          2202,
          2197,
          2105,
          1454,
          946,
          17
         ]
        },
        {
         "line": {
          "color": "#1F77B4",
          "dash": "dot"
         },
         "marker": {
          "color": [
           "#1F77B4",
           "#1F77B4",
           "#1F77B4",
           "#1F77B4",
           "#1F77B4",
           "#1F77B4",
           "#1F77B4",
           "#1F77B4",
           "#1F77B4",
           "#1F77B4",
           "#1F77B4",
           "#1F77B4",
           "#1F77B4",
           "#1F77B4",
           "#1F77B4",
           "#1F77B4",
           "#1F77B4",
           "#1F77B4",
           "#1F77B4",
           "#1F77B4",
           "#1F77B4",
           "#1F77B4",
           "#1F77B4",
           "#1F77B4",
           "#1F77B4",
           "#1F77B4",
           "#1F77B4",
           "#1F77B4",
           "#1F77B4",
           "#1F77B4",
           "#1F77B4",
           "#1F77B4",
           "#1F77B4",
           "#1F77B4",
           "#1F77B4",
           "#1F77B4",
           "#1F77B4",
           "#1F77B4",
           "#1F77B4"
          ],
          "line": {
           "width": 1
          },
          "size": 0,
          "symbol": [
           "line-ew",
           "line-ew",
           "line-ew",
           "line-ew",
           "line-ew",
           "line-ew",
           "line-ew",
           "line-ew",
           "line-ew",
           "line-ew",
           "line-ew",
           "line-ew",
           "line-ew",
           "line-ew",
           "line-ew",
           "line-ew",
           "line-ew",
           "line-ew",
           "line-ew",
           "line-ew",
           "line-ew",
           "line-ew",
           "line-ew",
           "line-ew",
           "line-ew",
           "line-ew",
           "line-ew",
           "line-ew",
           "line-ew",
           "line-ew",
           "line-ew",
           "line-ew",
           "line-ew",
           "line-ew",
           "line-ew",
           "line-ew",
           "line-ew",
           "line-ew",
           "line-ew"
          ]
         },
         "mode": "lines",
         "name": "NetMHCpan4.1_MS",
         "opacity": 0.5,
         "type": "scatter",
         "x": [
          "A*02:01",
          "A*03:01",
          "A*68:01",
          "A*01:01",
          "A*11:01",
          "A*29:02",
          "A*24:02",
          "A*02:07",
          "A*68:02",
          "A*23:01",
          "A*34:02",
          "A*02:05",
          "A*31:01",
          "A*02:04",
          "A*02:02",
          "A*32:01",
          "A*33:03",
          "A*11:02",
          "A*02:03",
          "A*30:02",
          "A*74:01",
          "A*26:01",
          "A*36:01",
          "A*02:06",
          "A*33:01",
          "A*30:01",
          "A*34:01",
          "A*02:11",
          "A*66:01",
          "A*25:01",
          "A*24:07",
          "A*02:20",
          "A*03:02",
          "A*69:01",
          "A*02:12",
          "A*02:16",
          "A*02:19",
          "A*24:03",
          "A*80:01"
         ],
         "y": [
          19992,
          15804,
          11168,
          10576,
          4709,
          7610,
          7724,
          4040,
          2582,
          1864,
          0,
          1807,
          3617,
          3155,
          0,
          982,
          140,
          0,
          2068,
          175,
          0,
          1751,
          0,
          446,
          315,
          1216,
          0,
          0,
          44,
          1551,
          0,
          1026,
          1118,
          2,
          0,
          0,
          0,
          0,
          0
         ]
        },
        {
         "line": {
          "color": "#1F77B4",
          "dash": "dot"
         },
         "marker": {
          "color": [
           "#1F77B4",
           "#1F77B4",
           "#1F77B4",
           "#1F77B4",
           "#1F77B4",
           "#1F77B4",
           "#1F77B4",
           "#1F77B4",
           "#1F77B4",
           "#1F77B4",
           "#1F77B4",
           "#1F77B4",
           "#1F77B4",
           "#1F77B4",
           "#1F77B4",
           "#1F77B4",
           "#1F77B4",
           "#1F77B4",
           "#1F77B4",
           "#1F77B4",
           "#1F77B4",
           "#1F77B4",
           "#1F77B4",
           "#1F77B4",
           "#1F77B4",
           "#1F77B4"
          ],
          "line": {
           "width": 2
          },
          "size": 9,
          "symbol": [
           "line-ew",
           "line-ew",
           "line-ew",
           "line-ew",
           "line-ew",
           "line-ew",
           "line-ew",
           "line-ew",
           "line-ew",
           "line-ew",
           "line-ew",
           "line-ew",
           "line-ew",
           "line-ew",
           "line-ew",
           "line-ew",
           "line-ew",
           "line-ew",
           "line-ew",
           "line-ew",
           "line-ew",
           "line-ew",
           "line-ew",
           "line-ew",
           "line-ew",
           "line-ew"
          ]
         },
         "mode": "markers",
         "name": "NetMHCpan4.1_MS",
         "opacity": 1,
         "type": "scatter",
         "x": [
          "A*02:01",
          "A*03:01",
          "A*68:01",
          "A*01:01",
          "A*11:01",
          "A*29:02",
          "A*24:02",
          "A*02:07",
          "A*68:02",
          "A*23:01",
          "A*02:05",
          "A*31:01",
          "A*02:04",
          "A*32:01",
          "A*33:03",
          "A*02:03",
          "A*30:02",
          "A*26:01",
          "A*02:06",
          "A*33:01",
          "A*30:01",
          "A*66:01",
          "A*25:01",
          "A*02:20",
          "A*03:02",
          "A*69:01"
         ],
         "y": [
          19992,
          15804,
          11168,
          10576,
          4709,
          7610,
          7724,
          4040,
          2582,
          1864,
          1807,
          3617,
          3155,
          982,
          140,
          2068,
          175,
          1751,
          446,
          315,
          1216,
          44,
          1551,
          1026,
          1118,
          2
         ]
        },
        {
         "line": {
          "color": "#1F77B4",
          "dash": "dot"
         },
         "marker": {
          "color": [
           "#1F77B4",
           "#1F77B4",
           "#1F77B4",
           "#1F77B4",
           "#1F77B4",
           "#1F77B4",
           "#1F77B4",
           "#1F77B4",
           "#1F77B4",
           "#1F77B4",
           "#1F77B4",
           "#1F77B4",
           "#1F77B4",
           "#1F77B4",
           "#1F77B4",
           "#1F77B4",
           "#1F77B4",
           "#1F77B4",
           "#1F77B4",
           "#1F77B4",
           "#1F77B4",
           "#1F77B4",
           "#1F77B4",
           "#1F77B4",
           "#1F77B4",
           "#1F77B4"
          ],
          "line": {
           "width": 2
          },
          "size": 9,
          "symbol": "circle-open"
         },
         "mode": "markers",
         "name": "NetMHCpan4.1_MS",
         "opacity": 1,
         "type": "scatter",
         "x": [
          "A*02:01",
          "A*03:01",
          "A*68:01",
          "A*01:01",
          "A*11:01",
          "A*29:02",
          "A*24:02",
          "A*02:07",
          "A*68:02",
          "A*23:01",
          "A*02:05",
          "A*31:01",
          "A*02:04",
          "A*32:01",
          "A*33:03",
          "A*02:03",
          "A*30:02",
          "A*26:01",
          "A*02:06",
          "A*33:01",
          "A*30:01",
          "A*66:01",
          "A*25:01",
          "A*02:20",
          "A*03:02",
          "A*69:01"
         ],
         "y": [
          19992,
          15804,
          11168,
          10576,
          4709,
          7610,
          7724,
          4040,
          2582,
          1864,
          1807,
          3617,
          3155,
          982,
          140,
          2068,
          175,
          1751,
          446,
          315,
          1216,
          44,
          1551,
          1026,
          1118,
          2
         ]
        },
        {
         "line": {
          "color": "#D62728",
          "dash": "dot"
         },
         "marker": {
          "color": [
           "#D62728",
           "#D62728",
           "#D62728",
           "#D62728",
           "#D62728",
           "#D62728",
           "#D62728",
           "#D62728",
           "#D62728",
           "#D62728",
           "#D62728",
           "#D62728",
           "#D62728",
           "#D62728",
           "#D62728",
           "#D62728",
           "#D62728",
           "#D62728",
           "#D62728",
           "#D62728",
           "#D62728",
           "#D62728",
           "#D62728",
           "#D62728",
           "#D62728",
           "#D62728",
           "#D62728",
           "#D62728",
           "#D62728",
           "#D62728",
           "#D62728",
           "#D62728",
           "#D62728",
           "#D62728",
           "#D62728",
           "#D62728",
           "#D62728",
           "#D62728",
           "#D62728"
          ],
          "line": {
           "width": 1
          },
          "size": 0,
          "symbol": [
           "line-ne",
           "line-ne",
           "line-ne",
           "line-ne",
           "line-ne",
           "line-ne",
           "line-ne",
           "line-ne",
           "line-ne",
           "line-ne",
           "line-ne",
           "line-ne",
           "line-ne",
           "line-ne",
           "line-ne",
           "line-ne",
           "line-ne",
           "line-ne",
           "line-ne",
           "line-ne",
           "line-ne",
           "line-ne",
           "line-ne",
           "line-ne",
           "line-ne",
           "line-ne",
           "line-ne",
           "line-ne",
           "line-ne",
           "line-ne",
           "line-ne",
           "line-ne",
           "line-ne",
           "line-ne",
           "line-ne",
           "line-ne",
           "line-ne",
           "line-ne",
           "line-ne"
          ]
         },
         "mode": "lines",
         "name": "MHCFlurry2.0_BA",
         "opacity": 0.5,
         "type": "scatter",
         "x": [
          "A*02:01",
          "A*03:01",
          "A*68:01",
          "A*01:01",
          "A*11:01",
          "A*29:02",
          "A*24:02",
          "A*02:07",
          "A*68:02",
          "A*23:01",
          "A*34:02",
          "A*02:05",
          "A*31:01",
          "A*02:04",
          "A*02:02",
          "A*32:01",
          "A*33:03",
          "A*11:02",
          "A*02:03",
          "A*30:02",
          "A*74:01",
          "A*26:01",
          "A*36:01",
          "A*02:06",
          "A*33:01",
          "A*30:01",
          "A*34:01",
          "A*02:11",
          "A*66:01",
          "A*25:01",
          "A*24:07",
          "A*02:20",
          "A*03:02",
          "A*69:01",
          "A*02:12",
          "A*02:16",
          "A*02:19",
          "A*24:03",
          "A*80:01"
         ],
         "y": [
          15726,
          7651,
          4245,
          5073,
          6660,
          2662,
          4162,
          112,
          5593,
          2507,
          0,
          127,
          5745,
          9,
          4188,
          1134,
          18,
          14,
          6333,
          2355,
          9,
          4406,
          0,
          5678,
          3600,
          3234,
          0,
          1088,
          102,
          963,
          0,
          0,
          26,
          2575,
          1183,
          920,
          1245,
          1227,
          1167
         ]
        },
        {
         "line": {
          "color": "#D62728",
          "dash": "dot"
         },
         "marker": {
          "color": [
           "#D62728",
           "#D62728",
           "#D62728",
           "#D62728",
           "#D62728",
           "#D62728",
           "#D62728",
           "#D62728",
           "#D62728",
           "#D62728",
           "#D62728",
           "#D62728",
           "#D62728",
           "#D62728",
           "#D62728",
           "#D62728",
           "#D62728",
           "#D62728",
           "#D62728",
           "#D62728",
           "#D62728",
           "#D62728",
           "#D62728",
           "#D62728",
           "#D62728",
           "#D62728",
           "#D62728",
           "#D62728",
           "#D62728",
           "#D62728",
           "#D62728",
           "#D62728",
           "#D62728",
           "#D62728"
          ],
          "line": {
           "width": 2
          },
          "size": 9,
          "symbol": [
           "line-ne",
           "line-ne",
           "line-ne",
           "line-ne",
           "line-ne",
           "line-ne",
           "line-ne",
           "line-ne",
           "line-ne",
           "line-ne",
           "line-ne",
           "line-ne",
           "line-ne",
           "line-ne",
           "line-ne",
           "line-ne",
           "line-ne",
           "line-ne",
           "line-ne",
           "line-ne",
           "line-ne",
           "line-ne",
           "line-ne",
           "line-ne",
           "line-ne",
           "line-ne",
           "line-ne",
           "line-ne",
           "line-ne",
           "line-ne",
           "line-ne",
           "line-ne",
           "line-ne",
           "line-ne"
          ]
         },
         "mode": "markers",
         "name": "MHCFlurry2.0_BA",
         "opacity": 1,
         "type": "scatter",
         "x": [
          "A*02:01",
          "A*03:01",
          "A*68:01",
          "A*01:01",
          "A*11:01",
          "A*29:02",
          "A*24:02",
          "A*02:07",
          "A*68:02",
          "A*23:01",
          "A*02:05",
          "A*31:01",
          "A*02:04",
          "A*02:02",
          "A*32:01",
          "A*33:03",
          "A*11:02",
          "A*02:03",
          "A*30:02",
          "A*74:01",
          "A*26:01",
          "A*02:06",
          "A*33:01",
          "A*30:01",
          "A*02:11",
          "A*66:01",
          "A*25:01",
          "A*03:02",
          "A*69:01",
          "A*02:12",
          "A*02:16",
          "A*02:19",
          "A*24:03",
          "A*80:01"
         ],
         "y": [
          15726,
          7651,
          4245,
          5073,
          6660,
          2662,
          4162,
          112,
          5593,
          2507,
          127,
          5745,
          9,
          4188,
          1134,
          18,
          14,
          6333,
          2355,
          9,
          4406,
          5678,
          3600,
          3234,
          1088,
          102,
          963,
          26,
          2575,
          1183,
          920,
          1245,
          1227,
          1167
         ]
        },
        {
         "line": {
          "color": "#D62728",
          "dash": "dot"
         },
         "marker": {
          "color": [
           "#D62728",
           "#D62728",
           "#D62728",
           "#D62728",
           "#D62728",
           "#D62728",
           "#D62728",
           "#D62728",
           "#D62728",
           "#D62728",
           "#D62728",
           "#D62728",
           "#D62728",
           "#D62728",
           "#D62728",
           "#D62728",
           "#D62728",
           "#D62728",
           "#D62728",
           "#D62728",
           "#D62728",
           "#D62728",
           "#D62728",
           "#D62728",
           "#D62728",
           "#D62728",
           "#D62728",
           "#D62728",
           "#D62728",
           "#D62728",
           "#D62728",
           "#D62728",
           "#D62728",
           "#D62728"
          ],
          "line": {
           "width": 2
          },
          "size": 9,
          "symbol": "circle-open"
         },
         "mode": "markers",
         "name": "MHCFlurry2.0_BA",
         "opacity": 1,
         "type": "scatter",
         "x": [
          "A*02:01",
          "A*03:01",
          "A*68:01",
          "A*01:01",
          "A*11:01",
          "A*29:02",
          "A*24:02",
          "A*02:07",
          "A*68:02",
          "A*23:01",
          "A*02:05",
          "A*31:01",
          "A*02:04",
          "A*02:02",
          "A*32:01",
          "A*33:03",
          "A*11:02",
          "A*02:03",
          "A*30:02",
          "A*74:01",
          "A*26:01",
          "A*02:06",
          "A*33:01",
          "A*30:01",
          "A*02:11",
          "A*66:01",
          "A*25:01",
          "A*03:02",
          "A*69:01",
          "A*02:12",
          "A*02:16",
          "A*02:19",
          "A*24:03",
          "A*80:01"
         ],
         "y": [
          15726,
          7651,
          4245,
          5073,
          6660,
          2662,
          4162,
          112,
          5593,
          2507,
          127,
          5745,
          9,
          4188,
          1134,
          18,
          14,
          6333,
          2355,
          9,
          4406,
          5678,
          3600,
          3234,
          1088,
          102,
          963,
          26,
          2575,
          1183,
          920,
          1245,
          1227,
          1167
         ]
        },
        {
         "line": {
          "color": "#D62728",
          "dash": "dot"
         },
         "marker": {
          "color": [
           "#D62728",
           "#D62728",
           "#D62728",
           "#D62728",
           "#D62728",
           "#D62728",
           "#D62728",
           "#D62728",
           "#D62728",
           "#D62728",
           "#D62728",
           "#D62728",
           "#D62728",
           "#D62728",
           "#D62728",
           "#D62728",
           "#D62728",
           "#D62728",
           "#D62728",
           "#D62728",
           "#D62728",
           "#D62728",
           "#D62728",
           "#D62728",
           "#D62728",
           "#D62728",
           "#D62728",
           "#D62728",
           "#D62728",
           "#D62728",
           "#D62728",
           "#D62728",
           "#D62728",
           "#D62728",
           "#D62728",
           "#D62728",
           "#D62728",
           "#D62728",
           "#D62728"
          ],
          "line": {
           "width": 1
          },
          "size": 0,
          "symbol": [
           "line-nw",
           "line-nw",
           "line-nw",
           "line-nw",
           "line-nw",
           "line-nw",
           "line-nw",
           "line-nw",
           "line-nw",
           "line-nw",
           "line-nw",
           "line-nw",
           "line-nw",
           "line-nw",
           "line-nw",
           "line-nw",
           "line-nw",
           "line-nw",
           "line-nw",
           "line-nw",
           "line-nw",
           "line-nw",
           "line-nw",
           "line-nw",
           "line-nw",
           "line-nw",
           "line-nw",
           "line-nw",
           "line-nw",
           "line-nw",
           "line-nw",
           "line-nw",
           "line-nw",
           "line-nw",
           "line-nw",
           "line-nw",
           "line-nw",
           "line-nw",
           "line-nw"
          ]
         },
         "mode": "lines",
         "name": "NetMHCpan4.1_BA",
         "opacity": 0.5,
         "type": "scatter",
         "x": [
          "A*02:01",
          "A*03:01",
          "A*68:01",
          "A*01:01",
          "A*11:01",
          "A*29:02",
          "A*24:02",
          "A*02:07",
          "A*68:02",
          "A*23:01",
          "A*34:02",
          "A*02:05",
          "A*31:01",
          "A*02:04",
          "A*02:02",
          "A*32:01",
          "A*33:03",
          "A*11:02",
          "A*02:03",
          "A*30:02",
          "A*74:01",
          "A*26:01",
          "A*36:01",
          "A*02:06",
          "A*33:01",
          "A*30:01",
          "A*34:01",
          "A*02:11",
          "A*66:01",
          "A*25:01",
          "A*24:07",
          "A*02:20",
          "A*03:02",
          "A*69:01",
          "A*02:12",
          "A*02:16",
          "A*02:19",
          "A*24:03",
          "A*80:01"
         ],
         "y": [
          12953,
          7581,
          3925,
          4983,
          6578,
          2888,
          3463,
          181,
          5680,
          2732,
          0,
          221,
          5806,
          105,
          4278,
          1231,
          0,
          114,
          6423,
          2205,
          115,
          4635,
          0,
          5751,
          3689,
          3026,
          0,
          1184,
          320,
          1060,
          0,
          0,
          126,
          2671,
          1282,
          1021,
          1346,
          1481,
          1273
         ]
        },
        {
         "line": {
          "color": "#D62728",
          "dash": "dot"
         },
         "marker": {
          "color": [
           "#D62728",
           "#D62728",
           "#D62728",
           "#D62728",
           "#D62728",
           "#D62728",
           "#D62728",
           "#D62728",
           "#D62728",
           "#D62728",
           "#D62728",
           "#D62728",
           "#D62728",
           "#D62728",
           "#D62728",
           "#D62728",
           "#D62728",
           "#D62728",
           "#D62728",
           "#D62728",
           "#D62728",
           "#D62728",
           "#D62728",
           "#D62728",
           "#D62728",
           "#D62728",
           "#D62728",
           "#D62728",
           "#D62728",
           "#D62728",
           "#D62728",
           "#D62728",
           "#D62728"
          ],
          "line": {
           "width": 2
          },
          "size": 9,
          "symbol": [
           "line-nw",
           "line-nw",
           "line-nw",
           "line-nw",
           "line-nw",
           "line-nw",
           "line-nw",
           "line-nw",
           "line-nw",
           "line-nw",
           "line-nw",
           "line-nw",
           "line-nw",
           "line-nw",
           "line-nw",
           "line-nw",
           "line-nw",
           "line-nw",
           "line-nw",
           "line-nw",
           "line-nw",
           "line-nw",
           "line-nw",
           "line-nw",
           "line-nw",
           "line-nw",
           "line-nw",
           "line-nw",
           "line-nw",
           "line-nw",
           "line-nw",
           "line-nw",
           "line-nw"
          ]
         },
         "mode": "markers",
         "name": "NetMHCpan4.1_BA",
         "opacity": 1,
         "type": "scatter",
         "x": [
          "A*02:01",
          "A*03:01",
          "A*68:01",
          "A*01:01",
          "A*11:01",
          "A*29:02",
          "A*24:02",
          "A*02:07",
          "A*68:02",
          "A*23:01",
          "A*02:05",
          "A*31:01",
          "A*02:04",
          "A*02:02",
          "A*32:01",
          "A*11:02",
          "A*02:03",
          "A*30:02",
          "A*74:01",
          "A*26:01",
          "A*02:06",
          "A*33:01",
          "A*30:01",
          "A*02:11",
          "A*66:01",
          "A*25:01",
          "A*03:02",
          "A*69:01",
          "A*02:12",
          "A*02:16",
          "A*02:19",
          "A*24:03",
          "A*80:01"
         ],
         "y": [
          12953,
          7581,
          3925,
          4983,
          6578,
          2888,
          3463,
          181,
          5680,
          2732,
          221,
          5806,
          105,
          4278,
          1231,
          114,
          6423,
          2205,
          115,
          4635,
          5751,
          3689,
          3026,
          1184,
          320,
          1060,
          126,
          2671,
          1282,
          1021,
          1346,
          1481,
          1273
         ]
        },
        {
         "line": {
          "color": "#D62728",
          "dash": "dot"
         },
         "marker": {
          "color": [
           "#D62728",
           "#D62728",
           "#D62728",
           "#D62728",
           "#D62728",
           "#D62728",
           "#D62728",
           "#D62728",
           "#D62728",
           "#D62728",
           "#D62728",
           "#D62728",
           "#D62728",
           "#D62728",
           "#D62728",
           "#D62728",
           "#D62728",
           "#D62728",
           "#D62728",
           "#D62728",
           "#D62728",
           "#D62728",
           "#D62728",
           "#D62728",
           "#D62728",
           "#D62728",
           "#D62728",
           "#D62728",
           "#D62728",
           "#D62728",
           "#D62728",
           "#D62728",
           "#D62728"
          ],
          "line": {
           "width": 2
          },
          "size": 9,
          "symbol": "circle-open"
         },
         "mode": "markers",
         "name": "NetMHCpan4.1_BA",
         "opacity": 1,
         "type": "scatter",
         "x": [
          "A*02:01",
          "A*03:01",
          "A*68:01",
          "A*01:01",
          "A*11:01",
          "A*29:02",
          "A*24:02",
          "A*02:07",
          "A*68:02",
          "A*23:01",
          "A*02:05",
          "A*31:01",
          "A*02:04",
          "A*02:02",
          "A*32:01",
          "A*11:02",
          "A*02:03",
          "A*30:02",
          "A*74:01",
          "A*26:01",
          "A*02:06",
          "A*33:01",
          "A*30:01",
          "A*02:11",
          "A*66:01",
          "A*25:01",
          "A*03:02",
          "A*69:01",
          "A*02:12",
          "A*02:16",
          "A*02:19",
          "A*24:03",
          "A*80:01"
         ],
         "y": [
          12953,
          7581,
          3925,
          4983,
          6578,
          2888,
          3463,
          181,
          5680,
          2732,
          221,
          5806,
          105,
          4278,
          1231,
          114,
          6423,
          2205,
          115,
          4635,
          5751,
          3689,
          3026,
          1184,
          320,
          1060,
          126,
          2671,
          1282,
          1021,
          1346,
          1481,
          1273
         ]
        }
       ],
       "layout": {
        "height": 400,
        "showlegend": true,
        "template": {
         "data": {
          "bar": [
           {
            "error_x": {
             "color": "#2a3f5f"
            },
            "error_y": {
             "color": "#2a3f5f"
            },
            "marker": {
             "line": {
              "color": "#E5ECF6",
              "width": 0.5
             },
             "pattern": {
              "fillmode": "overlay",
              "size": 10,
              "solidity": 0.2
             }
            },
            "type": "bar"
           }
          ],
          "barpolar": [
           {
            "marker": {
             "line": {
              "color": "#E5ECF6",
              "width": 0.5
             },
             "pattern": {
              "fillmode": "overlay",
              "size": 10,
              "solidity": 0.2
             }
            },
            "type": "barpolar"
           }
          ],
          "carpet": [
           {
            "aaxis": {
             "endlinecolor": "#2a3f5f",
             "gridcolor": "white",
             "linecolor": "white",
             "minorgridcolor": "white",
             "startlinecolor": "#2a3f5f"
            },
            "baxis": {
             "endlinecolor": "#2a3f5f",
             "gridcolor": "white",
             "linecolor": "white",
             "minorgridcolor": "white",
             "startlinecolor": "#2a3f5f"
            },
            "type": "carpet"
           }
          ],
          "choropleth": [
           {
            "colorbar": {
             "outlinewidth": 0,
             "ticks": ""
            },
            "type": "choropleth"
           }
          ],
          "contour": [
           {
            "colorbar": {
             "outlinewidth": 0,
             "ticks": ""
            },
            "colorscale": [
             [
              0,
              "#0d0887"
             ],
             [
              0.1111111111111111,
              "#46039f"
             ],
             [
              0.2222222222222222,
              "#7201a8"
             ],
             [
              0.3333333333333333,
              "#9c179e"
             ],
             [
              0.4444444444444444,
              "#bd3786"
             ],
             [
              0.5555555555555556,
              "#d8576b"
             ],
             [
              0.6666666666666666,
              "#ed7953"
             ],
             [
              0.7777777777777778,
              "#fb9f3a"
             ],
             [
              0.8888888888888888,
              "#fdca26"
             ],
             [
              1,
              "#f0f921"
             ]
            ],
            "type": "contour"
           }
          ],
          "contourcarpet": [
           {
            "colorbar": {
             "outlinewidth": 0,
             "ticks": ""
            },
            "type": "contourcarpet"
           }
          ],
          "heatmap": [
           {
            "colorbar": {
             "outlinewidth": 0,
             "ticks": ""
            },
            "colorscale": [
             [
              0,
              "#0d0887"
             ],
             [
              0.1111111111111111,
              "#46039f"
             ],
             [
              0.2222222222222222,
              "#7201a8"
             ],
             [
              0.3333333333333333,
              "#9c179e"
             ],
             [
              0.4444444444444444,
              "#bd3786"
             ],
             [
              0.5555555555555556,
              "#d8576b"
             ],
             [
              0.6666666666666666,
              "#ed7953"
             ],
             [
              0.7777777777777778,
              "#fb9f3a"
             ],
             [
              0.8888888888888888,
              "#fdca26"
             ],
             [
              1,
              "#f0f921"
             ]
            ],
            "type": "heatmap"
           }
          ],
          "heatmapgl": [
           {
            "colorbar": {
             "outlinewidth": 0,
             "ticks": ""
            },
            "colorscale": [
             [
              0,
              "#0d0887"
             ],
             [
              0.1111111111111111,
              "#46039f"
             ],
             [
              0.2222222222222222,
              "#7201a8"
             ],
             [
              0.3333333333333333,
              "#9c179e"
             ],
             [
              0.4444444444444444,
              "#bd3786"
             ],
             [
              0.5555555555555556,
              "#d8576b"
             ],
             [
              0.6666666666666666,
              "#ed7953"
             ],
             [
              0.7777777777777778,
              "#fb9f3a"
             ],
             [
              0.8888888888888888,
              "#fdca26"
             ],
             [
              1,
              "#f0f921"
             ]
            ],
            "type": "heatmapgl"
           }
          ],
          "histogram": [
           {
            "marker": {
             "pattern": {
              "fillmode": "overlay",
              "size": 10,
              "solidity": 0.2
             }
            },
            "type": "histogram"
           }
          ],
          "histogram2d": [
           {
            "colorbar": {
             "outlinewidth": 0,
             "ticks": ""
            },
            "colorscale": [
             [
              0,
              "#0d0887"
             ],
             [
              0.1111111111111111,
              "#46039f"
             ],
             [
              0.2222222222222222,
              "#7201a8"
             ],
             [
              0.3333333333333333,
              "#9c179e"
             ],
             [
              0.4444444444444444,
              "#bd3786"
             ],
             [
              0.5555555555555556,
              "#d8576b"
             ],
             [
              0.6666666666666666,
              "#ed7953"
             ],
             [
              0.7777777777777778,
              "#fb9f3a"
             ],
             [
              0.8888888888888888,
              "#fdca26"
             ],
             [
              1,
              "#f0f921"
             ]
            ],
            "type": "histogram2d"
           }
          ],
          "histogram2dcontour": [
           {
            "colorbar": {
             "outlinewidth": 0,
             "ticks": ""
            },
            "colorscale": [
             [
              0,
              "#0d0887"
             ],
             [
              0.1111111111111111,
              "#46039f"
             ],
             [
              0.2222222222222222,
              "#7201a8"
             ],
             [
              0.3333333333333333,
              "#9c179e"
             ],
             [
              0.4444444444444444,
              "#bd3786"
             ],
             [
              0.5555555555555556,
              "#d8576b"
             ],
             [
              0.6666666666666666,
              "#ed7953"
             ],
             [
              0.7777777777777778,
              "#fb9f3a"
             ],
             [
              0.8888888888888888,
              "#fdca26"
             ],
             [
              1,
              "#f0f921"
             ]
            ],
            "type": "histogram2dcontour"
           }
          ],
          "mesh3d": [
           {
            "colorbar": {
             "outlinewidth": 0,
             "ticks": ""
            },
            "type": "mesh3d"
           }
          ],
          "parcoords": [
           {
            "line": {
             "colorbar": {
              "outlinewidth": 0,
              "ticks": ""
             }
            },
            "type": "parcoords"
           }
          ],
          "pie": [
           {
            "automargin": true,
            "type": "pie"
           }
          ],
          "scatter": [
           {
            "fillpattern": {
             "fillmode": "overlay",
             "size": 10,
             "solidity": 0.2
            },
            "type": "scatter"
           }
          ],
          "scatter3d": [
           {
            "line": {
             "colorbar": {
              "outlinewidth": 0,
              "ticks": ""
             }
            },
            "marker": {
             "colorbar": {
              "outlinewidth": 0,
              "ticks": ""
             }
            },
            "type": "scatter3d"
           }
          ],
          "scattercarpet": [
           {
            "marker": {
             "colorbar": {
              "outlinewidth": 0,
              "ticks": ""
             }
            },
            "type": "scattercarpet"
           }
          ],
          "scattergeo": [
           {
            "marker": {
             "colorbar": {
              "outlinewidth": 0,
              "ticks": ""
             }
            },
            "type": "scattergeo"
           }
          ],
          "scattergl": [
           {
            "marker": {
             "colorbar": {
              "outlinewidth": 0,
              "ticks": ""
             }
            },
            "type": "scattergl"
           }
          ],
          "scattermapbox": [
           {
            "marker": {
             "colorbar": {
              "outlinewidth": 0,
              "ticks": ""
             }
            },
            "type": "scattermapbox"
           }
          ],
          "scatterpolar": [
           {
            "marker": {
             "colorbar": {
              "outlinewidth": 0,
              "ticks": ""
             }
            },
            "type": "scatterpolar"
           }
          ],
          "scatterpolargl": [
           {
            "marker": {
             "colorbar": {
              "outlinewidth": 0,
              "ticks": ""
             }
            },
            "type": "scatterpolargl"
           }
          ],
          "scatterternary": [
           {
            "marker": {
             "colorbar": {
              "outlinewidth": 0,
              "ticks": ""
             }
            },
            "type": "scatterternary"
           }
          ],
          "surface": [
           {
            "colorbar": {
             "outlinewidth": 0,
             "ticks": ""
            },
            "colorscale": [
             [
              0,
              "#0d0887"
             ],
             [
              0.1111111111111111,
              "#46039f"
             ],
             [
              0.2222222222222222,
              "#7201a8"
             ],
             [
              0.3333333333333333,
              "#9c179e"
             ],
             [
              0.4444444444444444,
              "#bd3786"
             ],
             [
              0.5555555555555556,
              "#d8576b"
             ],
             [
              0.6666666666666666,
              "#ed7953"
             ],
             [
              0.7777777777777778,
              "#fb9f3a"
             ],
             [
              0.8888888888888888,
              "#fdca26"
             ],
             [
              1,
              "#f0f921"
             ]
            ],
            "type": "surface"
           }
          ],
          "table": [
           {
            "cells": {
             "fill": {
              "color": "#EBF0F8"
             },
             "line": {
              "color": "white"
             }
            },
            "header": {
             "fill": {
              "color": "#C8D4E3"
             },
             "line": {
              "color": "white"
             }
            },
            "type": "table"
           }
          ]
         },
         "layout": {
          "annotationdefaults": {
           "arrowcolor": "#2a3f5f",
           "arrowhead": 0,
           "arrowwidth": 1
          },
          "autotypenumbers": "strict",
          "coloraxis": {
           "colorbar": {
            "outlinewidth": 0,
            "ticks": ""
           }
          },
          "colorscale": {
           "diverging": [
            [
             0,
             "#8e0152"
            ],
            [
             0.1,
             "#c51b7d"
            ],
            [
             0.2,
             "#de77ae"
            ],
            [
             0.3,
             "#f1b6da"
            ],
            [
             0.4,
             "#fde0ef"
            ],
            [
             0.5,
             "#f7f7f7"
            ],
            [
             0.6,
             "#e6f5d0"
            ],
            [
             0.7,
             "#b8e186"
            ],
            [
             0.8,
             "#7fbc41"
            ],
            [
             0.9,
             "#4d9221"
            ],
            [
             1,
             "#276419"
            ]
           ],
           "sequential": [
            [
             0,
             "#0d0887"
            ],
            [
             0.1111111111111111,
             "#46039f"
            ],
            [
             0.2222222222222222,
             "#7201a8"
            ],
            [
             0.3333333333333333,
             "#9c179e"
            ],
            [
             0.4444444444444444,
             "#bd3786"
            ],
            [
             0.5555555555555556,
             "#d8576b"
            ],
            [
             0.6666666666666666,
             "#ed7953"
            ],
            [
             0.7777777777777778,
             "#fb9f3a"
            ],
            [
             0.8888888888888888,
             "#fdca26"
            ],
            [
             1,
             "#f0f921"
            ]
           ],
           "sequentialminus": [
            [
             0,
             "#0d0887"
            ],
            [
             0.1111111111111111,
             "#46039f"
            ],
            [
             0.2222222222222222,
             "#7201a8"
            ],
            [
             0.3333333333333333,
             "#9c179e"
            ],
            [
             0.4444444444444444,
             "#bd3786"
            ],
            [
             0.5555555555555556,
             "#d8576b"
            ],
            [
             0.6666666666666666,
             "#ed7953"
            ],
            [
             0.7777777777777778,
             "#fb9f3a"
            ],
            [
             0.8888888888888888,
             "#fdca26"
            ],
            [
             1,
             "#f0f921"
            ]
           ]
          },
          "colorway": [
           "#636efa",
           "#EF553B",
           "#00cc96",
           "#ab63fa",
           "#FFA15A",
           "#19d3f3",
           "#FF6692",
           "#B6E880",
           "#FF97FF",
           "#FECB52"
          ],
          "font": {
           "color": "#2a3f5f"
          },
          "geo": {
           "bgcolor": "white",
           "lakecolor": "white",
           "landcolor": "#E5ECF6",
           "showlakes": true,
           "showland": true,
           "subunitcolor": "white"
          },
          "hoverlabel": {
           "align": "left"
          },
          "hovermode": "closest",
          "mapbox": {
           "style": "light"
          },
          "paper_bgcolor": "white",
          "plot_bgcolor": "#E5ECF6",
          "polar": {
           "angularaxis": {
            "gridcolor": "white",
            "linecolor": "white",
            "ticks": ""
           },
           "bgcolor": "#E5ECF6",
           "radialaxis": {
            "gridcolor": "white",
            "linecolor": "white",
            "ticks": ""
           }
          },
          "scene": {
           "xaxis": {
            "backgroundcolor": "#E5ECF6",
            "gridcolor": "white",
            "gridwidth": 2,
            "linecolor": "white",
            "showbackground": true,
            "ticks": "",
            "zerolinecolor": "white"
           },
           "yaxis": {
            "backgroundcolor": "#E5ECF6",
            "gridcolor": "white",
            "gridwidth": 2,
            "linecolor": "white",
            "showbackground": true,
            "ticks": "",
            "zerolinecolor": "white"
           },
           "zaxis": {
            "backgroundcolor": "#E5ECF6",
            "gridcolor": "white",
            "gridwidth": 2,
            "linecolor": "white",
            "showbackground": true,
            "ticks": "",
            "zerolinecolor": "white"
           }
          },
          "shapedefaults": {
           "line": {
            "color": "#2a3f5f"
           }
          },
          "ternary": {
           "aaxis": {
            "gridcolor": "white",
            "linecolor": "white",
            "ticks": ""
           },
           "baxis": {
            "gridcolor": "white",
            "linecolor": "white",
            "ticks": ""
           },
           "bgcolor": "#E5ECF6",
           "caxis": {
            "gridcolor": "white",
            "linecolor": "white",
            "ticks": ""
           }
          },
          "title": {
           "x": 0.05
          },
          "xaxis": {
           "automargin": true,
           "gridcolor": "white",
           "linecolor": "white",
           "ticks": "",
           "title": {
            "standoff": 15
           },
           "zerolinecolor": "white",
           "zerolinewidth": 2
          },
          "yaxis": {
           "automargin": true,
           "gridcolor": "white",
           "linecolor": "white",
           "ticks": "",
           "title": {
            "standoff": 15
           },
           "zerolinecolor": "white",
           "zerolinewidth": 2
          }
         }
        },
        "width": 1200,
        "xaxis": {
         "dtick": 1.2,
         "tick0": 0,
         "tickangle": 45
        },
        "yaxis": {
         "range": [
          -1000,
          25000
         ],
         "title": {
          "text": "#number of peptides"
         }
        }
       }
      },
      "text/html": [
       "<div>                            <div id=\"e81cdebb-77dd-4f57-aa76-575c816cac22\" class=\"plotly-graph-div\" style=\"height:400px; width:1200px;\"></div>            <script type=\"text/javascript\">                require([\"plotly\"], function(Plotly) {                    window.PLOTLYENV=window.PLOTLYENV || {};                                    if (document.getElementById(\"e81cdebb-77dd-4f57-aa76-575c816cac22\")) {                    Plotly.newPlot(                        \"e81cdebb-77dd-4f57-aa76-575c816cac22\",                        [{\"line\":{\"color\":\"#1F77B4\",\"dash\":\"dot\"},\"marker\":{\"color\":[\"#1F77B4\",\"#1F77B4\",\"#1F77B4\",\"#1F77B4\",\"#1F77B4\",\"#1F77B4\",\"#1F77B4\",\"#1F77B4\",\"#1F77B4\",\"#1F77B4\",\"#1F77B4\",\"#1F77B4\",\"#1F77B4\",\"#1F77B4\",\"#1F77B4\",\"#1F77B4\",\"#1F77B4\",\"#1F77B4\",\"#1F77B4\",\"#1F77B4\",\"#1F77B4\",\"#1F77B4\",\"#1F77B4\",\"#1F77B4\",\"#1F77B4\",\"#1F77B4\",\"#1F77B4\",\"#1F77B4\",\"#1F77B4\",\"#1F77B4\",\"#1F77B4\",\"#1F77B4\",\"#1F77B4\",\"#1F77B4\",\"#1F77B4\",\"#1F77B4\",\"#1F77B4\",\"#1F77B4\",\"#1F77B4\"],\"line\":{\"width\":1},\"size\":0,\"symbol\":[\"line-ns\",\"line-ns\",\"line-ns\",\"line-ns\",\"line-ns\",\"line-ns\",\"line-ns\",\"line-ns\",\"line-ns\",\"line-ns\",\"line-ns\",\"line-ns\",\"line-ns\",\"line-ns\",\"line-ns\",\"line-ns\",\"line-ns\",\"line-ns\",\"line-ns\",\"line-ns\",\"line-ns\",\"line-ns\",\"line-ns\",\"line-ns\",\"line-ns\",\"line-ns\",\"line-ns\",\"line-ns\",\"line-ns\",\"line-ns\",\"line-ns\",\"line-ns\",\"line-ns\",\"line-ns\",\"line-ns\",\"line-ns\",\"line-ns\",\"line-ns\",\"line-ns\"]},\"mode\":\"lines\",\"name\":\"MHCFlurry2.0_MS\",\"opacity\":0.5,\"x\":[\"A*02:01\",\"A*03:01\",\"A*68:01\",\"A*01:01\",\"A*11:01\",\"A*29:02\",\"A*24:02\",\"A*02:07\",\"A*68:02\",\"A*23:01\",\"A*34:02\",\"A*02:05\",\"A*31:01\",\"A*02:04\",\"A*02:02\",\"A*32:01\",\"A*33:03\",\"A*11:02\",\"A*02:03\",\"A*30:02\",\"A*74:01\",\"A*26:01\",\"A*36:01\",\"A*02:06\",\"A*33:01\",\"A*30:01\",\"A*34:01\",\"A*02:11\",\"A*66:01\",\"A*25:01\",\"A*24:07\",\"A*02:20\",\"A*03:02\",\"A*69:01\",\"A*02:12\",\"A*02:16\",\"A*02:19\",\"A*24:03\",\"A*80:01\"],\"y\":[21445,15227,10643,9608,8137,7865,7671,4726,3859,3749,3724,3639,3616,3515,3425,3204,3043,2882,2826,2793,2688,2663,2614,2498,2497,2458,2360,2202,2197,2105,1454,946,17,0,0,0,0,0,0],\"type\":\"scatter\"},{\"line\":{\"color\":\"#1F77B4\",\"dash\":\"dot\"},\"marker\":{\"color\":[\"#1F77B4\",\"#1F77B4\",\"#1F77B4\",\"#1F77B4\",\"#1F77B4\",\"#1F77B4\",\"#1F77B4\",\"#1F77B4\",\"#1F77B4\",\"#1F77B4\",\"#1F77B4\",\"#1F77B4\",\"#1F77B4\",\"#1F77B4\",\"#1F77B4\",\"#1F77B4\",\"#1F77B4\",\"#1F77B4\",\"#1F77B4\",\"#1F77B4\",\"#1F77B4\",\"#1F77B4\",\"#1F77B4\",\"#1F77B4\",\"#1F77B4\",\"#1F77B4\",\"#1F77B4\",\"#1F77B4\",\"#1F77B4\",\"#1F77B4\",\"#1F77B4\",\"#1F77B4\",\"#1F77B4\"],\"line\":{\"width\":2},\"size\":9,\"symbol\":[\"line-ns\",\"line-ns\",\"line-ns\",\"line-ns\",\"line-ns\",\"line-ns\",\"line-ns\",\"line-ns\",\"line-ns\",\"line-ns\",\"line-ns\",\"line-ns\",\"line-ns\",\"line-ns\",\"line-ns\",\"line-ns\",\"line-ns\",\"line-ns\",\"line-ns\",\"line-ns\",\"line-ns\",\"line-ns\",\"line-ns\",\"line-ns\",\"line-ns\",\"line-ns\",\"line-ns\",\"line-ns\",\"line-ns\",\"line-ns\",\"line-ns\",\"line-ns\",\"line-ns\"]},\"mode\":\"markers\",\"name\":\"MHCFlurry2.0_MS\",\"opacity\":1,\"x\":[\"A*02:01\",\"A*03:01\",\"A*68:01\",\"A*01:01\",\"A*11:01\",\"A*29:02\",\"A*24:02\",\"A*02:07\",\"A*68:02\",\"A*23:01\",\"A*34:02\",\"A*02:05\",\"A*31:01\",\"A*02:04\",\"A*02:02\",\"A*32:01\",\"A*33:03\",\"A*11:02\",\"A*02:03\",\"A*30:02\",\"A*74:01\",\"A*26:01\",\"A*36:01\",\"A*02:06\",\"A*33:01\",\"A*30:01\",\"A*34:01\",\"A*02:11\",\"A*66:01\",\"A*25:01\",\"A*24:07\",\"A*02:20\",\"A*03:02\"],\"y\":[21445,15227,10643,9608,8137,7865,7671,4726,3859,3749,3724,3639,3616,3515,3425,3204,3043,2882,2826,2793,2688,2663,2614,2498,2497,2458,2360,2202,2197,2105,1454,946,17],\"type\":\"scatter\"},{\"line\":{\"color\":\"#1F77B4\",\"dash\":\"dot\"},\"marker\":{\"color\":[\"#1F77B4\",\"#1F77B4\",\"#1F77B4\",\"#1F77B4\",\"#1F77B4\",\"#1F77B4\",\"#1F77B4\",\"#1F77B4\",\"#1F77B4\",\"#1F77B4\",\"#1F77B4\",\"#1F77B4\",\"#1F77B4\",\"#1F77B4\",\"#1F77B4\",\"#1F77B4\",\"#1F77B4\",\"#1F77B4\",\"#1F77B4\",\"#1F77B4\",\"#1F77B4\",\"#1F77B4\",\"#1F77B4\",\"#1F77B4\",\"#1F77B4\",\"#1F77B4\",\"#1F77B4\",\"#1F77B4\",\"#1F77B4\",\"#1F77B4\",\"#1F77B4\",\"#1F77B4\",\"#1F77B4\"],\"line\":{\"width\":2},\"size\":9,\"symbol\":\"circle-open\"},\"mode\":\"markers\",\"name\":\"MHCFlurry2.0_MS\",\"opacity\":1,\"x\":[\"A*02:01\",\"A*03:01\",\"A*68:01\",\"A*01:01\",\"A*11:01\",\"A*29:02\",\"A*24:02\",\"A*02:07\",\"A*68:02\",\"A*23:01\",\"A*34:02\",\"A*02:05\",\"A*31:01\",\"A*02:04\",\"A*02:02\",\"A*32:01\",\"A*33:03\",\"A*11:02\",\"A*02:03\",\"A*30:02\",\"A*74:01\",\"A*26:01\",\"A*36:01\",\"A*02:06\",\"A*33:01\",\"A*30:01\",\"A*34:01\",\"A*02:11\",\"A*66:01\",\"A*25:01\",\"A*24:07\",\"A*02:20\",\"A*03:02\"],\"y\":[21445,15227,10643,9608,8137,7865,7671,4726,3859,3749,3724,3639,3616,3515,3425,3204,3043,2882,2826,2793,2688,2663,2614,2498,2497,2458,2360,2202,2197,2105,1454,946,17],\"type\":\"scatter\"},{\"line\":{\"color\":\"#1F77B4\",\"dash\":\"dot\"},\"marker\":{\"color\":[\"#1F77B4\",\"#1F77B4\",\"#1F77B4\",\"#1F77B4\",\"#1F77B4\",\"#1F77B4\",\"#1F77B4\",\"#1F77B4\",\"#1F77B4\",\"#1F77B4\",\"#1F77B4\",\"#1F77B4\",\"#1F77B4\",\"#1F77B4\",\"#1F77B4\",\"#1F77B4\",\"#1F77B4\",\"#1F77B4\",\"#1F77B4\",\"#1F77B4\",\"#1F77B4\",\"#1F77B4\",\"#1F77B4\",\"#1F77B4\",\"#1F77B4\",\"#1F77B4\",\"#1F77B4\",\"#1F77B4\",\"#1F77B4\",\"#1F77B4\",\"#1F77B4\",\"#1F77B4\",\"#1F77B4\",\"#1F77B4\",\"#1F77B4\",\"#1F77B4\",\"#1F77B4\",\"#1F77B4\",\"#1F77B4\"],\"line\":{\"width\":1},\"size\":0,\"symbol\":[\"line-ew\",\"line-ew\",\"line-ew\",\"line-ew\",\"line-ew\",\"line-ew\",\"line-ew\",\"line-ew\",\"line-ew\",\"line-ew\",\"line-ew\",\"line-ew\",\"line-ew\",\"line-ew\",\"line-ew\",\"line-ew\",\"line-ew\",\"line-ew\",\"line-ew\",\"line-ew\",\"line-ew\",\"line-ew\",\"line-ew\",\"line-ew\",\"line-ew\",\"line-ew\",\"line-ew\",\"line-ew\",\"line-ew\",\"line-ew\",\"line-ew\",\"line-ew\",\"line-ew\",\"line-ew\",\"line-ew\",\"line-ew\",\"line-ew\",\"line-ew\",\"line-ew\"]},\"mode\":\"lines\",\"name\":\"NetMHCpan4.1_MS\",\"opacity\":0.5,\"x\":[\"A*02:01\",\"A*03:01\",\"A*68:01\",\"A*01:01\",\"A*11:01\",\"A*29:02\",\"A*24:02\",\"A*02:07\",\"A*68:02\",\"A*23:01\",\"A*34:02\",\"A*02:05\",\"A*31:01\",\"A*02:04\",\"A*02:02\",\"A*32:01\",\"A*33:03\",\"A*11:02\",\"A*02:03\",\"A*30:02\",\"A*74:01\",\"A*26:01\",\"A*36:01\",\"A*02:06\",\"A*33:01\",\"A*30:01\",\"A*34:01\",\"A*02:11\",\"A*66:01\",\"A*25:01\",\"A*24:07\",\"A*02:20\",\"A*03:02\",\"A*69:01\",\"A*02:12\",\"A*02:16\",\"A*02:19\",\"A*24:03\",\"A*80:01\"],\"y\":[19992,15804,11168,10576,4709,7610,7724,4040,2582,1864,0,1807,3617,3155,0,982,140,0,2068,175,0,1751,0,446,315,1216,0,0,44,1551,0,1026,1118,2,0,0,0,0,0],\"type\":\"scatter\"},{\"line\":{\"color\":\"#1F77B4\",\"dash\":\"dot\"},\"marker\":{\"color\":[\"#1F77B4\",\"#1F77B4\",\"#1F77B4\",\"#1F77B4\",\"#1F77B4\",\"#1F77B4\",\"#1F77B4\",\"#1F77B4\",\"#1F77B4\",\"#1F77B4\",\"#1F77B4\",\"#1F77B4\",\"#1F77B4\",\"#1F77B4\",\"#1F77B4\",\"#1F77B4\",\"#1F77B4\",\"#1F77B4\",\"#1F77B4\",\"#1F77B4\",\"#1F77B4\",\"#1F77B4\",\"#1F77B4\",\"#1F77B4\",\"#1F77B4\",\"#1F77B4\"],\"line\":{\"width\":2},\"size\":9,\"symbol\":[\"line-ew\",\"line-ew\",\"line-ew\",\"line-ew\",\"line-ew\",\"line-ew\",\"line-ew\",\"line-ew\",\"line-ew\",\"line-ew\",\"line-ew\",\"line-ew\",\"line-ew\",\"line-ew\",\"line-ew\",\"line-ew\",\"line-ew\",\"line-ew\",\"line-ew\",\"line-ew\",\"line-ew\",\"line-ew\",\"line-ew\",\"line-ew\",\"line-ew\",\"line-ew\"]},\"mode\":\"markers\",\"name\":\"NetMHCpan4.1_MS\",\"opacity\":1,\"x\":[\"A*02:01\",\"A*03:01\",\"A*68:01\",\"A*01:01\",\"A*11:01\",\"A*29:02\",\"A*24:02\",\"A*02:07\",\"A*68:02\",\"A*23:01\",\"A*02:05\",\"A*31:01\",\"A*02:04\",\"A*32:01\",\"A*33:03\",\"A*02:03\",\"A*30:02\",\"A*26:01\",\"A*02:06\",\"A*33:01\",\"A*30:01\",\"A*66:01\",\"A*25:01\",\"A*02:20\",\"A*03:02\",\"A*69:01\"],\"y\":[19992,15804,11168,10576,4709,7610,7724,4040,2582,1864,1807,3617,3155,982,140,2068,175,1751,446,315,1216,44,1551,1026,1118,2],\"type\":\"scatter\"},{\"line\":{\"color\":\"#1F77B4\",\"dash\":\"dot\"},\"marker\":{\"color\":[\"#1F77B4\",\"#1F77B4\",\"#1F77B4\",\"#1F77B4\",\"#1F77B4\",\"#1F77B4\",\"#1F77B4\",\"#1F77B4\",\"#1F77B4\",\"#1F77B4\",\"#1F77B4\",\"#1F77B4\",\"#1F77B4\",\"#1F77B4\",\"#1F77B4\",\"#1F77B4\",\"#1F77B4\",\"#1F77B4\",\"#1F77B4\",\"#1F77B4\",\"#1F77B4\",\"#1F77B4\",\"#1F77B4\",\"#1F77B4\",\"#1F77B4\",\"#1F77B4\"],\"line\":{\"width\":2},\"size\":9,\"symbol\":\"circle-open\"},\"mode\":\"markers\",\"name\":\"NetMHCpan4.1_MS\",\"opacity\":1,\"x\":[\"A*02:01\",\"A*03:01\",\"A*68:01\",\"A*01:01\",\"A*11:01\",\"A*29:02\",\"A*24:02\",\"A*02:07\",\"A*68:02\",\"A*23:01\",\"A*02:05\",\"A*31:01\",\"A*02:04\",\"A*32:01\",\"A*33:03\",\"A*02:03\",\"A*30:02\",\"A*26:01\",\"A*02:06\",\"A*33:01\",\"A*30:01\",\"A*66:01\",\"A*25:01\",\"A*02:20\",\"A*03:02\",\"A*69:01\"],\"y\":[19992,15804,11168,10576,4709,7610,7724,4040,2582,1864,1807,3617,3155,982,140,2068,175,1751,446,315,1216,44,1551,1026,1118,2],\"type\":\"scatter\"},{\"line\":{\"color\":\"#D62728\",\"dash\":\"dot\"},\"marker\":{\"color\":[\"#D62728\",\"#D62728\",\"#D62728\",\"#D62728\",\"#D62728\",\"#D62728\",\"#D62728\",\"#D62728\",\"#D62728\",\"#D62728\",\"#D62728\",\"#D62728\",\"#D62728\",\"#D62728\",\"#D62728\",\"#D62728\",\"#D62728\",\"#D62728\",\"#D62728\",\"#D62728\",\"#D62728\",\"#D62728\",\"#D62728\",\"#D62728\",\"#D62728\",\"#D62728\",\"#D62728\",\"#D62728\",\"#D62728\",\"#D62728\",\"#D62728\",\"#D62728\",\"#D62728\",\"#D62728\",\"#D62728\",\"#D62728\",\"#D62728\",\"#D62728\",\"#D62728\"],\"line\":{\"width\":1},\"size\":0,\"symbol\":[\"line-ne\",\"line-ne\",\"line-ne\",\"line-ne\",\"line-ne\",\"line-ne\",\"line-ne\",\"line-ne\",\"line-ne\",\"line-ne\",\"line-ne\",\"line-ne\",\"line-ne\",\"line-ne\",\"line-ne\",\"line-ne\",\"line-ne\",\"line-ne\",\"line-ne\",\"line-ne\",\"line-ne\",\"line-ne\",\"line-ne\",\"line-ne\",\"line-ne\",\"line-ne\",\"line-ne\",\"line-ne\",\"line-ne\",\"line-ne\",\"line-ne\",\"line-ne\",\"line-ne\",\"line-ne\",\"line-ne\",\"line-ne\",\"line-ne\",\"line-ne\",\"line-ne\"]},\"mode\":\"lines\",\"name\":\"MHCFlurry2.0_BA\",\"opacity\":0.5,\"x\":[\"A*02:01\",\"A*03:01\",\"A*68:01\",\"A*01:01\",\"A*11:01\",\"A*29:02\",\"A*24:02\",\"A*02:07\",\"A*68:02\",\"A*23:01\",\"A*34:02\",\"A*02:05\",\"A*31:01\",\"A*02:04\",\"A*02:02\",\"A*32:01\",\"A*33:03\",\"A*11:02\",\"A*02:03\",\"A*30:02\",\"A*74:01\",\"A*26:01\",\"A*36:01\",\"A*02:06\",\"A*33:01\",\"A*30:01\",\"A*34:01\",\"A*02:11\",\"A*66:01\",\"A*25:01\",\"A*24:07\",\"A*02:20\",\"A*03:02\",\"A*69:01\",\"A*02:12\",\"A*02:16\",\"A*02:19\",\"A*24:03\",\"A*80:01\"],\"y\":[15726,7651,4245,5073,6660,2662,4162,112,5593,2507,0,127,5745,9,4188,1134,18,14,6333,2355,9,4406,0,5678,3600,3234,0,1088,102,963,0,0,26,2575,1183,920,1245,1227,1167],\"type\":\"scatter\"},{\"line\":{\"color\":\"#D62728\",\"dash\":\"dot\"},\"marker\":{\"color\":[\"#D62728\",\"#D62728\",\"#D62728\",\"#D62728\",\"#D62728\",\"#D62728\",\"#D62728\",\"#D62728\",\"#D62728\",\"#D62728\",\"#D62728\",\"#D62728\",\"#D62728\",\"#D62728\",\"#D62728\",\"#D62728\",\"#D62728\",\"#D62728\",\"#D62728\",\"#D62728\",\"#D62728\",\"#D62728\",\"#D62728\",\"#D62728\",\"#D62728\",\"#D62728\",\"#D62728\",\"#D62728\",\"#D62728\",\"#D62728\",\"#D62728\",\"#D62728\",\"#D62728\",\"#D62728\"],\"line\":{\"width\":2},\"size\":9,\"symbol\":[\"line-ne\",\"line-ne\",\"line-ne\",\"line-ne\",\"line-ne\",\"line-ne\",\"line-ne\",\"line-ne\",\"line-ne\",\"line-ne\",\"line-ne\",\"line-ne\",\"line-ne\",\"line-ne\",\"line-ne\",\"line-ne\",\"line-ne\",\"line-ne\",\"line-ne\",\"line-ne\",\"line-ne\",\"line-ne\",\"line-ne\",\"line-ne\",\"line-ne\",\"line-ne\",\"line-ne\",\"line-ne\",\"line-ne\",\"line-ne\",\"line-ne\",\"line-ne\",\"line-ne\",\"line-ne\"]},\"mode\":\"markers\",\"name\":\"MHCFlurry2.0_BA\",\"opacity\":1,\"x\":[\"A*02:01\",\"A*03:01\",\"A*68:01\",\"A*01:01\",\"A*11:01\",\"A*29:02\",\"A*24:02\",\"A*02:07\",\"A*68:02\",\"A*23:01\",\"A*02:05\",\"A*31:01\",\"A*02:04\",\"A*02:02\",\"A*32:01\",\"A*33:03\",\"A*11:02\",\"A*02:03\",\"A*30:02\",\"A*74:01\",\"A*26:01\",\"A*02:06\",\"A*33:01\",\"A*30:01\",\"A*02:11\",\"A*66:01\",\"A*25:01\",\"A*03:02\",\"A*69:01\",\"A*02:12\",\"A*02:16\",\"A*02:19\",\"A*24:03\",\"A*80:01\"],\"y\":[15726,7651,4245,5073,6660,2662,4162,112,5593,2507,127,5745,9,4188,1134,18,14,6333,2355,9,4406,5678,3600,3234,1088,102,963,26,2575,1183,920,1245,1227,1167],\"type\":\"scatter\"},{\"line\":{\"color\":\"#D62728\",\"dash\":\"dot\"},\"marker\":{\"color\":[\"#D62728\",\"#D62728\",\"#D62728\",\"#D62728\",\"#D62728\",\"#D62728\",\"#D62728\",\"#D62728\",\"#D62728\",\"#D62728\",\"#D62728\",\"#D62728\",\"#D62728\",\"#D62728\",\"#D62728\",\"#D62728\",\"#D62728\",\"#D62728\",\"#D62728\",\"#D62728\",\"#D62728\",\"#D62728\",\"#D62728\",\"#D62728\",\"#D62728\",\"#D62728\",\"#D62728\",\"#D62728\",\"#D62728\",\"#D62728\",\"#D62728\",\"#D62728\",\"#D62728\",\"#D62728\"],\"line\":{\"width\":2},\"size\":9,\"symbol\":\"circle-open\"},\"mode\":\"markers\",\"name\":\"MHCFlurry2.0_BA\",\"opacity\":1,\"x\":[\"A*02:01\",\"A*03:01\",\"A*68:01\",\"A*01:01\",\"A*11:01\",\"A*29:02\",\"A*24:02\",\"A*02:07\",\"A*68:02\",\"A*23:01\",\"A*02:05\",\"A*31:01\",\"A*02:04\",\"A*02:02\",\"A*32:01\",\"A*33:03\",\"A*11:02\",\"A*02:03\",\"A*30:02\",\"A*74:01\",\"A*26:01\",\"A*02:06\",\"A*33:01\",\"A*30:01\",\"A*02:11\",\"A*66:01\",\"A*25:01\",\"A*03:02\",\"A*69:01\",\"A*02:12\",\"A*02:16\",\"A*02:19\",\"A*24:03\",\"A*80:01\"],\"y\":[15726,7651,4245,5073,6660,2662,4162,112,5593,2507,127,5745,9,4188,1134,18,14,6333,2355,9,4406,5678,3600,3234,1088,102,963,26,2575,1183,920,1245,1227,1167],\"type\":\"scatter\"},{\"line\":{\"color\":\"#D62728\",\"dash\":\"dot\"},\"marker\":{\"color\":[\"#D62728\",\"#D62728\",\"#D62728\",\"#D62728\",\"#D62728\",\"#D62728\",\"#D62728\",\"#D62728\",\"#D62728\",\"#D62728\",\"#D62728\",\"#D62728\",\"#D62728\",\"#D62728\",\"#D62728\",\"#D62728\",\"#D62728\",\"#D62728\",\"#D62728\",\"#D62728\",\"#D62728\",\"#D62728\",\"#D62728\",\"#D62728\",\"#D62728\",\"#D62728\",\"#D62728\",\"#D62728\",\"#D62728\",\"#D62728\",\"#D62728\",\"#D62728\",\"#D62728\",\"#D62728\",\"#D62728\",\"#D62728\",\"#D62728\",\"#D62728\",\"#D62728\"],\"line\":{\"width\":1},\"size\":0,\"symbol\":[\"line-nw\",\"line-nw\",\"line-nw\",\"line-nw\",\"line-nw\",\"line-nw\",\"line-nw\",\"line-nw\",\"line-nw\",\"line-nw\",\"line-nw\",\"line-nw\",\"line-nw\",\"line-nw\",\"line-nw\",\"line-nw\",\"line-nw\",\"line-nw\",\"line-nw\",\"line-nw\",\"line-nw\",\"line-nw\",\"line-nw\",\"line-nw\",\"line-nw\",\"line-nw\",\"line-nw\",\"line-nw\",\"line-nw\",\"line-nw\",\"line-nw\",\"line-nw\",\"line-nw\",\"line-nw\",\"line-nw\",\"line-nw\",\"line-nw\",\"line-nw\",\"line-nw\"]},\"mode\":\"lines\",\"name\":\"NetMHCpan4.1_BA\",\"opacity\":0.5,\"x\":[\"A*02:01\",\"A*03:01\",\"A*68:01\",\"A*01:01\",\"A*11:01\",\"A*29:02\",\"A*24:02\",\"A*02:07\",\"A*68:02\",\"A*23:01\",\"A*34:02\",\"A*02:05\",\"A*31:01\",\"A*02:04\",\"A*02:02\",\"A*32:01\",\"A*33:03\",\"A*11:02\",\"A*02:03\",\"A*30:02\",\"A*74:01\",\"A*26:01\",\"A*36:01\",\"A*02:06\",\"A*33:01\",\"A*30:01\",\"A*34:01\",\"A*02:11\",\"A*66:01\",\"A*25:01\",\"A*24:07\",\"A*02:20\",\"A*03:02\",\"A*69:01\",\"A*02:12\",\"A*02:16\",\"A*02:19\",\"A*24:03\",\"A*80:01\"],\"y\":[12953,7581,3925,4983,6578,2888,3463,181,5680,2732,0,221,5806,105,4278,1231,0,114,6423,2205,115,4635,0,5751,3689,3026,0,1184,320,1060,0,0,126,2671,1282,1021,1346,1481,1273],\"type\":\"scatter\"},{\"line\":{\"color\":\"#D62728\",\"dash\":\"dot\"},\"marker\":{\"color\":[\"#D62728\",\"#D62728\",\"#D62728\",\"#D62728\",\"#D62728\",\"#D62728\",\"#D62728\",\"#D62728\",\"#D62728\",\"#D62728\",\"#D62728\",\"#D62728\",\"#D62728\",\"#D62728\",\"#D62728\",\"#D62728\",\"#D62728\",\"#D62728\",\"#D62728\",\"#D62728\",\"#D62728\",\"#D62728\",\"#D62728\",\"#D62728\",\"#D62728\",\"#D62728\",\"#D62728\",\"#D62728\",\"#D62728\",\"#D62728\",\"#D62728\",\"#D62728\",\"#D62728\"],\"line\":{\"width\":2},\"size\":9,\"symbol\":[\"line-nw\",\"line-nw\",\"line-nw\",\"line-nw\",\"line-nw\",\"line-nw\",\"line-nw\",\"line-nw\",\"line-nw\",\"line-nw\",\"line-nw\",\"line-nw\",\"line-nw\",\"line-nw\",\"line-nw\",\"line-nw\",\"line-nw\",\"line-nw\",\"line-nw\",\"line-nw\",\"line-nw\",\"line-nw\",\"line-nw\",\"line-nw\",\"line-nw\",\"line-nw\",\"line-nw\",\"line-nw\",\"line-nw\",\"line-nw\",\"line-nw\",\"line-nw\",\"line-nw\"]},\"mode\":\"markers\",\"name\":\"NetMHCpan4.1_BA\",\"opacity\":1,\"x\":[\"A*02:01\",\"A*03:01\",\"A*68:01\",\"A*01:01\",\"A*11:01\",\"A*29:02\",\"A*24:02\",\"A*02:07\",\"A*68:02\",\"A*23:01\",\"A*02:05\",\"A*31:01\",\"A*02:04\",\"A*02:02\",\"A*32:01\",\"A*11:02\",\"A*02:03\",\"A*30:02\",\"A*74:01\",\"A*26:01\",\"A*02:06\",\"A*33:01\",\"A*30:01\",\"A*02:11\",\"A*66:01\",\"A*25:01\",\"A*03:02\",\"A*69:01\",\"A*02:12\",\"A*02:16\",\"A*02:19\",\"A*24:03\",\"A*80:01\"],\"y\":[12953,7581,3925,4983,6578,2888,3463,181,5680,2732,221,5806,105,4278,1231,114,6423,2205,115,4635,5751,3689,3026,1184,320,1060,126,2671,1282,1021,1346,1481,1273],\"type\":\"scatter\"},{\"line\":{\"color\":\"#D62728\",\"dash\":\"dot\"},\"marker\":{\"color\":[\"#D62728\",\"#D62728\",\"#D62728\",\"#D62728\",\"#D62728\",\"#D62728\",\"#D62728\",\"#D62728\",\"#D62728\",\"#D62728\",\"#D62728\",\"#D62728\",\"#D62728\",\"#D62728\",\"#D62728\",\"#D62728\",\"#D62728\",\"#D62728\",\"#D62728\",\"#D62728\",\"#D62728\",\"#D62728\",\"#D62728\",\"#D62728\",\"#D62728\",\"#D62728\",\"#D62728\",\"#D62728\",\"#D62728\",\"#D62728\",\"#D62728\",\"#D62728\",\"#D62728\"],\"line\":{\"width\":2},\"size\":9,\"symbol\":\"circle-open\"},\"mode\":\"markers\",\"name\":\"NetMHCpan4.1_BA\",\"opacity\":1,\"x\":[\"A*02:01\",\"A*03:01\",\"A*68:01\",\"A*01:01\",\"A*11:01\",\"A*29:02\",\"A*24:02\",\"A*02:07\",\"A*68:02\",\"A*23:01\",\"A*02:05\",\"A*31:01\",\"A*02:04\",\"A*02:02\",\"A*32:01\",\"A*11:02\",\"A*02:03\",\"A*30:02\",\"A*74:01\",\"A*26:01\",\"A*02:06\",\"A*33:01\",\"A*30:01\",\"A*02:11\",\"A*66:01\",\"A*25:01\",\"A*03:02\",\"A*69:01\",\"A*02:12\",\"A*02:16\",\"A*02:19\",\"A*24:03\",\"A*80:01\"],\"y\":[12953,7581,3925,4983,6578,2888,3463,181,5680,2732,221,5806,105,4278,1231,114,6423,2205,115,4635,5751,3689,3026,1184,320,1060,126,2671,1282,1021,1346,1481,1273],\"type\":\"scatter\"}],                        {\"template\":{\"data\":{\"histogram2dcontour\":[{\"type\":\"histogram2dcontour\",\"colorbar\":{\"outlinewidth\":0,\"ticks\":\"\"},\"colorscale\":[[0.0,\"#0d0887\"],[0.1111111111111111,\"#46039f\"],[0.2222222222222222,\"#7201a8\"],[0.3333333333333333,\"#9c179e\"],[0.4444444444444444,\"#bd3786\"],[0.5555555555555556,\"#d8576b\"],[0.6666666666666666,\"#ed7953\"],[0.7777777777777778,\"#fb9f3a\"],[0.8888888888888888,\"#fdca26\"],[1.0,\"#f0f921\"]]}],\"choropleth\":[{\"type\":\"choropleth\",\"colorbar\":{\"outlinewidth\":0,\"ticks\":\"\"}}],\"histogram2d\":[{\"type\":\"histogram2d\",\"colorbar\":{\"outlinewidth\":0,\"ticks\":\"\"},\"colorscale\":[[0.0,\"#0d0887\"],[0.1111111111111111,\"#46039f\"],[0.2222222222222222,\"#7201a8\"],[0.3333333333333333,\"#9c179e\"],[0.4444444444444444,\"#bd3786\"],[0.5555555555555556,\"#d8576b\"],[0.6666666666666666,\"#ed7953\"],[0.7777777777777778,\"#fb9f3a\"],[0.8888888888888888,\"#fdca26\"],[1.0,\"#f0f921\"]]}],\"heatmap\":[{\"type\":\"heatmap\",\"colorbar\":{\"outlinewidth\":0,\"ticks\":\"\"},\"colorscale\":[[0.0,\"#0d0887\"],[0.1111111111111111,\"#46039f\"],[0.2222222222222222,\"#7201a8\"],[0.3333333333333333,\"#9c179e\"],[0.4444444444444444,\"#bd3786\"],[0.5555555555555556,\"#d8576b\"],[0.6666666666666666,\"#ed7953\"],[0.7777777777777778,\"#fb9f3a\"],[0.8888888888888888,\"#fdca26\"],[1.0,\"#f0f921\"]]}],\"heatmapgl\":[{\"type\":\"heatmapgl\",\"colorbar\":{\"outlinewidth\":0,\"ticks\":\"\"},\"colorscale\":[[0.0,\"#0d0887\"],[0.1111111111111111,\"#46039f\"],[0.2222222222222222,\"#7201a8\"],[0.3333333333333333,\"#9c179e\"],[0.4444444444444444,\"#bd3786\"],[0.5555555555555556,\"#d8576b\"],[0.6666666666666666,\"#ed7953\"],[0.7777777777777778,\"#fb9f3a\"],[0.8888888888888888,\"#fdca26\"],[1.0,\"#f0f921\"]]}],\"contourcarpet\":[{\"type\":\"contourcarpet\",\"colorbar\":{\"outlinewidth\":0,\"ticks\":\"\"}}],\"contour\":[{\"type\":\"contour\",\"colorbar\":{\"outlinewidth\":0,\"ticks\":\"\"},\"colorscale\":[[0.0,\"#0d0887\"],[0.1111111111111111,\"#46039f\"],[0.2222222222222222,\"#7201a8\"],[0.3333333333333333,\"#9c179e\"],[0.4444444444444444,\"#bd3786\"],[0.5555555555555556,\"#d8576b\"],[0.6666666666666666,\"#ed7953\"],[0.7777777777777778,\"#fb9f3a\"],[0.8888888888888888,\"#fdca26\"],[1.0,\"#f0f921\"]]}],\"surface\":[{\"type\":\"surface\",\"colorbar\":{\"outlinewidth\":0,\"ticks\":\"\"},\"colorscale\":[[0.0,\"#0d0887\"],[0.1111111111111111,\"#46039f\"],[0.2222222222222222,\"#7201a8\"],[0.3333333333333333,\"#9c179e\"],[0.4444444444444444,\"#bd3786\"],[0.5555555555555556,\"#d8576b\"],[0.6666666666666666,\"#ed7953\"],[0.7777777777777778,\"#fb9f3a\"],[0.8888888888888888,\"#fdca26\"],[1.0,\"#f0f921\"]]}],\"mesh3d\":[{\"type\":\"mesh3d\",\"colorbar\":{\"outlinewidth\":0,\"ticks\":\"\"}}],\"scatter\":[{\"fillpattern\":{\"fillmode\":\"overlay\",\"size\":10,\"solidity\":0.2},\"type\":\"scatter\"}],\"parcoords\":[{\"type\":\"parcoords\",\"line\":{\"colorbar\":{\"outlinewidth\":0,\"ticks\":\"\"}}}],\"scatterpolargl\":[{\"type\":\"scatterpolargl\",\"marker\":{\"colorbar\":{\"outlinewidth\":0,\"ticks\":\"\"}}}],\"bar\":[{\"error_x\":{\"color\":\"#2a3f5f\"},\"error_y\":{\"color\":\"#2a3f5f\"},\"marker\":{\"line\":{\"color\":\"#E5ECF6\",\"width\":0.5},\"pattern\":{\"fillmode\":\"overlay\",\"size\":10,\"solidity\":0.2}},\"type\":\"bar\"}],\"scattergeo\":[{\"type\":\"scattergeo\",\"marker\":{\"colorbar\":{\"outlinewidth\":0,\"ticks\":\"\"}}}],\"scatterpolar\":[{\"type\":\"scatterpolar\",\"marker\":{\"colorbar\":{\"outlinewidth\":0,\"ticks\":\"\"}}}],\"histogram\":[{\"marker\":{\"pattern\":{\"fillmode\":\"overlay\",\"size\":10,\"solidity\":0.2}},\"type\":\"histogram\"}],\"scattergl\":[{\"type\":\"scattergl\",\"marker\":{\"colorbar\":{\"outlinewidth\":0,\"ticks\":\"\"}}}],\"scatter3d\":[{\"type\":\"scatter3d\",\"line\":{\"colorbar\":{\"outlinewidth\":0,\"ticks\":\"\"}},\"marker\":{\"colorbar\":{\"outlinewidth\":0,\"ticks\":\"\"}}}],\"scattermapbox\":[{\"type\":\"scattermapbox\",\"marker\":{\"colorbar\":{\"outlinewidth\":0,\"ticks\":\"\"}}}],\"scatterternary\":[{\"type\":\"scatterternary\",\"marker\":{\"colorbar\":{\"outlinewidth\":0,\"ticks\":\"\"}}}],\"scattercarpet\":[{\"type\":\"scattercarpet\",\"marker\":{\"colorbar\":{\"outlinewidth\":0,\"ticks\":\"\"}}}],\"carpet\":[{\"aaxis\":{\"endlinecolor\":\"#2a3f5f\",\"gridcolor\":\"white\",\"linecolor\":\"white\",\"minorgridcolor\":\"white\",\"startlinecolor\":\"#2a3f5f\"},\"baxis\":{\"endlinecolor\":\"#2a3f5f\",\"gridcolor\":\"white\",\"linecolor\":\"white\",\"minorgridcolor\":\"white\",\"startlinecolor\":\"#2a3f5f\"},\"type\":\"carpet\"}],\"table\":[{\"cells\":{\"fill\":{\"color\":\"#EBF0F8\"},\"line\":{\"color\":\"white\"}},\"header\":{\"fill\":{\"color\":\"#C8D4E3\"},\"line\":{\"color\":\"white\"}},\"type\":\"table\"}],\"barpolar\":[{\"marker\":{\"line\":{\"color\":\"#E5ECF6\",\"width\":0.5},\"pattern\":{\"fillmode\":\"overlay\",\"size\":10,\"solidity\":0.2}},\"type\":\"barpolar\"}],\"pie\":[{\"automargin\":true,\"type\":\"pie\"}]},\"layout\":{\"autotypenumbers\":\"strict\",\"colorway\":[\"#636efa\",\"#EF553B\",\"#00cc96\",\"#ab63fa\",\"#FFA15A\",\"#19d3f3\",\"#FF6692\",\"#B6E880\",\"#FF97FF\",\"#FECB52\"],\"font\":{\"color\":\"#2a3f5f\"},\"hovermode\":\"closest\",\"hoverlabel\":{\"align\":\"left\"},\"paper_bgcolor\":\"white\",\"plot_bgcolor\":\"#E5ECF6\",\"polar\":{\"bgcolor\":\"#E5ECF6\",\"angularaxis\":{\"gridcolor\":\"white\",\"linecolor\":\"white\",\"ticks\":\"\"},\"radialaxis\":{\"gridcolor\":\"white\",\"linecolor\":\"white\",\"ticks\":\"\"}},\"ternary\":{\"bgcolor\":\"#E5ECF6\",\"aaxis\":{\"gridcolor\":\"white\",\"linecolor\":\"white\",\"ticks\":\"\"},\"baxis\":{\"gridcolor\":\"white\",\"linecolor\":\"white\",\"ticks\":\"\"},\"caxis\":{\"gridcolor\":\"white\",\"linecolor\":\"white\",\"ticks\":\"\"}},\"coloraxis\":{\"colorbar\":{\"outlinewidth\":0,\"ticks\":\"\"}},\"colorscale\":{\"sequential\":[[0.0,\"#0d0887\"],[0.1111111111111111,\"#46039f\"],[0.2222222222222222,\"#7201a8\"],[0.3333333333333333,\"#9c179e\"],[0.4444444444444444,\"#bd3786\"],[0.5555555555555556,\"#d8576b\"],[0.6666666666666666,\"#ed7953\"],[0.7777777777777778,\"#fb9f3a\"],[0.8888888888888888,\"#fdca26\"],[1.0,\"#f0f921\"]],\"sequentialminus\":[[0.0,\"#0d0887\"],[0.1111111111111111,\"#46039f\"],[0.2222222222222222,\"#7201a8\"],[0.3333333333333333,\"#9c179e\"],[0.4444444444444444,\"#bd3786\"],[0.5555555555555556,\"#d8576b\"],[0.6666666666666666,\"#ed7953\"],[0.7777777777777778,\"#fb9f3a\"],[0.8888888888888888,\"#fdca26\"],[1.0,\"#f0f921\"]],\"diverging\":[[0,\"#8e0152\"],[0.1,\"#c51b7d\"],[0.2,\"#de77ae\"],[0.3,\"#f1b6da\"],[0.4,\"#fde0ef\"],[0.5,\"#f7f7f7\"],[0.6,\"#e6f5d0\"],[0.7,\"#b8e186\"],[0.8,\"#7fbc41\"],[0.9,\"#4d9221\"],[1,\"#276419\"]]},\"xaxis\":{\"gridcolor\":\"white\",\"linecolor\":\"white\",\"ticks\":\"\",\"title\":{\"standoff\":15},\"zerolinecolor\":\"white\",\"automargin\":true,\"zerolinewidth\":2},\"yaxis\":{\"gridcolor\":\"white\",\"linecolor\":\"white\",\"ticks\":\"\",\"title\":{\"standoff\":15},\"zerolinecolor\":\"white\",\"automargin\":true,\"zerolinewidth\":2},\"scene\":{\"xaxis\":{\"backgroundcolor\":\"#E5ECF6\",\"gridcolor\":\"white\",\"linecolor\":\"white\",\"showbackground\":true,\"ticks\":\"\",\"zerolinecolor\":\"white\",\"gridwidth\":2},\"yaxis\":{\"backgroundcolor\":\"#E5ECF6\",\"gridcolor\":\"white\",\"linecolor\":\"white\",\"showbackground\":true,\"ticks\":\"\",\"zerolinecolor\":\"white\",\"gridwidth\":2},\"zaxis\":{\"backgroundcolor\":\"#E5ECF6\",\"gridcolor\":\"white\",\"linecolor\":\"white\",\"showbackground\":true,\"ticks\":\"\",\"zerolinecolor\":\"white\",\"gridwidth\":2}},\"shapedefaults\":{\"line\":{\"color\":\"#2a3f5f\"}},\"annotationdefaults\":{\"arrowcolor\":\"#2a3f5f\",\"arrowhead\":0,\"arrowwidth\":1},\"geo\":{\"bgcolor\":\"white\",\"landcolor\":\"#E5ECF6\",\"subunitcolor\":\"white\",\"showland\":true,\"showlakes\":true,\"lakecolor\":\"white\"},\"title\":{\"x\":0.05},\"mapbox\":{\"style\":\"light\"}}},\"yaxis\":{\"range\":[-1000,25000],\"title\":{\"text\":\"#number of peptides\"}},\"xaxis\":{\"tickangle\":45,\"tick0\":0,\"dtick\":1.2},\"width\":1200,\"height\":400,\"showlegend\":true},                        {\"responsive\": true}                    ).then(function(){\n",
       "                            \n",
       "var gd = document.getElementById('e81cdebb-77dd-4f57-aa76-575c816cac22');\n",
       "var x = new MutationObserver(function (mutations, observer) {{\n",
       "        var display = window.getComputedStyle(gd).display;\n",
       "        if (!display || display === 'none') {{\n",
       "            console.log([gd, 'removed!']);\n",
       "            Plotly.purge(gd);\n",
       "            observer.disconnect();\n",
       "        }}\n",
       "}});\n",
       "\n",
       "// Listen for the removal of the full notebook cells\n",
       "var notebookContainer = gd.closest('#notebook-container');\n",
       "if (notebookContainer) {{\n",
       "    x.observe(notebookContainer, {childList: true});\n",
       "}}\n",
       "\n",
       "// Listen for the clearing of the current output cell\n",
       "var outputEl = gd.closest('.output');\n",
       "if (outputEl) {{\n",
       "    x.observe(outputEl, {childList: true});\n",
       "}}\n",
       "\n",
       "                        })                };                });            </script>        </div>"
      ]
     },
     "metadata": {},
     "output_type": "display_data"
    }
   ],
   "source": [
    "fig = plot(all_alleles_all_datasets, \"A\")\n",
    "\n",
    "fig.update_layout(width=1200, yaxis_title=\"#number of peptides\", showlegend=True)"
   ]
  },
  {
   "cell_type": "markdown",
   "id": "055cd874",
   "metadata": {},
   "source": [
    "## Dataset contents locus B"
   ]
  },
  {
   "cell_type": "code",
   "execution_count": 31,
   "id": "aaa5d482",
   "metadata": {},
   "outputs": [
    {
     "data": {
      "application/vnd.plotly.v1+json": {
       "config": {
        "plotlyServerURL": "https://plot.ly"
       },
       "data": [
        {
         "line": {
          "color": "#1F77B4",
          "dash": "dot"
         },
         "marker": {
          "color": [
           "#1F77B4",
           "#1F77B4",
           "#1F77B4",
           "#1F77B4",
           "#1F77B4",
           "#1F77B4",
           "#1F77B4",
           "#1F77B4",
           "#1F77B4",
           "#1F77B4",
           "#1F77B4",
           "#1F77B4",
           "#1F77B4",
           "#1F77B4",
           "#1F77B4",
           "#1F77B4",
           "#1F77B4",
           "#1F77B4",
           "#1F77B4",
           "#1F77B4",
           "#1F77B4",
           "#1F77B4",
           "#1F77B4",
           "#1F77B4",
           "#1F77B4",
           "#1F77B4",
           "#1F77B4",
           "#1F77B4",
           "#1F77B4",
           "#1F77B4",
           "#1F77B4",
           "#1F77B4",
           "#1F77B4",
           "#1F77B4",
           "#1F77B4",
           "#1F77B4",
           "#1F77B4",
           "#1F77B4",
           "#1F77B4",
           "#1F77B4",
           "#1F77B4",
           "#1F77B4",
           "#1F77B4",
           "#1F77B4",
           "#1F77B4",
           "#1F77B4",
           "#1F77B4",
           "#1F77B4",
           "#1F77B4",
           "#1F77B4",
           "#1F77B4",
           "#1F77B4"
          ],
          "line": {
           "width": 1
          },
          "size": 0,
          "symbol": [
           "line-ns",
           "line-ns",
           "line-ns",
           "line-ns",
           "line-ns",
           "line-ns",
           "line-ns",
           "line-ns",
           "line-ns",
           "line-ns",
           "line-ns",
           "line-ns",
           "line-ns",
           "line-ns",
           "line-ns",
           "line-ns",
           "line-ns",
           "line-ns",
           "line-ns",
           "line-ns",
           "line-ns",
           "line-ns",
           "line-ns",
           "line-ns",
           "line-ns",
           "line-ns",
           "line-ns",
           "line-ns",
           "line-ns",
           "line-ns",
           "line-ns",
           "line-ns",
           "line-ns",
           "line-ns",
           "line-ns",
           "line-ns",
           "line-ns",
           "line-ns",
           "line-ns",
           "line-ns",
           "line-ns",
           "line-ns",
           "line-ns",
           "line-ns",
           "line-ns",
           "line-ns",
           "line-ns",
           "line-ns",
           "line-ns",
           "line-ns",
           "line-ns",
           "line-ns"
          ]
         },
         "mode": "lines",
         "name": "MHCFlurry2.0_MS",
         "opacity": 0.5,
         "type": "scatter",
         "x": [
          "B*27:05",
          "B*57:01",
          "B*07:02",
          "B*40:02",
          "B*15:01",
          "B*44:02",
          "B*44:03",
          "B*08:01",
          "B*40:01",
          "B*57:03",
          "B*27:09",
          "B*51:01",
          "B*58:01",
          "B*35:01",
          "B*38:01",
          "B*18:01",
          "B*35:03",
          "B*13:01",
          "B*49:01",
          "B*13:02",
          "B*15:03",
          "B*27:01",
          "B*42:01",
          "B*15:02",
          "B*45:01",
          "B*27:02",
          "B*39:01",
          "B*38:02",
          "B*39:06",
          "B*46:01",
          "B*40:06",
          "B*56:01",
          "B*53:01",
          "B*27:08",
          "B*27:07",
          "B*35:07",
          "B*50:01",
          "B*37:01",
          "B*52:01",
          "B*15:17",
          "B*55:01",
          "B*15:10",
          "B*14:02",
          "B*55:02",
          "B*54:01",
          "B*07:04",
          "B*27:04",
          "B*27:06",
          "B*58:02",
          "B*15:186",
          "B*27:03",
          "B*08:02"
         ],
         "y": [
          52482,
          20116,
          16973,
          15094,
          11470,
          8580,
          8313,
          8252,
          6807,
          6415,
          5626,
          5301,
          5233,
          5072,
          4879,
          4347,
          4248,
          4140,
          4093,
          3970,
          3931,
          3864,
          3477,
          3469,
          3435,
          3262,
          3260,
          3071,
          3042,
          2661,
          2416,
          2346,
          2215,
          2121,
          2101,
          1947,
          1925,
          1921,
          1867,
          1831,
          1793,
          1782,
          1721,
          1571,
          1516,
          1489,
          1293,
          1223,
          1084,
          1071,
          1018,
          0
         ]
        },
        {
         "line": {
          "color": "#1F77B4",
          "dash": "dot"
         },
         "marker": {
          "color": [
           "#1F77B4",
           "#1F77B4",
           "#1F77B4",
           "#1F77B4",
           "#1F77B4",
           "#1F77B4",
           "#1F77B4",
           "#1F77B4",
           "#1F77B4",
           "#1F77B4",
           "#1F77B4",
           "#1F77B4",
           "#1F77B4",
           "#1F77B4",
           "#1F77B4",
           "#1F77B4",
           "#1F77B4",
           "#1F77B4",
           "#1F77B4",
           "#1F77B4",
           "#1F77B4",
           "#1F77B4",
           "#1F77B4",
           "#1F77B4",
           "#1F77B4",
           "#1F77B4",
           "#1F77B4",
           "#1F77B4",
           "#1F77B4",
           "#1F77B4",
           "#1F77B4",
           "#1F77B4",
           "#1F77B4",
           "#1F77B4",
           "#1F77B4",
           "#1F77B4",
           "#1F77B4",
           "#1F77B4",
           "#1F77B4",
           "#1F77B4",
           "#1F77B4",
           "#1F77B4",
           "#1F77B4",
           "#1F77B4",
           "#1F77B4",
           "#1F77B4",
           "#1F77B4",
           "#1F77B4",
           "#1F77B4",
           "#1F77B4",
           "#1F77B4"
          ],
          "line": {
           "width": 2
          },
          "size": 9,
          "symbol": [
           "line-ns",
           "line-ns",
           "line-ns",
           "line-ns",
           "line-ns",
           "line-ns",
           "line-ns",
           "line-ns",
           "line-ns",
           "line-ns",
           "line-ns",
           "line-ns",
           "line-ns",
           "line-ns",
           "line-ns",
           "line-ns",
           "line-ns",
           "line-ns",
           "line-ns",
           "line-ns",
           "line-ns",
           "line-ns",
           "line-ns",
           "line-ns",
           "line-ns",
           "line-ns",
           "line-ns",
           "line-ns",
           "line-ns",
           "line-ns",
           "line-ns",
           "line-ns",
           "line-ns",
           "line-ns",
           "line-ns",
           "line-ns",
           "line-ns",
           "line-ns",
           "line-ns",
           "line-ns",
           "line-ns",
           "line-ns",
           "line-ns",
           "line-ns",
           "line-ns",
           "line-ns",
           "line-ns",
           "line-ns",
           "line-ns",
           "line-ns",
           "line-ns"
          ]
         },
         "mode": "markers",
         "name": "MHCFlurry2.0_MS",
         "opacity": 1,
         "type": "scatter",
         "x": [
          "B*27:05",
          "B*57:01",
          "B*07:02",
          "B*40:02",
          "B*15:01",
          "B*44:02",
          "B*44:03",
          "B*08:01",
          "B*40:01",
          "B*57:03",
          "B*27:09",
          "B*51:01",
          "B*58:01",
          "B*35:01",
          "B*38:01",
          "B*18:01",
          "B*35:03",
          "B*13:01",
          "B*49:01",
          "B*13:02",
          "B*15:03",
          "B*27:01",
          "B*42:01",
          "B*15:02",
          "B*45:01",
          "B*27:02",
          "B*39:01",
          "B*38:02",
          "B*39:06",
          "B*46:01",
          "B*40:06",
          "B*56:01",
          "B*53:01",
          "B*27:08",
          "B*27:07",
          "B*35:07",
          "B*50:01",
          "B*37:01",
          "B*52:01",
          "B*15:17",
          "B*55:01",
          "B*15:10",
          "B*14:02",
          "B*55:02",
          "B*54:01",
          "B*07:04",
          "B*27:04",
          "B*27:06",
          "B*58:02",
          "B*15:186",
          "B*27:03"
         ],
         "y": [
          52482,
          20116,
          16973,
          15094,
          11470,
          8580,
          8313,
          8252,
          6807,
          6415,
          5626,
          5301,
          5233,
          5072,
          4879,
          4347,
          4248,
          4140,
          4093,
          3970,
          3931,
          3864,
          3477,
          3469,
          3435,
          3262,
          3260,
          3071,
          3042,
          2661,
          2416,
          2346,
          2215,
          2121,
          2101,
          1947,
          1925,
          1921,
          1867,
          1831,
          1793,
          1782,
          1721,
          1571,
          1516,
          1489,
          1293,
          1223,
          1084,
          1071,
          1018
         ]
        },
        {
         "line": {
          "color": "#1F77B4",
          "dash": "dot"
         },
         "marker": {
          "color": [
           "#1F77B4",
           "#1F77B4",
           "#1F77B4",
           "#1F77B4",
           "#1F77B4",
           "#1F77B4",
           "#1F77B4",
           "#1F77B4",
           "#1F77B4",
           "#1F77B4",
           "#1F77B4",
           "#1F77B4",
           "#1F77B4",
           "#1F77B4",
           "#1F77B4",
           "#1F77B4",
           "#1F77B4",
           "#1F77B4",
           "#1F77B4",
           "#1F77B4",
           "#1F77B4",
           "#1F77B4",
           "#1F77B4",
           "#1F77B4",
           "#1F77B4",
           "#1F77B4",
           "#1F77B4",
           "#1F77B4",
           "#1F77B4",
           "#1F77B4",
           "#1F77B4",
           "#1F77B4",
           "#1F77B4",
           "#1F77B4",
           "#1F77B4",
           "#1F77B4",
           "#1F77B4",
           "#1F77B4",
           "#1F77B4",
           "#1F77B4",
           "#1F77B4",
           "#1F77B4",
           "#1F77B4",
           "#1F77B4",
           "#1F77B4",
           "#1F77B4",
           "#1F77B4",
           "#1F77B4",
           "#1F77B4",
           "#1F77B4",
           "#1F77B4"
          ],
          "line": {
           "width": 2
          },
          "size": 9,
          "symbol": "circle-open"
         },
         "mode": "markers",
         "name": "MHCFlurry2.0_MS",
         "opacity": 1,
         "type": "scatter",
         "x": [
          "B*27:05",
          "B*57:01",
          "B*07:02",
          "B*40:02",
          "B*15:01",
          "B*44:02",
          "B*44:03",
          "B*08:01",
          "B*40:01",
          "B*57:03",
          "B*27:09",
          "B*51:01",
          "B*58:01",
          "B*35:01",
          "B*38:01",
          "B*18:01",
          "B*35:03",
          "B*13:01",
          "B*49:01",
          "B*13:02",
          "B*15:03",
          "B*27:01",
          "B*42:01",
          "B*15:02",
          "B*45:01",
          "B*27:02",
          "B*39:01",
          "B*38:02",
          "B*39:06",
          "B*46:01",
          "B*40:06",
          "B*56:01",
          "B*53:01",
          "B*27:08",
          "B*27:07",
          "B*35:07",
          "B*50:01",
          "B*37:01",
          "B*52:01",
          "B*15:17",
          "B*55:01",
          "B*15:10",
          "B*14:02",
          "B*55:02",
          "B*54:01",
          "B*07:04",
          "B*27:04",
          "B*27:06",
          "B*58:02",
          "B*15:186",
          "B*27:03"
         ],
         "y": [
          52482,
          20116,
          16973,
          15094,
          11470,
          8580,
          8313,
          8252,
          6807,
          6415,
          5626,
          5301,
          5233,
          5072,
          4879,
          4347,
          4248,
          4140,
          4093,
          3970,
          3931,
          3864,
          3477,
          3469,
          3435,
          3262,
          3260,
          3071,
          3042,
          2661,
          2416,
          2346,
          2215,
          2121,
          2101,
          1947,
          1925,
          1921,
          1867,
          1831,
          1793,
          1782,
          1721,
          1571,
          1516,
          1489,
          1293,
          1223,
          1084,
          1071,
          1018
         ]
        },
        {
         "line": {
          "color": "#1F77B4",
          "dash": "dot"
         },
         "marker": {
          "color": [
           "#1F77B4",
           "#1F77B4",
           "#1F77B4",
           "#1F77B4",
           "#1F77B4",
           "#1F77B4",
           "#1F77B4",
           "#1F77B4",
           "#1F77B4",
           "#1F77B4",
           "#1F77B4",
           "#1F77B4",
           "#1F77B4",
           "#1F77B4",
           "#1F77B4",
           "#1F77B4",
           "#1F77B4",
           "#1F77B4",
           "#1F77B4",
           "#1F77B4",
           "#1F77B4",
           "#1F77B4",
           "#1F77B4",
           "#1F77B4",
           "#1F77B4",
           "#1F77B4",
           "#1F77B4",
           "#1F77B4",
           "#1F77B4",
           "#1F77B4",
           "#1F77B4",
           "#1F77B4",
           "#1F77B4",
           "#1F77B4",
           "#1F77B4",
           "#1F77B4",
           "#1F77B4",
           "#1F77B4",
           "#1F77B4",
           "#1F77B4",
           "#1F77B4",
           "#1F77B4",
           "#1F77B4",
           "#1F77B4",
           "#1F77B4",
           "#1F77B4",
           "#1F77B4",
           "#1F77B4",
           "#1F77B4",
           "#1F77B4",
           "#1F77B4",
           "#1F77B4"
          ],
          "line": {
           "width": 1
          },
          "size": 0,
          "symbol": [
           "line-ew",
           "line-ew",
           "line-ew",
           "line-ew",
           "line-ew",
           "line-ew",
           "line-ew",
           "line-ew",
           "line-ew",
           "line-ew",
           "line-ew",
           "line-ew",
           "line-ew",
           "line-ew",
           "line-ew",
           "line-ew",
           "line-ew",
           "line-ew",
           "line-ew",
           "line-ew",
           "line-ew",
           "line-ew",
           "line-ew",
           "line-ew",
           "line-ew",
           "line-ew",
           "line-ew",
           "line-ew",
           "line-ew",
           "line-ew",
           "line-ew",
           "line-ew",
           "line-ew",
           "line-ew",
           "line-ew",
           "line-ew",
           "line-ew",
           "line-ew",
           "line-ew",
           "line-ew",
           "line-ew",
           "line-ew",
           "line-ew",
           "line-ew",
           "line-ew",
           "line-ew",
           "line-ew",
           "line-ew",
           "line-ew",
           "line-ew",
           "line-ew",
           "line-ew"
          ]
         },
         "mode": "lines",
         "name": "NetMHCpan4.1_MS",
         "opacity": 0.5,
         "type": "scatter",
         "x": [
          "B*27:05",
          "B*57:01",
          "B*07:02",
          "B*40:02",
          "B*15:01",
          "B*44:02",
          "B*44:03",
          "B*08:01",
          "B*40:01",
          "B*57:03",
          "B*27:09",
          "B*51:01",
          "B*58:01",
          "B*35:01",
          "B*38:01",
          "B*18:01",
          "B*35:03",
          "B*13:01",
          "B*49:01",
          "B*13:02",
          "B*15:03",
          "B*27:01",
          "B*42:01",
          "B*15:02",
          "B*45:01",
          "B*27:02",
          "B*39:01",
          "B*38:02",
          "B*39:06",
          "B*46:01",
          "B*40:06",
          "B*56:01",
          "B*53:01",
          "B*27:08",
          "B*27:07",
          "B*35:07",
          "B*50:01",
          "B*37:01",
          "B*52:01",
          "B*15:17",
          "B*55:01",
          "B*15:10",
          "B*14:02",
          "B*55:02",
          "B*54:01",
          "B*07:04",
          "B*27:04",
          "B*27:06",
          "B*58:02",
          "B*15:186",
          "B*27:03",
          "B*08:02"
         ],
         "y": [
          9697,
          17896,
          16232,
          8015,
          11569,
          9204,
          8825,
          8378,
          5253,
          4804,
          4794,
          4284,
          3916,
          7323,
          4401,
          4649,
          4257,
          74,
          996,
          2086,
          1834,
          3887,
          10,
          2893,
          2094,
          3342,
          3063,
          0,
          3670,
          1918,
          0,
          921,
          0,
          2162,
          2146,
          0,
          1870,
          583,
          77,
          13,
          535,
          484,
          614,
          5,
          1092,
          0,
          2483,
          1233,
          7,
          0,
          1028,
          0
         ]
        },
        {
         "line": {
          "color": "#1F77B4",
          "dash": "dot"
         },
         "marker": {
          "color": [
           "#1F77B4",
           "#1F77B4",
           "#1F77B4",
           "#1F77B4",
           "#1F77B4",
           "#1F77B4",
           "#1F77B4",
           "#1F77B4",
           "#1F77B4",
           "#1F77B4",
           "#1F77B4",
           "#1F77B4",
           "#1F77B4",
           "#1F77B4",
           "#1F77B4",
           "#1F77B4",
           "#1F77B4",
           "#1F77B4",
           "#1F77B4",
           "#1F77B4",
           "#1F77B4",
           "#1F77B4",
           "#1F77B4",
           "#1F77B4",
           "#1F77B4",
           "#1F77B4",
           "#1F77B4",
           "#1F77B4",
           "#1F77B4",
           "#1F77B4",
           "#1F77B4",
           "#1F77B4",
           "#1F77B4",
           "#1F77B4",
           "#1F77B4",
           "#1F77B4",
           "#1F77B4",
           "#1F77B4",
           "#1F77B4",
           "#1F77B4",
           "#1F77B4",
           "#1F77B4",
           "#1F77B4",
           "#1F77B4",
           "#1F77B4"
          ],
          "line": {
           "width": 2
          },
          "size": 9,
          "symbol": [
           "line-ew",
           "line-ew",
           "line-ew",
           "line-ew",
           "line-ew",
           "line-ew",
           "line-ew",
           "line-ew",
           "line-ew",
           "line-ew",
           "line-ew",
           "line-ew",
           "line-ew",
           "line-ew",
           "line-ew",
           "line-ew",
           "line-ew",
           "line-ew",
           "line-ew",
           "line-ew",
           "line-ew",
           "line-ew",
           "line-ew",
           "line-ew",
           "line-ew",
           "line-ew",
           "line-ew",
           "line-ew",
           "line-ew",
           "line-ew",
           "line-ew",
           "line-ew",
           "line-ew",
           "line-ew",
           "line-ew",
           "line-ew",
           "line-ew",
           "line-ew",
           "line-ew",
           "line-ew",
           "line-ew",
           "line-ew",
           "line-ew",
           "line-ew",
           "line-ew"
          ]
         },
         "mode": "markers",
         "name": "NetMHCpan4.1_MS",
         "opacity": 1,
         "type": "scatter",
         "x": [
          "B*27:05",
          "B*57:01",
          "B*07:02",
          "B*40:02",
          "B*15:01",
          "B*44:02",
          "B*44:03",
          "B*08:01",
          "B*40:01",
          "B*57:03",
          "B*27:09",
          "B*51:01",
          "B*58:01",
          "B*35:01",
          "B*38:01",
          "B*18:01",
          "B*35:03",
          "B*13:01",
          "B*49:01",
          "B*13:02",
          "B*15:03",
          "B*27:01",
          "B*42:01",
          "B*15:02",
          "B*45:01",
          "B*27:02",
          "B*39:01",
          "B*39:06",
          "B*46:01",
          "B*56:01",
          "B*27:08",
          "B*27:07",
          "B*50:01",
          "B*37:01",
          "B*52:01",
          "B*15:17",
          "B*55:01",
          "B*15:10",
          "B*14:02",
          "B*55:02",
          "B*54:01",
          "B*27:04",
          "B*27:06",
          "B*58:02",
          "B*27:03"
         ],
         "y": [
          9697,
          17896,
          16232,
          8015,
          11569,
          9204,
          8825,
          8378,
          5253,
          4804,
          4794,
          4284,
          3916,
          7323,
          4401,
          4649,
          4257,
          74,
          996,
          2086,
          1834,
          3887,
          10,
          2893,
          2094,
          3342,
          3063,
          3670,
          1918,
          921,
          2162,
          2146,
          1870,
          583,
          77,
          13,
          535,
          484,
          614,
          5,
          1092,
          2483,
          1233,
          7,
          1028
         ]
        },
        {
         "line": {
          "color": "#1F77B4",
          "dash": "dot"
         },
         "marker": {
          "color": [
           "#1F77B4",
           "#1F77B4",
           "#1F77B4",
           "#1F77B4",
           "#1F77B4",
           "#1F77B4",
           "#1F77B4",
           "#1F77B4",
           "#1F77B4",
           "#1F77B4",
           "#1F77B4",
           "#1F77B4",
           "#1F77B4",
           "#1F77B4",
           "#1F77B4",
           "#1F77B4",
           "#1F77B4",
           "#1F77B4",
           "#1F77B4",
           "#1F77B4",
           "#1F77B4",
           "#1F77B4",
           "#1F77B4",
           "#1F77B4",
           "#1F77B4",
           "#1F77B4",
           "#1F77B4",
           "#1F77B4",
           "#1F77B4",
           "#1F77B4",
           "#1F77B4",
           "#1F77B4",
           "#1F77B4",
           "#1F77B4",
           "#1F77B4",
           "#1F77B4",
           "#1F77B4",
           "#1F77B4",
           "#1F77B4",
           "#1F77B4",
           "#1F77B4",
           "#1F77B4",
           "#1F77B4",
           "#1F77B4",
           "#1F77B4"
          ],
          "line": {
           "width": 2
          },
          "size": 9,
          "symbol": "circle-open"
         },
         "mode": "markers",
         "name": "NetMHCpan4.1_MS",
         "opacity": 1,
         "type": "scatter",
         "x": [
          "B*27:05",
          "B*57:01",
          "B*07:02",
          "B*40:02",
          "B*15:01",
          "B*44:02",
          "B*44:03",
          "B*08:01",
          "B*40:01",
          "B*57:03",
          "B*27:09",
          "B*51:01",
          "B*58:01",
          "B*35:01",
          "B*38:01",
          "B*18:01",
          "B*35:03",
          "B*13:01",
          "B*49:01",
          "B*13:02",
          "B*15:03",
          "B*27:01",
          "B*42:01",
          "B*15:02",
          "B*45:01",
          "B*27:02",
          "B*39:01",
          "B*39:06",
          "B*46:01",
          "B*56:01",
          "B*27:08",
          "B*27:07",
          "B*50:01",
          "B*37:01",
          "B*52:01",
          "B*15:17",
          "B*55:01",
          "B*15:10",
          "B*14:02",
          "B*55:02",
          "B*54:01",
          "B*27:04",
          "B*27:06",
          "B*58:02",
          "B*27:03"
         ],
         "y": [
          9697,
          17896,
          16232,
          8015,
          11569,
          9204,
          8825,
          8378,
          5253,
          4804,
          4794,
          4284,
          3916,
          7323,
          4401,
          4649,
          4257,
          74,
          996,
          2086,
          1834,
          3887,
          10,
          2893,
          2094,
          3342,
          3063,
          3670,
          1918,
          921,
          2162,
          2146,
          1870,
          583,
          77,
          13,
          535,
          484,
          614,
          5,
          1092,
          2483,
          1233,
          7,
          1028
         ]
        },
        {
         "line": {
          "color": "#D62728",
          "dash": "dot"
         },
         "marker": {
          "color": [
           "#D62728",
           "#D62728",
           "#D62728",
           "#D62728",
           "#D62728",
           "#D62728",
           "#D62728",
           "#D62728",
           "#D62728",
           "#D62728",
           "#D62728",
           "#D62728",
           "#D62728",
           "#D62728",
           "#D62728",
           "#D62728",
           "#D62728",
           "#D62728",
           "#D62728",
           "#D62728",
           "#D62728",
           "#D62728",
           "#D62728",
           "#D62728",
           "#D62728",
           "#D62728",
           "#D62728",
           "#D62728",
           "#D62728",
           "#D62728",
           "#D62728",
           "#D62728",
           "#D62728",
           "#D62728",
           "#D62728",
           "#D62728",
           "#D62728",
           "#D62728",
           "#D62728",
           "#D62728",
           "#D62728",
           "#D62728",
           "#D62728",
           "#D62728",
           "#D62728",
           "#D62728",
           "#D62728",
           "#D62728",
           "#D62728",
           "#D62728",
           "#D62728",
           "#D62728"
          ],
          "line": {
           "width": 1
          },
          "size": 0,
          "symbol": [
           "line-ne",
           "line-ne",
           "line-ne",
           "line-ne",
           "line-ne",
           "line-ne",
           "line-ne",
           "line-ne",
           "line-ne",
           "line-ne",
           "line-ne",
           "line-ne",
           "line-ne",
           "line-ne",
           "line-ne",
           "line-ne",
           "line-ne",
           "line-ne",
           "line-ne",
           "line-ne",
           "line-ne",
           "line-ne",
           "line-ne",
           "line-ne",
           "line-ne",
           "line-ne",
           "line-ne",
           "line-ne",
           "line-ne",
           "line-ne",
           "line-ne",
           "line-ne",
           "line-ne",
           "line-ne",
           "line-ne",
           "line-ne",
           "line-ne",
           "line-ne",
           "line-ne",
           "line-ne",
           "line-ne",
           "line-ne",
           "line-ne",
           "line-ne",
           "line-ne",
           "line-ne",
           "line-ne",
           "line-ne",
           "line-ne",
           "line-ne",
           "line-ne",
           "line-ne"
          ]
         },
         "mode": "lines",
         "name": "MHCFlurry2.0_BA",
         "opacity": 0.5,
         "type": "scatter",
         "x": [
          "B*27:05",
          "B*57:01",
          "B*07:02",
          "B*40:02",
          "B*15:01",
          "B*44:02",
          "B*44:03",
          "B*08:01",
          "B*40:01",
          "B*57:03",
          "B*27:09",
          "B*51:01",
          "B*58:01",
          "B*35:01",
          "B*38:01",
          "B*18:01",
          "B*35:03",
          "B*13:01",
          "B*49:01",
          "B*13:02",
          "B*15:03",
          "B*27:01",
          "B*42:01",
          "B*15:02",
          "B*45:01",
          "B*27:02",
          "B*39:01",
          "B*38:02",
          "B*39:06",
          "B*46:01",
          "B*40:06",
          "B*56:01",
          "B*53:01",
          "B*27:08",
          "B*27:07",
          "B*35:07",
          "B*50:01",
          "B*37:01",
          "B*52:01",
          "B*15:17",
          "B*55:01",
          "B*15:10",
          "B*14:02",
          "B*55:02",
          "B*54:01",
          "B*07:04",
          "B*27:04",
          "B*27:06",
          "B*58:02",
          "B*15:186",
          "B*27:03",
          "B*08:02"
         ],
         "y": [
          3734,
          2886,
          5341,
          1084,
          4429,
          2234,
          1487,
          3545,
          3375,
          34,
          44,
          2885,
          3746,
          3578,
          531,
          2720,
          287,
          0,
          0,
          1,
          699,
          62,
          211,
          188,
          1079,
          83,
          1656,
          0,
          33,
          1830,
          0,
          3,
          1779,
          0,
          0,
          0,
          0,
          68,
          33,
          1452,
          3,
          21,
          215,
          28,
          1214,
          0,
          85,
          82,
          55,
          0,
          907,
          1019
         ]
        },
        {
         "line": {
          "color": "#D62728",
          "dash": "dot"
         },
         "marker": {
          "color": [
           "#D62728",
           "#D62728",
           "#D62728",
           "#D62728",
           "#D62728",
           "#D62728",
           "#D62728",
           "#D62728",
           "#D62728",
           "#D62728",
           "#D62728",
           "#D62728",
           "#D62728",
           "#D62728",
           "#D62728",
           "#D62728",
           "#D62728",
           "#D62728",
           "#D62728",
           "#D62728",
           "#D62728",
           "#D62728",
           "#D62728",
           "#D62728",
           "#D62728",
           "#D62728",
           "#D62728",
           "#D62728",
           "#D62728",
           "#D62728",
           "#D62728",
           "#D62728",
           "#D62728",
           "#D62728",
           "#D62728",
           "#D62728",
           "#D62728",
           "#D62728",
           "#D62728",
           "#D62728",
           "#D62728",
           "#D62728"
          ],
          "line": {
           "width": 2
          },
          "size": 9,
          "symbol": [
           "line-ne",
           "line-ne",
           "line-ne",
           "line-ne",
           "line-ne",
           "line-ne",
           "line-ne",
           "line-ne",
           "line-ne",
           "line-ne",
           "line-ne",
           "line-ne",
           "line-ne",
           "line-ne",
           "line-ne",
           "line-ne",
           "line-ne",
           "line-ne",
           "line-ne",
           "line-ne",
           "line-ne",
           "line-ne",
           "line-ne",
           "line-ne",
           "line-ne",
           "line-ne",
           "line-ne",
           "line-ne",
           "line-ne",
           "line-ne",
           "line-ne",
           "line-ne",
           "line-ne",
           "line-ne",
           "line-ne",
           "line-ne",
           "line-ne",
           "line-ne",
           "line-ne",
           "line-ne",
           "line-ne",
           "line-ne"
          ]
         },
         "mode": "markers",
         "name": "MHCFlurry2.0_BA",
         "opacity": 1,
         "type": "scatter",
         "x": [
          "B*27:05",
          "B*57:01",
          "B*07:02",
          "B*40:02",
          "B*15:01",
          "B*44:02",
          "B*44:03",
          "B*08:01",
          "B*40:01",
          "B*57:03",
          "B*27:09",
          "B*51:01",
          "B*58:01",
          "B*35:01",
          "B*38:01",
          "B*18:01",
          "B*35:03",
          "B*13:02",
          "B*15:03",
          "B*27:01",
          "B*42:01",
          "B*15:02",
          "B*45:01",
          "B*27:02",
          "B*39:01",
          "B*39:06",
          "B*46:01",
          "B*56:01",
          "B*53:01",
          "B*37:01",
          "B*52:01",
          "B*15:17",
          "B*55:01",
          "B*15:10",
          "B*14:02",
          "B*55:02",
          "B*54:01",
          "B*27:04",
          "B*27:06",
          "B*58:02",
          "B*27:03",
          "B*08:02"
         ],
         "y": [
          3734,
          2886,
          5341,
          1084,
          4429,
          2234,
          1487,
          3545,
          3375,
          34,
          44,
          2885,
          3746,
          3578,
          531,
          2720,
          287,
          1,
          699,
          62,
          211,
          188,
          1079,
          83,
          1656,
          33,
          1830,
          3,
          1779,
          68,
          33,
          1452,
          3,
          21,
          215,
          28,
          1214,
          85,
          82,
          55,
          907,
          1019
         ]
        },
        {
         "line": {
          "color": "#D62728",
          "dash": "dot"
         },
         "marker": {
          "color": [
           "#D62728",
           "#D62728",
           "#D62728",
           "#D62728",
           "#D62728",
           "#D62728",
           "#D62728",
           "#D62728",
           "#D62728",
           "#D62728",
           "#D62728",
           "#D62728",
           "#D62728",
           "#D62728",
           "#D62728",
           "#D62728",
           "#D62728",
           "#D62728",
           "#D62728",
           "#D62728",
           "#D62728",
           "#D62728",
           "#D62728",
           "#D62728",
           "#D62728",
           "#D62728",
           "#D62728",
           "#D62728",
           "#D62728",
           "#D62728",
           "#D62728",
           "#D62728",
           "#D62728",
           "#D62728",
           "#D62728",
           "#D62728",
           "#D62728",
           "#D62728",
           "#D62728",
           "#D62728",
           "#D62728",
           "#D62728"
          ],
          "line": {
           "width": 2
          },
          "size": 9,
          "symbol": "circle-open"
         },
         "mode": "markers",
         "name": "MHCFlurry2.0_BA",
         "opacity": 1,
         "type": "scatter",
         "x": [
          "B*27:05",
          "B*57:01",
          "B*07:02",
          "B*40:02",
          "B*15:01",
          "B*44:02",
          "B*44:03",
          "B*08:01",
          "B*40:01",
          "B*57:03",
          "B*27:09",
          "B*51:01",
          "B*58:01",
          "B*35:01",
          "B*38:01",
          "B*18:01",
          "B*35:03",
          "B*13:02",
          "B*15:03",
          "B*27:01",
          "B*42:01",
          "B*15:02",
          "B*45:01",
          "B*27:02",
          "B*39:01",
          "B*39:06",
          "B*46:01",
          "B*56:01",
          "B*53:01",
          "B*37:01",
          "B*52:01",
          "B*15:17",
          "B*55:01",
          "B*15:10",
          "B*14:02",
          "B*55:02",
          "B*54:01",
          "B*27:04",
          "B*27:06",
          "B*58:02",
          "B*27:03",
          "B*08:02"
         ],
         "y": [
          3734,
          2886,
          5341,
          1084,
          4429,
          2234,
          1487,
          3545,
          3375,
          34,
          44,
          2885,
          3746,
          3578,
          531,
          2720,
          287,
          1,
          699,
          62,
          211,
          188,
          1079,
          83,
          1656,
          33,
          1830,
          3,
          1779,
          68,
          33,
          1452,
          3,
          21,
          215,
          28,
          1214,
          85,
          82,
          55,
          907,
          1019
         ]
        },
        {
         "line": {
          "color": "#D62728",
          "dash": "dot"
         },
         "marker": {
          "color": [
           "#D62728",
           "#D62728",
           "#D62728",
           "#D62728",
           "#D62728",
           "#D62728",
           "#D62728",
           "#D62728",
           "#D62728",
           "#D62728",
           "#D62728",
           "#D62728",
           "#D62728",
           "#D62728",
           "#D62728",
           "#D62728",
           "#D62728",
           "#D62728",
           "#D62728",
           "#D62728",
           "#D62728",
           "#D62728",
           "#D62728",
           "#D62728",
           "#D62728",
           "#D62728",
           "#D62728",
           "#D62728",
           "#D62728",
           "#D62728",
           "#D62728",
           "#D62728",
           "#D62728",
           "#D62728",
           "#D62728",
           "#D62728",
           "#D62728",
           "#D62728",
           "#D62728",
           "#D62728",
           "#D62728",
           "#D62728",
           "#D62728",
           "#D62728",
           "#D62728",
           "#D62728",
           "#D62728",
           "#D62728",
           "#D62728",
           "#D62728",
           "#D62728",
           "#D62728"
          ],
          "line": {
           "width": 1
          },
          "size": 0,
          "symbol": [
           "line-nw",
           "line-nw",
           "line-nw",
           "line-nw",
           "line-nw",
           "line-nw",
           "line-nw",
           "line-nw",
           "line-nw",
           "line-nw",
           "line-nw",
           "line-nw",
           "line-nw",
           "line-nw",
           "line-nw",
           "line-nw",
           "line-nw",
           "line-nw",
           "line-nw",
           "line-nw",
           "line-nw",
           "line-nw",
           "line-nw",
           "line-nw",
           "line-nw",
           "line-nw",
           "line-nw",
           "line-nw",
           "line-nw",
           "line-nw",
           "line-nw",
           "line-nw",
           "line-nw",
           "line-nw",
           "line-nw",
           "line-nw",
           "line-nw",
           "line-nw",
           "line-nw",
           "line-nw",
           "line-nw",
           "line-nw",
           "line-nw",
           "line-nw",
           "line-nw",
           "line-nw",
           "line-nw",
           "line-nw",
           "line-nw",
           "line-nw",
           "line-nw",
           "line-nw"
          ]
         },
         "mode": "lines",
         "name": "NetMHCpan4.1_BA",
         "opacity": 0.5,
         "type": "scatter",
         "x": [
          "B*27:05",
          "B*57:01",
          "B*07:02",
          "B*40:02",
          "B*15:01",
          "B*44:02",
          "B*44:03",
          "B*08:01",
          "B*40:01",
          "B*57:03",
          "B*27:09",
          "B*51:01",
          "B*58:01",
          "B*35:01",
          "B*38:01",
          "B*18:01",
          "B*35:03",
          "B*13:01",
          "B*49:01",
          "B*13:02",
          "B*15:03",
          "B*27:01",
          "B*42:01",
          "B*15:02",
          "B*45:01",
          "B*27:02",
          "B*39:01",
          "B*38:02",
          "B*39:06",
          "B*46:01",
          "B*40:06",
          "B*56:01",
          "B*53:01",
          "B*27:08",
          "B*27:07",
          "B*35:07",
          "B*50:01",
          "B*37:01",
          "B*52:01",
          "B*15:17",
          "B*55:01",
          "B*15:10",
          "B*14:02",
          "B*55:02",
          "B*54:01",
          "B*07:04",
          "B*27:04",
          "B*27:06",
          "B*58:02",
          "B*15:186",
          "B*27:03",
          "B*08:02"
         ],
         "y": [
          3847,
          3100,
          4949,
          1188,
          4556,
          2437,
          1580,
          3644,
          3539,
          134,
          114,
          3023,
          3481,
          3404,
          630,
          2931,
          378,
          0,
          0,
          101,
          796,
          113,
          332,
          265,
          1169,
          126,
          1913,
          0,
          133,
          1915,
          0,
          0,
          1918,
          0,
          0,
          0,
          0,
          166,
          124,
          1548,
          101,
          104,
          443,
          0,
          1306,
          0,
          151,
          152,
          168,
          0,
          993,
          1120
         ]
        },
        {
         "line": {
          "color": "#D62728",
          "dash": "dot"
         },
         "marker": {
          "color": [
           "#D62728",
           "#D62728",
           "#D62728",
           "#D62728",
           "#D62728",
           "#D62728",
           "#D62728",
           "#D62728",
           "#D62728",
           "#D62728",
           "#D62728",
           "#D62728",
           "#D62728",
           "#D62728",
           "#D62728",
           "#D62728",
           "#D62728",
           "#D62728",
           "#D62728",
           "#D62728",
           "#D62728",
           "#D62728",
           "#D62728",
           "#D62728",
           "#D62728",
           "#D62728",
           "#D62728",
           "#D62728",
           "#D62728",
           "#D62728",
           "#D62728",
           "#D62728",
           "#D62728",
           "#D62728",
           "#D62728",
           "#D62728",
           "#D62728",
           "#D62728",
           "#D62728",
           "#D62728"
          ],
          "line": {
           "width": 2
          },
          "size": 9,
          "symbol": [
           "line-nw",
           "line-nw",
           "line-nw",
           "line-nw",
           "line-nw",
           "line-nw",
           "line-nw",
           "line-nw",
           "line-nw",
           "line-nw",
           "line-nw",
           "line-nw",
           "line-nw",
           "line-nw",
           "line-nw",
           "line-nw",
           "line-nw",
           "line-nw",
           "line-nw",
           "line-nw",
           "line-nw",
           "line-nw",
           "line-nw",
           "line-nw",
           "line-nw",
           "line-nw",
           "line-nw",
           "line-nw",
           "line-nw",
           "line-nw",
           "line-nw",
           "line-nw",
           "line-nw",
           "line-nw",
           "line-nw",
           "line-nw",
           "line-nw",
           "line-nw",
           "line-nw",
           "line-nw"
          ]
         },
         "mode": "markers",
         "name": "NetMHCpan4.1_BA",
         "opacity": 1,
         "type": "scatter",
         "x": [
          "B*27:05",
          "B*57:01",
          "B*07:02",
          "B*40:02",
          "B*15:01",
          "B*44:02",
          "B*44:03",
          "B*08:01",
          "B*40:01",
          "B*57:03",
          "B*27:09",
          "B*51:01",
          "B*58:01",
          "B*35:01",
          "B*38:01",
          "B*18:01",
          "B*35:03",
          "B*13:02",
          "B*15:03",
          "B*27:01",
          "B*42:01",
          "B*15:02",
          "B*45:01",
          "B*27:02",
          "B*39:01",
          "B*39:06",
          "B*46:01",
          "B*53:01",
          "B*37:01",
          "B*52:01",
          "B*15:17",
          "B*55:01",
          "B*15:10",
          "B*14:02",
          "B*54:01",
          "B*27:04",
          "B*27:06",
          "B*58:02",
          "B*27:03",
          "B*08:02"
         ],
         "y": [
          3847,
          3100,
          4949,
          1188,
          4556,
          2437,
          1580,
          3644,
          3539,
          134,
          114,
          3023,
          3481,
          3404,
          630,
          2931,
          378,
          101,
          796,
          113,
          332,
          265,
          1169,
          126,
          1913,
          133,
          1915,
          1918,
          166,
          124,
          1548,
          101,
          104,
          443,
          1306,
          151,
          152,
          168,
          993,
          1120
         ]
        },
        {
         "line": {
          "color": "#D62728",
          "dash": "dot"
         },
         "marker": {
          "color": [
           "#D62728",
           "#D62728",
           "#D62728",
           "#D62728",
           "#D62728",
           "#D62728",
           "#D62728",
           "#D62728",
           "#D62728",
           "#D62728",
           "#D62728",
           "#D62728",
           "#D62728",
           "#D62728",
           "#D62728",
           "#D62728",
           "#D62728",
           "#D62728",
           "#D62728",
           "#D62728",
           "#D62728",
           "#D62728",
           "#D62728",
           "#D62728",
           "#D62728",
           "#D62728",
           "#D62728",
           "#D62728",
           "#D62728",
           "#D62728",
           "#D62728",
           "#D62728",
           "#D62728",
           "#D62728",
           "#D62728",
           "#D62728",
           "#D62728",
           "#D62728",
           "#D62728",
           "#D62728"
          ],
          "line": {
           "width": 2
          },
          "size": 9,
          "symbol": "circle-open"
         },
         "mode": "markers",
         "name": "NetMHCpan4.1_BA",
         "opacity": 1,
         "type": "scatter",
         "x": [
          "B*27:05",
          "B*57:01",
          "B*07:02",
          "B*40:02",
          "B*15:01",
          "B*44:02",
          "B*44:03",
          "B*08:01",
          "B*40:01",
          "B*57:03",
          "B*27:09",
          "B*51:01",
          "B*58:01",
          "B*35:01",
          "B*38:01",
          "B*18:01",
          "B*35:03",
          "B*13:02",
          "B*15:03",
          "B*27:01",
          "B*42:01",
          "B*15:02",
          "B*45:01",
          "B*27:02",
          "B*39:01",
          "B*39:06",
          "B*46:01",
          "B*53:01",
          "B*37:01",
          "B*52:01",
          "B*15:17",
          "B*55:01",
          "B*15:10",
          "B*14:02",
          "B*54:01",
          "B*27:04",
          "B*27:06",
          "B*58:02",
          "B*27:03",
          "B*08:02"
         ],
         "y": [
          3847,
          3100,
          4949,
          1188,
          4556,
          2437,
          1580,
          3644,
          3539,
          134,
          114,
          3023,
          3481,
          3404,
          630,
          2931,
          378,
          101,
          796,
          113,
          332,
          265,
          1169,
          126,
          1913,
          133,
          1915,
          1918,
          166,
          124,
          1548,
          101,
          104,
          443,
          1306,
          151,
          152,
          168,
          993,
          1120
         ]
        }
       ],
       "layout": {
        "height": 400,
        "showlegend": false,
        "template": {
         "data": {
          "bar": [
           {
            "error_x": {
             "color": "#2a3f5f"
            },
            "error_y": {
             "color": "#2a3f5f"
            },
            "marker": {
             "line": {
              "color": "#E5ECF6",
              "width": 0.5
             },
             "pattern": {
              "fillmode": "overlay",
              "size": 10,
              "solidity": 0.2
             }
            },
            "type": "bar"
           }
          ],
          "barpolar": [
           {
            "marker": {
             "line": {
              "color": "#E5ECF6",
              "width": 0.5
             },
             "pattern": {
              "fillmode": "overlay",
              "size": 10,
              "solidity": 0.2
             }
            },
            "type": "barpolar"
           }
          ],
          "carpet": [
           {
            "aaxis": {
             "endlinecolor": "#2a3f5f",
             "gridcolor": "white",
             "linecolor": "white",
             "minorgridcolor": "white",
             "startlinecolor": "#2a3f5f"
            },
            "baxis": {
             "endlinecolor": "#2a3f5f",
             "gridcolor": "white",
             "linecolor": "white",
             "minorgridcolor": "white",
             "startlinecolor": "#2a3f5f"
            },
            "type": "carpet"
           }
          ],
          "choropleth": [
           {
            "colorbar": {
             "outlinewidth": 0,
             "ticks": ""
            },
            "type": "choropleth"
           }
          ],
          "contour": [
           {
            "colorbar": {
             "outlinewidth": 0,
             "ticks": ""
            },
            "colorscale": [
             [
              0,
              "#0d0887"
             ],
             [
              0.1111111111111111,
              "#46039f"
             ],
             [
              0.2222222222222222,
              "#7201a8"
             ],
             [
              0.3333333333333333,
              "#9c179e"
             ],
             [
              0.4444444444444444,
              "#bd3786"
             ],
             [
              0.5555555555555556,
              "#d8576b"
             ],
             [
              0.6666666666666666,
              "#ed7953"
             ],
             [
              0.7777777777777778,
              "#fb9f3a"
             ],
             [
              0.8888888888888888,
              "#fdca26"
             ],
             [
              1,
              "#f0f921"
             ]
            ],
            "type": "contour"
           }
          ],
          "contourcarpet": [
           {
            "colorbar": {
             "outlinewidth": 0,
             "ticks": ""
            },
            "type": "contourcarpet"
           }
          ],
          "heatmap": [
           {
            "colorbar": {
             "outlinewidth": 0,
             "ticks": ""
            },
            "colorscale": [
             [
              0,
              "#0d0887"
             ],
             [
              0.1111111111111111,
              "#46039f"
             ],
             [
              0.2222222222222222,
              "#7201a8"
             ],
             [
              0.3333333333333333,
              "#9c179e"
             ],
             [
              0.4444444444444444,
              "#bd3786"
             ],
             [
              0.5555555555555556,
              "#d8576b"
             ],
             [
              0.6666666666666666,
              "#ed7953"
             ],
             [
              0.7777777777777778,
              "#fb9f3a"
             ],
             [
              0.8888888888888888,
              "#fdca26"
             ],
             [
              1,
              "#f0f921"
             ]
            ],
            "type": "heatmap"
           }
          ],
          "heatmapgl": [
           {
            "colorbar": {
             "outlinewidth": 0,
             "ticks": ""
            },
            "colorscale": [
             [
              0,
              "#0d0887"
             ],
             [
              0.1111111111111111,
              "#46039f"
             ],
             [
              0.2222222222222222,
              "#7201a8"
             ],
             [
              0.3333333333333333,
              "#9c179e"
             ],
             [
              0.4444444444444444,
              "#bd3786"
             ],
             [
              0.5555555555555556,
              "#d8576b"
             ],
             [
              0.6666666666666666,
              "#ed7953"
             ],
             [
              0.7777777777777778,
              "#fb9f3a"
             ],
             [
              0.8888888888888888,
              "#fdca26"
             ],
             [
              1,
              "#f0f921"
             ]
            ],
            "type": "heatmapgl"
           }
          ],
          "histogram": [
           {
            "marker": {
             "pattern": {
              "fillmode": "overlay",
              "size": 10,
              "solidity": 0.2
             }
            },
            "type": "histogram"
           }
          ],
          "histogram2d": [
           {
            "colorbar": {
             "outlinewidth": 0,
             "ticks": ""
            },
            "colorscale": [
             [
              0,
              "#0d0887"
             ],
             [
              0.1111111111111111,
              "#46039f"
             ],
             [
              0.2222222222222222,
              "#7201a8"
             ],
             [
              0.3333333333333333,
              "#9c179e"
             ],
             [
              0.4444444444444444,
              "#bd3786"
             ],
             [
              0.5555555555555556,
              "#d8576b"
             ],
             [
              0.6666666666666666,
              "#ed7953"
             ],
             [
              0.7777777777777778,
              "#fb9f3a"
             ],
             [
              0.8888888888888888,
              "#fdca26"
             ],
             [
              1,
              "#f0f921"
             ]
            ],
            "type": "histogram2d"
           }
          ],
          "histogram2dcontour": [
           {
            "colorbar": {
             "outlinewidth": 0,
             "ticks": ""
            },
            "colorscale": [
             [
              0,
              "#0d0887"
             ],
             [
              0.1111111111111111,
              "#46039f"
             ],
             [
              0.2222222222222222,
              "#7201a8"
             ],
             [
              0.3333333333333333,
              "#9c179e"
             ],
             [
              0.4444444444444444,
              "#bd3786"
             ],
             [
              0.5555555555555556,
              "#d8576b"
             ],
             [
              0.6666666666666666,
              "#ed7953"
             ],
             [
              0.7777777777777778,
              "#fb9f3a"
             ],
             [
              0.8888888888888888,
              "#fdca26"
             ],
             [
              1,
              "#f0f921"
             ]
            ],
            "type": "histogram2dcontour"
           }
          ],
          "mesh3d": [
           {
            "colorbar": {
             "outlinewidth": 0,
             "ticks": ""
            },
            "type": "mesh3d"
           }
          ],
          "parcoords": [
           {
            "line": {
             "colorbar": {
              "outlinewidth": 0,
              "ticks": ""
             }
            },
            "type": "parcoords"
           }
          ],
          "pie": [
           {
            "automargin": true,
            "type": "pie"
           }
          ],
          "scatter": [
           {
            "fillpattern": {
             "fillmode": "overlay",
             "size": 10,
             "solidity": 0.2
            },
            "type": "scatter"
           }
          ],
          "scatter3d": [
           {
            "line": {
             "colorbar": {
              "outlinewidth": 0,
              "ticks": ""
             }
            },
            "marker": {
             "colorbar": {
              "outlinewidth": 0,
              "ticks": ""
             }
            },
            "type": "scatter3d"
           }
          ],
          "scattercarpet": [
           {
            "marker": {
             "colorbar": {
              "outlinewidth": 0,
              "ticks": ""
             }
            },
            "type": "scattercarpet"
           }
          ],
          "scattergeo": [
           {
            "marker": {
             "colorbar": {
              "outlinewidth": 0,
              "ticks": ""
             }
            },
            "type": "scattergeo"
           }
          ],
          "scattergl": [
           {
            "marker": {
             "colorbar": {
              "outlinewidth": 0,
              "ticks": ""
             }
            },
            "type": "scattergl"
           }
          ],
          "scattermapbox": [
           {
            "marker": {
             "colorbar": {
              "outlinewidth": 0,
              "ticks": ""
             }
            },
            "type": "scattermapbox"
           }
          ],
          "scatterpolar": [
           {
            "marker": {
             "colorbar": {
              "outlinewidth": 0,
              "ticks": ""
             }
            },
            "type": "scatterpolar"
           }
          ],
          "scatterpolargl": [
           {
            "marker": {
             "colorbar": {
              "outlinewidth": 0,
              "ticks": ""
             }
            },
            "type": "scatterpolargl"
           }
          ],
          "scatterternary": [
           {
            "marker": {
             "colorbar": {
              "outlinewidth": 0,
              "ticks": ""
             }
            },
            "type": "scatterternary"
           }
          ],
          "surface": [
           {
            "colorbar": {
             "outlinewidth": 0,
             "ticks": ""
            },
            "colorscale": [
             [
              0,
              "#0d0887"
             ],
             [
              0.1111111111111111,
              "#46039f"
             ],
             [
              0.2222222222222222,
              "#7201a8"
             ],
             [
              0.3333333333333333,
              "#9c179e"
             ],
             [
              0.4444444444444444,
              "#bd3786"
             ],
             [
              0.5555555555555556,
              "#d8576b"
             ],
             [
              0.6666666666666666,
              "#ed7953"
             ],
             [
              0.7777777777777778,
              "#fb9f3a"
             ],
             [
              0.8888888888888888,
              "#fdca26"
             ],
             [
              1,
              "#f0f921"
             ]
            ],
            "type": "surface"
           }
          ],
          "table": [
           {
            "cells": {
             "fill": {
              "color": "#EBF0F8"
             },
             "line": {
              "color": "white"
             }
            },
            "header": {
             "fill": {
              "color": "#C8D4E3"
             },
             "line": {
              "color": "white"
             }
            },
            "type": "table"
           }
          ]
         },
         "layout": {
          "annotationdefaults": {
           "arrowcolor": "#2a3f5f",
           "arrowhead": 0,
           "arrowwidth": 1
          },
          "autotypenumbers": "strict",
          "coloraxis": {
           "colorbar": {
            "outlinewidth": 0,
            "ticks": ""
           }
          },
          "colorscale": {
           "diverging": [
            [
             0,
             "#8e0152"
            ],
            [
             0.1,
             "#c51b7d"
            ],
            [
             0.2,
             "#de77ae"
            ],
            [
             0.3,
             "#f1b6da"
            ],
            [
             0.4,
             "#fde0ef"
            ],
            [
             0.5,
             "#f7f7f7"
            ],
            [
             0.6,
             "#e6f5d0"
            ],
            [
             0.7,
             "#b8e186"
            ],
            [
             0.8,
             "#7fbc41"
            ],
            [
             0.9,
             "#4d9221"
            ],
            [
             1,
             "#276419"
            ]
           ],
           "sequential": [
            [
             0,
             "#0d0887"
            ],
            [
             0.1111111111111111,
             "#46039f"
            ],
            [
             0.2222222222222222,
             "#7201a8"
            ],
            [
             0.3333333333333333,
             "#9c179e"
            ],
            [
             0.4444444444444444,
             "#bd3786"
            ],
            [
             0.5555555555555556,
             "#d8576b"
            ],
            [
             0.6666666666666666,
             "#ed7953"
            ],
            [
             0.7777777777777778,
             "#fb9f3a"
            ],
            [
             0.8888888888888888,
             "#fdca26"
            ],
            [
             1,
             "#f0f921"
            ]
           ],
           "sequentialminus": [
            [
             0,
             "#0d0887"
            ],
            [
             0.1111111111111111,
             "#46039f"
            ],
            [
             0.2222222222222222,
             "#7201a8"
            ],
            [
             0.3333333333333333,
             "#9c179e"
            ],
            [
             0.4444444444444444,
             "#bd3786"
            ],
            [
             0.5555555555555556,
             "#d8576b"
            ],
            [
             0.6666666666666666,
             "#ed7953"
            ],
            [
             0.7777777777777778,
             "#fb9f3a"
            ],
            [
             0.8888888888888888,
             "#fdca26"
            ],
            [
             1,
             "#f0f921"
            ]
           ]
          },
          "colorway": [
           "#636efa",
           "#EF553B",
           "#00cc96",
           "#ab63fa",
           "#FFA15A",
           "#19d3f3",
           "#FF6692",
           "#B6E880",
           "#FF97FF",
           "#FECB52"
          ],
          "font": {
           "color": "#2a3f5f"
          },
          "geo": {
           "bgcolor": "white",
           "lakecolor": "white",
           "landcolor": "#E5ECF6",
           "showlakes": true,
           "showland": true,
           "subunitcolor": "white"
          },
          "hoverlabel": {
           "align": "left"
          },
          "hovermode": "closest",
          "mapbox": {
           "style": "light"
          },
          "paper_bgcolor": "white",
          "plot_bgcolor": "#E5ECF6",
          "polar": {
           "angularaxis": {
            "gridcolor": "white",
            "linecolor": "white",
            "ticks": ""
           },
           "bgcolor": "#E5ECF6",
           "radialaxis": {
            "gridcolor": "white",
            "linecolor": "white",
            "ticks": ""
           }
          },
          "scene": {
           "xaxis": {
            "backgroundcolor": "#E5ECF6",
            "gridcolor": "white",
            "gridwidth": 2,
            "linecolor": "white",
            "showbackground": true,
            "ticks": "",
            "zerolinecolor": "white"
           },
           "yaxis": {
            "backgroundcolor": "#E5ECF6",
            "gridcolor": "white",
            "gridwidth": 2,
            "linecolor": "white",
            "showbackground": true,
            "ticks": "",
            "zerolinecolor": "white"
           },
           "zaxis": {
            "backgroundcolor": "#E5ECF6",
            "gridcolor": "white",
            "gridwidth": 2,
            "linecolor": "white",
            "showbackground": true,
            "ticks": "",
            "zerolinecolor": "white"
           }
          },
          "shapedefaults": {
           "line": {
            "color": "#2a3f5f"
           }
          },
          "ternary": {
           "aaxis": {
            "gridcolor": "white",
            "linecolor": "white",
            "ticks": ""
           },
           "baxis": {
            "gridcolor": "white",
            "linecolor": "white",
            "ticks": ""
           },
           "bgcolor": "#E5ECF6",
           "caxis": {
            "gridcolor": "white",
            "linecolor": "white",
            "ticks": ""
           }
          },
          "title": {
           "x": 0.05
          },
          "xaxis": {
           "automargin": true,
           "gridcolor": "white",
           "linecolor": "white",
           "ticks": "",
           "title": {
            "standoff": 15
           },
           "zerolinecolor": "white",
           "zerolinewidth": 2
          },
          "yaxis": {
           "automargin": true,
           "gridcolor": "white",
           "linecolor": "white",
           "ticks": "",
           "title": {
            "standoff": 15
           },
           "zerolinecolor": "white",
           "zerolinewidth": 2
          }
         }
        },
        "width": 1300,
        "xaxis": {
         "dtick": 1.2,
         "tick0": 0,
         "tickangle": 45
        },
        "yaxis": {
         "range": [
          -1000,
          25000
         ],
         "title": {
          "text": "#number of peptides"
         }
        }
       }
      },
      "text/html": [
       "<div>                            <div id=\"e76ecc52-326d-4f4f-9e3c-5a3b5cb18abb\" class=\"plotly-graph-div\" style=\"height:400px; width:1300px;\"></div>            <script type=\"text/javascript\">                require([\"plotly\"], function(Plotly) {                    window.PLOTLYENV=window.PLOTLYENV || {};                                    if (document.getElementById(\"e76ecc52-326d-4f4f-9e3c-5a3b5cb18abb\")) {                    Plotly.newPlot(                        \"e76ecc52-326d-4f4f-9e3c-5a3b5cb18abb\",                        [{\"line\":{\"color\":\"#1F77B4\",\"dash\":\"dot\"},\"marker\":{\"color\":[\"#1F77B4\",\"#1F77B4\",\"#1F77B4\",\"#1F77B4\",\"#1F77B4\",\"#1F77B4\",\"#1F77B4\",\"#1F77B4\",\"#1F77B4\",\"#1F77B4\",\"#1F77B4\",\"#1F77B4\",\"#1F77B4\",\"#1F77B4\",\"#1F77B4\",\"#1F77B4\",\"#1F77B4\",\"#1F77B4\",\"#1F77B4\",\"#1F77B4\",\"#1F77B4\",\"#1F77B4\",\"#1F77B4\",\"#1F77B4\",\"#1F77B4\",\"#1F77B4\",\"#1F77B4\",\"#1F77B4\",\"#1F77B4\",\"#1F77B4\",\"#1F77B4\",\"#1F77B4\",\"#1F77B4\",\"#1F77B4\",\"#1F77B4\",\"#1F77B4\",\"#1F77B4\",\"#1F77B4\",\"#1F77B4\",\"#1F77B4\",\"#1F77B4\",\"#1F77B4\",\"#1F77B4\",\"#1F77B4\",\"#1F77B4\",\"#1F77B4\",\"#1F77B4\",\"#1F77B4\",\"#1F77B4\",\"#1F77B4\",\"#1F77B4\",\"#1F77B4\"],\"line\":{\"width\":1},\"size\":0,\"symbol\":[\"line-ns\",\"line-ns\",\"line-ns\",\"line-ns\",\"line-ns\",\"line-ns\",\"line-ns\",\"line-ns\",\"line-ns\",\"line-ns\",\"line-ns\",\"line-ns\",\"line-ns\",\"line-ns\",\"line-ns\",\"line-ns\",\"line-ns\",\"line-ns\",\"line-ns\",\"line-ns\",\"line-ns\",\"line-ns\",\"line-ns\",\"line-ns\",\"line-ns\",\"line-ns\",\"line-ns\",\"line-ns\",\"line-ns\",\"line-ns\",\"line-ns\",\"line-ns\",\"line-ns\",\"line-ns\",\"line-ns\",\"line-ns\",\"line-ns\",\"line-ns\",\"line-ns\",\"line-ns\",\"line-ns\",\"line-ns\",\"line-ns\",\"line-ns\",\"line-ns\",\"line-ns\",\"line-ns\",\"line-ns\",\"line-ns\",\"line-ns\",\"line-ns\",\"line-ns\"]},\"mode\":\"lines\",\"name\":\"MHCFlurry2.0_MS\",\"opacity\":0.5,\"x\":[\"B*27:05\",\"B*57:01\",\"B*07:02\",\"B*40:02\",\"B*15:01\",\"B*44:02\",\"B*44:03\",\"B*08:01\",\"B*40:01\",\"B*57:03\",\"B*27:09\",\"B*51:01\",\"B*58:01\",\"B*35:01\",\"B*38:01\",\"B*18:01\",\"B*35:03\",\"B*13:01\",\"B*49:01\",\"B*13:02\",\"B*15:03\",\"B*27:01\",\"B*42:01\",\"B*15:02\",\"B*45:01\",\"B*27:02\",\"B*39:01\",\"B*38:02\",\"B*39:06\",\"B*46:01\",\"B*40:06\",\"B*56:01\",\"B*53:01\",\"B*27:08\",\"B*27:07\",\"B*35:07\",\"B*50:01\",\"B*37:01\",\"B*52:01\",\"B*15:17\",\"B*55:01\",\"B*15:10\",\"B*14:02\",\"B*55:02\",\"B*54:01\",\"B*07:04\",\"B*27:04\",\"B*27:06\",\"B*58:02\",\"B*15:186\",\"B*27:03\",\"B*08:02\"],\"y\":[52482,20116,16973,15094,11470,8580,8313,8252,6807,6415,5626,5301,5233,5072,4879,4347,4248,4140,4093,3970,3931,3864,3477,3469,3435,3262,3260,3071,3042,2661,2416,2346,2215,2121,2101,1947,1925,1921,1867,1831,1793,1782,1721,1571,1516,1489,1293,1223,1084,1071,1018,0],\"type\":\"scatter\"},{\"line\":{\"color\":\"#1F77B4\",\"dash\":\"dot\"},\"marker\":{\"color\":[\"#1F77B4\",\"#1F77B4\",\"#1F77B4\",\"#1F77B4\",\"#1F77B4\",\"#1F77B4\",\"#1F77B4\",\"#1F77B4\",\"#1F77B4\",\"#1F77B4\",\"#1F77B4\",\"#1F77B4\",\"#1F77B4\",\"#1F77B4\",\"#1F77B4\",\"#1F77B4\",\"#1F77B4\",\"#1F77B4\",\"#1F77B4\",\"#1F77B4\",\"#1F77B4\",\"#1F77B4\",\"#1F77B4\",\"#1F77B4\",\"#1F77B4\",\"#1F77B4\",\"#1F77B4\",\"#1F77B4\",\"#1F77B4\",\"#1F77B4\",\"#1F77B4\",\"#1F77B4\",\"#1F77B4\",\"#1F77B4\",\"#1F77B4\",\"#1F77B4\",\"#1F77B4\",\"#1F77B4\",\"#1F77B4\",\"#1F77B4\",\"#1F77B4\",\"#1F77B4\",\"#1F77B4\",\"#1F77B4\",\"#1F77B4\",\"#1F77B4\",\"#1F77B4\",\"#1F77B4\",\"#1F77B4\",\"#1F77B4\",\"#1F77B4\"],\"line\":{\"width\":2},\"size\":9,\"symbol\":[\"line-ns\",\"line-ns\",\"line-ns\",\"line-ns\",\"line-ns\",\"line-ns\",\"line-ns\",\"line-ns\",\"line-ns\",\"line-ns\",\"line-ns\",\"line-ns\",\"line-ns\",\"line-ns\",\"line-ns\",\"line-ns\",\"line-ns\",\"line-ns\",\"line-ns\",\"line-ns\",\"line-ns\",\"line-ns\",\"line-ns\",\"line-ns\",\"line-ns\",\"line-ns\",\"line-ns\",\"line-ns\",\"line-ns\",\"line-ns\",\"line-ns\",\"line-ns\",\"line-ns\",\"line-ns\",\"line-ns\",\"line-ns\",\"line-ns\",\"line-ns\",\"line-ns\",\"line-ns\",\"line-ns\",\"line-ns\",\"line-ns\",\"line-ns\",\"line-ns\",\"line-ns\",\"line-ns\",\"line-ns\",\"line-ns\",\"line-ns\",\"line-ns\"]},\"mode\":\"markers\",\"name\":\"MHCFlurry2.0_MS\",\"opacity\":1,\"x\":[\"B*27:05\",\"B*57:01\",\"B*07:02\",\"B*40:02\",\"B*15:01\",\"B*44:02\",\"B*44:03\",\"B*08:01\",\"B*40:01\",\"B*57:03\",\"B*27:09\",\"B*51:01\",\"B*58:01\",\"B*35:01\",\"B*38:01\",\"B*18:01\",\"B*35:03\",\"B*13:01\",\"B*49:01\",\"B*13:02\",\"B*15:03\",\"B*27:01\",\"B*42:01\",\"B*15:02\",\"B*45:01\",\"B*27:02\",\"B*39:01\",\"B*38:02\",\"B*39:06\",\"B*46:01\",\"B*40:06\",\"B*56:01\",\"B*53:01\",\"B*27:08\",\"B*27:07\",\"B*35:07\",\"B*50:01\",\"B*37:01\",\"B*52:01\",\"B*15:17\",\"B*55:01\",\"B*15:10\",\"B*14:02\",\"B*55:02\",\"B*54:01\",\"B*07:04\",\"B*27:04\",\"B*27:06\",\"B*58:02\",\"B*15:186\",\"B*27:03\"],\"y\":[52482,20116,16973,15094,11470,8580,8313,8252,6807,6415,5626,5301,5233,5072,4879,4347,4248,4140,4093,3970,3931,3864,3477,3469,3435,3262,3260,3071,3042,2661,2416,2346,2215,2121,2101,1947,1925,1921,1867,1831,1793,1782,1721,1571,1516,1489,1293,1223,1084,1071,1018],\"type\":\"scatter\"},{\"line\":{\"color\":\"#1F77B4\",\"dash\":\"dot\"},\"marker\":{\"color\":[\"#1F77B4\",\"#1F77B4\",\"#1F77B4\",\"#1F77B4\",\"#1F77B4\",\"#1F77B4\",\"#1F77B4\",\"#1F77B4\",\"#1F77B4\",\"#1F77B4\",\"#1F77B4\",\"#1F77B4\",\"#1F77B4\",\"#1F77B4\",\"#1F77B4\",\"#1F77B4\",\"#1F77B4\",\"#1F77B4\",\"#1F77B4\",\"#1F77B4\",\"#1F77B4\",\"#1F77B4\",\"#1F77B4\",\"#1F77B4\",\"#1F77B4\",\"#1F77B4\",\"#1F77B4\",\"#1F77B4\",\"#1F77B4\",\"#1F77B4\",\"#1F77B4\",\"#1F77B4\",\"#1F77B4\",\"#1F77B4\",\"#1F77B4\",\"#1F77B4\",\"#1F77B4\",\"#1F77B4\",\"#1F77B4\",\"#1F77B4\",\"#1F77B4\",\"#1F77B4\",\"#1F77B4\",\"#1F77B4\",\"#1F77B4\",\"#1F77B4\",\"#1F77B4\",\"#1F77B4\",\"#1F77B4\",\"#1F77B4\",\"#1F77B4\"],\"line\":{\"width\":2},\"size\":9,\"symbol\":\"circle-open\"},\"mode\":\"markers\",\"name\":\"MHCFlurry2.0_MS\",\"opacity\":1,\"x\":[\"B*27:05\",\"B*57:01\",\"B*07:02\",\"B*40:02\",\"B*15:01\",\"B*44:02\",\"B*44:03\",\"B*08:01\",\"B*40:01\",\"B*57:03\",\"B*27:09\",\"B*51:01\",\"B*58:01\",\"B*35:01\",\"B*38:01\",\"B*18:01\",\"B*35:03\",\"B*13:01\",\"B*49:01\",\"B*13:02\",\"B*15:03\",\"B*27:01\",\"B*42:01\",\"B*15:02\",\"B*45:01\",\"B*27:02\",\"B*39:01\",\"B*38:02\",\"B*39:06\",\"B*46:01\",\"B*40:06\",\"B*56:01\",\"B*53:01\",\"B*27:08\",\"B*27:07\",\"B*35:07\",\"B*50:01\",\"B*37:01\",\"B*52:01\",\"B*15:17\",\"B*55:01\",\"B*15:10\",\"B*14:02\",\"B*55:02\",\"B*54:01\",\"B*07:04\",\"B*27:04\",\"B*27:06\",\"B*58:02\",\"B*15:186\",\"B*27:03\"],\"y\":[52482,20116,16973,15094,11470,8580,8313,8252,6807,6415,5626,5301,5233,5072,4879,4347,4248,4140,4093,3970,3931,3864,3477,3469,3435,3262,3260,3071,3042,2661,2416,2346,2215,2121,2101,1947,1925,1921,1867,1831,1793,1782,1721,1571,1516,1489,1293,1223,1084,1071,1018],\"type\":\"scatter\"},{\"line\":{\"color\":\"#1F77B4\",\"dash\":\"dot\"},\"marker\":{\"color\":[\"#1F77B4\",\"#1F77B4\",\"#1F77B4\",\"#1F77B4\",\"#1F77B4\",\"#1F77B4\",\"#1F77B4\",\"#1F77B4\",\"#1F77B4\",\"#1F77B4\",\"#1F77B4\",\"#1F77B4\",\"#1F77B4\",\"#1F77B4\",\"#1F77B4\",\"#1F77B4\",\"#1F77B4\",\"#1F77B4\",\"#1F77B4\",\"#1F77B4\",\"#1F77B4\",\"#1F77B4\",\"#1F77B4\",\"#1F77B4\",\"#1F77B4\",\"#1F77B4\",\"#1F77B4\",\"#1F77B4\",\"#1F77B4\",\"#1F77B4\",\"#1F77B4\",\"#1F77B4\",\"#1F77B4\",\"#1F77B4\",\"#1F77B4\",\"#1F77B4\",\"#1F77B4\",\"#1F77B4\",\"#1F77B4\",\"#1F77B4\",\"#1F77B4\",\"#1F77B4\",\"#1F77B4\",\"#1F77B4\",\"#1F77B4\",\"#1F77B4\",\"#1F77B4\",\"#1F77B4\",\"#1F77B4\",\"#1F77B4\",\"#1F77B4\",\"#1F77B4\"],\"line\":{\"width\":1},\"size\":0,\"symbol\":[\"line-ew\",\"line-ew\",\"line-ew\",\"line-ew\",\"line-ew\",\"line-ew\",\"line-ew\",\"line-ew\",\"line-ew\",\"line-ew\",\"line-ew\",\"line-ew\",\"line-ew\",\"line-ew\",\"line-ew\",\"line-ew\",\"line-ew\",\"line-ew\",\"line-ew\",\"line-ew\",\"line-ew\",\"line-ew\",\"line-ew\",\"line-ew\",\"line-ew\",\"line-ew\",\"line-ew\",\"line-ew\",\"line-ew\",\"line-ew\",\"line-ew\",\"line-ew\",\"line-ew\",\"line-ew\",\"line-ew\",\"line-ew\",\"line-ew\",\"line-ew\",\"line-ew\",\"line-ew\",\"line-ew\",\"line-ew\",\"line-ew\",\"line-ew\",\"line-ew\",\"line-ew\",\"line-ew\",\"line-ew\",\"line-ew\",\"line-ew\",\"line-ew\",\"line-ew\"]},\"mode\":\"lines\",\"name\":\"NetMHCpan4.1_MS\",\"opacity\":0.5,\"x\":[\"B*27:05\",\"B*57:01\",\"B*07:02\",\"B*40:02\",\"B*15:01\",\"B*44:02\",\"B*44:03\",\"B*08:01\",\"B*40:01\",\"B*57:03\",\"B*27:09\",\"B*51:01\",\"B*58:01\",\"B*35:01\",\"B*38:01\",\"B*18:01\",\"B*35:03\",\"B*13:01\",\"B*49:01\",\"B*13:02\",\"B*15:03\",\"B*27:01\",\"B*42:01\",\"B*15:02\",\"B*45:01\",\"B*27:02\",\"B*39:01\",\"B*38:02\",\"B*39:06\",\"B*46:01\",\"B*40:06\",\"B*56:01\",\"B*53:01\",\"B*27:08\",\"B*27:07\",\"B*35:07\",\"B*50:01\",\"B*37:01\",\"B*52:01\",\"B*15:17\",\"B*55:01\",\"B*15:10\",\"B*14:02\",\"B*55:02\",\"B*54:01\",\"B*07:04\",\"B*27:04\",\"B*27:06\",\"B*58:02\",\"B*15:186\",\"B*27:03\",\"B*08:02\"],\"y\":[9697,17896,16232,8015,11569,9204,8825,8378,5253,4804,4794,4284,3916,7323,4401,4649,4257,74,996,2086,1834,3887,10,2893,2094,3342,3063,0,3670,1918,0,921,0,2162,2146,0,1870,583,77,13,535,484,614,5,1092,0,2483,1233,7,0,1028,0],\"type\":\"scatter\"},{\"line\":{\"color\":\"#1F77B4\",\"dash\":\"dot\"},\"marker\":{\"color\":[\"#1F77B4\",\"#1F77B4\",\"#1F77B4\",\"#1F77B4\",\"#1F77B4\",\"#1F77B4\",\"#1F77B4\",\"#1F77B4\",\"#1F77B4\",\"#1F77B4\",\"#1F77B4\",\"#1F77B4\",\"#1F77B4\",\"#1F77B4\",\"#1F77B4\",\"#1F77B4\",\"#1F77B4\",\"#1F77B4\",\"#1F77B4\",\"#1F77B4\",\"#1F77B4\",\"#1F77B4\",\"#1F77B4\",\"#1F77B4\",\"#1F77B4\",\"#1F77B4\",\"#1F77B4\",\"#1F77B4\",\"#1F77B4\",\"#1F77B4\",\"#1F77B4\",\"#1F77B4\",\"#1F77B4\",\"#1F77B4\",\"#1F77B4\",\"#1F77B4\",\"#1F77B4\",\"#1F77B4\",\"#1F77B4\",\"#1F77B4\",\"#1F77B4\",\"#1F77B4\",\"#1F77B4\",\"#1F77B4\",\"#1F77B4\"],\"line\":{\"width\":2},\"size\":9,\"symbol\":[\"line-ew\",\"line-ew\",\"line-ew\",\"line-ew\",\"line-ew\",\"line-ew\",\"line-ew\",\"line-ew\",\"line-ew\",\"line-ew\",\"line-ew\",\"line-ew\",\"line-ew\",\"line-ew\",\"line-ew\",\"line-ew\",\"line-ew\",\"line-ew\",\"line-ew\",\"line-ew\",\"line-ew\",\"line-ew\",\"line-ew\",\"line-ew\",\"line-ew\",\"line-ew\",\"line-ew\",\"line-ew\",\"line-ew\",\"line-ew\",\"line-ew\",\"line-ew\",\"line-ew\",\"line-ew\",\"line-ew\",\"line-ew\",\"line-ew\",\"line-ew\",\"line-ew\",\"line-ew\",\"line-ew\",\"line-ew\",\"line-ew\",\"line-ew\",\"line-ew\"]},\"mode\":\"markers\",\"name\":\"NetMHCpan4.1_MS\",\"opacity\":1,\"x\":[\"B*27:05\",\"B*57:01\",\"B*07:02\",\"B*40:02\",\"B*15:01\",\"B*44:02\",\"B*44:03\",\"B*08:01\",\"B*40:01\",\"B*57:03\",\"B*27:09\",\"B*51:01\",\"B*58:01\",\"B*35:01\",\"B*38:01\",\"B*18:01\",\"B*35:03\",\"B*13:01\",\"B*49:01\",\"B*13:02\",\"B*15:03\",\"B*27:01\",\"B*42:01\",\"B*15:02\",\"B*45:01\",\"B*27:02\",\"B*39:01\",\"B*39:06\",\"B*46:01\",\"B*56:01\",\"B*27:08\",\"B*27:07\",\"B*50:01\",\"B*37:01\",\"B*52:01\",\"B*15:17\",\"B*55:01\",\"B*15:10\",\"B*14:02\",\"B*55:02\",\"B*54:01\",\"B*27:04\",\"B*27:06\",\"B*58:02\",\"B*27:03\"],\"y\":[9697,17896,16232,8015,11569,9204,8825,8378,5253,4804,4794,4284,3916,7323,4401,4649,4257,74,996,2086,1834,3887,10,2893,2094,3342,3063,3670,1918,921,2162,2146,1870,583,77,13,535,484,614,5,1092,2483,1233,7,1028],\"type\":\"scatter\"},{\"line\":{\"color\":\"#1F77B4\",\"dash\":\"dot\"},\"marker\":{\"color\":[\"#1F77B4\",\"#1F77B4\",\"#1F77B4\",\"#1F77B4\",\"#1F77B4\",\"#1F77B4\",\"#1F77B4\",\"#1F77B4\",\"#1F77B4\",\"#1F77B4\",\"#1F77B4\",\"#1F77B4\",\"#1F77B4\",\"#1F77B4\",\"#1F77B4\",\"#1F77B4\",\"#1F77B4\",\"#1F77B4\",\"#1F77B4\",\"#1F77B4\",\"#1F77B4\",\"#1F77B4\",\"#1F77B4\",\"#1F77B4\",\"#1F77B4\",\"#1F77B4\",\"#1F77B4\",\"#1F77B4\",\"#1F77B4\",\"#1F77B4\",\"#1F77B4\",\"#1F77B4\",\"#1F77B4\",\"#1F77B4\",\"#1F77B4\",\"#1F77B4\",\"#1F77B4\",\"#1F77B4\",\"#1F77B4\",\"#1F77B4\",\"#1F77B4\",\"#1F77B4\",\"#1F77B4\",\"#1F77B4\",\"#1F77B4\"],\"line\":{\"width\":2},\"size\":9,\"symbol\":\"circle-open\"},\"mode\":\"markers\",\"name\":\"NetMHCpan4.1_MS\",\"opacity\":1,\"x\":[\"B*27:05\",\"B*57:01\",\"B*07:02\",\"B*40:02\",\"B*15:01\",\"B*44:02\",\"B*44:03\",\"B*08:01\",\"B*40:01\",\"B*57:03\",\"B*27:09\",\"B*51:01\",\"B*58:01\",\"B*35:01\",\"B*38:01\",\"B*18:01\",\"B*35:03\",\"B*13:01\",\"B*49:01\",\"B*13:02\",\"B*15:03\",\"B*27:01\",\"B*42:01\",\"B*15:02\",\"B*45:01\",\"B*27:02\",\"B*39:01\",\"B*39:06\",\"B*46:01\",\"B*56:01\",\"B*27:08\",\"B*27:07\",\"B*50:01\",\"B*37:01\",\"B*52:01\",\"B*15:17\",\"B*55:01\",\"B*15:10\",\"B*14:02\",\"B*55:02\",\"B*54:01\",\"B*27:04\",\"B*27:06\",\"B*58:02\",\"B*27:03\"],\"y\":[9697,17896,16232,8015,11569,9204,8825,8378,5253,4804,4794,4284,3916,7323,4401,4649,4257,74,996,2086,1834,3887,10,2893,2094,3342,3063,3670,1918,921,2162,2146,1870,583,77,13,535,484,614,5,1092,2483,1233,7,1028],\"type\":\"scatter\"},{\"line\":{\"color\":\"#D62728\",\"dash\":\"dot\"},\"marker\":{\"color\":[\"#D62728\",\"#D62728\",\"#D62728\",\"#D62728\",\"#D62728\",\"#D62728\",\"#D62728\",\"#D62728\",\"#D62728\",\"#D62728\",\"#D62728\",\"#D62728\",\"#D62728\",\"#D62728\",\"#D62728\",\"#D62728\",\"#D62728\",\"#D62728\",\"#D62728\",\"#D62728\",\"#D62728\",\"#D62728\",\"#D62728\",\"#D62728\",\"#D62728\",\"#D62728\",\"#D62728\",\"#D62728\",\"#D62728\",\"#D62728\",\"#D62728\",\"#D62728\",\"#D62728\",\"#D62728\",\"#D62728\",\"#D62728\",\"#D62728\",\"#D62728\",\"#D62728\",\"#D62728\",\"#D62728\",\"#D62728\",\"#D62728\",\"#D62728\",\"#D62728\",\"#D62728\",\"#D62728\",\"#D62728\",\"#D62728\",\"#D62728\",\"#D62728\",\"#D62728\"],\"line\":{\"width\":1},\"size\":0,\"symbol\":[\"line-ne\",\"line-ne\",\"line-ne\",\"line-ne\",\"line-ne\",\"line-ne\",\"line-ne\",\"line-ne\",\"line-ne\",\"line-ne\",\"line-ne\",\"line-ne\",\"line-ne\",\"line-ne\",\"line-ne\",\"line-ne\",\"line-ne\",\"line-ne\",\"line-ne\",\"line-ne\",\"line-ne\",\"line-ne\",\"line-ne\",\"line-ne\",\"line-ne\",\"line-ne\",\"line-ne\",\"line-ne\",\"line-ne\",\"line-ne\",\"line-ne\",\"line-ne\",\"line-ne\",\"line-ne\",\"line-ne\",\"line-ne\",\"line-ne\",\"line-ne\",\"line-ne\",\"line-ne\",\"line-ne\",\"line-ne\",\"line-ne\",\"line-ne\",\"line-ne\",\"line-ne\",\"line-ne\",\"line-ne\",\"line-ne\",\"line-ne\",\"line-ne\",\"line-ne\"]},\"mode\":\"lines\",\"name\":\"MHCFlurry2.0_BA\",\"opacity\":0.5,\"x\":[\"B*27:05\",\"B*57:01\",\"B*07:02\",\"B*40:02\",\"B*15:01\",\"B*44:02\",\"B*44:03\",\"B*08:01\",\"B*40:01\",\"B*57:03\",\"B*27:09\",\"B*51:01\",\"B*58:01\",\"B*35:01\",\"B*38:01\",\"B*18:01\",\"B*35:03\",\"B*13:01\",\"B*49:01\",\"B*13:02\",\"B*15:03\",\"B*27:01\",\"B*42:01\",\"B*15:02\",\"B*45:01\",\"B*27:02\",\"B*39:01\",\"B*38:02\",\"B*39:06\",\"B*46:01\",\"B*40:06\",\"B*56:01\",\"B*53:01\",\"B*27:08\",\"B*27:07\",\"B*35:07\",\"B*50:01\",\"B*37:01\",\"B*52:01\",\"B*15:17\",\"B*55:01\",\"B*15:10\",\"B*14:02\",\"B*55:02\",\"B*54:01\",\"B*07:04\",\"B*27:04\",\"B*27:06\",\"B*58:02\",\"B*15:186\",\"B*27:03\",\"B*08:02\"],\"y\":[3734,2886,5341,1084,4429,2234,1487,3545,3375,34,44,2885,3746,3578,531,2720,287,0,0,1,699,62,211,188,1079,83,1656,0,33,1830,0,3,1779,0,0,0,0,68,33,1452,3,21,215,28,1214,0,85,82,55,0,907,1019],\"type\":\"scatter\"},{\"line\":{\"color\":\"#D62728\",\"dash\":\"dot\"},\"marker\":{\"color\":[\"#D62728\",\"#D62728\",\"#D62728\",\"#D62728\",\"#D62728\",\"#D62728\",\"#D62728\",\"#D62728\",\"#D62728\",\"#D62728\",\"#D62728\",\"#D62728\",\"#D62728\",\"#D62728\",\"#D62728\",\"#D62728\",\"#D62728\",\"#D62728\",\"#D62728\",\"#D62728\",\"#D62728\",\"#D62728\",\"#D62728\",\"#D62728\",\"#D62728\",\"#D62728\",\"#D62728\",\"#D62728\",\"#D62728\",\"#D62728\",\"#D62728\",\"#D62728\",\"#D62728\",\"#D62728\",\"#D62728\",\"#D62728\",\"#D62728\",\"#D62728\",\"#D62728\",\"#D62728\",\"#D62728\",\"#D62728\"],\"line\":{\"width\":2},\"size\":9,\"symbol\":[\"line-ne\",\"line-ne\",\"line-ne\",\"line-ne\",\"line-ne\",\"line-ne\",\"line-ne\",\"line-ne\",\"line-ne\",\"line-ne\",\"line-ne\",\"line-ne\",\"line-ne\",\"line-ne\",\"line-ne\",\"line-ne\",\"line-ne\",\"line-ne\",\"line-ne\",\"line-ne\",\"line-ne\",\"line-ne\",\"line-ne\",\"line-ne\",\"line-ne\",\"line-ne\",\"line-ne\",\"line-ne\",\"line-ne\",\"line-ne\",\"line-ne\",\"line-ne\",\"line-ne\",\"line-ne\",\"line-ne\",\"line-ne\",\"line-ne\",\"line-ne\",\"line-ne\",\"line-ne\",\"line-ne\",\"line-ne\"]},\"mode\":\"markers\",\"name\":\"MHCFlurry2.0_BA\",\"opacity\":1,\"x\":[\"B*27:05\",\"B*57:01\",\"B*07:02\",\"B*40:02\",\"B*15:01\",\"B*44:02\",\"B*44:03\",\"B*08:01\",\"B*40:01\",\"B*57:03\",\"B*27:09\",\"B*51:01\",\"B*58:01\",\"B*35:01\",\"B*38:01\",\"B*18:01\",\"B*35:03\",\"B*13:02\",\"B*15:03\",\"B*27:01\",\"B*42:01\",\"B*15:02\",\"B*45:01\",\"B*27:02\",\"B*39:01\",\"B*39:06\",\"B*46:01\",\"B*56:01\",\"B*53:01\",\"B*37:01\",\"B*52:01\",\"B*15:17\",\"B*55:01\",\"B*15:10\",\"B*14:02\",\"B*55:02\",\"B*54:01\",\"B*27:04\",\"B*27:06\",\"B*58:02\",\"B*27:03\",\"B*08:02\"],\"y\":[3734,2886,5341,1084,4429,2234,1487,3545,3375,34,44,2885,3746,3578,531,2720,287,1,699,62,211,188,1079,83,1656,33,1830,3,1779,68,33,1452,3,21,215,28,1214,85,82,55,907,1019],\"type\":\"scatter\"},{\"line\":{\"color\":\"#D62728\",\"dash\":\"dot\"},\"marker\":{\"color\":[\"#D62728\",\"#D62728\",\"#D62728\",\"#D62728\",\"#D62728\",\"#D62728\",\"#D62728\",\"#D62728\",\"#D62728\",\"#D62728\",\"#D62728\",\"#D62728\",\"#D62728\",\"#D62728\",\"#D62728\",\"#D62728\",\"#D62728\",\"#D62728\",\"#D62728\",\"#D62728\",\"#D62728\",\"#D62728\",\"#D62728\",\"#D62728\",\"#D62728\",\"#D62728\",\"#D62728\",\"#D62728\",\"#D62728\",\"#D62728\",\"#D62728\",\"#D62728\",\"#D62728\",\"#D62728\",\"#D62728\",\"#D62728\",\"#D62728\",\"#D62728\",\"#D62728\",\"#D62728\",\"#D62728\",\"#D62728\"],\"line\":{\"width\":2},\"size\":9,\"symbol\":\"circle-open\"},\"mode\":\"markers\",\"name\":\"MHCFlurry2.0_BA\",\"opacity\":1,\"x\":[\"B*27:05\",\"B*57:01\",\"B*07:02\",\"B*40:02\",\"B*15:01\",\"B*44:02\",\"B*44:03\",\"B*08:01\",\"B*40:01\",\"B*57:03\",\"B*27:09\",\"B*51:01\",\"B*58:01\",\"B*35:01\",\"B*38:01\",\"B*18:01\",\"B*35:03\",\"B*13:02\",\"B*15:03\",\"B*27:01\",\"B*42:01\",\"B*15:02\",\"B*45:01\",\"B*27:02\",\"B*39:01\",\"B*39:06\",\"B*46:01\",\"B*56:01\",\"B*53:01\",\"B*37:01\",\"B*52:01\",\"B*15:17\",\"B*55:01\",\"B*15:10\",\"B*14:02\",\"B*55:02\",\"B*54:01\",\"B*27:04\",\"B*27:06\",\"B*58:02\",\"B*27:03\",\"B*08:02\"],\"y\":[3734,2886,5341,1084,4429,2234,1487,3545,3375,34,44,2885,3746,3578,531,2720,287,1,699,62,211,188,1079,83,1656,33,1830,3,1779,68,33,1452,3,21,215,28,1214,85,82,55,907,1019],\"type\":\"scatter\"},{\"line\":{\"color\":\"#D62728\",\"dash\":\"dot\"},\"marker\":{\"color\":[\"#D62728\",\"#D62728\",\"#D62728\",\"#D62728\",\"#D62728\",\"#D62728\",\"#D62728\",\"#D62728\",\"#D62728\",\"#D62728\",\"#D62728\",\"#D62728\",\"#D62728\",\"#D62728\",\"#D62728\",\"#D62728\",\"#D62728\",\"#D62728\",\"#D62728\",\"#D62728\",\"#D62728\",\"#D62728\",\"#D62728\",\"#D62728\",\"#D62728\",\"#D62728\",\"#D62728\",\"#D62728\",\"#D62728\",\"#D62728\",\"#D62728\",\"#D62728\",\"#D62728\",\"#D62728\",\"#D62728\",\"#D62728\",\"#D62728\",\"#D62728\",\"#D62728\",\"#D62728\",\"#D62728\",\"#D62728\",\"#D62728\",\"#D62728\",\"#D62728\",\"#D62728\",\"#D62728\",\"#D62728\",\"#D62728\",\"#D62728\",\"#D62728\",\"#D62728\"],\"line\":{\"width\":1},\"size\":0,\"symbol\":[\"line-nw\",\"line-nw\",\"line-nw\",\"line-nw\",\"line-nw\",\"line-nw\",\"line-nw\",\"line-nw\",\"line-nw\",\"line-nw\",\"line-nw\",\"line-nw\",\"line-nw\",\"line-nw\",\"line-nw\",\"line-nw\",\"line-nw\",\"line-nw\",\"line-nw\",\"line-nw\",\"line-nw\",\"line-nw\",\"line-nw\",\"line-nw\",\"line-nw\",\"line-nw\",\"line-nw\",\"line-nw\",\"line-nw\",\"line-nw\",\"line-nw\",\"line-nw\",\"line-nw\",\"line-nw\",\"line-nw\",\"line-nw\",\"line-nw\",\"line-nw\",\"line-nw\",\"line-nw\",\"line-nw\",\"line-nw\",\"line-nw\",\"line-nw\",\"line-nw\",\"line-nw\",\"line-nw\",\"line-nw\",\"line-nw\",\"line-nw\",\"line-nw\",\"line-nw\"]},\"mode\":\"lines\",\"name\":\"NetMHCpan4.1_BA\",\"opacity\":0.5,\"x\":[\"B*27:05\",\"B*57:01\",\"B*07:02\",\"B*40:02\",\"B*15:01\",\"B*44:02\",\"B*44:03\",\"B*08:01\",\"B*40:01\",\"B*57:03\",\"B*27:09\",\"B*51:01\",\"B*58:01\",\"B*35:01\",\"B*38:01\",\"B*18:01\",\"B*35:03\",\"B*13:01\",\"B*49:01\",\"B*13:02\",\"B*15:03\",\"B*27:01\",\"B*42:01\",\"B*15:02\",\"B*45:01\",\"B*27:02\",\"B*39:01\",\"B*38:02\",\"B*39:06\",\"B*46:01\",\"B*40:06\",\"B*56:01\",\"B*53:01\",\"B*27:08\",\"B*27:07\",\"B*35:07\",\"B*50:01\",\"B*37:01\",\"B*52:01\",\"B*15:17\",\"B*55:01\",\"B*15:10\",\"B*14:02\",\"B*55:02\",\"B*54:01\",\"B*07:04\",\"B*27:04\",\"B*27:06\",\"B*58:02\",\"B*15:186\",\"B*27:03\",\"B*08:02\"],\"y\":[3847,3100,4949,1188,4556,2437,1580,3644,3539,134,114,3023,3481,3404,630,2931,378,0,0,101,796,113,332,265,1169,126,1913,0,133,1915,0,0,1918,0,0,0,0,166,124,1548,101,104,443,0,1306,0,151,152,168,0,993,1120],\"type\":\"scatter\"},{\"line\":{\"color\":\"#D62728\",\"dash\":\"dot\"},\"marker\":{\"color\":[\"#D62728\",\"#D62728\",\"#D62728\",\"#D62728\",\"#D62728\",\"#D62728\",\"#D62728\",\"#D62728\",\"#D62728\",\"#D62728\",\"#D62728\",\"#D62728\",\"#D62728\",\"#D62728\",\"#D62728\",\"#D62728\",\"#D62728\",\"#D62728\",\"#D62728\",\"#D62728\",\"#D62728\",\"#D62728\",\"#D62728\",\"#D62728\",\"#D62728\",\"#D62728\",\"#D62728\",\"#D62728\",\"#D62728\",\"#D62728\",\"#D62728\",\"#D62728\",\"#D62728\",\"#D62728\",\"#D62728\",\"#D62728\",\"#D62728\",\"#D62728\",\"#D62728\",\"#D62728\"],\"line\":{\"width\":2},\"size\":9,\"symbol\":[\"line-nw\",\"line-nw\",\"line-nw\",\"line-nw\",\"line-nw\",\"line-nw\",\"line-nw\",\"line-nw\",\"line-nw\",\"line-nw\",\"line-nw\",\"line-nw\",\"line-nw\",\"line-nw\",\"line-nw\",\"line-nw\",\"line-nw\",\"line-nw\",\"line-nw\",\"line-nw\",\"line-nw\",\"line-nw\",\"line-nw\",\"line-nw\",\"line-nw\",\"line-nw\",\"line-nw\",\"line-nw\",\"line-nw\",\"line-nw\",\"line-nw\",\"line-nw\",\"line-nw\",\"line-nw\",\"line-nw\",\"line-nw\",\"line-nw\",\"line-nw\",\"line-nw\",\"line-nw\"]},\"mode\":\"markers\",\"name\":\"NetMHCpan4.1_BA\",\"opacity\":1,\"x\":[\"B*27:05\",\"B*57:01\",\"B*07:02\",\"B*40:02\",\"B*15:01\",\"B*44:02\",\"B*44:03\",\"B*08:01\",\"B*40:01\",\"B*57:03\",\"B*27:09\",\"B*51:01\",\"B*58:01\",\"B*35:01\",\"B*38:01\",\"B*18:01\",\"B*35:03\",\"B*13:02\",\"B*15:03\",\"B*27:01\",\"B*42:01\",\"B*15:02\",\"B*45:01\",\"B*27:02\",\"B*39:01\",\"B*39:06\",\"B*46:01\",\"B*53:01\",\"B*37:01\",\"B*52:01\",\"B*15:17\",\"B*55:01\",\"B*15:10\",\"B*14:02\",\"B*54:01\",\"B*27:04\",\"B*27:06\",\"B*58:02\",\"B*27:03\",\"B*08:02\"],\"y\":[3847,3100,4949,1188,4556,2437,1580,3644,3539,134,114,3023,3481,3404,630,2931,378,101,796,113,332,265,1169,126,1913,133,1915,1918,166,124,1548,101,104,443,1306,151,152,168,993,1120],\"type\":\"scatter\"},{\"line\":{\"color\":\"#D62728\",\"dash\":\"dot\"},\"marker\":{\"color\":[\"#D62728\",\"#D62728\",\"#D62728\",\"#D62728\",\"#D62728\",\"#D62728\",\"#D62728\",\"#D62728\",\"#D62728\",\"#D62728\",\"#D62728\",\"#D62728\",\"#D62728\",\"#D62728\",\"#D62728\",\"#D62728\",\"#D62728\",\"#D62728\",\"#D62728\",\"#D62728\",\"#D62728\",\"#D62728\",\"#D62728\",\"#D62728\",\"#D62728\",\"#D62728\",\"#D62728\",\"#D62728\",\"#D62728\",\"#D62728\",\"#D62728\",\"#D62728\",\"#D62728\",\"#D62728\",\"#D62728\",\"#D62728\",\"#D62728\",\"#D62728\",\"#D62728\",\"#D62728\"],\"line\":{\"width\":2},\"size\":9,\"symbol\":\"circle-open\"},\"mode\":\"markers\",\"name\":\"NetMHCpan4.1_BA\",\"opacity\":1,\"x\":[\"B*27:05\",\"B*57:01\",\"B*07:02\",\"B*40:02\",\"B*15:01\",\"B*44:02\",\"B*44:03\",\"B*08:01\",\"B*40:01\",\"B*57:03\",\"B*27:09\",\"B*51:01\",\"B*58:01\",\"B*35:01\",\"B*38:01\",\"B*18:01\",\"B*35:03\",\"B*13:02\",\"B*15:03\",\"B*27:01\",\"B*42:01\",\"B*15:02\",\"B*45:01\",\"B*27:02\",\"B*39:01\",\"B*39:06\",\"B*46:01\",\"B*53:01\",\"B*37:01\",\"B*52:01\",\"B*15:17\",\"B*55:01\",\"B*15:10\",\"B*14:02\",\"B*54:01\",\"B*27:04\",\"B*27:06\",\"B*58:02\",\"B*27:03\",\"B*08:02\"],\"y\":[3847,3100,4949,1188,4556,2437,1580,3644,3539,134,114,3023,3481,3404,630,2931,378,101,796,113,332,265,1169,126,1913,133,1915,1918,166,124,1548,101,104,443,1306,151,152,168,993,1120],\"type\":\"scatter\"}],                        {\"template\":{\"data\":{\"histogram2dcontour\":[{\"type\":\"histogram2dcontour\",\"colorbar\":{\"outlinewidth\":0,\"ticks\":\"\"},\"colorscale\":[[0.0,\"#0d0887\"],[0.1111111111111111,\"#46039f\"],[0.2222222222222222,\"#7201a8\"],[0.3333333333333333,\"#9c179e\"],[0.4444444444444444,\"#bd3786\"],[0.5555555555555556,\"#d8576b\"],[0.6666666666666666,\"#ed7953\"],[0.7777777777777778,\"#fb9f3a\"],[0.8888888888888888,\"#fdca26\"],[1.0,\"#f0f921\"]]}],\"choropleth\":[{\"type\":\"choropleth\",\"colorbar\":{\"outlinewidth\":0,\"ticks\":\"\"}}],\"histogram2d\":[{\"type\":\"histogram2d\",\"colorbar\":{\"outlinewidth\":0,\"ticks\":\"\"},\"colorscale\":[[0.0,\"#0d0887\"],[0.1111111111111111,\"#46039f\"],[0.2222222222222222,\"#7201a8\"],[0.3333333333333333,\"#9c179e\"],[0.4444444444444444,\"#bd3786\"],[0.5555555555555556,\"#d8576b\"],[0.6666666666666666,\"#ed7953\"],[0.7777777777777778,\"#fb9f3a\"],[0.8888888888888888,\"#fdca26\"],[1.0,\"#f0f921\"]]}],\"heatmap\":[{\"type\":\"heatmap\",\"colorbar\":{\"outlinewidth\":0,\"ticks\":\"\"},\"colorscale\":[[0.0,\"#0d0887\"],[0.1111111111111111,\"#46039f\"],[0.2222222222222222,\"#7201a8\"],[0.3333333333333333,\"#9c179e\"],[0.4444444444444444,\"#bd3786\"],[0.5555555555555556,\"#d8576b\"],[0.6666666666666666,\"#ed7953\"],[0.7777777777777778,\"#fb9f3a\"],[0.8888888888888888,\"#fdca26\"],[1.0,\"#f0f921\"]]}],\"heatmapgl\":[{\"type\":\"heatmapgl\",\"colorbar\":{\"outlinewidth\":0,\"ticks\":\"\"},\"colorscale\":[[0.0,\"#0d0887\"],[0.1111111111111111,\"#46039f\"],[0.2222222222222222,\"#7201a8\"],[0.3333333333333333,\"#9c179e\"],[0.4444444444444444,\"#bd3786\"],[0.5555555555555556,\"#d8576b\"],[0.6666666666666666,\"#ed7953\"],[0.7777777777777778,\"#fb9f3a\"],[0.8888888888888888,\"#fdca26\"],[1.0,\"#f0f921\"]]}],\"contourcarpet\":[{\"type\":\"contourcarpet\",\"colorbar\":{\"outlinewidth\":0,\"ticks\":\"\"}}],\"contour\":[{\"type\":\"contour\",\"colorbar\":{\"outlinewidth\":0,\"ticks\":\"\"},\"colorscale\":[[0.0,\"#0d0887\"],[0.1111111111111111,\"#46039f\"],[0.2222222222222222,\"#7201a8\"],[0.3333333333333333,\"#9c179e\"],[0.4444444444444444,\"#bd3786\"],[0.5555555555555556,\"#d8576b\"],[0.6666666666666666,\"#ed7953\"],[0.7777777777777778,\"#fb9f3a\"],[0.8888888888888888,\"#fdca26\"],[1.0,\"#f0f921\"]]}],\"surface\":[{\"type\":\"surface\",\"colorbar\":{\"outlinewidth\":0,\"ticks\":\"\"},\"colorscale\":[[0.0,\"#0d0887\"],[0.1111111111111111,\"#46039f\"],[0.2222222222222222,\"#7201a8\"],[0.3333333333333333,\"#9c179e\"],[0.4444444444444444,\"#bd3786\"],[0.5555555555555556,\"#d8576b\"],[0.6666666666666666,\"#ed7953\"],[0.7777777777777778,\"#fb9f3a\"],[0.8888888888888888,\"#fdca26\"],[1.0,\"#f0f921\"]]}],\"mesh3d\":[{\"type\":\"mesh3d\",\"colorbar\":{\"outlinewidth\":0,\"ticks\":\"\"}}],\"scatter\":[{\"fillpattern\":{\"fillmode\":\"overlay\",\"size\":10,\"solidity\":0.2},\"type\":\"scatter\"}],\"parcoords\":[{\"type\":\"parcoords\",\"line\":{\"colorbar\":{\"outlinewidth\":0,\"ticks\":\"\"}}}],\"scatterpolargl\":[{\"type\":\"scatterpolargl\",\"marker\":{\"colorbar\":{\"outlinewidth\":0,\"ticks\":\"\"}}}],\"bar\":[{\"error_x\":{\"color\":\"#2a3f5f\"},\"error_y\":{\"color\":\"#2a3f5f\"},\"marker\":{\"line\":{\"color\":\"#E5ECF6\",\"width\":0.5},\"pattern\":{\"fillmode\":\"overlay\",\"size\":10,\"solidity\":0.2}},\"type\":\"bar\"}],\"scattergeo\":[{\"type\":\"scattergeo\",\"marker\":{\"colorbar\":{\"outlinewidth\":0,\"ticks\":\"\"}}}],\"scatterpolar\":[{\"type\":\"scatterpolar\",\"marker\":{\"colorbar\":{\"outlinewidth\":0,\"ticks\":\"\"}}}],\"histogram\":[{\"marker\":{\"pattern\":{\"fillmode\":\"overlay\",\"size\":10,\"solidity\":0.2}},\"type\":\"histogram\"}],\"scattergl\":[{\"type\":\"scattergl\",\"marker\":{\"colorbar\":{\"outlinewidth\":0,\"ticks\":\"\"}}}],\"scatter3d\":[{\"type\":\"scatter3d\",\"line\":{\"colorbar\":{\"outlinewidth\":0,\"ticks\":\"\"}},\"marker\":{\"colorbar\":{\"outlinewidth\":0,\"ticks\":\"\"}}}],\"scattermapbox\":[{\"type\":\"scattermapbox\",\"marker\":{\"colorbar\":{\"outlinewidth\":0,\"ticks\":\"\"}}}],\"scatterternary\":[{\"type\":\"scatterternary\",\"marker\":{\"colorbar\":{\"outlinewidth\":0,\"ticks\":\"\"}}}],\"scattercarpet\":[{\"type\":\"scattercarpet\",\"marker\":{\"colorbar\":{\"outlinewidth\":0,\"ticks\":\"\"}}}],\"carpet\":[{\"aaxis\":{\"endlinecolor\":\"#2a3f5f\",\"gridcolor\":\"white\",\"linecolor\":\"white\",\"minorgridcolor\":\"white\",\"startlinecolor\":\"#2a3f5f\"},\"baxis\":{\"endlinecolor\":\"#2a3f5f\",\"gridcolor\":\"white\",\"linecolor\":\"white\",\"minorgridcolor\":\"white\",\"startlinecolor\":\"#2a3f5f\"},\"type\":\"carpet\"}],\"table\":[{\"cells\":{\"fill\":{\"color\":\"#EBF0F8\"},\"line\":{\"color\":\"white\"}},\"header\":{\"fill\":{\"color\":\"#C8D4E3\"},\"line\":{\"color\":\"white\"}},\"type\":\"table\"}],\"barpolar\":[{\"marker\":{\"line\":{\"color\":\"#E5ECF6\",\"width\":0.5},\"pattern\":{\"fillmode\":\"overlay\",\"size\":10,\"solidity\":0.2}},\"type\":\"barpolar\"}],\"pie\":[{\"automargin\":true,\"type\":\"pie\"}]},\"layout\":{\"autotypenumbers\":\"strict\",\"colorway\":[\"#636efa\",\"#EF553B\",\"#00cc96\",\"#ab63fa\",\"#FFA15A\",\"#19d3f3\",\"#FF6692\",\"#B6E880\",\"#FF97FF\",\"#FECB52\"],\"font\":{\"color\":\"#2a3f5f\"},\"hovermode\":\"closest\",\"hoverlabel\":{\"align\":\"left\"},\"paper_bgcolor\":\"white\",\"plot_bgcolor\":\"#E5ECF6\",\"polar\":{\"bgcolor\":\"#E5ECF6\",\"angularaxis\":{\"gridcolor\":\"white\",\"linecolor\":\"white\",\"ticks\":\"\"},\"radialaxis\":{\"gridcolor\":\"white\",\"linecolor\":\"white\",\"ticks\":\"\"}},\"ternary\":{\"bgcolor\":\"#E5ECF6\",\"aaxis\":{\"gridcolor\":\"white\",\"linecolor\":\"white\",\"ticks\":\"\"},\"baxis\":{\"gridcolor\":\"white\",\"linecolor\":\"white\",\"ticks\":\"\"},\"caxis\":{\"gridcolor\":\"white\",\"linecolor\":\"white\",\"ticks\":\"\"}},\"coloraxis\":{\"colorbar\":{\"outlinewidth\":0,\"ticks\":\"\"}},\"colorscale\":{\"sequential\":[[0.0,\"#0d0887\"],[0.1111111111111111,\"#46039f\"],[0.2222222222222222,\"#7201a8\"],[0.3333333333333333,\"#9c179e\"],[0.4444444444444444,\"#bd3786\"],[0.5555555555555556,\"#d8576b\"],[0.6666666666666666,\"#ed7953\"],[0.7777777777777778,\"#fb9f3a\"],[0.8888888888888888,\"#fdca26\"],[1.0,\"#f0f921\"]],\"sequentialminus\":[[0.0,\"#0d0887\"],[0.1111111111111111,\"#46039f\"],[0.2222222222222222,\"#7201a8\"],[0.3333333333333333,\"#9c179e\"],[0.4444444444444444,\"#bd3786\"],[0.5555555555555556,\"#d8576b\"],[0.6666666666666666,\"#ed7953\"],[0.7777777777777778,\"#fb9f3a\"],[0.8888888888888888,\"#fdca26\"],[1.0,\"#f0f921\"]],\"diverging\":[[0,\"#8e0152\"],[0.1,\"#c51b7d\"],[0.2,\"#de77ae\"],[0.3,\"#f1b6da\"],[0.4,\"#fde0ef\"],[0.5,\"#f7f7f7\"],[0.6,\"#e6f5d0\"],[0.7,\"#b8e186\"],[0.8,\"#7fbc41\"],[0.9,\"#4d9221\"],[1,\"#276419\"]]},\"xaxis\":{\"gridcolor\":\"white\",\"linecolor\":\"white\",\"ticks\":\"\",\"title\":{\"standoff\":15},\"zerolinecolor\":\"white\",\"automargin\":true,\"zerolinewidth\":2},\"yaxis\":{\"gridcolor\":\"white\",\"linecolor\":\"white\",\"ticks\":\"\",\"title\":{\"standoff\":15},\"zerolinecolor\":\"white\",\"automargin\":true,\"zerolinewidth\":2},\"scene\":{\"xaxis\":{\"backgroundcolor\":\"#E5ECF6\",\"gridcolor\":\"white\",\"linecolor\":\"white\",\"showbackground\":true,\"ticks\":\"\",\"zerolinecolor\":\"white\",\"gridwidth\":2},\"yaxis\":{\"backgroundcolor\":\"#E5ECF6\",\"gridcolor\":\"white\",\"linecolor\":\"white\",\"showbackground\":true,\"ticks\":\"\",\"zerolinecolor\":\"white\",\"gridwidth\":2},\"zaxis\":{\"backgroundcolor\":\"#E5ECF6\",\"gridcolor\":\"white\",\"linecolor\":\"white\",\"showbackground\":true,\"ticks\":\"\",\"zerolinecolor\":\"white\",\"gridwidth\":2}},\"shapedefaults\":{\"line\":{\"color\":\"#2a3f5f\"}},\"annotationdefaults\":{\"arrowcolor\":\"#2a3f5f\",\"arrowhead\":0,\"arrowwidth\":1},\"geo\":{\"bgcolor\":\"white\",\"landcolor\":\"#E5ECF6\",\"subunitcolor\":\"white\",\"showland\":true,\"showlakes\":true,\"lakecolor\":\"white\"},\"title\":{\"x\":0.05},\"mapbox\":{\"style\":\"light\"}}},\"yaxis\":{\"range\":[-1000,25000],\"title\":{\"text\":\"#number of peptides\"}},\"xaxis\":{\"tickangle\":45,\"tick0\":0,\"dtick\":1.2},\"width\":1300,\"height\":400,\"showlegend\":false},                        {\"responsive\": true}                    ).then(function(){\n",
       "                            \n",
       "var gd = document.getElementById('e76ecc52-326d-4f4f-9e3c-5a3b5cb18abb');\n",
       "var x = new MutationObserver(function (mutations, observer) {{\n",
       "        var display = window.getComputedStyle(gd).display;\n",
       "        if (!display || display === 'none') {{\n",
       "            console.log([gd, 'removed!']);\n",
       "            Plotly.purge(gd);\n",
       "            observer.disconnect();\n",
       "        }}\n",
       "}});\n",
       "\n",
       "// Listen for the removal of the full notebook cells\n",
       "var notebookContainer = gd.closest('#notebook-container');\n",
       "if (notebookContainer) {{\n",
       "    x.observe(notebookContainer, {childList: true});\n",
       "}}\n",
       "\n",
       "// Listen for the clearing of the current output cell\n",
       "var outputEl = gd.closest('.output');\n",
       "if (outputEl) {{\n",
       "    x.observe(outputEl, {childList: true});\n",
       "}}\n",
       "\n",
       "                        })                };                });            </script>        </div>"
      ]
     },
     "metadata": {},
     "output_type": "display_data"
    }
   ],
   "source": [
    "fig = plot(all_alleles_all_datasets, \"B\")\n",
    "\n",
    "fig.update_layout(width=1300, yaxis_title=\"#number of peptides\", showlegend=True)"
   ]
  },
  {
   "cell_type": "markdown",
   "id": "c5de7432",
   "metadata": {},
   "source": [
    "## Dataset contents locus C"
   ]
  },
  {
   "cell_type": "code",
   "execution_count": 29,
   "id": "375def1d",
   "metadata": {},
   "outputs": [
    {
     "data": {
      "application/vnd.plotly.v1+json": {
       "config": {
        "plotlyServerURL": "https://plot.ly"
       },
       "data": [
        {
         "line": {
          "color": "#1F77B4",
          "dash": "dot"
         },
         "marker": {
          "color": [
           "#1F77B4",
           "#1F77B4",
           "#1F77B4",
           "#1F77B4",
           "#1F77B4",
           "#1F77B4",
           "#1F77B4",
           "#1F77B4",
           "#1F77B4",
           "#1F77B4",
           "#1F77B4",
           "#1F77B4",
           "#1F77B4",
           "#1F77B4",
           "#1F77B4",
           "#1F77B4",
           "#1F77B4",
           "#1F77B4",
           "#1F77B4",
           "#1F77B4"
          ],
          "line": {
           "width": 1
          },
          "size": 0,
          "symbol": [
           "line-ns",
           "line-ns",
           "line-ns",
           "line-ns",
           "line-ns",
           "line-ns",
           "line-ns",
           "line-ns",
           "line-ns",
           "line-ns",
           "line-ns",
           "line-ns",
           "line-ns",
           "line-ns",
           "line-ns",
           "line-ns",
           "line-ns",
           "line-ns",
           "line-ns",
           "line-ns"
          ]
         },
         "mode": "lines",
         "name": "MHCFlurry2.0_MS",
         "opacity": 0.5,
         "type": "scatter",
         "x": [
          "C*12:02",
          "C*05:01",
          "C*16:01",
          "C*08:02",
          "C*03:03",
          "C*06:02",
          "C*15:02",
          "C*07:01",
          "C*12:03",
          "C*03:04",
          "C*07:02",
          "C*14:02",
          "C*02:02",
          "C*04:01",
          "C*14:03",
          "C*01:02",
          "C*08:01",
          "C*17:01",
          "C*03:02",
          "C*04:03"
         ],
         "y": [
          11168,
          6010,
          5702,
          5253,
          4755,
          4555,
          4338,
          4334,
          4199,
          4116,
          3640,
          3534,
          3353,
          3279,
          2986,
          2523,
          1925,
          1468,
          1277,
          1133
         ]
        },
        {
         "line": {
          "color": "#1F77B4",
          "dash": "dot"
         },
         "marker": {
          "color": [
           "#1F77B4",
           "#1F77B4",
           "#1F77B4",
           "#1F77B4",
           "#1F77B4",
           "#1F77B4",
           "#1F77B4",
           "#1F77B4",
           "#1F77B4",
           "#1F77B4",
           "#1F77B4",
           "#1F77B4",
           "#1F77B4",
           "#1F77B4",
           "#1F77B4",
           "#1F77B4",
           "#1F77B4",
           "#1F77B4",
           "#1F77B4",
           "#1F77B4"
          ],
          "line": {
           "width": 2
          },
          "size": 9,
          "symbol": [
           "line-ns",
           "line-ns",
           "line-ns",
           "line-ns",
           "line-ns",
           "line-ns",
           "line-ns",
           "line-ns",
           "line-ns",
           "line-ns",
           "line-ns",
           "line-ns",
           "line-ns",
           "line-ns",
           "line-ns",
           "line-ns",
           "line-ns",
           "line-ns",
           "line-ns",
           "line-ns"
          ]
         },
         "mode": "markers",
         "name": "MHCFlurry2.0_MS",
         "opacity": 1,
         "type": "scatter",
         "x": [
          "C*12:02",
          "C*05:01",
          "C*16:01",
          "C*08:02",
          "C*03:03",
          "C*06:02",
          "C*15:02",
          "C*07:01",
          "C*12:03",
          "C*03:04",
          "C*07:02",
          "C*14:02",
          "C*02:02",
          "C*04:01",
          "C*14:03",
          "C*01:02",
          "C*08:01",
          "C*17:01",
          "C*03:02",
          "C*04:03"
         ],
         "y": [
          11168,
          6010,
          5702,
          5253,
          4755,
          4555,
          4338,
          4334,
          4199,
          4116,
          3640,
          3534,
          3353,
          3279,
          2986,
          2523,
          1925,
          1468,
          1277,
          1133
         ]
        },
        {
         "line": {
          "color": "#1F77B4",
          "dash": "dot"
         },
         "marker": {
          "color": [
           "#1F77B4",
           "#1F77B4",
           "#1F77B4",
           "#1F77B4",
           "#1F77B4",
           "#1F77B4",
           "#1F77B4",
           "#1F77B4",
           "#1F77B4",
           "#1F77B4",
           "#1F77B4",
           "#1F77B4",
           "#1F77B4",
           "#1F77B4",
           "#1F77B4",
           "#1F77B4",
           "#1F77B4",
           "#1F77B4",
           "#1F77B4",
           "#1F77B4"
          ],
          "line": {
           "width": 2
          },
          "size": 9,
          "symbol": "circle-open"
         },
         "mode": "markers",
         "name": "MHCFlurry2.0_MS",
         "opacity": 1,
         "type": "scatter",
         "x": [
          "C*12:02",
          "C*05:01",
          "C*16:01",
          "C*08:02",
          "C*03:03",
          "C*06:02",
          "C*15:02",
          "C*07:01",
          "C*12:03",
          "C*03:04",
          "C*07:02",
          "C*14:02",
          "C*02:02",
          "C*04:01",
          "C*14:03",
          "C*01:02",
          "C*08:01",
          "C*17:01",
          "C*03:02",
          "C*04:03"
         ],
         "y": [
          11168,
          6010,
          5702,
          5253,
          4755,
          4555,
          4338,
          4334,
          4199,
          4116,
          3640,
          3534,
          3353,
          3279,
          2986,
          2523,
          1925,
          1468,
          1277,
          1133
         ]
        },
        {
         "line": {
          "color": "#1F77B4",
          "dash": "dot"
         },
         "marker": {
          "color": [
           "#1F77B4",
           "#1F77B4",
           "#1F77B4",
           "#1F77B4",
           "#1F77B4",
           "#1F77B4",
           "#1F77B4",
           "#1F77B4",
           "#1F77B4",
           "#1F77B4",
           "#1F77B4",
           "#1F77B4",
           "#1F77B4",
           "#1F77B4",
           "#1F77B4",
           "#1F77B4",
           "#1F77B4",
           "#1F77B4",
           "#1F77B4",
           "#1F77B4"
          ],
          "line": {
           "width": 1
          },
          "size": 0,
          "symbol": [
           "line-ew",
           "line-ew",
           "line-ew",
           "line-ew",
           "line-ew",
           "line-ew",
           "line-ew",
           "line-ew",
           "line-ew",
           "line-ew",
           "line-ew",
           "line-ew",
           "line-ew",
           "line-ew",
           "line-ew",
           "line-ew",
           "line-ew",
           "line-ew",
           "line-ew",
           "line-ew"
          ]
         },
         "mode": "lines",
         "name": "NetMHCpan4.1_MS",
         "opacity": 0.5,
         "type": "scatter",
         "x": [
          "C*12:02",
          "C*05:01",
          "C*16:01",
          "C*08:02",
          "C*03:03",
          "C*06:02",
          "C*15:02",
          "C*07:01",
          "C*12:03",
          "C*03:04",
          "C*07:02",
          "C*14:02",
          "C*02:02",
          "C*04:01",
          "C*14:03",
          "C*01:02",
          "C*08:01",
          "C*17:01",
          "C*03:02",
          "C*04:03"
         ],
         "y": [
          730,
          5943,
          4247,
          3647,
          2961,
          3037,
          1917,
          1462,
          3349,
          2893,
          3190,
          2942,
          2733,
          2795,
          0,
          1700,
          101,
          602,
          0,
          0
         ]
        },
        {
         "line": {
          "color": "#1F77B4",
          "dash": "dot"
         },
         "marker": {
          "color": [
           "#1F77B4",
           "#1F77B4",
           "#1F77B4",
           "#1F77B4",
           "#1F77B4",
           "#1F77B4",
           "#1F77B4",
           "#1F77B4",
           "#1F77B4",
           "#1F77B4",
           "#1F77B4",
           "#1F77B4",
           "#1F77B4",
           "#1F77B4",
           "#1F77B4",
           "#1F77B4",
           "#1F77B4"
          ],
          "line": {
           "width": 2
          },
          "size": 9,
          "symbol": [
           "line-ew",
           "line-ew",
           "line-ew",
           "line-ew",
           "line-ew",
           "line-ew",
           "line-ew",
           "line-ew",
           "line-ew",
           "line-ew",
           "line-ew",
           "line-ew",
           "line-ew",
           "line-ew",
           "line-ew",
           "line-ew",
           "line-ew"
          ]
         },
         "mode": "markers",
         "name": "NetMHCpan4.1_MS",
         "opacity": 1,
         "type": "scatter",
         "x": [
          "C*12:02",
          "C*05:01",
          "C*16:01",
          "C*08:02",
          "C*03:03",
          "C*06:02",
          "C*15:02",
          "C*07:01",
          "C*12:03",
          "C*03:04",
          "C*07:02",
          "C*14:02",
          "C*02:02",
          "C*04:01",
          "C*01:02",
          "C*08:01",
          "C*17:01"
         ],
         "y": [
          730,
          5943,
          4247,
          3647,
          2961,
          3037,
          1917,
          1462,
          3349,
          2893,
          3190,
          2942,
          2733,
          2795,
          1700,
          101,
          602
         ]
        },
        {
         "line": {
          "color": "#1F77B4",
          "dash": "dot"
         },
         "marker": {
          "color": [
           "#1F77B4",
           "#1F77B4",
           "#1F77B4",
           "#1F77B4",
           "#1F77B4",
           "#1F77B4",
           "#1F77B4",
           "#1F77B4",
           "#1F77B4",
           "#1F77B4",
           "#1F77B4",
           "#1F77B4",
           "#1F77B4",
           "#1F77B4",
           "#1F77B4",
           "#1F77B4",
           "#1F77B4"
          ],
          "line": {
           "width": 2
          },
          "size": 9,
          "symbol": "circle-open"
         },
         "mode": "markers",
         "name": "NetMHCpan4.1_MS",
         "opacity": 1,
         "type": "scatter",
         "x": [
          "C*12:02",
          "C*05:01",
          "C*16:01",
          "C*08:02",
          "C*03:03",
          "C*06:02",
          "C*15:02",
          "C*07:01",
          "C*12:03",
          "C*03:04",
          "C*07:02",
          "C*14:02",
          "C*02:02",
          "C*04:01",
          "C*01:02",
          "C*08:01",
          "C*17:01"
         ],
         "y": [
          730,
          5943,
          4247,
          3647,
          2961,
          3037,
          1917,
          1462,
          3349,
          2893,
          3190,
          2942,
          2733,
          2795,
          1700,
          101,
          602
         ]
        },
        {
         "line": {
          "color": "#D62728",
          "dash": "dot"
         },
         "marker": {
          "color": [
           "#D62728",
           "#D62728",
           "#D62728",
           "#D62728",
           "#D62728",
           "#D62728",
           "#D62728",
           "#D62728",
           "#D62728",
           "#D62728",
           "#D62728",
           "#D62728",
           "#D62728",
           "#D62728",
           "#D62728",
           "#D62728",
           "#D62728",
           "#D62728",
           "#D62728",
           "#D62728"
          ],
          "line": {
           "width": 1
          },
          "size": 0,
          "symbol": [
           "line-ne",
           "line-ne",
           "line-ne",
           "line-ne",
           "line-ne",
           "line-ne",
           "line-ne",
           "line-ne",
           "line-ne",
           "line-ne",
           "line-ne",
           "line-ne",
           "line-ne",
           "line-ne",
           "line-ne",
           "line-ne",
           "line-ne",
           "line-ne",
           "line-ne",
           "line-ne"
          ]
         },
         "mode": "lines",
         "name": "MHCFlurry2.0_BA",
         "opacity": 0.5,
         "type": "scatter",
         "x": [
          "C*12:02",
          "C*05:01",
          "C*16:01",
          "C*08:02",
          "C*03:03",
          "C*06:02",
          "C*15:02",
          "C*07:01",
          "C*12:03",
          "C*03:04",
          "C*07:02",
          "C*14:02",
          "C*02:02",
          "C*04:01",
          "C*14:03",
          "C*01:02",
          "C*08:01",
          "C*17:01",
          "C*03:02",
          "C*04:03"
         ],
         "y": [
          27,
          220,
          0,
          135,
          165,
          398,
          181,
          441,
          172,
          314,
          180,
          243,
          0,
          521,
          0,
          9,
          42,
          0,
          0,
          0
         ]
        },
        {
         "line": {
          "color": "#D62728",
          "dash": "dot"
         },
         "marker": {
          "color": [
           "#D62728",
           "#D62728",
           "#D62728",
           "#D62728",
           "#D62728",
           "#D62728",
           "#D62728",
           "#D62728",
           "#D62728",
           "#D62728",
           "#D62728",
           "#D62728",
           "#D62728",
           "#D62728"
          ],
          "line": {
           "width": 2
          },
          "size": 9,
          "symbol": [
           "line-ne",
           "line-ne",
           "line-ne",
           "line-ne",
           "line-ne",
           "line-ne",
           "line-ne",
           "line-ne",
           "line-ne",
           "line-ne",
           "line-ne",
           "line-ne",
           "line-ne",
           "line-ne"
          ]
         },
         "mode": "markers",
         "name": "MHCFlurry2.0_BA",
         "opacity": 1,
         "type": "scatter",
         "x": [
          "C*12:02",
          "C*05:01",
          "C*08:02",
          "C*03:03",
          "C*06:02",
          "C*15:02",
          "C*07:01",
          "C*12:03",
          "C*03:04",
          "C*07:02",
          "C*14:02",
          "C*04:01",
          "C*01:02",
          "C*08:01"
         ],
         "y": [
          27,
          220,
          135,
          165,
          398,
          181,
          441,
          172,
          314,
          180,
          243,
          521,
          9,
          42
         ]
        },
        {
         "line": {
          "color": "#D62728",
          "dash": "dot"
         },
         "marker": {
          "color": [
           "#D62728",
           "#D62728",
           "#D62728",
           "#D62728",
           "#D62728",
           "#D62728",
           "#D62728",
           "#D62728",
           "#D62728",
           "#D62728",
           "#D62728",
           "#D62728",
           "#D62728",
           "#D62728"
          ],
          "line": {
           "width": 2
          },
          "size": 9,
          "symbol": "circle-open"
         },
         "mode": "markers",
         "name": "MHCFlurry2.0_BA",
         "opacity": 1,
         "type": "scatter",
         "x": [
          "C*12:02",
          "C*05:01",
          "C*08:02",
          "C*03:03",
          "C*06:02",
          "C*15:02",
          "C*07:01",
          "C*12:03",
          "C*03:04",
          "C*07:02",
          "C*14:02",
          "C*04:01",
          "C*01:02",
          "C*08:01"
         ],
         "y": [
          27,
          220,
          135,
          165,
          398,
          181,
          441,
          172,
          314,
          180,
          243,
          521,
          9,
          42
         ]
        },
        {
         "line": {
          "color": "#D62728",
          "dash": "dot"
         },
         "marker": {
          "color": [
           "#D62728",
           "#D62728",
           "#D62728",
           "#D62728",
           "#D62728",
           "#D62728",
           "#D62728",
           "#D62728",
           "#D62728",
           "#D62728",
           "#D62728",
           "#D62728",
           "#D62728",
           "#D62728",
           "#D62728",
           "#D62728",
           "#D62728",
           "#D62728",
           "#D62728",
           "#D62728"
          ],
          "line": {
           "width": 1
          },
          "size": 0,
          "symbol": [
           "line-nw",
           "line-nw",
           "line-nw",
           "line-nw",
           "line-nw",
           "line-nw",
           "line-nw",
           "line-nw",
           "line-nw",
           "line-nw",
           "line-nw",
           "line-nw",
           "line-nw",
           "line-nw",
           "line-nw",
           "line-nw",
           "line-nw",
           "line-nw",
           "line-nw",
           "line-nw"
          ]
         },
         "mode": "lines",
         "name": "NetMHCpan4.1_BA",
         "opacity": 0.5,
         "type": "scatter",
         "x": [
          "C*12:02",
          "C*05:01",
          "C*16:01",
          "C*08:02",
          "C*03:03",
          "C*06:02",
          "C*15:02",
          "C*07:01",
          "C*12:03",
          "C*03:04",
          "C*07:02",
          "C*14:02",
          "C*02:02",
          "C*04:01",
          "C*14:03",
          "C*01:02",
          "C*08:01",
          "C*17:01",
          "C*03:02",
          "C*04:03"
         ],
         "y": [
          0,
          273,
          0,
          187,
          265,
          508,
          353,
          361,
          272,
          0,
          243,
          359,
          0,
          652,
          0,
          0,
          0,
          0,
          0,
          0
         ]
        },
        {
         "line": {
          "color": "#D62728",
          "dash": "dot"
         },
         "marker": {
          "color": [
           "#D62728",
           "#D62728",
           "#D62728",
           "#D62728",
           "#D62728",
           "#D62728",
           "#D62728",
           "#D62728",
           "#D62728",
           "#D62728"
          ],
          "line": {
           "width": 2
          },
          "size": 9,
          "symbol": [
           "line-nw",
           "line-nw",
           "line-nw",
           "line-nw",
           "line-nw",
           "line-nw",
           "line-nw",
           "line-nw",
           "line-nw",
           "line-nw"
          ]
         },
         "mode": "markers",
         "name": "NetMHCpan4.1_BA",
         "opacity": 1,
         "type": "scatter",
         "x": [
          "C*05:01",
          "C*08:02",
          "C*03:03",
          "C*06:02",
          "C*15:02",
          "C*07:01",
          "C*12:03",
          "C*07:02",
          "C*14:02",
          "C*04:01"
         ],
         "y": [
          273,
          187,
          265,
          508,
          353,
          361,
          272,
          243,
          359,
          652
         ]
        },
        {
         "line": {
          "color": "#D62728",
          "dash": "dot"
         },
         "marker": {
          "color": [
           "#D62728",
           "#D62728",
           "#D62728",
           "#D62728",
           "#D62728",
           "#D62728",
           "#D62728",
           "#D62728",
           "#D62728",
           "#D62728"
          ],
          "line": {
           "width": 2
          },
          "size": 9,
          "symbol": "circle-open"
         },
         "mode": "markers",
         "name": "NetMHCpan4.1_BA",
         "opacity": 1,
         "type": "scatter",
         "x": [
          "C*05:01",
          "C*08:02",
          "C*03:03",
          "C*06:02",
          "C*15:02",
          "C*07:01",
          "C*12:03",
          "C*07:02",
          "C*14:02",
          "C*04:01"
         ],
         "y": [
          273,
          187,
          265,
          508,
          353,
          361,
          272,
          243,
          359,
          652
         ]
        }
       ],
       "layout": {
        "height": 400,
        "showlegend": false,
        "template": {
         "data": {
          "bar": [
           {
            "error_x": {
             "color": "#2a3f5f"
            },
            "error_y": {
             "color": "#2a3f5f"
            },
            "marker": {
             "line": {
              "color": "#E5ECF6",
              "width": 0.5
             },
             "pattern": {
              "fillmode": "overlay",
              "size": 10,
              "solidity": 0.2
             }
            },
            "type": "bar"
           }
          ],
          "barpolar": [
           {
            "marker": {
             "line": {
              "color": "#E5ECF6",
              "width": 0.5
             },
             "pattern": {
              "fillmode": "overlay",
              "size": 10,
              "solidity": 0.2
             }
            },
            "type": "barpolar"
           }
          ],
          "carpet": [
           {
            "aaxis": {
             "endlinecolor": "#2a3f5f",
             "gridcolor": "white",
             "linecolor": "white",
             "minorgridcolor": "white",
             "startlinecolor": "#2a3f5f"
            },
            "baxis": {
             "endlinecolor": "#2a3f5f",
             "gridcolor": "white",
             "linecolor": "white",
             "minorgridcolor": "white",
             "startlinecolor": "#2a3f5f"
            },
            "type": "carpet"
           }
          ],
          "choropleth": [
           {
            "colorbar": {
             "outlinewidth": 0,
             "ticks": ""
            },
            "type": "choropleth"
           }
          ],
          "contour": [
           {
            "colorbar": {
             "outlinewidth": 0,
             "ticks": ""
            },
            "colorscale": [
             [
              0,
              "#0d0887"
             ],
             [
              0.1111111111111111,
              "#46039f"
             ],
             [
              0.2222222222222222,
              "#7201a8"
             ],
             [
              0.3333333333333333,
              "#9c179e"
             ],
             [
              0.4444444444444444,
              "#bd3786"
             ],
             [
              0.5555555555555556,
              "#d8576b"
             ],
             [
              0.6666666666666666,
              "#ed7953"
             ],
             [
              0.7777777777777778,
              "#fb9f3a"
             ],
             [
              0.8888888888888888,
              "#fdca26"
             ],
             [
              1,
              "#f0f921"
             ]
            ],
            "type": "contour"
           }
          ],
          "contourcarpet": [
           {
            "colorbar": {
             "outlinewidth": 0,
             "ticks": ""
            },
            "type": "contourcarpet"
           }
          ],
          "heatmap": [
           {
            "colorbar": {
             "outlinewidth": 0,
             "ticks": ""
            },
            "colorscale": [
             [
              0,
              "#0d0887"
             ],
             [
              0.1111111111111111,
              "#46039f"
             ],
             [
              0.2222222222222222,
              "#7201a8"
             ],
             [
              0.3333333333333333,
              "#9c179e"
             ],
             [
              0.4444444444444444,
              "#bd3786"
             ],
             [
              0.5555555555555556,
              "#d8576b"
             ],
             [
              0.6666666666666666,
              "#ed7953"
             ],
             [
              0.7777777777777778,
              "#fb9f3a"
             ],
             [
              0.8888888888888888,
              "#fdca26"
             ],
             [
              1,
              "#f0f921"
             ]
            ],
            "type": "heatmap"
           }
          ],
          "heatmapgl": [
           {
            "colorbar": {
             "outlinewidth": 0,
             "ticks": ""
            },
            "colorscale": [
             [
              0,
              "#0d0887"
             ],
             [
              0.1111111111111111,
              "#46039f"
             ],
             [
              0.2222222222222222,
              "#7201a8"
             ],
             [
              0.3333333333333333,
              "#9c179e"
             ],
             [
              0.4444444444444444,
              "#bd3786"
             ],
             [
              0.5555555555555556,
              "#d8576b"
             ],
             [
              0.6666666666666666,
              "#ed7953"
             ],
             [
              0.7777777777777778,
              "#fb9f3a"
             ],
             [
              0.8888888888888888,
              "#fdca26"
             ],
             [
              1,
              "#f0f921"
             ]
            ],
            "type": "heatmapgl"
           }
          ],
          "histogram": [
           {
            "marker": {
             "pattern": {
              "fillmode": "overlay",
              "size": 10,
              "solidity": 0.2
             }
            },
            "type": "histogram"
           }
          ],
          "histogram2d": [
           {
            "colorbar": {
             "outlinewidth": 0,
             "ticks": ""
            },
            "colorscale": [
             [
              0,
              "#0d0887"
             ],
             [
              0.1111111111111111,
              "#46039f"
             ],
             [
              0.2222222222222222,
              "#7201a8"
             ],
             [
              0.3333333333333333,
              "#9c179e"
             ],
             [
              0.4444444444444444,
              "#bd3786"
             ],
             [
              0.5555555555555556,
              "#d8576b"
             ],
             [
              0.6666666666666666,
              "#ed7953"
             ],
             [
              0.7777777777777778,
              "#fb9f3a"
             ],
             [
              0.8888888888888888,
              "#fdca26"
             ],
             [
              1,
              "#f0f921"
             ]
            ],
            "type": "histogram2d"
           }
          ],
          "histogram2dcontour": [
           {
            "colorbar": {
             "outlinewidth": 0,
             "ticks": ""
            },
            "colorscale": [
             [
              0,
              "#0d0887"
             ],
             [
              0.1111111111111111,
              "#46039f"
             ],
             [
              0.2222222222222222,
              "#7201a8"
             ],
             [
              0.3333333333333333,
              "#9c179e"
             ],
             [
              0.4444444444444444,
              "#bd3786"
             ],
             [
              0.5555555555555556,
              "#d8576b"
             ],
             [
              0.6666666666666666,
              "#ed7953"
             ],
             [
              0.7777777777777778,
              "#fb9f3a"
             ],
             [
              0.8888888888888888,
              "#fdca26"
             ],
             [
              1,
              "#f0f921"
             ]
            ],
            "type": "histogram2dcontour"
           }
          ],
          "mesh3d": [
           {
            "colorbar": {
             "outlinewidth": 0,
             "ticks": ""
            },
            "type": "mesh3d"
           }
          ],
          "parcoords": [
           {
            "line": {
             "colorbar": {
              "outlinewidth": 0,
              "ticks": ""
             }
            },
            "type": "parcoords"
           }
          ],
          "pie": [
           {
            "automargin": true,
            "type": "pie"
           }
          ],
          "scatter": [
           {
            "fillpattern": {
             "fillmode": "overlay",
             "size": 10,
             "solidity": 0.2
            },
            "type": "scatter"
           }
          ],
          "scatter3d": [
           {
            "line": {
             "colorbar": {
              "outlinewidth": 0,
              "ticks": ""
             }
            },
            "marker": {
             "colorbar": {
              "outlinewidth": 0,
              "ticks": ""
             }
            },
            "type": "scatter3d"
           }
          ],
          "scattercarpet": [
           {
            "marker": {
             "colorbar": {
              "outlinewidth": 0,
              "ticks": ""
             }
            },
            "type": "scattercarpet"
           }
          ],
          "scattergeo": [
           {
            "marker": {
             "colorbar": {
              "outlinewidth": 0,
              "ticks": ""
             }
            },
            "type": "scattergeo"
           }
          ],
          "scattergl": [
           {
            "marker": {
             "colorbar": {
              "outlinewidth": 0,
              "ticks": ""
             }
            },
            "type": "scattergl"
           }
          ],
          "scattermapbox": [
           {
            "marker": {
             "colorbar": {
              "outlinewidth": 0,
              "ticks": ""
             }
            },
            "type": "scattermapbox"
           }
          ],
          "scatterpolar": [
           {
            "marker": {
             "colorbar": {
              "outlinewidth": 0,
              "ticks": ""
             }
            },
            "type": "scatterpolar"
           }
          ],
          "scatterpolargl": [
           {
            "marker": {
             "colorbar": {
              "outlinewidth": 0,
              "ticks": ""
             }
            },
            "type": "scatterpolargl"
           }
          ],
          "scatterternary": [
           {
            "marker": {
             "colorbar": {
              "outlinewidth": 0,
              "ticks": ""
             }
            },
            "type": "scatterternary"
           }
          ],
          "surface": [
           {
            "colorbar": {
             "outlinewidth": 0,
             "ticks": ""
            },
            "colorscale": [
             [
              0,
              "#0d0887"
             ],
             [
              0.1111111111111111,
              "#46039f"
             ],
             [
              0.2222222222222222,
              "#7201a8"
             ],
             [
              0.3333333333333333,
              "#9c179e"
             ],
             [
              0.4444444444444444,
              "#bd3786"
             ],
             [
              0.5555555555555556,
              "#d8576b"
             ],
             [
              0.6666666666666666,
              "#ed7953"
             ],
             [
              0.7777777777777778,
              "#fb9f3a"
             ],
             [
              0.8888888888888888,
              "#fdca26"
             ],
             [
              1,
              "#f0f921"
             ]
            ],
            "type": "surface"
           }
          ],
          "table": [
           {
            "cells": {
             "fill": {
              "color": "#EBF0F8"
             },
             "line": {
              "color": "white"
             }
            },
            "header": {
             "fill": {
              "color": "#C8D4E3"
             },
             "line": {
              "color": "white"
             }
            },
            "type": "table"
           }
          ]
         },
         "layout": {
          "annotationdefaults": {
           "arrowcolor": "#2a3f5f",
           "arrowhead": 0,
           "arrowwidth": 1
          },
          "autotypenumbers": "strict",
          "coloraxis": {
           "colorbar": {
            "outlinewidth": 0,
            "ticks": ""
           }
          },
          "colorscale": {
           "diverging": [
            [
             0,
             "#8e0152"
            ],
            [
             0.1,
             "#c51b7d"
            ],
            [
             0.2,
             "#de77ae"
            ],
            [
             0.3,
             "#f1b6da"
            ],
            [
             0.4,
             "#fde0ef"
            ],
            [
             0.5,
             "#f7f7f7"
            ],
            [
             0.6,
             "#e6f5d0"
            ],
            [
             0.7,
             "#b8e186"
            ],
            [
             0.8,
             "#7fbc41"
            ],
            [
             0.9,
             "#4d9221"
            ],
            [
             1,
             "#276419"
            ]
           ],
           "sequential": [
            [
             0,
             "#0d0887"
            ],
            [
             0.1111111111111111,
             "#46039f"
            ],
            [
             0.2222222222222222,
             "#7201a8"
            ],
            [
             0.3333333333333333,
             "#9c179e"
            ],
            [
             0.4444444444444444,
             "#bd3786"
            ],
            [
             0.5555555555555556,
             "#d8576b"
            ],
            [
             0.6666666666666666,
             "#ed7953"
            ],
            [
             0.7777777777777778,
             "#fb9f3a"
            ],
            [
             0.8888888888888888,
             "#fdca26"
            ],
            [
             1,
             "#f0f921"
            ]
           ],
           "sequentialminus": [
            [
             0,
             "#0d0887"
            ],
            [
             0.1111111111111111,
             "#46039f"
            ],
            [
             0.2222222222222222,
             "#7201a8"
            ],
            [
             0.3333333333333333,
             "#9c179e"
            ],
            [
             0.4444444444444444,
             "#bd3786"
            ],
            [
             0.5555555555555556,
             "#d8576b"
            ],
            [
             0.6666666666666666,
             "#ed7953"
            ],
            [
             0.7777777777777778,
             "#fb9f3a"
            ],
            [
             0.8888888888888888,
             "#fdca26"
            ],
            [
             1,
             "#f0f921"
            ]
           ]
          },
          "colorway": [
           "#636efa",
           "#EF553B",
           "#00cc96",
           "#ab63fa",
           "#FFA15A",
           "#19d3f3",
           "#FF6692",
           "#B6E880",
           "#FF97FF",
           "#FECB52"
          ],
          "font": {
           "color": "#2a3f5f"
          },
          "geo": {
           "bgcolor": "white",
           "lakecolor": "white",
           "landcolor": "#E5ECF6",
           "showlakes": true,
           "showland": true,
           "subunitcolor": "white"
          },
          "hoverlabel": {
           "align": "left"
          },
          "hovermode": "closest",
          "mapbox": {
           "style": "light"
          },
          "paper_bgcolor": "white",
          "plot_bgcolor": "#E5ECF6",
          "polar": {
           "angularaxis": {
            "gridcolor": "white",
            "linecolor": "white",
            "ticks": ""
           },
           "bgcolor": "#E5ECF6",
           "radialaxis": {
            "gridcolor": "white",
            "linecolor": "white",
            "ticks": ""
           }
          },
          "scene": {
           "xaxis": {
            "backgroundcolor": "#E5ECF6",
            "gridcolor": "white",
            "gridwidth": 2,
            "linecolor": "white",
            "showbackground": true,
            "ticks": "",
            "zerolinecolor": "white"
           },
           "yaxis": {
            "backgroundcolor": "#E5ECF6",
            "gridcolor": "white",
            "gridwidth": 2,
            "linecolor": "white",
            "showbackground": true,
            "ticks": "",
            "zerolinecolor": "white"
           },
           "zaxis": {
            "backgroundcolor": "#E5ECF6",
            "gridcolor": "white",
            "gridwidth": 2,
            "linecolor": "white",
            "showbackground": true,
            "ticks": "",
            "zerolinecolor": "white"
           }
          },
          "shapedefaults": {
           "line": {
            "color": "#2a3f5f"
           }
          },
          "ternary": {
           "aaxis": {
            "gridcolor": "white",
            "linecolor": "white",
            "ticks": ""
           },
           "baxis": {
            "gridcolor": "white",
            "linecolor": "white",
            "ticks": ""
           },
           "bgcolor": "#E5ECF6",
           "caxis": {
            "gridcolor": "white",
            "linecolor": "white",
            "ticks": ""
           }
          },
          "title": {
           "x": 0.05
          },
          "xaxis": {
           "automargin": true,
           "gridcolor": "white",
           "linecolor": "white",
           "ticks": "",
           "title": {
            "standoff": 15
           },
           "zerolinecolor": "white",
           "zerolinewidth": 2
          },
          "yaxis": {
           "automargin": true,
           "gridcolor": "white",
           "linecolor": "white",
           "ticks": "",
           "title": {
            "standoff": 15
           },
           "zerolinecolor": "white",
           "zerolinewidth": 2
          }
         }
        },
        "width": 800,
        "xaxis": {
         "dtick": 1.2,
         "tick0": 0,
         "tickangle": 45
        },
        "yaxis": {
         "range": [
          -1000,
          25000
         ],
         "title": {
          "text": "#number of peptides"
         }
        }
       }
      },
      "text/html": [
       "<div>                            <div id=\"cdc50057-cc80-463d-9082-d2eca36c97a2\" class=\"plotly-graph-div\" style=\"height:400px; width:800px;\"></div>            <script type=\"text/javascript\">                require([\"plotly\"], function(Plotly) {                    window.PLOTLYENV=window.PLOTLYENV || {};                                    if (document.getElementById(\"cdc50057-cc80-463d-9082-d2eca36c97a2\")) {                    Plotly.newPlot(                        \"cdc50057-cc80-463d-9082-d2eca36c97a2\",                        [{\"line\":{\"color\":\"#1F77B4\",\"dash\":\"dot\"},\"marker\":{\"color\":[\"#1F77B4\",\"#1F77B4\",\"#1F77B4\",\"#1F77B4\",\"#1F77B4\",\"#1F77B4\",\"#1F77B4\",\"#1F77B4\",\"#1F77B4\",\"#1F77B4\",\"#1F77B4\",\"#1F77B4\",\"#1F77B4\",\"#1F77B4\",\"#1F77B4\",\"#1F77B4\",\"#1F77B4\",\"#1F77B4\",\"#1F77B4\",\"#1F77B4\"],\"line\":{\"width\":1},\"size\":0,\"symbol\":[\"line-ns\",\"line-ns\",\"line-ns\",\"line-ns\",\"line-ns\",\"line-ns\",\"line-ns\",\"line-ns\",\"line-ns\",\"line-ns\",\"line-ns\",\"line-ns\",\"line-ns\",\"line-ns\",\"line-ns\",\"line-ns\",\"line-ns\",\"line-ns\",\"line-ns\",\"line-ns\"]},\"mode\":\"lines\",\"name\":\"MHCFlurry2.0_MS\",\"opacity\":0.5,\"x\":[\"C*12:02\",\"C*05:01\",\"C*16:01\",\"C*08:02\",\"C*03:03\",\"C*06:02\",\"C*15:02\",\"C*07:01\",\"C*12:03\",\"C*03:04\",\"C*07:02\",\"C*14:02\",\"C*02:02\",\"C*04:01\",\"C*14:03\",\"C*01:02\",\"C*08:01\",\"C*17:01\",\"C*03:02\",\"C*04:03\"],\"y\":[11168,6010,5702,5253,4755,4555,4338,4334,4199,4116,3640,3534,3353,3279,2986,2523,1925,1468,1277,1133],\"type\":\"scatter\"},{\"line\":{\"color\":\"#1F77B4\",\"dash\":\"dot\"},\"marker\":{\"color\":[\"#1F77B4\",\"#1F77B4\",\"#1F77B4\",\"#1F77B4\",\"#1F77B4\",\"#1F77B4\",\"#1F77B4\",\"#1F77B4\",\"#1F77B4\",\"#1F77B4\",\"#1F77B4\",\"#1F77B4\",\"#1F77B4\",\"#1F77B4\",\"#1F77B4\",\"#1F77B4\",\"#1F77B4\",\"#1F77B4\",\"#1F77B4\",\"#1F77B4\"],\"line\":{\"width\":2},\"size\":9,\"symbol\":[\"line-ns\",\"line-ns\",\"line-ns\",\"line-ns\",\"line-ns\",\"line-ns\",\"line-ns\",\"line-ns\",\"line-ns\",\"line-ns\",\"line-ns\",\"line-ns\",\"line-ns\",\"line-ns\",\"line-ns\",\"line-ns\",\"line-ns\",\"line-ns\",\"line-ns\",\"line-ns\"]},\"mode\":\"markers\",\"name\":\"MHCFlurry2.0_MS\",\"opacity\":1,\"x\":[\"C*12:02\",\"C*05:01\",\"C*16:01\",\"C*08:02\",\"C*03:03\",\"C*06:02\",\"C*15:02\",\"C*07:01\",\"C*12:03\",\"C*03:04\",\"C*07:02\",\"C*14:02\",\"C*02:02\",\"C*04:01\",\"C*14:03\",\"C*01:02\",\"C*08:01\",\"C*17:01\",\"C*03:02\",\"C*04:03\"],\"y\":[11168,6010,5702,5253,4755,4555,4338,4334,4199,4116,3640,3534,3353,3279,2986,2523,1925,1468,1277,1133],\"type\":\"scatter\"},{\"line\":{\"color\":\"#1F77B4\",\"dash\":\"dot\"},\"marker\":{\"color\":[\"#1F77B4\",\"#1F77B4\",\"#1F77B4\",\"#1F77B4\",\"#1F77B4\",\"#1F77B4\",\"#1F77B4\",\"#1F77B4\",\"#1F77B4\",\"#1F77B4\",\"#1F77B4\",\"#1F77B4\",\"#1F77B4\",\"#1F77B4\",\"#1F77B4\",\"#1F77B4\",\"#1F77B4\",\"#1F77B4\",\"#1F77B4\",\"#1F77B4\"],\"line\":{\"width\":2},\"size\":9,\"symbol\":\"circle-open\"},\"mode\":\"markers\",\"name\":\"MHCFlurry2.0_MS\",\"opacity\":1,\"x\":[\"C*12:02\",\"C*05:01\",\"C*16:01\",\"C*08:02\",\"C*03:03\",\"C*06:02\",\"C*15:02\",\"C*07:01\",\"C*12:03\",\"C*03:04\",\"C*07:02\",\"C*14:02\",\"C*02:02\",\"C*04:01\",\"C*14:03\",\"C*01:02\",\"C*08:01\",\"C*17:01\",\"C*03:02\",\"C*04:03\"],\"y\":[11168,6010,5702,5253,4755,4555,4338,4334,4199,4116,3640,3534,3353,3279,2986,2523,1925,1468,1277,1133],\"type\":\"scatter\"},{\"line\":{\"color\":\"#1F77B4\",\"dash\":\"dot\"},\"marker\":{\"color\":[\"#1F77B4\",\"#1F77B4\",\"#1F77B4\",\"#1F77B4\",\"#1F77B4\",\"#1F77B4\",\"#1F77B4\",\"#1F77B4\",\"#1F77B4\",\"#1F77B4\",\"#1F77B4\",\"#1F77B4\",\"#1F77B4\",\"#1F77B4\",\"#1F77B4\",\"#1F77B4\",\"#1F77B4\",\"#1F77B4\",\"#1F77B4\",\"#1F77B4\"],\"line\":{\"width\":1},\"size\":0,\"symbol\":[\"line-ew\",\"line-ew\",\"line-ew\",\"line-ew\",\"line-ew\",\"line-ew\",\"line-ew\",\"line-ew\",\"line-ew\",\"line-ew\",\"line-ew\",\"line-ew\",\"line-ew\",\"line-ew\",\"line-ew\",\"line-ew\",\"line-ew\",\"line-ew\",\"line-ew\",\"line-ew\"]},\"mode\":\"lines\",\"name\":\"NetMHCpan4.1_MS\",\"opacity\":0.5,\"x\":[\"C*12:02\",\"C*05:01\",\"C*16:01\",\"C*08:02\",\"C*03:03\",\"C*06:02\",\"C*15:02\",\"C*07:01\",\"C*12:03\",\"C*03:04\",\"C*07:02\",\"C*14:02\",\"C*02:02\",\"C*04:01\",\"C*14:03\",\"C*01:02\",\"C*08:01\",\"C*17:01\",\"C*03:02\",\"C*04:03\"],\"y\":[730,5943,4247,3647,2961,3037,1917,1462,3349,2893,3190,2942,2733,2795,0,1700,101,602,0,0],\"type\":\"scatter\"},{\"line\":{\"color\":\"#1F77B4\",\"dash\":\"dot\"},\"marker\":{\"color\":[\"#1F77B4\",\"#1F77B4\",\"#1F77B4\",\"#1F77B4\",\"#1F77B4\",\"#1F77B4\",\"#1F77B4\",\"#1F77B4\",\"#1F77B4\",\"#1F77B4\",\"#1F77B4\",\"#1F77B4\",\"#1F77B4\",\"#1F77B4\",\"#1F77B4\",\"#1F77B4\",\"#1F77B4\"],\"line\":{\"width\":2},\"size\":9,\"symbol\":[\"line-ew\",\"line-ew\",\"line-ew\",\"line-ew\",\"line-ew\",\"line-ew\",\"line-ew\",\"line-ew\",\"line-ew\",\"line-ew\",\"line-ew\",\"line-ew\",\"line-ew\",\"line-ew\",\"line-ew\",\"line-ew\",\"line-ew\"]},\"mode\":\"markers\",\"name\":\"NetMHCpan4.1_MS\",\"opacity\":1,\"x\":[\"C*12:02\",\"C*05:01\",\"C*16:01\",\"C*08:02\",\"C*03:03\",\"C*06:02\",\"C*15:02\",\"C*07:01\",\"C*12:03\",\"C*03:04\",\"C*07:02\",\"C*14:02\",\"C*02:02\",\"C*04:01\",\"C*01:02\",\"C*08:01\",\"C*17:01\"],\"y\":[730,5943,4247,3647,2961,3037,1917,1462,3349,2893,3190,2942,2733,2795,1700,101,602],\"type\":\"scatter\"},{\"line\":{\"color\":\"#1F77B4\",\"dash\":\"dot\"},\"marker\":{\"color\":[\"#1F77B4\",\"#1F77B4\",\"#1F77B4\",\"#1F77B4\",\"#1F77B4\",\"#1F77B4\",\"#1F77B4\",\"#1F77B4\",\"#1F77B4\",\"#1F77B4\",\"#1F77B4\",\"#1F77B4\",\"#1F77B4\",\"#1F77B4\",\"#1F77B4\",\"#1F77B4\",\"#1F77B4\"],\"line\":{\"width\":2},\"size\":9,\"symbol\":\"circle-open\"},\"mode\":\"markers\",\"name\":\"NetMHCpan4.1_MS\",\"opacity\":1,\"x\":[\"C*12:02\",\"C*05:01\",\"C*16:01\",\"C*08:02\",\"C*03:03\",\"C*06:02\",\"C*15:02\",\"C*07:01\",\"C*12:03\",\"C*03:04\",\"C*07:02\",\"C*14:02\",\"C*02:02\",\"C*04:01\",\"C*01:02\",\"C*08:01\",\"C*17:01\"],\"y\":[730,5943,4247,3647,2961,3037,1917,1462,3349,2893,3190,2942,2733,2795,1700,101,602],\"type\":\"scatter\"},{\"line\":{\"color\":\"#D62728\",\"dash\":\"dot\"},\"marker\":{\"color\":[\"#D62728\",\"#D62728\",\"#D62728\",\"#D62728\",\"#D62728\",\"#D62728\",\"#D62728\",\"#D62728\",\"#D62728\",\"#D62728\",\"#D62728\",\"#D62728\",\"#D62728\",\"#D62728\",\"#D62728\",\"#D62728\",\"#D62728\",\"#D62728\",\"#D62728\",\"#D62728\"],\"line\":{\"width\":1},\"size\":0,\"symbol\":[\"line-ne\",\"line-ne\",\"line-ne\",\"line-ne\",\"line-ne\",\"line-ne\",\"line-ne\",\"line-ne\",\"line-ne\",\"line-ne\",\"line-ne\",\"line-ne\",\"line-ne\",\"line-ne\",\"line-ne\",\"line-ne\",\"line-ne\",\"line-ne\",\"line-ne\",\"line-ne\"]},\"mode\":\"lines\",\"name\":\"MHCFlurry2.0_BA\",\"opacity\":0.5,\"x\":[\"C*12:02\",\"C*05:01\",\"C*16:01\",\"C*08:02\",\"C*03:03\",\"C*06:02\",\"C*15:02\",\"C*07:01\",\"C*12:03\",\"C*03:04\",\"C*07:02\",\"C*14:02\",\"C*02:02\",\"C*04:01\",\"C*14:03\",\"C*01:02\",\"C*08:01\",\"C*17:01\",\"C*03:02\",\"C*04:03\"],\"y\":[27,220,0,135,165,398,181,441,172,314,180,243,0,521,0,9,42,0,0,0],\"type\":\"scatter\"},{\"line\":{\"color\":\"#D62728\",\"dash\":\"dot\"},\"marker\":{\"color\":[\"#D62728\",\"#D62728\",\"#D62728\",\"#D62728\",\"#D62728\",\"#D62728\",\"#D62728\",\"#D62728\",\"#D62728\",\"#D62728\",\"#D62728\",\"#D62728\",\"#D62728\",\"#D62728\"],\"line\":{\"width\":2},\"size\":9,\"symbol\":[\"line-ne\",\"line-ne\",\"line-ne\",\"line-ne\",\"line-ne\",\"line-ne\",\"line-ne\",\"line-ne\",\"line-ne\",\"line-ne\",\"line-ne\",\"line-ne\",\"line-ne\",\"line-ne\"]},\"mode\":\"markers\",\"name\":\"MHCFlurry2.0_BA\",\"opacity\":1,\"x\":[\"C*12:02\",\"C*05:01\",\"C*08:02\",\"C*03:03\",\"C*06:02\",\"C*15:02\",\"C*07:01\",\"C*12:03\",\"C*03:04\",\"C*07:02\",\"C*14:02\",\"C*04:01\",\"C*01:02\",\"C*08:01\"],\"y\":[27,220,135,165,398,181,441,172,314,180,243,521,9,42],\"type\":\"scatter\"},{\"line\":{\"color\":\"#D62728\",\"dash\":\"dot\"},\"marker\":{\"color\":[\"#D62728\",\"#D62728\",\"#D62728\",\"#D62728\",\"#D62728\",\"#D62728\",\"#D62728\",\"#D62728\",\"#D62728\",\"#D62728\",\"#D62728\",\"#D62728\",\"#D62728\",\"#D62728\"],\"line\":{\"width\":2},\"size\":9,\"symbol\":\"circle-open\"},\"mode\":\"markers\",\"name\":\"MHCFlurry2.0_BA\",\"opacity\":1,\"x\":[\"C*12:02\",\"C*05:01\",\"C*08:02\",\"C*03:03\",\"C*06:02\",\"C*15:02\",\"C*07:01\",\"C*12:03\",\"C*03:04\",\"C*07:02\",\"C*14:02\",\"C*04:01\",\"C*01:02\",\"C*08:01\"],\"y\":[27,220,135,165,398,181,441,172,314,180,243,521,9,42],\"type\":\"scatter\"},{\"line\":{\"color\":\"#D62728\",\"dash\":\"dot\"},\"marker\":{\"color\":[\"#D62728\",\"#D62728\",\"#D62728\",\"#D62728\",\"#D62728\",\"#D62728\",\"#D62728\",\"#D62728\",\"#D62728\",\"#D62728\",\"#D62728\",\"#D62728\",\"#D62728\",\"#D62728\",\"#D62728\",\"#D62728\",\"#D62728\",\"#D62728\",\"#D62728\",\"#D62728\"],\"line\":{\"width\":1},\"size\":0,\"symbol\":[\"line-nw\",\"line-nw\",\"line-nw\",\"line-nw\",\"line-nw\",\"line-nw\",\"line-nw\",\"line-nw\",\"line-nw\",\"line-nw\",\"line-nw\",\"line-nw\",\"line-nw\",\"line-nw\",\"line-nw\",\"line-nw\",\"line-nw\",\"line-nw\",\"line-nw\",\"line-nw\"]},\"mode\":\"lines\",\"name\":\"NetMHCpan4.1_BA\",\"opacity\":0.5,\"x\":[\"C*12:02\",\"C*05:01\",\"C*16:01\",\"C*08:02\",\"C*03:03\",\"C*06:02\",\"C*15:02\",\"C*07:01\",\"C*12:03\",\"C*03:04\",\"C*07:02\",\"C*14:02\",\"C*02:02\",\"C*04:01\",\"C*14:03\",\"C*01:02\",\"C*08:01\",\"C*17:01\",\"C*03:02\",\"C*04:03\"],\"y\":[0,273,0,187,265,508,353,361,272,0,243,359,0,652,0,0,0,0,0,0],\"type\":\"scatter\"},{\"line\":{\"color\":\"#D62728\",\"dash\":\"dot\"},\"marker\":{\"color\":[\"#D62728\",\"#D62728\",\"#D62728\",\"#D62728\",\"#D62728\",\"#D62728\",\"#D62728\",\"#D62728\",\"#D62728\",\"#D62728\"],\"line\":{\"width\":2},\"size\":9,\"symbol\":[\"line-nw\",\"line-nw\",\"line-nw\",\"line-nw\",\"line-nw\",\"line-nw\",\"line-nw\",\"line-nw\",\"line-nw\",\"line-nw\"]},\"mode\":\"markers\",\"name\":\"NetMHCpan4.1_BA\",\"opacity\":1,\"x\":[\"C*05:01\",\"C*08:02\",\"C*03:03\",\"C*06:02\",\"C*15:02\",\"C*07:01\",\"C*12:03\",\"C*07:02\",\"C*14:02\",\"C*04:01\"],\"y\":[273,187,265,508,353,361,272,243,359,652],\"type\":\"scatter\"},{\"line\":{\"color\":\"#D62728\",\"dash\":\"dot\"},\"marker\":{\"color\":[\"#D62728\",\"#D62728\",\"#D62728\",\"#D62728\",\"#D62728\",\"#D62728\",\"#D62728\",\"#D62728\",\"#D62728\",\"#D62728\"],\"line\":{\"width\":2},\"size\":9,\"symbol\":\"circle-open\"},\"mode\":\"markers\",\"name\":\"NetMHCpan4.1_BA\",\"opacity\":1,\"x\":[\"C*05:01\",\"C*08:02\",\"C*03:03\",\"C*06:02\",\"C*15:02\",\"C*07:01\",\"C*12:03\",\"C*07:02\",\"C*14:02\",\"C*04:01\"],\"y\":[273,187,265,508,353,361,272,243,359,652],\"type\":\"scatter\"}],                        {\"template\":{\"data\":{\"histogram2dcontour\":[{\"type\":\"histogram2dcontour\",\"colorbar\":{\"outlinewidth\":0,\"ticks\":\"\"},\"colorscale\":[[0.0,\"#0d0887\"],[0.1111111111111111,\"#46039f\"],[0.2222222222222222,\"#7201a8\"],[0.3333333333333333,\"#9c179e\"],[0.4444444444444444,\"#bd3786\"],[0.5555555555555556,\"#d8576b\"],[0.6666666666666666,\"#ed7953\"],[0.7777777777777778,\"#fb9f3a\"],[0.8888888888888888,\"#fdca26\"],[1.0,\"#f0f921\"]]}],\"choropleth\":[{\"type\":\"choropleth\",\"colorbar\":{\"outlinewidth\":0,\"ticks\":\"\"}}],\"histogram2d\":[{\"type\":\"histogram2d\",\"colorbar\":{\"outlinewidth\":0,\"ticks\":\"\"},\"colorscale\":[[0.0,\"#0d0887\"],[0.1111111111111111,\"#46039f\"],[0.2222222222222222,\"#7201a8\"],[0.3333333333333333,\"#9c179e\"],[0.4444444444444444,\"#bd3786\"],[0.5555555555555556,\"#d8576b\"],[0.6666666666666666,\"#ed7953\"],[0.7777777777777778,\"#fb9f3a\"],[0.8888888888888888,\"#fdca26\"],[1.0,\"#f0f921\"]]}],\"heatmap\":[{\"type\":\"heatmap\",\"colorbar\":{\"outlinewidth\":0,\"ticks\":\"\"},\"colorscale\":[[0.0,\"#0d0887\"],[0.1111111111111111,\"#46039f\"],[0.2222222222222222,\"#7201a8\"],[0.3333333333333333,\"#9c179e\"],[0.4444444444444444,\"#bd3786\"],[0.5555555555555556,\"#d8576b\"],[0.6666666666666666,\"#ed7953\"],[0.7777777777777778,\"#fb9f3a\"],[0.8888888888888888,\"#fdca26\"],[1.0,\"#f0f921\"]]}],\"heatmapgl\":[{\"type\":\"heatmapgl\",\"colorbar\":{\"outlinewidth\":0,\"ticks\":\"\"},\"colorscale\":[[0.0,\"#0d0887\"],[0.1111111111111111,\"#46039f\"],[0.2222222222222222,\"#7201a8\"],[0.3333333333333333,\"#9c179e\"],[0.4444444444444444,\"#bd3786\"],[0.5555555555555556,\"#d8576b\"],[0.6666666666666666,\"#ed7953\"],[0.7777777777777778,\"#fb9f3a\"],[0.8888888888888888,\"#fdca26\"],[1.0,\"#f0f921\"]]}],\"contourcarpet\":[{\"type\":\"contourcarpet\",\"colorbar\":{\"outlinewidth\":0,\"ticks\":\"\"}}],\"contour\":[{\"type\":\"contour\",\"colorbar\":{\"outlinewidth\":0,\"ticks\":\"\"},\"colorscale\":[[0.0,\"#0d0887\"],[0.1111111111111111,\"#46039f\"],[0.2222222222222222,\"#7201a8\"],[0.3333333333333333,\"#9c179e\"],[0.4444444444444444,\"#bd3786\"],[0.5555555555555556,\"#d8576b\"],[0.6666666666666666,\"#ed7953\"],[0.7777777777777778,\"#fb9f3a\"],[0.8888888888888888,\"#fdca26\"],[1.0,\"#f0f921\"]]}],\"surface\":[{\"type\":\"surface\",\"colorbar\":{\"outlinewidth\":0,\"ticks\":\"\"},\"colorscale\":[[0.0,\"#0d0887\"],[0.1111111111111111,\"#46039f\"],[0.2222222222222222,\"#7201a8\"],[0.3333333333333333,\"#9c179e\"],[0.4444444444444444,\"#bd3786\"],[0.5555555555555556,\"#d8576b\"],[0.6666666666666666,\"#ed7953\"],[0.7777777777777778,\"#fb9f3a\"],[0.8888888888888888,\"#fdca26\"],[1.0,\"#f0f921\"]]}],\"mesh3d\":[{\"type\":\"mesh3d\",\"colorbar\":{\"outlinewidth\":0,\"ticks\":\"\"}}],\"scatter\":[{\"fillpattern\":{\"fillmode\":\"overlay\",\"size\":10,\"solidity\":0.2},\"type\":\"scatter\"}],\"parcoords\":[{\"type\":\"parcoords\",\"line\":{\"colorbar\":{\"outlinewidth\":0,\"ticks\":\"\"}}}],\"scatterpolargl\":[{\"type\":\"scatterpolargl\",\"marker\":{\"colorbar\":{\"outlinewidth\":0,\"ticks\":\"\"}}}],\"bar\":[{\"error_x\":{\"color\":\"#2a3f5f\"},\"error_y\":{\"color\":\"#2a3f5f\"},\"marker\":{\"line\":{\"color\":\"#E5ECF6\",\"width\":0.5},\"pattern\":{\"fillmode\":\"overlay\",\"size\":10,\"solidity\":0.2}},\"type\":\"bar\"}],\"scattergeo\":[{\"type\":\"scattergeo\",\"marker\":{\"colorbar\":{\"outlinewidth\":0,\"ticks\":\"\"}}}],\"scatterpolar\":[{\"type\":\"scatterpolar\",\"marker\":{\"colorbar\":{\"outlinewidth\":0,\"ticks\":\"\"}}}],\"histogram\":[{\"marker\":{\"pattern\":{\"fillmode\":\"overlay\",\"size\":10,\"solidity\":0.2}},\"type\":\"histogram\"}],\"scattergl\":[{\"type\":\"scattergl\",\"marker\":{\"colorbar\":{\"outlinewidth\":0,\"ticks\":\"\"}}}],\"scatter3d\":[{\"type\":\"scatter3d\",\"line\":{\"colorbar\":{\"outlinewidth\":0,\"ticks\":\"\"}},\"marker\":{\"colorbar\":{\"outlinewidth\":0,\"ticks\":\"\"}}}],\"scattermapbox\":[{\"type\":\"scattermapbox\",\"marker\":{\"colorbar\":{\"outlinewidth\":0,\"ticks\":\"\"}}}],\"scatterternary\":[{\"type\":\"scatterternary\",\"marker\":{\"colorbar\":{\"outlinewidth\":0,\"ticks\":\"\"}}}],\"scattercarpet\":[{\"type\":\"scattercarpet\",\"marker\":{\"colorbar\":{\"outlinewidth\":0,\"ticks\":\"\"}}}],\"carpet\":[{\"aaxis\":{\"endlinecolor\":\"#2a3f5f\",\"gridcolor\":\"white\",\"linecolor\":\"white\",\"minorgridcolor\":\"white\",\"startlinecolor\":\"#2a3f5f\"},\"baxis\":{\"endlinecolor\":\"#2a3f5f\",\"gridcolor\":\"white\",\"linecolor\":\"white\",\"minorgridcolor\":\"white\",\"startlinecolor\":\"#2a3f5f\"},\"type\":\"carpet\"}],\"table\":[{\"cells\":{\"fill\":{\"color\":\"#EBF0F8\"},\"line\":{\"color\":\"white\"}},\"header\":{\"fill\":{\"color\":\"#C8D4E3\"},\"line\":{\"color\":\"white\"}},\"type\":\"table\"}],\"barpolar\":[{\"marker\":{\"line\":{\"color\":\"#E5ECF6\",\"width\":0.5},\"pattern\":{\"fillmode\":\"overlay\",\"size\":10,\"solidity\":0.2}},\"type\":\"barpolar\"}],\"pie\":[{\"automargin\":true,\"type\":\"pie\"}]},\"layout\":{\"autotypenumbers\":\"strict\",\"colorway\":[\"#636efa\",\"#EF553B\",\"#00cc96\",\"#ab63fa\",\"#FFA15A\",\"#19d3f3\",\"#FF6692\",\"#B6E880\",\"#FF97FF\",\"#FECB52\"],\"font\":{\"color\":\"#2a3f5f\"},\"hovermode\":\"closest\",\"hoverlabel\":{\"align\":\"left\"},\"paper_bgcolor\":\"white\",\"plot_bgcolor\":\"#E5ECF6\",\"polar\":{\"bgcolor\":\"#E5ECF6\",\"angularaxis\":{\"gridcolor\":\"white\",\"linecolor\":\"white\",\"ticks\":\"\"},\"radialaxis\":{\"gridcolor\":\"white\",\"linecolor\":\"white\",\"ticks\":\"\"}},\"ternary\":{\"bgcolor\":\"#E5ECF6\",\"aaxis\":{\"gridcolor\":\"white\",\"linecolor\":\"white\",\"ticks\":\"\"},\"baxis\":{\"gridcolor\":\"white\",\"linecolor\":\"white\",\"ticks\":\"\"},\"caxis\":{\"gridcolor\":\"white\",\"linecolor\":\"white\",\"ticks\":\"\"}},\"coloraxis\":{\"colorbar\":{\"outlinewidth\":0,\"ticks\":\"\"}},\"colorscale\":{\"sequential\":[[0.0,\"#0d0887\"],[0.1111111111111111,\"#46039f\"],[0.2222222222222222,\"#7201a8\"],[0.3333333333333333,\"#9c179e\"],[0.4444444444444444,\"#bd3786\"],[0.5555555555555556,\"#d8576b\"],[0.6666666666666666,\"#ed7953\"],[0.7777777777777778,\"#fb9f3a\"],[0.8888888888888888,\"#fdca26\"],[1.0,\"#f0f921\"]],\"sequentialminus\":[[0.0,\"#0d0887\"],[0.1111111111111111,\"#46039f\"],[0.2222222222222222,\"#7201a8\"],[0.3333333333333333,\"#9c179e\"],[0.4444444444444444,\"#bd3786\"],[0.5555555555555556,\"#d8576b\"],[0.6666666666666666,\"#ed7953\"],[0.7777777777777778,\"#fb9f3a\"],[0.8888888888888888,\"#fdca26\"],[1.0,\"#f0f921\"]],\"diverging\":[[0,\"#8e0152\"],[0.1,\"#c51b7d\"],[0.2,\"#de77ae\"],[0.3,\"#f1b6da\"],[0.4,\"#fde0ef\"],[0.5,\"#f7f7f7\"],[0.6,\"#e6f5d0\"],[0.7,\"#b8e186\"],[0.8,\"#7fbc41\"],[0.9,\"#4d9221\"],[1,\"#276419\"]]},\"xaxis\":{\"gridcolor\":\"white\",\"linecolor\":\"white\",\"ticks\":\"\",\"title\":{\"standoff\":15},\"zerolinecolor\":\"white\",\"automargin\":true,\"zerolinewidth\":2},\"yaxis\":{\"gridcolor\":\"white\",\"linecolor\":\"white\",\"ticks\":\"\",\"title\":{\"standoff\":15},\"zerolinecolor\":\"white\",\"automargin\":true,\"zerolinewidth\":2},\"scene\":{\"xaxis\":{\"backgroundcolor\":\"#E5ECF6\",\"gridcolor\":\"white\",\"linecolor\":\"white\",\"showbackground\":true,\"ticks\":\"\",\"zerolinecolor\":\"white\",\"gridwidth\":2},\"yaxis\":{\"backgroundcolor\":\"#E5ECF6\",\"gridcolor\":\"white\",\"linecolor\":\"white\",\"showbackground\":true,\"ticks\":\"\",\"zerolinecolor\":\"white\",\"gridwidth\":2},\"zaxis\":{\"backgroundcolor\":\"#E5ECF6\",\"gridcolor\":\"white\",\"linecolor\":\"white\",\"showbackground\":true,\"ticks\":\"\",\"zerolinecolor\":\"white\",\"gridwidth\":2}},\"shapedefaults\":{\"line\":{\"color\":\"#2a3f5f\"}},\"annotationdefaults\":{\"arrowcolor\":\"#2a3f5f\",\"arrowhead\":0,\"arrowwidth\":1},\"geo\":{\"bgcolor\":\"white\",\"landcolor\":\"#E5ECF6\",\"subunitcolor\":\"white\",\"showland\":true,\"showlakes\":true,\"lakecolor\":\"white\"},\"title\":{\"x\":0.05},\"mapbox\":{\"style\":\"light\"}}},\"yaxis\":{\"range\":[-1000,25000],\"title\":{\"text\":\"#number of peptides\"}},\"xaxis\":{\"tickangle\":45,\"tick0\":0,\"dtick\":1.2},\"width\":800,\"height\":400,\"showlegend\":false},                        {\"responsive\": true}                    ).then(function(){\n",
       "                            \n",
       "var gd = document.getElementById('cdc50057-cc80-463d-9082-d2eca36c97a2');\n",
       "var x = new MutationObserver(function (mutations, observer) {{\n",
       "        var display = window.getComputedStyle(gd).display;\n",
       "        if (!display || display === 'none') {{\n",
       "            console.log([gd, 'removed!']);\n",
       "            Plotly.purge(gd);\n",
       "            observer.disconnect();\n",
       "        }}\n",
       "}});\n",
       "\n",
       "// Listen for the removal of the full notebook cells\n",
       "var notebookContainer = gd.closest('#notebook-container');\n",
       "if (notebookContainer) {{\n",
       "    x.observe(notebookContainer, {childList: true});\n",
       "}}\n",
       "\n",
       "// Listen for the clearing of the current output cell\n",
       "var outputEl = gd.closest('.output');\n",
       "if (outputEl) {{\n",
       "    x.observe(outputEl, {childList: true});\n",
       "}}\n",
       "\n",
       "                        })                };                });            </script>        </div>"
      ]
     },
     "metadata": {},
     "output_type": "display_data"
    }
   ],
   "source": [
    "fig = plot(all_alleles_all_datasets, \"C\")\n",
    "\n",
    "fig.update_layout(width=800, yaxis_title=\"#number of peptides\", showlegend=True)"
   ]
  }
 ],
 "metadata": {
  "kernelspec": {
   "display_name": "Python 3 (ipykernel)",
   "language": "python",
   "name": "python3"
  },
  "language_info": {
   "codemirror_mode": {
    "name": "ipython",
    "version": 3
   },
   "file_extension": ".py",
   "mimetype": "text/x-python",
   "name": "python",
   "nbconvert_exporter": "python",
   "pygments_lexer": "ipython3",
   "version": "3.11.4"
  }
 },
 "nbformat": 4,
 "nbformat_minor": 5
}
